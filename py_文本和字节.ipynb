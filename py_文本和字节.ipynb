{
 "cells": [
  {
   "cell_type": "markdown",
   "metadata": {},
   "source": [
    "# py_文本和字节"
   ]
  },
  {
   "cell_type": "code",
   "execution_count": null,
   "metadata": {},
   "outputs": [],
   "source": []
  },
  {
   "cell_type": "markdown",
   "metadata": {},
   "source": [
    "### 案例：编码和解码"
   ]
  },
  {
   "cell_type": "code",
   "execution_count": 4,
   "metadata": {},
   "outputs": [
    {
     "name": "stdout",
     "output_type": "stream",
     "text": [
      "7\n",
      "b'cafe-\\xe5\\x92\\x96\\xe5\\x95\\xa1'\n",
      "11\n",
      "cafe-咖啡\n"
     ]
    }
   ],
   "source": [
    "s = 'cafe-咖啡'\n",
    "print(len(s))\n",
    "\n",
    "b = s.encode(encoding='utf-8')\n",
    "print(b)  # 一个汉字占 3 个字节\n",
    "print(len(b))  # 打印字节的长度\n",
    "\n",
    "c = b.decode('utf8')\n",
    "print(c)"
   ]
  },
  {
   "cell_type": "markdown",
   "metadata": {},
   "source": [
    "### 案例：`bytes` 与 `bytearray`"
   ]
  },
  {
   "cell_type": "code",
   "execution_count": 10,
   "metadata": {},
   "outputs": [
    {
     "name": "stdout",
     "output_type": "stream",
     "text": [
      "b'cafe'\n",
      "99\n",
      "b'c'\n",
      "====================\n",
      "bytearray(b'cafe')\n",
      "99\n",
      "bytearray(b'e')\n"
     ]
    }
   ],
   "source": [
    "cafe = bytes('cafe', encoding='utf-8')\n",
    "print(cafe)\n",
    "print(cafe[0])   # ASCII码对于值\n",
    "print(cafe[:1])\n",
    "\n",
    "print(\"====================\")\n",
    "cafe_arr = bytearray(cafe)\n",
    "print(cafe_arr)\n",
    "print(cafe_arr[0])\n",
    "print(cafe_arr[-1:])"
   ]
  },
  {
   "cell_type": "markdown",
   "metadata": {},
   "source": [
    "### 案例：结构体与内存视图"
   ]
  },
  {
   "cell_type": "code",
   "execution_count": 6,
   "metadata": {},
   "outputs": [
    {
     "name": "stdout",
     "output_type": "stream",
     "text": [
      "b'\\x00\\x00\\x01\\x00\\x01\\x00@@\\x00\\x00'\n",
      "(b'\\x00\\x00\\x01', b'\\x00\\x01\\x00', 16448, 0)\n"
     ]
    }
   ],
   "source": [
    "import struct\n",
    "\n",
    "fmt = '<3s3sHH'\n",
    "with open('./file/icon.ico', 'rb') as fp:\n",
    "    img = memoryview(fp.read())\n",
    "\n",
    "header = img[:10]\n",
    "print(bytes(header))\n",
    "\n",
    "print(struct.unpack(fmt, header))    # 拆包，得到一个元组，包含类型、版本、宽度、高度\n",
    "del header    # 删除引用\n",
    "del img  "
   ]
  },
  {
   "cell_type": "markdown",
   "metadata": {},
   "source": [
    "### 案例：解码器\n",
    "\n",
    "1. utf_8别名：utf8/ utf-8/ U8"
   ]
  },
  {
   "cell_type": "code",
   "execution_count": 10,
   "metadata": {},
   "outputs": [
    {
     "name": "stdout",
     "output_type": "stream",
     "text": [
      "latin1\tb'caf\\xe9'\n",
      "utf_8\tb'caf\\xc3\\xa9'\n",
      "utf_16\tb'\\xff\\xfec\\x00a\\x00f\\x00\\xe9\\x00'\n"
     ]
    }
   ],
   "source": [
    "for codec in ['latin1', 'utf_8', 'utf_16']:\n",
    "    print(codec, 'café'.encode(codec), sep='\\t')"
   ]
  },
  {
   "cell_type": "markdown",
   "metadata": {},
   "source": [
    "### 案例：处理 `UnicodeEncodeError`"
   ]
  },
  {
   "cell_type": "code",
   "execution_count": 19,
   "metadata": {},
   "outputs": [
    {
     "name": "stdout",
     "output_type": "stream",
     "text": [
      "utf_8\tb's\\xc3\\xa3o Paulo'\n",
      "utf_16\tb'\\xff\\xfes\\x00\\xe3\\x00o\\x00 \\x00P\\x00a\\x00u\\x00l\\x00o\\x00'\n",
      "cp437\t<error>：'charmap' codec can't encode character '\\xe3' in position 1: character maps to <undefined>\n",
      "cp437\tb'so Paulo'\n",
      "cp437\tb's?o Paulo'\n",
      "cp437\tb's&#227;o Paulo'\n"
     ]
    }
   ],
   "source": [
    "city = 'são Paulo'\n",
    "print('utf_8', city.encode('utf_8'), sep='\\t')\n",
    "print('utf_16', city.encode('utf_16'), sep='\\t')\n",
    "\n",
    "try:\n",
    "    print('cp437', city.encode('cp437'), sep='\\t')\n",
    "except Exception as e:\n",
    "    print('cp437', '<error>：'+str(e), sep='\\t')\n",
    "\n",
    "print('cp437', city.encode('cp437', errors='ignore'), sep='\\t')     # 跳过\n",
    "print('cp437', city.encode('cp437', errors='replace'), sep='\\t')    # 替换 => ？\n",
    "print('cp437', city.encode('cp437', errors='xmlcharrefreplace'), sep='\\t')   # 替换 => xml 实体"
   ]
  },
  {
   "cell_type": "markdown",
   "metadata": {},
   "source": [
    "### 案例：处理`UnicodeDecodeError` "
   ]
  },
  {
   "cell_type": "code",
   "execution_count": 5,
   "metadata": {},
   "outputs": [
    {
     "name": "stdout",
     "output_type": "stream",
     "text": [
      "sÃ£o Paulo\n",
      "sΓ£o Paulo\n",
      "sцёo Paulo\n",
      "são Paulo\n",
      "sΓ£o Paulo\n"
     ]
    }
   ],
   "source": [
    "octets = b's\\xc3\\xa3o Paulo'\n",
    "print(octets.decode('cp1252'))\n",
    "print(octets.decode('iso8859_7'))\n",
    "print(octets.decode('koi8_r'))\n",
    "print(octets.decode('utf_8'))\n",
    "print(octets.decode('iso8859_7', errors='replace'))"
   ]
  },
  {
   "cell_type": "code",
   "execution_count": 10,
   "metadata": {},
   "outputs": [
    {
     "data": {
      "text/plain": [
       "{'confidence': 0.505, 'encoding': 'utf-8', 'language': ''}"
      ]
     },
     "execution_count": 10,
     "metadata": {},
     "output_type": "execute_result"
    }
   ],
   "source": [
    "# 统一字符编码侦测包\n",
    "import chardet\n",
    "\n",
    "chardet.detect(b's\\xc3\\xa3o Paulo')"
   ]
  },
  {
   "cell_type": "markdown",
   "metadata": {},
   "source": [
    "### 案例：编码默认值"
   ]
  },
  {
   "cell_type": "code",
   "execution_count": 12,
   "metadata": {},
   "outputs": [
    {
     "name": "stdout",
     "output_type": "stream",
     "text": [
      " locale.getpreferredencoding() -> 'cp936'\n",
      "                 type(my_file) -> <class '_io.TextIOWrapper'>\n",
      "              my_file.encoding -> 'cp936'\n",
      "           sys.stdout.isatty() -> False\n",
      "           sys.stdout.encoding -> 'UTF-8'\n",
      "            sys.stdin.isatty() -> False\n",
      "            sys.stdin.encoding -> 'cp936'\n",
      "           sys.stderr.isatty() -> False\n",
      "           sys.stderr.encoding -> 'UTF-8'\n",
      "      sys.getdefaultencoding() -> 'utf-8'\n",
      "   sys.getfilesystemencoding() -> 'utf-8'\n"
     ]
    }
   ],
   "source": [
    "import sys, locale\n",
    "\n",
    "expressions = \"\"\"\n",
    "    locale.getpreferredencoding()\n",
    "    type(my_file)\n",
    "    my_file.encoding\n",
    "    sys.stdout.isatty()\n",
    "    sys.stdout.encoding\n",
    "    sys.stdin.isatty()\n",
    "    sys.stdin.encoding\n",
    "    sys.stderr.isatty()\n",
    "    sys.stderr.encoding\n",
    "    sys.getdefaultencoding()\n",
    "    sys.getfilesystemencoding()\n",
    "\"\"\"\n",
    "my_file = open('dummy', 'w')\n",
    "\n",
    "for expression in expressions.split():\n",
    "    value = eval(expression)\n",
    "    print(expression.rjust(30), '->', repr(value))"
   ]
  },
  {
   "cell_type": "code",
   "execution_count": null,
   "metadata": {},
   "outputs": [],
   "source": []
  }
 ],
 "metadata": {
  "kernelspec": {
   "display_name": "Python 3",
   "language": "python",
   "name": "python3"
  },
  "language_info": {
   "codemirror_mode": {
    "name": "ipython",
    "version": 3
   },
   "file_extension": ".py",
   "mimetype": "text/x-python",
   "name": "python",
   "nbconvert_exporter": "python",
   "pygments_lexer": "ipython3",
   "version": "3.6.4"
  }
 },
 "nbformat": 4,
 "nbformat_minor": 2
}
