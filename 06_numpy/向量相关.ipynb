{
 "cells": [
  {
   "cell_type": "code",
   "execution_count": 2,
   "metadata": {},
   "outputs": [],
   "source": [
    "import numpy as np"
   ]
  },
  {
   "cell_type": "code",
   "execution_count": 21,
   "metadata": {},
   "outputs": [
    {
     "name": "stdout",
     "output_type": "stream",
     "text": [
      "np.linalg.norm(x) \t 2.23606797749979\n",
      "np.dot(x, y) \t\t 5\n"
     ]
    },
    {
     "data": {
      "text/plain": [
       "(array([1, 1, 2, 3, 4, 5, 6, 7, 8, 8]), array([0, 1, 2, 3, 4, 5, 6, 7, 8, 9]))"
      ]
     },
     "execution_count": 21,
     "metadata": {},
     "output_type": "execute_result"
    }
   ],
   "source": [
    "x = (2, 1)\n",
    "y = (1, 3)\n",
    "print(f\"np.linalg.norm(x) \\t {np.linalg.norm(x)}\")  # 求模\n",
    "print(f\"np.dot(x, y) \\t\\t {np.dot(x, y)}\")  # 矩阵点积\n",
    "\n",
    "a = np.arange(10)\n",
    "b = np.clip(a, 1, 8)\n",
    "b, a\n"
   ]
  },
  {
   "cell_type": "code",
   "execution_count": 4,
   "metadata": {},
   "outputs": [
    {
     "data": {
      "text/plain": [
       "59.99927221917263"
      ]
     },
     "execution_count": 4,
     "metadata": {},
     "output_type": "execute_result"
    }
   ],
   "source": [
    "def get_angle(x:tuple, y:tuple, z:tuple):\n",
    "    p_x = np.array(x)\n",
    "    p_y = np.array(y)\n",
    "    p_z = np.array(z)\n",
    "\n",
    "    v1 = p_y - p_x\n",
    "    v1_u = v1 / np.linalg.norm(v1)  # 单位化向量\n",
    "    v2 = p_z - p_y\n",
    "    v2_u = v2 / np.linalg.norm(v2)\n",
    "    angle_ = np.arccos(np.clip(np.dot(v1_u, v2_u), -1.0, 1.0))\n",
    "    angle = angle_*180/np.pi\n",
    "    return angle\n",
    "\n",
    "x = (0, 0)\n",
    "y = (1, 0)\n",
    "z = (2, 1.732)\n",
    "get_angle(x, y, z)"
   ]
  },
  {
   "cell_type": "code",
   "execution_count": 66,
   "metadata": {},
   "outputs": [
    {
     "data": {
      "text/plain": [
       "59.99927221917263"
      ]
     },
     "execution_count": 66,
     "metadata": {},
     "output_type": "execute_result"
    }
   ],
   "source": [
    "def get_angle(x:tuple, y:tuple, z:tuple):\n",
    "    p_x = np.array(x)\n",
    "    p_y = np.array(y)\n",
    "    p_z = np.array(z)\n",
    "\n",
    "    v1 = p_y - p_x\n",
    "    v2 = p_z - p_y\n",
    "    cos = np.dot(v1, v2)/ (np.linalg.norm(v1) * np.linalg.norm(v2))\n",
    "\n",
    "    angle = np.arccos(cos)*180/np.pi\n",
    "    return angle\n",
    "\n",
    "x = (0, 0)\n",
    "y = (1, 0)\n",
    "z = (2, 1.732)\n",
    "get_angle(x, y, z)"
   ]
  }
 ],
 "metadata": {
  "kernelspec": {
   "display_name": "Python 3",
   "language": "python",
   "name": "python3"
  },
  "language_info": {
   "codemirror_mode": {
    "name": "ipython",
    "version": 3
   },
   "file_extension": ".py",
   "mimetype": "text/x-python",
   "name": "python",
   "nbconvert_exporter": "python",
   "pygments_lexer": "ipython3",
   "version": "3.6.5"
  }
 },
 "nbformat": 4,
 "nbformat_minor": 2
}
