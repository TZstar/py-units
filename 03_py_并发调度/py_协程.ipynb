{
 "cells": [
  {
   "cell_type": "markdown",
   "metadata": {},
   "source": [
    "# 协程（一）\n",
    "版本：R0  \n",
    "日期：2018-5-5"
   ]
  },
  {
   "cell_type": "markdown",
   "metadata": {},
   "source": [
    "## 1 `yield from` vs `yield`\n",
    "\n",
    "#### 委派生成器：\n",
    "包含 `yield from <iterable>` 表达式的生成器函数。\n",
    "\n",
    "#### 子生成器：\n",
    " `yield from <iterable>` 中的 `iterable` 获取的生成器。\n",
    " \n",
    " "
   ]
  },
  {
   "cell_type": "code",
   "execution_count": 2,
   "metadata": {},
   "outputs": [
    {
     "data": {
      "text/plain": [
       "['A', 'B', 1, 2]"
      ]
     },
     "execution_count": 2,
     "metadata": {},
     "output_type": "execute_result"
    }
   ],
   "source": [
    "def gen():\n",
    "    for c in 'AB':\n",
    "        yield c\n",
    "    for i in range(1,3):\n",
    "        yield i\n",
    "\n",
    "list(gen())"
   ]
  },
  {
   "cell_type": "code",
   "execution_count": 6,
   "metadata": {},
   "outputs": [
    {
     "name": "stdout",
     "output_type": "stream",
     "text": [
      "A\n",
      "B\n",
      "1\n",
      "2\n"
     ]
    }
   ],
   "source": [
    "g = gen()\n",
    "for i in range(4):\n",
    "    print(next(g))"
   ]
  },
  {
   "cell_type": "code",
   "execution_count": 8,
   "metadata": {},
   "outputs": [
    {
     "data": {
      "text/plain": [
       "['A', 'B', 1, 2]"
      ]
     },
     "execution_count": 8,
     "metadata": {},
     "output_type": "execute_result"
    }
   ],
   "source": [
    "def gen():\n",
    "    yield from 'AB'\n",
    "    yield from range(1,3)\n",
    "\n",
    "list(gen())"
   ]
  },
  {
   "cell_type": "code",
   "execution_count": 9,
   "metadata": {},
   "outputs": [
    {
     "name": "stdout",
     "output_type": "stream",
     "text": [
      "A\n",
      "B\n",
      "1\n",
      "2\n"
     ]
    }
   ],
   "source": [
    "g = gen()\n",
    "for i in range(4):\n",
    "    print(next(g))"
   ]
  },
  {
   "cell_type": "code",
   "execution_count": 1,
   "metadata": {},
   "outputs": [
    {
     "name": "stdout",
     "output_type": "stream",
     "text": [
      "{'girls;kg': Result(count=10, average=48.3), 'boys;kg': Result(count=10, average=51.3), 'girls;m': Result(count=10, average=1.61), 'boys;m': Result(count=10, average=1.7)}\n",
      "10 boys averageing 51.3 kg\n",
      "10 boys averageing 1.7 m\n",
      "10 girls averageing 48.3 kg\n",
      "10 girls averageing 1.61 m\n"
     ]
    }
   ],
   "source": [
    "from collections import namedtuple\n",
    "\n",
    "Result = namedtuple('Result', 'count average')\n",
    "\n",
    "# 子生成器\n",
    "def averager():\n",
    "    total = 0\n",
    "    count = 0\n",
    "    average = None\n",
    "    while True:\n",
    "        term = yield\n",
    "        if term is None:\n",
    "            break\n",
    "        total += term\n",
    "        count += 1\n",
    "        average = total / count\n",
    "    return Result(count, average)\n",
    "\n",
    "# 委派生成器\n",
    "def grouper(results, key):\n",
    "    while True:\n",
    "        results[key] = yield from averager()\n",
    "        \n",
    "# 客户端\n",
    "def main(data):\n",
    "    results = {}\n",
    "    for key, values in data.items():\n",
    "        group = grouper(results, key)\n",
    "        next(group)\n",
    "        for value in values:\n",
    "            group.send(value)\n",
    "        group.send(None)\n",
    "        \n",
    "    print(results)\n",
    "    report(results)\n",
    "    \n",
    "\n",
    "def report(results):\n",
    "    for key, result in sorted(results.items()):\n",
    "        group, unit = key.split(';')\n",
    "        print(f\"{result.count} {group} averageing {result.average} {unit}\")\n",
    "        \n",
    "\n",
    "data = {\n",
    "    'girls;kg': [40, 38, 45, 50, 55, 60, 55, 43, 46, 51],\n",
    "    'boys;kg': [50, 58, 45, 50, 55, 60, 55, 43, 46, 51],\n",
    "    'girls;m': [1.58, 1.6, 1.62, 1.64, 1.55, 1.6, 1.59, 1.6, 1.64, 1.68],\n",
    "    'boys;m': [1.68, 1.7, 1.62, 1.74, 1.75, 1.6, 1.79, 1.8, 1.64, 1.68],   \n",
    "}\n",
    "\n",
    "main(data)"
   ]
  },
  {
   "cell_type": "markdown",
   "metadata": {},
   "source": [
    "## 2 `concurrent.futures.Future` vs `asyncio.Future`"
   ]
  },
  {
   "cell_type": "markdown",
   "metadata": {},
   "source": [
    "### 2.0 处理流程\n",
    "#### 2.0.1 `asyncio`\n",
    "1. 在一个单线程程序中使用主循环依次激活队列里的协程。\n",
    "2. 各个协程分别向前执行几步，然后把控制权让给主循环，主循环再激活队列里的下一个协程。\n",
    "\n",
    "#### 2.0.2 `concurrent`\n",
    "\n",
    "### 2.1 创建任务\n",
    "#### `asyncio`\n",
    "##### 1. `asyncio.async(coro_or_future, *, loop=None)`  \n",
    "1.1  参数说明：  \n",
    "    - `coro_or_future`: future 或 task 对象，就原封不动的返回；coro，则async函数会调用 loop.create_task(...) 方法创建 Task 对象。\n",
    "    - `loop`: 参数可选，用于传入事件循环；如果没有传入，则 async 函数会通过调用 asyncio.get_event_loop() 函数获取循环对象。\n",
    "    \n",
    "##### 2. `BaseEventLoop.create_task(coro)`  \n",
    "排定协程执行时间。  \n",
    "2.1 参数说明：  \n",
    "    - `coro`:    \n",
    "2.2 返回值：\n",
    "    - `asyncio.Task`: 对象。\n",
    "  \n",
    "### 2.2 处理结果"
   ]
  },
  {
   "cell_type": "code",
   "execution_count": null,
   "metadata": {},
   "outputs": [],
   "source": []
  }
 ],
 "metadata": {
  "kernelspec": {
   "display_name": "Python 3",
   "language": "python",
   "name": "python3"
  },
  "language_info": {
   "codemirror_mode": {
    "name": "ipython",
    "version": 3
   },
   "file_extension": ".py",
   "mimetype": "text/x-python",
   "name": "python",
   "nbconvert_exporter": "python",
   "pygments_lexer": "ipython3",
   "version": "3.6.4"
  }
 },
 "nbformat": 4,
 "nbformat_minor": 2
}
