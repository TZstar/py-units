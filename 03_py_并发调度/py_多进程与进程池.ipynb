{
 "cells": [
  {
   "cell_type": "markdown",
   "metadata": {},
   "source": [
    "# py_多进程与进程池"
   ]
  },
  {
   "cell_type": "code",
   "execution_count": 1,
   "metadata": {},
   "outputs": [
    {
     "name": "stdout",
     "output_type": "stream",
     "text": [
      "hello\n"
     ]
    }
   ],
   "source": [
    "print('hello')"
   ]
  },
  {
   "cell_type": "markdown",
   "metadata": {},
   "source": [
    "## `multiprocessing.Pool`类"
   ]
  },
  {
   "cell_type": "markdown",
   "metadata": {},
   "source": [
    "### 1 多核并发，无返回值"
   ]
  },
  {
   "cell_type": "code",
   "execution_count": 2,
   "metadata": {},
   "outputs": [],
   "source": [
    "import multiprocessing"
   ]
  },
  {
   "cell_type": "code",
   "execution_count": null,
   "metadata": {},
   "outputs": [],
   "source": [
    "def func(msg):\n",
    "    print(f\"{multiprocessing.current_process().name} - {msg}\")\n",
    "\n",
    "pool = multiprocessing.Pool(2)\n",
    "for i in range(4):\n",
    "    msg = f\"hello: {i}\"\n",
    "    pool.apply_async(\n",
    "        func, \n",
    "        args=(msg, ),\n",
    "    )\n",
    "    \n",
    "pool.close()     # 关闭进程池，表示不能在往进程池中添加进程\n",
    "pool.join()        # 等待进程池中的所有进程执行完毕\n",
    "print(\"运行结束\")"
   ]
  },
  {
   "cell_type": "markdown",
   "metadata": {},
   "source": [
    "### 2 多核并发，有返回值"
   ]
  },
  {
   "cell_type": "code",
   "execution_count": null,
   "metadata": {},
   "outputs": [],
   "source": [
    "import multiprocessing\n",
    "import time\n",
    "\n",
    "def func(msg):\n",
    "    return multiprocessing.current_process().name + '-' + msg\n",
    "\n",
    "pool = multiprocessing.Pool(processes=4)\n",
    "results = []\n",
    "for i in range(10):\n",
    "    msg = \"hello %d\" %(i)\n",
    "    result = pool.apply_async(func, (msg, ))\n",
    "    results.append(result)\n",
    "pool.close() \n",
    "pool.join() \n",
    "print (\"进程运行结束\")\n",
    "\n",
    "for res in results:\n",
    "    print(res.get())"
   ]
  }
 ],
 "metadata": {
  "kernelspec": {
   "display_name": "Python 3",
   "language": "python",
   "name": "python3"
  },
  "language_info": {
   "codemirror_mode": {
    "name": "ipython",
    "version": 3
   },
   "file_extension": ".py",
   "mimetype": "text/x-python",
   "name": "python",
   "nbconvert_exporter": "python",
   "pygments_lexer": "ipython3",
   "version": "3.6.4"
  }
 },
 "nbformat": 4,
 "nbformat_minor": 2
}
