{
 "cells": [
  {
   "cell_type": "markdown",
   "metadata": {},
   "source": [
    "### 1. sql 语句执行顺序？\n",
    "\n",
    "代码编写顺序：\n",
    "```\n",
    "select <select_list>\n",
    "from <left_table> <join_type>\n",
    "where <where_condition>\n",
    "group by <group_by_list>\n",
    "having <having_condition>\n",
    "order by <order_by_condition>\n",
    "limit <limit_number>\n",
    "```"
   ]
  },
  {
   "cell_type": "markdown",
   "metadata": {},
   "source": [
    "代码执行顺序：\n",
    "```\n",
    "from <left_table> <join_type>\n",
    "where <where_condition>\n",
    "group by <group_by_list>\n",
    "having <having_condition>\n",
    "\n",
    "select <select_list>\n",
    "order by <order_by_condition>\n",
    "limit <limit_number>\n",
    "```"
   ]
  },
  {
   "cell_type": "markdown",
   "metadata": {},
   "source": [
    "### 2. mysql中的load文件命令？"
   ]
  },
  {
   "cell_type": "markdown",
   "metadata": {},
   "source": [
    "```\n",
    "load data  [low_priority] [local] infile 'file_name txt' [replace | ignore]\n",
    "into table tbl_name\n",
    "\n",
    "[fields\n",
    "[terminated by't']\n",
    "[OPTIONALLY] enclosed by '']\n",
    "[escaped by'\\' ]]\n",
    "[lines terminated by'n']\n",
    "[ignore number lines]\n",
    "[(col_name,   )]\n",
    "```\n",
    "\n",
    "`http://hunan.iteye.com/blog/752606`"
   ]
  },
  {
   "cell_type": "markdown",
   "metadata": {},
   "source": [
    "### 3. 引擎MyISAM和InnoDB的比较?"
   ]
  },
  {
   "cell_type": "markdown",
   "metadata": {},
   "source": [
    "| 特点 | MyISAM | InnDB |\n",
    "|:---|:---|:---|\n",
    "| 事务安全 |  | 支持 |\n",
    "| 锁机制 | 表锁 | 行锁 |\n",
    "| B树索引 | 支持 | 支持 |\n",
    "| 哈希索引 |  |  |\n",
    "| 全文索引 | 支持 |  |\n",
    "| 批量插入速度 | 快 | 慢 |\n",
    "| 支持外键 |  | 支持 |"
   ]
  },
  {
   "cell_type": "markdown",
   "metadata": {},
   "source": [
    "### 4. 子查询IN，EXISTS，ANY，ALL，SOME，UNION介绍"
   ]
  },
  {
   "cell_type": "markdown",
   "metadata": {},
   "source": [
    "- any 可以与=、>、>=、<、<=、<>结合起来使用，分别表示等于、大于、大于等于、小于、小于等于、不等于其中的任何一个数据。\n",
    "\n",
    "- all可以与=、>、>=、<、<=、<>结合是来使用，分别表示等于、大于、大于等于、小于、小于等于、不等于其中的其中的所有数据。\n",
    "\n",
    "- any,all关键字必须与一个比较操作符一起使用。\n",
    "- any关键词可以理解为“对于子查询返回的列中的任一数值，如果比较结果为true，则返回true”。\n",
    "- all的意思是“对于子查询返回的列中的所有值，如果比较结果为true，则返回true”\n",
    "\n",
    "- 语句some是any的别名，用法相同。\n",
    "\n",
    "https://www.cnblogs.com/HDK2016/p/8578587.html"
   ]
  },
  {
   "cell_type": "markdown",
   "metadata": {},
   "source": [
    "### 5. "
   ]
  }
 ],
 "metadata": {
  "kernelspec": {
   "display_name": "Python 3",
   "language": "python",
   "name": "python3"
  },
  "language_info": {
   "codemirror_mode": {
    "name": "ipython",
    "version": 3
   },
   "file_extension": ".py",
   "mimetype": "text/x-python",
   "name": "python",
   "nbconvert_exporter": "python",
   "pygments_lexer": "ipython3",
   "version": "3.6.4"
  }
 },
 "nbformat": 4,
 "nbformat_minor": 2
}
