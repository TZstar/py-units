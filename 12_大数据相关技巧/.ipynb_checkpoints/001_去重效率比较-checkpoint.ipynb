{
 "cells": [
  {
   "cell_type": "code",
   "execution_count": 1,
   "metadata": {},
   "outputs": [],
   "source": [
    "import time\n",
    "\n",
    "\n",
    "# 测试次数\n",
    "times = 5"
   ]
  },
  {
   "cell_type": "code",
   "execution_count": 2,
   "metadata": {},
   "outputs": [],
   "source": [
    "def time_clock(times):\n",
    "    def wrap1(func):\n",
    "        def wrap2(*args, **kwargs):\n",
    "            time_lst = []\n",
    "            for i in range(times):\n",
    "                t0 = time.time()\n",
    "                func(*args, **kwargs)\n",
    "                t1 = time.time()\n",
    "                time_lst.append(t1-t0)\n",
    "            print(f\"time: \\t {sum(time_lst)/times:.6f}\")\n",
    "            \n",
    "        return wrap2\n",
    "    return wrap1"
   ]
  },
  {
   "cell_type": "code",
   "execution_count": 3,
   "metadata": {},
   "outputs": [],
   "source": [
    "@time_clock(times)\n",
    "def f1(lst1, lst2):\n",
    "    v = [u for u in lst1 if u not in lst2]\n",
    "\n",
    "@time_clock(times)\n",
    "def f2(lst1, lst2):\n",
    "    v = set(lst1) - set(lst2)\n",
    "\n",
    "@time_clock(times)\n",
    "def f3(lst1, lst2):\n",
    "    v = list(u for u in lst1 if u not in lst2)\n",
    "\n",
    "@time_clock(times)\n",
    "def f4(lst1, lst2):\n",
    "    v = list(filter(lambda x: x not in lst2, lst1))\n",
    "    \n",
    "@time_clock(times) \n",
    "def f5(lst1, lst2):\n",
    "    v = filter(lambda x: x not in lst2, lst1)"
   ]
  },
  {
   "cell_type": "code",
   "execution_count": 4,
   "metadata": {},
   "outputs": [
    {
     "name": "stdout",
     "output_type": "stream",
     "text": [
      "time: \t 5.244768\n",
      "time: \t 5.029323\n",
      "time: \t 4.957705\n",
      "time: \t 8.086366\n",
      "time: \t 0.000000\n"
     ]
    }
   ],
   "source": [
    "lst1 = range(1, 20000000)\n",
    "lst2 = range(2, 20000001)\n",
    "\n",
    "f1(lst1, lst2)\n",
    "f2(lst1, lst2)\n",
    "f3(lst1, lst2)\n",
    "f4(lst1, lst2)\n",
    "f5(lst1, lst2)"
   ]
  },
  {
   "cell_type": "code",
   "execution_count": 5,
   "metadata": {},
   "outputs": [
    {
     "name": "stdout",
     "output_type": "stream",
     "text": [
      "time: \t 0.468536\n",
      "time: \t 0.590013\n",
      "time: \t 0.555315\n",
      "time: \t 0.788079\n",
      "time: \t 0.000000\n"
     ]
    }
   ],
   "source": [
    "lst1 = range(1, 2000000)\n",
    "lst2 = range(2, 2000001)\n",
    "\n",
    "f1(lst1, lst2)\n",
    "f2(lst1, lst2)\n",
    "f3(lst1, lst2)\n",
    "f4(lst1, lst2)\n",
    "f5(lst1, lst2)"
   ]
  },
  {
   "cell_type": "code",
   "execution_count": 6,
   "metadata": {},
   "outputs": [
    {
     "name": "stdout",
     "output_type": "stream",
     "text": [
      "time: \t 0.429450\n",
      "time: \t 0.633904\n",
      "time: \t 0.546122\n",
      "time: \t 0.781294\n",
      "time: \t 0.000000\n"
     ]
    }
   ],
   "source": [
    "lst1 = range(1, 2000000)\n",
    "lst2 = range(2, 2300001)\n",
    "\n",
    "f1(lst1, lst2)\n",
    "f2(lst1, lst2)\n",
    "f3(lst1, lst2)\n",
    "f4(lst1, lst2)\n",
    "f5(lst1, lst2)"
   ]
  },
  {
   "cell_type": "code",
   "execution_count": 7,
   "metadata": {},
   "outputs": [
    {
     "name": "stdout",
     "output_type": "stream",
     "text": [
      "time: \t 0.000399\n",
      "time: \t 0.000200\n",
      "time: \t 0.000798\n",
      "time: \t 0.000798\n",
      "time: \t 0.000000\n"
     ]
    }
   ],
   "source": [
    "lst1 = range(1, 2000)\n",
    "lst2 = range(2, 2001)\n",
    "\n",
    "f1(lst1, lst2)\n",
    "f2(lst1, lst2)\n",
    "f3(lst1, lst2)\n",
    "f4(lst1, lst2)\n",
    "f5(lst1, lst2)"
   ]
  },
  {
   "cell_type": "code",
   "execution_count": 8,
   "metadata": {},
   "outputs": [
    {
     "name": "stdout",
     "output_type": "stream",
     "text": [
      "time: \t 0.000108\n",
      "time: \t 0.000000\n",
      "time: \t 0.000070\n",
      "time: \t 0.000185\n",
      "time: \t 0.000000\n"
     ]
    }
   ],
   "source": [
    "lst1 = range(1, 200)\n",
    "lst2 = range(2, 201)\n",
    "\n",
    "f1(lst1, lst2)\n",
    "f2(lst1, lst2)\n",
    "f3(lst1, lst2)\n",
    "f4(lst1, lst2)\n",
    "f5(lst1, lst2)"
   ]
  },
  {
   "cell_type": "code",
   "execution_count": 9,
   "metadata": {},
   "outputs": [
    {
     "name": "stdout",
     "output_type": "stream",
     "text": [
      "time: \t 0.000000\n",
      "time: \t 0.000000\n",
      "time: \t 0.000199\n",
      "time: \t 0.000000\n",
      "time: \t 0.000000\n"
     ]
    }
   ],
   "source": [
    "lst1 = range(1, 200)\n",
    "lst2 = range(2, 211)\n",
    "\n",
    "f1(lst1, lst2)\n",
    "f2(lst1, lst2)\n",
    "f3(lst1, lst2)\n",
    "f4(lst1, lst2)\n",
    "f5(lst1, lst2)"
   ]
  },
  {
   "cell_type": "markdown",
   "metadata": {},
   "source": [
    "- 结论：\n"
   ]
  }
 ],
 "metadata": {
  "kernelspec": {
   "display_name": "Python 3",
   "language": "python",
   "name": "python3"
  },
  "language_info": {
   "codemirror_mode": {
    "name": "ipython",
    "version": 3
   },
   "file_extension": ".py",
   "mimetype": "text/x-python",
   "name": "python",
   "nbconvert_exporter": "python",
   "pygments_lexer": "ipython3",
   "version": "3.6.5"
  }
 },
 "nbformat": 4,
 "nbformat_minor": 2
}
