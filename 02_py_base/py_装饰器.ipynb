{
 "cells": [
  {
   "cell_type": "markdown",
   "metadata": {},
   "source": [
    "# py_装饰器\n",
    "\n",
    "版本：R0  \n",
    "日期：2018-4-25"
   ]
  },
  {
   "cell_type": "markdown",
   "metadata": {},
   "source": [
    "## 1 装饰器基础"
   ]
  },
  {
   "cell_type": "markdown",
   "metadata": {},
   "source": [
    "## 2 函数装饰器"
   ]
  },
  {
   "cell_type": "code",
   "execution_count": null,
   "metadata": {},
   "outputs": [],
   "source": []
  },
  {
   "cell_type": "markdown",
   "metadata": {},
   "source": [
    "## 3 类装饰器\n",
    "管理类的一种方式。"
   ]
  },
  {
   "cell_type": "code",
   "execution_count": 103,
   "metadata": {},
   "outputs": [
    {
     "name": "stdout",
     "output_type": "stream",
     "text": [
      "call foo \n"
     ]
    },
    {
     "data": {
      "text/plain": [
       "6"
      ]
     },
     "execution_count": 103,
     "metadata": {},
     "output_type": "execute_result"
    }
   ],
   "source": [
    "class Deco:\n",
    "    def __init__(self, func):\n",
    "        self.func = func\n",
    "\n",
    "    def __call__(self, *args, **kwargs):\n",
    "        print(\"call %s \"%(self.func.__name__))\n",
    "        return self.func(*args, **kwargs)\n",
    "\n",
    "@Deco\n",
    "def foo(x, y):\n",
    "    return x * y\n",
    "\n",
    "foo(2,3)"
   ]
  },
  {
   "cell_type": "markdown",
   "metadata": {},
   "source": [
    "## 4 应用"
   ]
  },
  {
   "cell_type": "markdown",
   "metadata": {},
   "source": [
    "###  4.1 函数调用次数追踪"
   ]
  },
  {
   "cell_type": "code",
   "execution_count": 9,
   "metadata": {},
   "outputs": [],
   "source": [
    "# 函数调用次数追踪装饰器\n",
    "def tracer(func):\n",
    "    calls = 0\n",
    "    def wrapper(*args, **kwargs):\n",
    "        nonlocal calls   # 全局作用域，跟踪函数调用次数\n",
    "        calls += 1\n",
    "        print(f\"函数{func.__name__}, 调用第 <{calls}> 次\")\n",
    "        return func(*args, **kwargs)\n",
    "    return wrapper\n",
    "\n",
    "@tracer\n",
    "def spam(a,b):\n",
    "    print(a+b)\n",
    "    \n",
    "@tracer\n",
    "def eggs(x,y,z):\n",
    "    print(x**y)"
   ]
  },
  {
   "cell_type": "code",
   "execution_count": 12,
   "metadata": {},
   "outputs": [
    {
     "name": "stdout",
     "output_type": "stream",
     "text": [
      "函数spam, 调用第 <1> 次\n",
      "3\n",
      "函数spam, 调用第 <2> 次\n",
      "15\n",
      "函数eggs, 调用第 <1> 次\n",
      "81\n",
      "函数eggs, 调用第 <2> 次\n",
      "81\n"
     ]
    }
   ],
   "source": [
    "spam(1,2)\n",
    "spam(7,8)\n",
    "\n",
    "eggs(3,4,5)\n",
    "eggs(3,4,5)"
   ]
  },
  {
   "cell_type": "code",
   "execution_count": 101,
   "metadata": {},
   "outputs": [],
   "source": [
    "# 类装饰器\n",
    "class Deco1:\n",
    "    def __init__(self, func):\n",
    "        self.count = 0\n",
    "        self.func = func\n",
    "\n",
    "    def __call__(self, *args, **kwargs):\n",
    "        self.count += 1\n",
    "        print(\"call %d to %s\"%(self.count, self.func.__name__))\n",
    "        return self.func(*args, **kwargs)\n",
    "\n",
    "@Deco1\n",
    "def spam(a, b, c):\n",
    "    print(a +b +c)\n",
    "    \n",
    "@Deco1\n",
    "def eggs(a, b):\n",
    "    print(a +b)"
   ]
  },
  {
   "cell_type": "code",
   "execution_count": 102,
   "metadata": {
    "scrolled": true
   },
   "outputs": [
    {
     "name": "stdout",
     "output_type": "stream",
     "text": [
      "call 1 to spam\n",
      "6\n",
      "call 2 to spam\n",
      "6\n",
      "call 1 to eggs\n",
      "11\n",
      "call 2 to eggs\n",
      "11\n"
     ]
    }
   ],
   "source": [
    "spam(1, 2, 3)\n",
    "spam(1, 2, 3)\n",
    "\n",
    "eggs(5, 6)\n",
    "eggs(5, 6)"
   ]
  },
  {
   "cell_type": "markdown",
   "metadata": {},
   "source": [
    "### 使用描述符装饰方法"
   ]
  },
  {
   "cell_type": "code",
   "execution_count": 2,
   "metadata": {},
   "outputs": [],
   "source": [
    "class Wrapper:\n",
    "    def __init__(self, desc, subj):\n",
    "        self.desc = desc  # Route calls back to decr\n",
    "        self.subj = subj\n",
    "        \n",
    "    def __call__(self, *args, **kwargs):\n",
    "        return self.desc(self.subj, *args, **kwargs) \n",
    "\n",
    "class Tracer(object):\n",
    "    def __init__(self, func): \n",
    "        self.calls = 0  \n",
    "        self.func = func\n",
    "        \n",
    "    def __call__(self, *args, **kwargs): \n",
    "        self.calls += 1\n",
    "        print('call %s to %s' % (self.calls, self.func.__name__))\n",
    "        return self.func(*args, **kwargs)\n",
    "    \n",
    "    def __get__(self, instance, owner): \n",
    "        return Wrapper(self, instance)"
   ]
  },
  {
   "cell_type": "code",
   "execution_count": 3,
   "metadata": {},
   "outputs": [],
   "source": [
    "@Tracer\n",
    "def spam(a, b, c): \n",
    "    print(a +b +c)\n",
    "    \n",
    "class Person:\n",
    "    def __init__(self, name, pay):\n",
    "        self.name = name\n",
    "        self.pay = pay\n",
    "        \n",
    "    @Tracer\n",
    "    def giveRaise(self, percent):   # giveRaise = tracer(giverRaise)\n",
    "        self.pay *= (1.0 + percent)"
   ]
  },
  {
   "cell_type": "markdown",
   "metadata": {},
   "source": [
    "### 4.3 属性检查装饰器"
   ]
  },
  {
   "cell_type": "markdown",
   "metadata": {},
   "source": [
    "### 4.4 计时器装饰器"
   ]
  },
  {
   "cell_type": "markdown",
   "metadata": {},
   "source": [
    "### 4.5 权限管理装饰器"
   ]
  },
  {
   "cell_type": "markdown",
   "metadata": {},
   "source": []
  }
 ],
 "metadata": {
  "kernelspec": {
   "display_name": "Python 3",
   "language": "python",
   "name": "python3"
  },
  "language_info": {
   "codemirror_mode": {
    "name": "ipython",
    "version": 3
   },
   "file_extension": ".py",
   "mimetype": "text/x-python",
   "name": "python",
   "nbconvert_exporter": "python",
   "pygments_lexer": "ipython3",
   "version": "3.6.4"
  }
 },
 "nbformat": 4,
 "nbformat_minor": 2
}
