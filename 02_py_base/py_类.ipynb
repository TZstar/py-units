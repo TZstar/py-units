{
 "cells": [
  {
   "cell_type": "markdown",
   "metadata": {},
   "source": [
    "# py_类"
   ]
  },
  {
   "cell_type": "code",
   "execution_count": null,
   "metadata": {},
   "outputs": [],
   "source": []
  },
  {
   "cell_type": "code",
   "execution_count": null,
   "metadata": {},
   "outputs": [],
   "source": []
  },
  {
   "cell_type": "markdown",
   "metadata": {},
   "source": [
    "## 类属性装饰器\n",
    "1. `@property`: 表示只读；\n",
    "2. `@property + @x.setter`: 表示可读可写；\n",
    "3. `@property + @x.setter + @x.deleter`: 表示可读可写可删除。"
   ]
  },
  {
   "cell_type": "code",
   "execution_count": 4,
   "metadata": {},
   "outputs": [
    {
     "name": "stdout",
     "output_type": "stream",
     "text": [
      "60\n",
      "score must between 0 and 100\n",
      "score must be an integer!\n",
      "100\n",
      "123456\n",
      "can't set attribute\n"
     ]
    }
   ],
   "source": [
    "class student(object):  #新式类  \n",
    "    def __init__(self,id):    \n",
    "        self.__id=id    \n",
    "        \n",
    "    @property  #读    \n",
    "    def score(self):    \n",
    "        return self._score    \n",
    "    \n",
    "    @score.setter #写    \n",
    "    def score(self,value):    \n",
    "        if not isinstance(value,int):    \n",
    "            raise ValueError('score must be an integer!')      \n",
    "        if value<0 or value>100:    \n",
    "            raise ValueError('score must between 0 and 100')     \n",
    "        self._score=value    \n",
    "        \n",
    "    @property #读(只能读，不能写)    \n",
    "    def get_id(self):    \n",
    "        return self.__id    \n",
    "    \n",
    "s=student('123456')    \n",
    "s.score=60 #写    \n",
    "print(s.score) #读   \n",
    "try:\n",
    "    s.score=-2 #ValueError: score must between 0 and 100  \n",
    "except Exception as e:\n",
    "    print(e)\n",
    "    \n",
    "try:\n",
    "    s.score=32.6 #ValueError: score must be an integer!   \n",
    "except Exception as e:\n",
    "    print(e)\n",
    "\n",
    "s.score=100 #写    \n",
    "print(s.score) #读    \n",
    "print(s.get_id) #读（只能读，不可写）  \n",
    "try:\n",
    "    s.get_id=456 #只能读，不可写:AttributeError: can't set attribute \n",
    "except Exception as e:\n",
    "    print(e)"
   ]
  },
  {
   "cell_type": "code",
   "execution_count": 10,
   "metadata": {},
   "outputs": [
    {
     "name": "stdout",
     "output_type": "stream",
     "text": [
      "None\n",
      "python\n",
      "'A' object has no attribute '_A__name'\n"
     ]
    }
   ],
   "source": [
    "class A(object):#新式类（继承自object类）  \n",
    "    def __init__(self):  \n",
    "        self.__name=None  \n",
    "        \n",
    "    def getName(self):  \n",
    "        return self.__name  \n",
    "    \n",
    "    def setName(self,value):  \n",
    "        self.__name=value  \n",
    "        \n",
    "    def delName(self):  \n",
    "        del self.__name  \n",
    "        \n",
    "    name=property(getName,setName,delName)  \n",
    "  \n",
    "a=A()  \n",
    "print(a.name) # 读  \n",
    "a.name='python' # 写  \n",
    "print(a.name) # 读  \n",
    "a.delName()  # 删除  \n",
    "try:\n",
    "    print(a.name) \n",
    "    #a.name已经被删除 AttributeError: 'A' object has no attribute '_A__name'  \n",
    "except Exception as e:\n",
    "    print(e)"
   ]
  },
  {
   "cell_type": "code",
   "execution_count": 14,
   "metadata": {},
   "outputs": [
    {
     "name": "stdout",
     "output_type": "stream",
     "text": [
      "None\n",
      "python\n",
      "'A' object has no attribute '_A__name'\n"
     ]
    }
   ],
   "source": [
    "class A():\n",
    "    def __init__(self):  \n",
    "        self.__name=None  \n",
    "      \n",
    "    #下面开始定义属性，3个函数的名字要一样！  \n",
    "    @property #读  \n",
    "    def name(self):  \n",
    "        return self.__name  \n",
    "    \n",
    "    @name.setter #写  \n",
    "    def name(self,value):  \n",
    "        self.__name=value  \n",
    "        \n",
    "    @name.deleter #删除  \n",
    "    def name(self):  \n",
    "        del self.__name  \n",
    "      \n",
    "a=A()  \n",
    "print(a.name)    # 读  \n",
    "a.name='python'  # 写  \n",
    "print(a.name)    # 读  \n",
    "del a.name       # 删除 \n",
    "try:\n",
    "    print(a.name) \n",
    "    # a.name已经被删除 AttributeError: 'A' object has no attribute '_A__name' \n",
    "except Exception as e:\n",
    "    print(e)"
   ]
  },
  {
   "cell_type": "code",
   "execution_count": 22,
   "metadata": {},
   "outputs": [
    {
     "name": "stdout",
     "output_type": "stream",
     "text": [
      "t1\talex 1\n",
      "t1\t{'_test1__private': 'alex 1'}\n",
      "{'_test1__private': 'change 1'}\n",
      "change 1\n",
      "{'_test1__private': 'change 2'}\n",
      "{}\n",
      "'test1' object has no attribute '_test1__private'\n",
      "_test1__private\n",
      "-------------------------------------------------------\n",
      "{'_test2__private': 'alex 2'}\n",
      "alex 2\n",
      "{'_test2__private': 'change 2'}\n",
      "change 2\n",
      "'test2' object has no attribute '_test2__private'\n",
      "{}\n"
     ]
    }
   ],
   "source": [
    "class test1:#经典类：没有继承object      \n",
    "    def __init__(self):      \n",
    "        self.__private='alex 1' #私有属性以2个下划线开头  \n",
    "        \n",
    "    #读私有属性      \n",
    "    @property      \n",
    "    def private(self):      \n",
    "        return self.__private      \n",
    "    \n",
    "    #尝试去写私有属性（对于经典类而言，“写”是做不到的，注意看后边的代码和注释！）    \n",
    "    @private.setter      \n",
    "    def private(self,value):      \n",
    "        self.__private=value     \n",
    "        \n",
    "    #尝试去删除私有属性（对于经典类而言，“删除”也是做不到的，具体看后边的代码和注释！）    \n",
    "    @private.deleter    \n",
    "    def private(self):    \n",
    "        del self.__private    \n",
    "        \n",
    "class test2():#新式类：继承了object      \n",
    "    def __init__(self):      \n",
    "        self.__private='alex 2' #私有属性以2个下划线开头      \n",
    "        \n",
    "    #读私有属性      \n",
    "    @property      \n",
    "    def private(self):      \n",
    "        return self.__private      \n",
    "    \n",
    "    #写私有属性      \n",
    "    @private.setter      \n",
    "    def private(self,value):      \n",
    "        self.__private=value    \n",
    "        \n",
    "    #删除私有属性    \n",
    "    @private.deleter    \n",
    "    def private(self):    \n",
    "        del self.__private    \n",
    "        \n",
    "t1=test1()      \n",
    "#print t1.__private #外界不可直接访问私有属性      \n",
    "print(f\"t1\\t{t1.private}\") #读私有属性  \n",
    "print(f\"t1\\t{t1.__dict__}\")    \n",
    "t1.private='change 1' #对于经典类来说，该语句实际上是为实例t1添加了一个实例变量private    \n",
    "print(f\"t1\\t{t1.__dict__})    \n",
    "print(f\"t1\\t{t1.private}\") #输出刚刚添加的实例变量private    \n",
    "t1.private='change 2'    \n",
    "print(f\"t1\\t{t1.__dict__}\")    \n",
    "del t1.private #删除刚刚添加的实例变量private    \n",
    "print(f\"t1\\t{t1.__dict__}\")  \n",
    "try:\n",
    "    print(t1.private) #读私有属性  \n",
    "except Exception as e:\n",
    "    print(e)\n",
    "    \n",
    "try:\n",
    "    del t1.private #无法通过这种方式删除私有属性：AttributeError: test1 instance has no attribute 'private'  \n",
    "    #对于经典类而言，我们无法通过上面的语句，对实例的私有变量__private进行修改或删除！  \n",
    "except Exception as e:\n",
    "    print(e)\n",
    "\n",
    "\n",
    "print( '-------------------------------------------------------' )     \n",
    "t2=test2()      \n",
    "print(t2.__dict__)    \n",
    "print(t2.private) #继承了object，添加@private.setter后，才可以写      \n",
    "t2.private='change 2' #修改私有属性      \n",
    "print(t2.__dict__)     \n",
    "print(t2.private)    \n",
    "del t2.private #删除私有变量    \n",
    "\n",
    "try:\n",
    "    print(t2.private) #私有变量已经被删除，执行“读”操作会报错:AttributeError: 'test2' object has no attribute '_test2__private'  \n",
    "except Exception as e:\n",
    "    print(e)\n",
    "print(t2.__dict__)    \n",
    "#对于新式类而言，我们可以通过上面的语句，对实例的私有变量__private进行修改或删除    "
   ]
  }
 ],
 "metadata": {
  "kernelspec": {
   "display_name": "Python 3",
   "language": "python",
   "name": "python3"
  },
  "language_info": {
   "codemirror_mode": {
    "name": "ipython",
    "version": 3
   },
   "file_extension": ".py",
   "mimetype": "text/x-python",
   "name": "python",
   "nbconvert_exporter": "python",
   "pygments_lexer": "ipython3",
   "version": "3.6.5"
  }
 },
 "nbformat": 4,
 "nbformat_minor": 2
}
