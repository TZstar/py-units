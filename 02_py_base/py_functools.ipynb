{
 "cells": [
  {
   "cell_type": "markdown",
   "metadata": {},
   "source": [
    "# py_functools"
   ]
  },
  {
   "cell_type": "markdown",
   "metadata": {},
   "source": [
    "1. `functools.cmp_to_key(func)`: \n",
    "2. `functools.total_ordering(cls)`:\n",
    "3. `functools.reduce(function, iterable[, initializer])`:\n",
    "4. `functools.partial(func[,*args][, **keywords])`:\n",
    "5. `functools.update_wrapper(wrapper, wrapped[, assigned][, updated])`:\n",
    "6. `functools.wraps(wrapped[, assigned][, updated])`:"
   ]
  },
  {
   "cell_type": "markdown",
   "metadata": {},
   "source": [
    "# 1 cmp_to_key\n"
   ]
  },
  {
   "cell_type": "markdown",
   "metadata": {},
   "source": [
    "# 2 total_ordering"
   ]
  },
  {
   "cell_type": "markdown",
   "metadata": {},
   "source": [
    "# 3 reduce\n",
    "#### 描述：\n",
    "1. 会对参数序列中元素进行累积。\n",
    "2. 函数将一个数据集合（链表，元组等）中的所有数据进行下列操作：用传给reduce中的函数 function（有两个参数）先对集合中的第 1、2 个元素进行操作，得到的结果再与第三个数据用 function 函数运算，最后得到一个结果。\n",
    "\n",
    "#### 语法：\n",
    "\n",
    "`reduce(function, iterable[, initializer])`  \n",
    "\n",
    "1. **参数说明：**  \n",
    "    - function：函数，有两个参数；\n",
    "    - iterable：一个或多个序列。\n",
    "    - initializer: 可选，初始参数\n",
    "2. **返回值：** \n",
    "    返回迭代器。\n",
    "3. 深入理解：  \n",
    "https://www.cnblogs.com/lonkiss/p/understanding-python-reduce-function.html"
   ]
  },
  {
   "cell_type": "code",
   "execution_count": 1,
   "metadata": {},
   "outputs": [],
   "source": [
    "from functools import reduce"
   ]
  },
  {
   "cell_type": "code",
   "execution_count": 3,
   "metadata": {},
   "outputs": [
    {
     "data": {
      "text/plain": [
       "15"
      ]
     },
     "execution_count": 3,
     "metadata": {},
     "output_type": "execute_result"
    }
   ],
   "source": [
    " # 两数相加\n",
    "def add(x, y) :           \n",
    "    return x + y\n",
    "\n",
    "reduce(add, [1,2,3,4,5])"
   ]
  },
  {
   "cell_type": "code",
   "execution_count": 4,
   "metadata": {},
   "outputs": [
    {
     "data": {
      "text/plain": [
       "15"
      ]
     },
     "execution_count": 4,
     "metadata": {},
     "output_type": "execute_result"
    }
   ],
   "source": [
    "# 使用 lambda\n",
    "reduce(lambda x, y: x+y, [1,2,3,4,5])"
   ]
  },
  {
   "cell_type": "code",
   "execution_count": 5,
   "metadata": {},
   "outputs": [
    {
     "data": {
      "text/plain": [
       "12345"
      ]
     },
     "execution_count": 5,
     "metadata": {},
     "output_type": "execute_result"
    }
   ],
   "source": [
    "reduce(lambda x, y: x*10+y, [1,2,3,4,5])"
   ]
  },
  {
   "cell_type": "markdown",
   "metadata": {},
   "source": [
    "# 4 partial\n",
    "#### 描述：\n",
    "1. 偏函数，函数装饰器；\n",
    "2. 调用 partial 对象和调用被修饰的 func 相同，只不过调用 partial 对象时传入的参数通常要少于调用 func 时传入的参数个数。\n",
    "3. **应用**：一个函数func可以接收很多参数，而某一次使用只需要更改其中的一部分参数，其他的参数都保持不变时，partial对象就可以将这些不变的对象冻结起来，这样调用partial对象时传入未冻结的参数，partial对象调用func时连同已经被冻结的参数一同传给func函数，从而可以简化调用过程。\n",
    "4. 如果调用partial对象时提供了更多的参数，那么他们会被添加到args的后面；如果提供了更多的关键字参数，那么它们将扩展或者覆盖已经冻结的kwargs。\n",
    "\n",
    "#### 语法：\n",
    "\n",
    "`functools.partial(func, *args, **keywords)`  \n",
    "\n",
    "1. **参数说明：**  \n",
    "    - `func`：函数；\n",
    "    - `*args`：位置参数；\n",
    "    - `**keywords`: 关键字参数。\n",
    "2. **返回值：** \n",
    "    返回 partial 对象。\n",
    "3. 深入理解：  \n",
    "https://www.cnblogs.com/zhbzz2007/p/6001827.html"
   ]
  },
  {
   "cell_type": "code",
   "execution_count": 18,
   "metadata": {},
   "outputs": [
    {
     "name": "stdout",
     "output_type": "stream",
     "text": [
      "7\n",
      "15\n",
      "11\n"
     ]
    }
   ],
   "source": [
    "from functools import partial\n",
    "\n",
    "def add(a,b):\n",
    "    return a + b\n",
    "\n",
    "add1 = functools.partial(add,3)\n",
    "print(add1(4))\n",
    "\n",
    "add2 = functools.partial(add,5)\n",
    "print(add2(10))\n",
    "\n",
    "add3 = functools.partial(add,5,6)\n",
    "print(add3())"
   ]
  },
  {
   "cell_type": "code",
   "execution_count": 15,
   "metadata": {},
   "outputs": [
    {
     "name": "stdout",
     "output_type": "stream",
     "text": [
      "336\n"
     ]
    }
   ],
   "source": [
    "# 位置参数需要放到关键字参数前\n",
    "def add(a, c, b=333):\n",
    "    return a + b + c\n",
    "print(add(1, 2))"
   ]
  },
  {
   "cell_type": "code",
   "execution_count": 19,
   "metadata": {},
   "outputs": [
    {
     "name": "stdout",
     "output_type": "stream",
     "text": [
      "a,b,c的值分别为： 1 2 6\n",
      "add 9\n",
      "a,b,c的值分别为： 100 5 7\n",
      "partial(add, 100) 112\n",
      "a,b,c的值分别为： 100 200 5\n",
      "partial(add, 100, 200) 305\n"
     ]
    }
   ],
   "source": [
    "def add(a, b=333, c=6):\n",
    "    print( \"a,b,c的值分别为：\",a,b,c)\n",
    "    return a + b + c\n",
    "\n",
    "print( \"add\", add(1, 2))\n",
    "\n",
    "add_plus = partial(add, 100)\n",
    "print(\"partial(add, 100)\", add_plus(5, 7))\n",
    "\n",
    "add_plus = partial(add, 100, 200)\n",
    "print(\"partial(add, 100, 200)\", add_plus(5))"
   ]
  },
  {
   "cell_type": "code",
   "execution_count": 21,
   "metadata": {},
   "outputs": [
    {
     "name": "stdout",
     "output_type": "stream",
     "text": [
      "args的值为： (1, 2)\n",
      "kargs的值为： {}\n",
      "add None\n",
      "args的值为： (1, 2, 3, 4, 5)\n",
      "kargs的值为： {'a': 300, 'b': 200, 'c': 300, 'f': 500}\n",
      "new_add None\n"
     ]
    }
   ],
   "source": [
    "# 位置参数和关键字参数\n",
    "def add(*args, **kargs):\n",
    "    print( \"args的值为：\",args)\n",
    "    print( \"kargs的值为：\",kargs)\n",
    "\n",
    "print( \"add\", add(1, 2))\n",
    "\n",
    "new_add = partial(add,1,2,3,a=100,b=200,c=300)\n",
    "print( \"new_add\", new_add(4,5,a=300,f=500))"
   ]
  },
  {
   "cell_type": "markdown",
   "metadata": {},
   "source": [
    "# 5 update_wrapper\n",
    "\n",
    "更新一个包裹（wrapper）函数，使其看起来更像被包裹（wrapped）的函数。\n",
    "\n",
    "可选的参数指定了被包裹函数的哪些属性直接赋值给包裹函数的对应属性，同时包裹函数的哪些属性要更新而不是直接接受被包裹函数的对应属性，参数assigned的默认值对应于模块级常量WRAPPER_ASSIGNMENTS（默认地将被包裹函数的 __name__， __module__，和 __doc__ 属性赋值给包裹函数），参数updated的默认值对应于模块级常量WRAPPER_UPDATES（默认更新wrapper函数的 __dict__ 属性）。\n",
    "\n",
    "这个函数的主要用途是在一个装饰器中，原函数会被装饰（包裹），装饰器函数会返回一个wrapper函数，如果装饰器返回的这个wrapper函数没有被更新，那么它的一些元数据更多的是反映wrapper函数定义的特征，无法反映wrapped函数的特性。\n"
   ]
  },
  {
   "cell_type": "markdown",
   "metadata": {},
   "source": [
    "# 6 wraps\n",
    "#### 描述：\n",
    "1. 用作装饰器；\n",
    "2. 调用等价于：  \n",
    "`partial(update_wrapper, wrapped = wrapped, assigned = assigned,updated = updated)`\n",
    "3. 不使用 `@function.wraps` 做装饰器的区别是：\n",
    "    - 使用后，调用函数的 (` __name__`, `__module__`, `__doc__ `) 和原函数一致；\n",
    "    - 不使用，`__name__ `将会变成'wrapper'，`__doc__` 也会丢失。\n",
    "\n",
    "#### 语法：\n",
    "\n",
    "`functools.wraps(wrapped, assigned=WRAPPER_ASSIGNMENTS, updated=WRAPPER_UPDATES)`  \n",
    "\n",
    "1. **参数说明：**  \n",
    "    - `wrapped`：；\n",
    "    - `assigned`：；\n",
    "    - `updated`：。\n",
    "3. 深入理解：  \n",
    "https://www.cnblogs.com/zhbzz2007/p/6001827.html"
   ]
  },
  {
   "cell_type": "code",
   "execution_count": 23,
   "metadata": {},
   "outputs": [
    {
     "name": "stdout",
     "output_type": "stream",
     "text": [
      "Calling decorated function\n",
      "Called example function\n",
      "example\n",
      "__main__\n",
      "DocString\n"
     ]
    }
   ],
   "source": [
    "# 使用 ` @function.wraps` 的装饰器\n",
    "from functools import wraps\n",
    "\n",
    "def my_decorator(f):\n",
    "    @wraps(f)\n",
    "    def wrapper(*args,**kwds):\n",
    "        print( \"Calling decorated function\")\n",
    "        return f(*args,**kwds)\n",
    "    return wrapper\n",
    "\n",
    "@my_decorator\n",
    "def example():\n",
    "    \"\"\"DocString\"\"\"\n",
    "    print( \"Called example function\")\n",
    "\n",
    "example()\n",
    "print(example.__name__)\n",
    "print(example.__module__)\n",
    "print(example.__doc__)"
   ]
  },
  {
   "cell_type": "code",
   "execution_count": 24,
   "metadata": {},
   "outputs": [
    {
     "name": "stdout",
     "output_type": "stream",
     "text": [
      "Calling decorated function\n",
      "Called example function\n",
      "wrapper\n",
      "__main__\n",
      "None\n"
     ]
    }
   ],
   "source": [
    "def my_decorator(f):\n",
    "    def wrapper(*args,**kwds):\n",
    "        print( \"Calling decorated function\")\n",
    "        return f(*args,**kwds)\n",
    "    return wrapper\n",
    "\n",
    "@my_decorator\n",
    "def example():\n",
    "    \"\"\"DocString\"\"\"\n",
    "    print( \"Called example function\")\n",
    "\n",
    "example()\n",
    "print(example.__name__)\n",
    "print(example.__module__)\n",
    "print(example.__doc__)"
   ]
  },
  {
   "cell_type": "code",
   "execution_count": null,
   "metadata": {},
   "outputs": [],
   "source": []
  }
 ],
 "metadata": {
  "kernelspec": {
   "display_name": "Python 3",
   "language": "python",
   "name": "python3"
  },
  "language_info": {
   "codemirror_mode": {
    "name": "ipython",
    "version": 3
   },
   "file_extension": ".py",
   "mimetype": "text/x-python",
   "name": "python",
   "nbconvert_exporter": "python",
   "pygments_lexer": "ipython3",
   "version": "3.6.4"
  }
 },
 "nbformat": 4,
 "nbformat_minor": 2
}
