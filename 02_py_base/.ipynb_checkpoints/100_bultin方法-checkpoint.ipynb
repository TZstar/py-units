{
 "cells": [
  {
   "cell_type": "markdown",
   "metadata": {},
   "source": [
    "# py_bultin 常用内置方法"
   ]
  },
  {
   "cell_type": "markdown",
   "metadata": {},
   "source": [
    "## 1 常用内置方法分类\n",
    "\n",
    "\n",
    "1. 数学类\n",
    "    - `abs(), sum(), max(), min(), round(), pow()`\n",
    "    - `len(), `\n",
    "2. 转换类 \n",
    "    - `eval()`\n",
    "    - `str(), int(), float()`\n",
    "    - `bytes(), chr(), ord(),ascii(), hex(), bin(), oct()`\n",
    "    - `list(), set(), dict(), tuple(),`\n",
    "    - `ash()`\n",
    "3. 属性类\n",
    "    - `type(), isinstance(), `\n",
    "    - `hasattr(), getattr(), setattr(), delattr()`\n",
    "4. 操作类\n",
    "    - `filter(), map(), zip()`\n",
    "    - `sorted(), reversed()`"
   ]
  },
  {
   "cell_type": "markdown",
   "metadata": {},
   "source": [
    "## 3 属性类"
   ]
  },
  {
   "cell_type": "markdown",
   "metadata": {},
   "source": [
    "### 3.2 `hasattr(), getattr(), setattr()`\n",
    "#### 描述：\n",
    "1. 用于判断对象是否包含对应的属性。\n",
    "\n",
    "#### 语法：\n",
    "\n",
    "`hasattr(object, name)`  \n",
    "\n",
    "1. **参数说明：**  \n",
    "    - object：一个或者多个迭代器；\n",
    "    - name：字符串，属性名。\n",
    "2. **返回值：**   Bool\n",
    "    如果对象有该属性返回 True，否则返回 False。"
   ]
  },
  {
   "cell_type": "code",
   "execution_count": 1,
   "metadata": {},
   "outputs": [
    {
     "name": "stdout",
     "output_type": "stream",
     "text": [
      "True\n",
      "True\n",
      "True\n",
      "False\n"
     ]
    }
   ],
   "source": [
    "class A:\n",
    "    x = 10\n",
    "    y = -5\n",
    "    z = 0\n",
    " \n",
    "point1 = A() \n",
    "print(hasattr(point1, 'x'))\n",
    "print(hasattr(point1, 'y'))\n",
    "print(hasattr(point1, 'z'))\n",
    "print(hasattr(point1, 'no'))"
   ]
  },
  {
   "cell_type": "markdown",
   "metadata": {},
   "source": [
    "### 3.2.1 getattr()\n",
    "#### 描述：\n",
    "1. 用于返回一个对象属性值。\n",
    "\n",
    "#### 语法：\n",
    "\n",
    "`getattr(object, name[, default])`  \n",
    "\n",
    "1. **参数说明：**  \n",
    "    - object：一个或者多个迭代器；\n",
    "    - name：字符串，属性名。\n",
    "    - default：默认返回值，如果不提供该参数，在没有对应属性时，将触发 AttributeError。\n",
    "2. **返回值：** \n",
    "    返回对象属性值。"
   ]
  },
  {
   "cell_type": "code",
   "execution_count": 5,
   "metadata": {},
   "outputs": [
    {
     "data": {
      "text/plain": [
       "1"
      ]
     },
     "execution_count": 5,
     "metadata": {},
     "output_type": "execute_result"
    }
   ],
   "source": [
    "class A(object):\n",
    "    bar = 1\n",
    "    \n",
    "a = A()\n",
    "getattr(a, 'bar')   # 获取属性 bar 值"
   ]
  },
  {
   "cell_type": "code",
   "execution_count": 6,
   "metadata": {},
   "outputs": [
    {
     "name": "stdout",
     "output_type": "stream",
     "text": [
      "'A' object has no attribute 'bar2'\n"
     ]
    }
   ],
   "source": [
    "try:\n",
    "    getattr(a, 'bar2')   # 属性 bar2 不存在，触发异常\n",
    "except Exception as e:\n",
    "    print(e)"
   ]
  },
  {
   "cell_type": "code",
   "execution_count": 7,
   "metadata": {},
   "outputs": [
    {
     "data": {
      "text/plain": [
       "3"
      ]
     },
     "execution_count": 7,
     "metadata": {},
     "output_type": "execute_result"
    }
   ],
   "source": [
    "getattr(a, 'bar2', 3)    # 属性 bar2 不存在，但设置了默认值"
   ]
  },
  {
   "cell_type": "markdown",
   "metadata": {},
   "source": [
    "### 3.2.2 setattr()\n",
    "#### 描述：\n",
    "1. 用于设置属性值，该属性必须存在。\n",
    "\n",
    "#### 语法：\n",
    "\n",
    "`setattr(object, name, value)`  \n",
    "\n",
    "1. **参数说明：**  \n",
    "    - object：一个或者多个迭代器；\n",
    "    - name：字符串，属性名；\n",
    "    - value ：属性值。\n",
    "2. **返回值：**   无"
   ]
  },
  {
   "cell_type": "code",
   "execution_count": 2,
   "metadata": {},
   "outputs": [
    {
     "data": {
      "text/plain": [
       "1"
      ]
     },
     "execution_count": 2,
     "metadata": {},
     "output_type": "execute_result"
    }
   ],
   "source": [
    "class A(object):\n",
    "    bar = 1\n",
    "    \n",
    "a = A()\n",
    "getattr(a, 'bar')   # 获取属性 bar 值"
   ]
  },
  {
   "cell_type": "code",
   "execution_count": 4,
   "metadata": {},
   "outputs": [
    {
     "data": {
      "text/plain": [
       "5"
      ]
     },
     "execution_count": 4,
     "metadata": {},
     "output_type": "execute_result"
    }
   ],
   "source": [
    "setattr(a, 'bar', 5)   # 设置属性 bar 值\n",
    "a.bar"
   ]
  },
  {
   "cell_type": "markdown",
   "metadata": {},
   "source": [
    "## 4 操作类 \n",
    "- `filter(), map(), zip()`\n",
    "- `sorted(), reversed()`"
   ]
  },
  {
   "cell_type": "markdown",
   "metadata": {},
   "source": [
    "### 4.1.1 filter()\n",
    "#### 描述：\n",
    "1. 用于过滤序列，过滤掉不符合条件的元素，返回由符合条件元素组成的新列表。\n",
    "\n",
    "#### 语法：\n",
    "\n",
    "`filter(function, iterable)`  \n",
    "1. **参数说明：**  \n",
    "    - function：判断函数。 \n",
    "    - iterable：可迭代对象。\n",
    "2. **返回值：**  \n",
    "返回返回迭代器。"
   ]
  },
  {
   "cell_type": "code",
   "execution_count": 26,
   "metadata": {},
   "outputs": [
    {
     "name": "stdout",
     "output_type": "stream",
     "text": [
      "[1, 4, 9, 16, 25, 36, 49, 64, 81, 100]\n"
     ]
    }
   ],
   "source": [
    "import math\n",
    "# 返回平方根为整数的数\n",
    "def is_sqr(x):\n",
    "    return math.sqrt(x) % 1 == 0 \n",
    "newlist = filter(is_sqr, range(1, 101))\n",
    "print(list(newlist))"
   ]
  },
  {
   "cell_type": "code",
   "execution_count": 33,
   "metadata": {},
   "outputs": [
    {
     "name": "stdout",
     "output_type": "stream",
     "text": [
      "[1, 4, 9, 16, 25, 36, 49, 64, 81, 100]\n"
     ]
    }
   ],
   "source": [
    "# 结合 lambda 函数使用\n",
    "newlist = filter(lambda x: math.sqrt(x)%1 == 0, range(1, 101))\n",
    "print(list(newlist))"
   ]
  },
  {
   "cell_type": "markdown",
   "metadata": {},
   "source": [
    "### 4.1.2 map()\n",
    "#### 描述：\n",
    "1. 根据提供的函数对指定序列做映射。\n",
    "\n",
    "#### 语法：\n",
    "\n",
    "`map(function, iterable, ...)`  \n",
    "\n",
    "1. **参数说明：**  \n",
    "    - function：函数，有两个参数；\n",
    "    - iterable：一个或多个序列。\n",
    "2. **返回值：** \n",
    "    返回迭代器。"
   ]
  },
  {
   "cell_type": "code",
   "execution_count": 37,
   "metadata": {},
   "outputs": [
    {
     "data": {
      "text/plain": [
       "[1, 4, 9, 16, 25]"
      ]
     },
     "execution_count": 37,
     "metadata": {},
     "output_type": "execute_result"
    }
   ],
   "source": [
    "def square(x) :            # 计算平方数\n",
    "    return x ** 2\n",
    "\n",
    "res = map(square, [1,2,3,4,5])   # 计算列表各个元素的平方\n",
    "list(res)"
   ]
  },
  {
   "cell_type": "code",
   "execution_count": 39,
   "metadata": {},
   "outputs": [
    {
     "data": {
      "text/plain": [
       "[1, 4, 9, 16, 25]"
      ]
     },
     "execution_count": 39,
     "metadata": {},
     "output_type": "execute_result"
    }
   ],
   "source": [
    "# 使用 lambda 匿名函数\n",
    "res = map(lambda x: x ** 2, [1, 2, 3, 4, 5])\n",
    "list(res)"
   ]
  },
  {
   "cell_type": "code",
   "execution_count": 40,
   "metadata": {},
   "outputs": [
    {
     "data": {
      "text/plain": [
       "[3, 7, 11, 15, 19]"
      ]
     },
     "execution_count": 40,
     "metadata": {},
     "output_type": "execute_result"
    }
   ],
   "source": [
    "# 提供了两个列表，对相同位置的列表数据进行相加\n",
    "res = map(lambda x, y: x + y, [1, 3, 5, 7, 9], [2, 4, 6, 8, 10])\n",
    "list(res)"
   ]
  },
  {
   "cell_type": "markdown",
   "metadata": {},
   "source": [
    "### 4.1.3 zip()\n",
    "#### 描述：\n",
    "1. 于将可迭代的对象作为参数，将对象中对应的元素打包成一个个元组，然后返回由这些元组组成的列表；\n",
    "2. 如果各个迭代器的元素个数不一致，则返回列表长度与最短的对象相同；\n",
    "3. 利用 * 号操作符，可以将元组解压为列表。\n",
    "\n",
    "#### 语法：\n",
    "\n",
    "`zip([iterable, ...])`  \n",
    "\n",
    "1. **参数说明：**  \n",
    "    - iterable: 一个或者多个迭代器。 \n",
    "2. **返回值：**  \n",
    "    返回打包后的元组列表迭代器。"
   ]
  },
  {
   "cell_type": "code",
   "execution_count": 20,
   "metadata": {},
   "outputs": [],
   "source": [
    "a = [1,2,3]\n",
    "b = [4,5,6]\n",
    "c = [4,5,6,7,8]"
   ]
  },
  {
   "cell_type": "code",
   "execution_count": 21,
   "metadata": {},
   "outputs": [
    {
     "data": {
      "text/plain": [
       "<zip at 0x29bd4ade788>"
      ]
     },
     "execution_count": 21,
     "metadata": {},
     "output_type": "execute_result"
    }
   ],
   "source": [
    "zipped = zip(a,b)     # 打包为元组的列表\n",
    "zipped"
   ]
  },
  {
   "cell_type": "code",
   "execution_count": 22,
   "metadata": {},
   "outputs": [
    {
     "data": {
      "text/plain": [
       "[(1, 4), (2, 5), (3, 6)]"
      ]
     },
     "execution_count": 22,
     "metadata": {},
     "output_type": "execute_result"
    }
   ],
   "source": [
    "# 元素个数与最短的列表一致\n",
    "list(zip(a,c))"
   ]
  },
  {
   "cell_type": "code",
   "execution_count": 23,
   "metadata": {},
   "outputs": [
    {
     "data": {
      "text/plain": [
       "[(1, 2, 3), (4, 5, 6)]"
      ]
     },
     "execution_count": 23,
     "metadata": {},
     "output_type": "execute_result"
    }
   ],
   "source": [
    "# 与 zip 相反，可理解为解压，返回二维矩阵式\n",
    "list(zip(*zipped))  # 使用 * 之前，不可使用 list，否则为空"
   ]
  },
  {
   "cell_type": "code",
   "execution_count": 24,
   "metadata": {},
   "outputs": [
    {
     "data": {
      "text/plain": [
       "[]"
      ]
     },
     "execution_count": 24,
     "metadata": {},
     "output_type": "execute_result"
    }
   ],
   "source": [
    "list(zipped)"
   ]
  },
  {
   "cell_type": "markdown",
   "metadata": {},
   "source": [
    "### 4.2 `sorted` | `reversed` "
   ]
  },
  {
   "cell_type": "code",
   "execution_count": 2,
   "metadata": {},
   "outputs": [
    {
     "data": {
      "text/plain": [
       "<list_reverseiterator at 0x15c1e2a60f0>"
      ]
     },
     "metadata": {},
     "output_type": "display_data"
    },
    {
     "data": {
      "text/plain": [
       "list_reverseiterator"
      ]
     },
     "metadata": {},
     "output_type": "display_data"
    }
   ],
   "source": [
    "lst = [1,3, 2, 1]\n",
    "\n",
    "r = reversed(lst)    # 返回迭代器\n",
    "display(r, type(r))"
   ]
  },
  {
   "cell_type": "code",
   "execution_count": 4,
   "metadata": {},
   "outputs": [
    {
     "data": {
      "text/plain": [
       "[1, 1, 2, 3]"
      ]
     },
     "metadata": {},
     "output_type": "display_data"
    },
    {
     "data": {
      "text/plain": [
       "list"
      ]
     },
     "metadata": {},
     "output_type": "display_data"
    }
   ],
   "source": [
    "lst = [1,3, 2, 1]\n",
    "\n",
    "r = sorted(lst)    # 返回列表\n",
    "display(r, type(r))"
   ]
  },
  {
   "cell_type": "code",
   "execution_count": null,
   "metadata": {},
   "outputs": [],
   "source": []
  }
 ],
 "metadata": {
  "kernelspec": {
   "display_name": "Python 3",
   "language": "python",
   "name": "python3"
  },
  "language_info": {
   "codemirror_mode": {
    "name": "ipython",
    "version": 3
   },
   "file_extension": ".py",
   "mimetype": "text/x-python",
   "name": "python",
   "nbconvert_exporter": "python",
   "pygments_lexer": "ipython3",
   "version": "3.6.5"
  }
 },
 "nbformat": 4,
 "nbformat_minor": 2
}
