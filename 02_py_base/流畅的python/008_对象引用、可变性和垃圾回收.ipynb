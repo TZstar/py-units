{
 "cells": [
  {
   "cell_type": "markdown",
   "metadata": {},
   "source": [
    "# 8_对象引用、可变性和垃圾回收"
   ]
  },
  {
   "cell_type": "markdown",
   "metadata": {},
   "source": [
    "## 8.1 标识、相等性、别名\n",
    "\n",
    "- `is`: 储存地址相同；(扁平数据结构特殊：`[-5,256]` & `len(str) < 20`的字符例外)\n",
    "- `==`: 值相等。"
   ]
  },
  {
   "cell_type": "markdown",
   "metadata": {},
   "source": [
    "### 8.1.1 `is  ==`"
   ]
  },
  {
   "cell_type": "code",
   "execution_count": 43,
   "metadata": {},
   "outputs": [
    {
     "name": "stdout",
     "output_type": "stream",
     "text": [
      "a == b \t\t True\n",
      "a is b \t\t False\n",
      "a == c[3] \t True\n",
      "a is c[3] \t False\n",
      "id_a \t\t 2406173336104\n",
      "id_b \t\t 2406173338336\n",
      "id_c[3] \t 2406173338696\n"
     ]
    }
   ],
   "source": [
    "a = \"a\"*21\n",
    "b = \"a\"*21\n",
    "c = [1, 2, 3, \"a\"*21]\n",
    "\n",
    "print(f\"a == b \\t\\t {a==b}\")\n",
    "print(f\"a is b \\t\\t {a is b}\")\n",
    "print(f\"a == c[3] \\t {a==c[3]}\")\n",
    "print(f\"a is c[3] \\t {a is c[3]}\")\n",
    "print(f\"id_a \\t\\t {id(a)}\")\n",
    "print(f\"id_b \\t\\t {id(b)}\")\n",
    "print(f\"id_c[3] \\t {id(c[3])}\")"
   ]
  },
  {
   "cell_type": "code",
   "execution_count": 9,
   "metadata": {},
   "outputs": [
    {
     "name": "stdout",
     "output_type": "stream",
     "text": [
      "a == b \t True\n",
      "a is b \t False\n",
      "====================================================================================================\n",
      "a == b \t True\n",
      "a is b \t False\n",
      "a is c \t True\n",
      "a is d \t True\n",
      "====================================================================================================\n",
      "a == b \t True\n",
      "a is b \t False\n"
     ]
    }
   ],
   "source": [
    "# 列表 | 元组 | 字典\n",
    "a = [1, 2, 3, 4]\n",
    "b = [1, 2, 3, 4]\n",
    "print(f\"a == b \\t {a==b}\")\n",
    "print(f\"a is b \\t {a is b}\")\n",
    "\n",
    "print(\"=\"*100)\n",
    "\n",
    "a = (1, 2, 3, 4)\n",
    "b = (1, 2, 3, 4)\n",
    "c = tuple(a)\n",
    "d = a[:]\n",
    "print(f\"a == b \\t {a==b}\")\n",
    "print(f\"a is b \\t {a is b}\")\n",
    "print(f\"a is c \\t {a is c}\")  # 浅复制\n",
    "print(f\"a is d \\t {a is d}\")  # 浅复制\n",
    "\n",
    "\n",
    "print(\"=\"*100)\n",
    "\n",
    "a = {'a':1, 'b':2, 'c':3}\n",
    "b = {'a':1, 'b':2, 'c':3}\n",
    "print(f\"a == b \\t {a==b}\")\n",
    "print(f\"a is b \\t {a is b}\")"
   ]
  },
  {
   "cell_type": "markdown",
   "metadata": {},
   "source": [
    "### 8.2.2 元组的相对不可变性"
   ]
  },
  {
   "cell_type": "code",
   "execution_count": 53,
   "metadata": {},
   "outputs": [
    {
     "name": "stdout",
     "output_type": "stream",
     "text": [
      "a \t (1, 2, [30, 40])\n",
      "b \t (1, 2, [30, 40])\n",
      "a == b \t True\n",
      "a is b \t False\n",
      "====================================================================================================\n",
      "a \t (1, 2, [30, 40, 1])\n",
      "b \t (1, 2, [30, 40])\n",
      "a == b \t False\n",
      "a is b \t False\n",
      "====================================================================================================\n",
      "list====================================================================================================\n",
      "a == b \t True\n",
      "a is b \t False\n",
      "====================================================================================================\n",
      "a \t [1, 2, [30, 40, 1]]\n",
      "b \t [1, 2, [30, 40]]\n",
      "a == b \t False\n",
      "a is b \t False\n"
     ]
    }
   ],
   "source": [
    "a = (1, 2, [30, 40])\n",
    "b = (1, 2, [30, 40])\n",
    "print(f\"a \\t {a}\")\n",
    "print(f\"b \\t {b}\")\n",
    "print(f\"a == b \\t {a==b}\")\n",
    "print(f\"a is b \\t {a is b}\")\n",
    "\n",
    "print(\"=\"*100)\n",
    "\n",
    "a[-1].append(1)\n",
    "print(f\"a \\t {a}\")\n",
    "print(f\"b \\t {b}\")\n",
    "print(f\"a == b \\t {a==b}\")\n",
    "print(f\"a is b \\t {a is b}\")\n",
    "\n",
    "print(\"=\"*100)\n",
    "print(\"list\" + \"=\"*100)\n",
    "\n",
    "a = [1, 2, [30, 40]]\n",
    "b = [1, 2, [30, 40]]\n",
    "print(f\"a == b \\t {a==b}\")\n",
    "print(f\"a is b \\t {a is b}\")\n",
    "\n",
    "print(\"=\"*100)\n",
    "\n",
    "a[-1].append(1)\n",
    "print(f\"a \\t {a}\")\n",
    "print(f\"b \\t {b}\")\n",
    "print(f\"a == b \\t {a==b}\")\n",
    "print(f\"a is b \\t {a is b}\")"
   ]
  },
  {
   "cell_type": "code",
   "execution_count": 54,
   "metadata": {},
   "outputs": [
    {
     "name": "stdout",
     "output_type": "stream",
     "text": [
      "a \t (1, 2, [30, 40])\n",
      "b \t (1, 2, [30, 40])\n",
      "a == b \t True\n",
      "a is b \t False\n",
      "====================================================================================================\n",
      "a \t (1, 2, [30, 40, 1])\n",
      "b \t (1, 2, [30, 40, 1])\n",
      "a == b \t True\n",
      "a is b \t False\n",
      "====================================================================================================\n",
      "list====================================================================================================\n",
      "a == b \t True\n",
      "a is b \t False\n",
      "====================================================================================================\n",
      "a \t [1, 2, [30, 40, 1, 1]]\n",
      "b \t [1, 2, [30, 40, 1, 1]]\n",
      "a == b \t True\n",
      "a is b \t False\n"
     ]
    }
   ],
   "source": [
    "c = [30, 40]\n",
    "a = (1, 2, c)\n",
    "b = (1, 2, c)\n",
    "print(f\"a \\t {a}\")\n",
    "print(f\"b \\t {b}\")\n",
    "print(f\"a == b \\t {a==b}\")\n",
    "print(f\"a is b \\t {a is b}\")\n",
    "\n",
    "print(\"=\"*100)\n",
    "\n",
    "a[-1].append(1)\n",
    "print(f\"a \\t {a}\")\n",
    "print(f\"b \\t {b}\")\n",
    "print(f\"a == b \\t {a==b}\")\n",
    "print(f\"a is b \\t {a is b}\")\n",
    "\n",
    "print(\"=\"*100)\n",
    "print(\"list\" + \"=\"*100)\n",
    "\n",
    "a = [1, 2, c]\n",
    "b = [1, 2, c]\n",
    "print(f\"a == b \\t {a==b}\")\n",
    "print(f\"a is b \\t {a is b}\")\n",
    "\n",
    "print(\"=\"*100)\n",
    "\n",
    "a[-1].append(1)\n",
    "print(f\"a \\t {a}\")\n",
    "print(f\"b \\t {b}\")\n",
    "print(f\"a == b \\t {a==b}\")\n",
    "print(f\"a is b \\t {a is b}\")"
   ]
  },
  {
   "cell_type": "markdown",
   "metadata": {},
   "source": [
    "## 8.2 默认做浅复制\n",
    "\n",
    "- `http://www.pythontutor.com` 查看代码地址"
   ]
  },
  {
   "cell_type": "code",
   "execution_count": 62,
   "metadata": {},
   "outputs": [
    {
     "name": "stdout",
     "output_type": "stream",
     "text": [
      "a \t [1, 2, [30, 40]]\n",
      "b \t [1, 2, [30, 40]]\n",
      "a == b \t True\n",
      "a is b \t True\n",
      "====================================================================================================\n",
      "=> b = list(a)\n",
      "a \t [1, 2, [30, 40]]\n",
      "b \t [1, 2, [30, 40]]\n",
      "a == b \t True\n",
      "a is b \t False\n",
      "====================================================================================================\n",
      "=> b = a[:]\n",
      "a \t [1, 2, [30, 40]]\n",
      "b \t [1, 2, [30, 40]]\n",
      "a == b \t True\n",
      "a is b \t False\n",
      "====================================================================================================\n",
      "=> b = a[:] + a[-1].append(1)\n",
      "a \t [1, 2, [30, 40, 1]]\n",
      "b \t [1, 2, [30, 40, 1]]\n",
      "a == b \t True\n",
      "a is b \t False\n",
      "====================================================================================================\n",
      "=> b = a[:] + a[-1].remove(1)\n",
      "a \t [1, 2, [40]]\n",
      "b \t [1, 2, [40]]\n",
      "a == b \t True\n",
      "a is b \t False\n"
     ]
    }
   ],
   "source": [
    "a = [1, 2, [30, 40]]\n",
    "b = a\n",
    "print(f\"a \\t {a}\")\n",
    "print(f\"b \\t {b}\")\n",
    "print(f\"a == b \\t {a==b}\")\n",
    "print(f\"a is b \\t {a is b}\")\n",
    "\n",
    "print(\"=\"*100)\n",
    "print(\"=> b = list(a)\")\n",
    "\n",
    "a = [1, 2, [30, 40]]\n",
    "b = list(a)  # 浅复制\n",
    "print(f\"a \\t {a}\")\n",
    "print(f\"b \\t {b}\")\n",
    "print(f\"a == b \\t {a==b}\")\n",
    "print(f\"a is b \\t {a is b}\")\n",
    "\n",
    "\n",
    "print(\"=\"*100)\n",
    "print(\"=> b = a[:]\")\n",
    "\n",
    "a = [1, 2, [30, 40]]\n",
    "b = a[:]  # 浅复制\n",
    "print(f\"a \\t {a}\")\n",
    "print(f\"b \\t {b}\")\n",
    "print(f\"a == b \\t {a==b}\")\n",
    "print(f\"a is b \\t {a is b}\")\n",
    "\n",
    "\n",
    "print(\"=\"*100)\n",
    "print(\"=> b = a[:] + a[-1].append(1)\")\n",
    "\n",
    "a = [1, 2, [30, 40]]\n",
    "b = a[:]  # 浅复制\n",
    "a[-1].append(1)\n",
    "print(f\"a \\t {a}\")\n",
    "print(f\"b \\t {b}\")\n",
    "print(f\"a == b \\t {a==b}\")\n",
    "print(f\"a is b \\t {a is b}\")\n",
    "\n",
    "\n",
    "print(\"=\"*100)\n",
    "print(\"=> b = a[:] + a[-1].remove(1)\")\n",
    "\n",
    "a = [1, 2, [30, 40]]\n",
    "b = a[:]  # 浅复制\n",
    "a[-1].remove(30)\n",
    "print(f\"a \\t {a}\")\n",
    "print(f\"b \\t {b}\")\n",
    "print(f\"a == b \\t {a==b}\")\n",
    "print(f\"a is b \\t {a is b}\")"
   ]
  },
  {
   "cell_type": "markdown",
   "metadata": {},
   "source": [
    "### `copy` 模块"
   ]
  },
  {
   "cell_type": "code",
   "execution_count": 2,
   "metadata": {},
   "outputs": [],
   "source": [
    "class Bus:\n",
    "    def __init__(self, passengers=None):\n",
    "        if passengers is None:\n",
    "            self.passengers = []\n",
    "        else:\n",
    "            self.passengers = list(passengers)\n",
    "        \n",
    "    def pick(self, name):\n",
    "        self.passengers.append(name)\n",
    "        \n",
    "    def drop(self, name):\n",
    "        self.passengers.remove(name)"
   ]
  },
  {
   "cell_type": "code",
   "execution_count": 4,
   "metadata": {},
   "outputs": [
    {
     "name": "stdout",
     "output_type": "stream",
     "text": [
      "id(bus1) \t1371870551456\n",
      "id(bus2) \t1371870551568\n",
      "id(bus3) \t1371870549664\n",
      "bus1.passengers \t['a', 'b', 'c', 'd']\n",
      "bus2.passengers \t['a', 'b', 'c', 'd']\n",
      "bus3.passengers \t['a', 'b', 'c', 'd']\n",
      "====================================================================================================\n",
      "id(bus1) \t1371870551456\n",
      "id(bus2) \t1371870551568\n",
      "id(bus3) \t1371870549664\n",
      "bus1.passengers \t['b', 'c', 'd']\n",
      "bus2.passengers \t['b', 'c', 'd']\n",
      "bus3.passengers \t['a', 'b', 'c', 'd']\n"
     ]
    }
   ],
   "source": [
    "import copy\n",
    "\n",
    "bus1 = Bus(['a', 'b', 'c', 'd'])\n",
    "bus2 = copy.copy(bus1)\n",
    "bus3 = copy.deepcopy(bus1)\n",
    "\n",
    "print(f\"id(bus1) \\t{id(bus1)}\")\n",
    "print(f\"id(bus2) \\t{id(bus2)}\")\n",
    "print(f\"id(bus3) \\t{id(bus3)}\")\n",
    "print(f\"bus1.passengers \\t{bus1.passengers}\")\n",
    "print(f\"bus2.passengers \\t{bus2.passengers}\")\n",
    "print(f\"bus3.passengers \\t{bus3.passengers}\")\n",
    "\n",
    "print(\"=\"*100)\n",
    "bus1.drop('a')\n",
    "print(f\"id(bus1) \\t{id(bus1)}\")\n",
    "print(f\"id(bus2) \\t{id(bus2)}\")\n",
    "print(f\"id(bus3) \\t{id(bus3)}\")\n",
    "print(f\"bus1.passengers \\t{bus1.passengers}\")\n",
    "print(f\"bus2.passengers \\t{bus2.passengers}\")\n",
    "print(f\"bus3.passengers \\t{bus3.passengers}\")"
   ]
  },
  {
   "cell_type": "markdown",
   "metadata": {},
   "source": [
    "### 避免循环引用"
   ]
  },
  {
   "cell_type": "code",
   "execution_count": 6,
   "metadata": {},
   "outputs": [
    {
     "name": "stdout",
     "output_type": "stream",
     "text": [
      "a = [10, 20, [[...], 30]]\n",
      "c = [10, 20, [[...], 30]]\n"
     ]
    }
   ],
   "source": [
    "from copy import deepcopy\n",
    "a = [10, 20]\n",
    "b = [a, 30]\n",
    "a.append(b)\n",
    "print(f\"a = {a}\")\n",
    "\n",
    "c = deepcopy(a)\n",
    "print(f\"c = {c}\")"
   ]
  },
  {
   "cell_type": "markdown",
   "metadata": {},
   "source": [
    "## 8.3 函数的参数作为引用时"
   ]
  },
  {
   "cell_type": "code",
   "execution_count": 8,
   "metadata": {},
   "outputs": [
    {
     "name": "stdout",
     "output_type": "stream",
     "text": [
      "f(x, y) = 3 \n",
      "x = 1 \t y= 2\n",
      "====================================================================================================\n",
      "f(x, y) = [1, 2, 2, 4] \n",
      "x = [1, 2, 2, 4] \t y= [2, 4]\n",
      "====================================================================================================\n",
      "f(x, y) = (1, 2, 2, 4) \n",
      "x = (1, 2) \t y= (2, 4)\n"
     ]
    }
   ],
   "source": [
    "def f(a, b):\n",
    "    a += b\n",
    "    return a\n",
    "\n",
    "x = 1\n",
    "y = 2\n",
    "print(f\"f(x, y) = {f(x, y)} \\nx = {x} \\t y= {y}\")\n",
    "\n",
    "print(\"=\"*100)\n",
    "x = [1, 2]\n",
    "y = [2, 4]\n",
    "print(f\"f(x, y) = {f(x, y)} \\nx = {x} \\t y= {y}\")   # 列表 a 变了\n",
    "\n",
    "print(\"=\"*100)\n",
    "x = (1, 2)\n",
    "y = (2, 4)\n",
    "print(f\"f(x, y) = {f(x, y)} \\nx = {x} \\t y= {y}\")  # 元组 t 没变"
   ]
  },
  {
   "cell_type": "markdown",
   "metadata": {},
   "source": [
    "### 8.3.1 不要使用可变类型作为参数的默认值"
   ]
  },
  {
   "cell_type": "code",
   "execution_count": 21,
   "metadata": {},
   "outputs": [],
   "source": [
    "class HauntedBus:\n",
    "    def __init__(self, passengers=[]):\n",
    "        self.passengers = passengers\n",
    "        \n",
    "    def pick(self, name):\n",
    "        self.passengers.append(name)\n",
    "        \n",
    "    def drop(self, name):\n",
    "        self.passengers.remove(name)"
   ]
  },
  {
   "cell_type": "code",
   "execution_count": 22,
   "metadata": {},
   "outputs": [
    {
     "name": "stdout",
     "output_type": "stream",
     "text": [
      "bus1.passengers: ['a', 'b']\n",
      "bus1.passengers: ['a', 'b', 'c']\n",
      "bus1.passengers: ['b', 'c']\n",
      "====================================================================================================\n",
      "bus2.passengers: ['a']\n",
      "====================================================================================================\n",
      "bus3.passengers: ['a']\n",
      "bus3.passengers: ['a', 'b']\n",
      "bus2.passengers: ['a', 'b']\n"
     ]
    }
   ],
   "source": [
    "bus1 = HauntedBus(['a', 'b'])\n",
    "print(f\"bus1.passengers: {bus1.passengers}\")\n",
    "\n",
    "bus1.pick('c')\n",
    "print(f\"bus1.passengers: {bus1.passengers}\")\n",
    "\n",
    "bus1.drop('a')\n",
    "print(f\"bus1.passengers: {bus1.passengers}\")\n",
    "\n",
    "print(\"=\"*100)\n",
    "bus2 = HauntedBus()\n",
    "bus2.pick('a')\n",
    "print(f\"bus2.passengers: {bus2.passengers}\")\n",
    "\n",
    "print(\"=\"*100)\n",
    "bus3 = HauntedBus()\n",
    "print(f\"bus3.passengers: {bus3.passengers}\")\n",
    "bus3.pick('b')\n",
    "print(f\"bus3.passengers: {bus3.passengers}\")   # 使用相同的引用，共享同一个乘客列表\n",
    "print(f\"bus2.passengers: {bus2.passengers}\")   #"
   ]
  },
  {
   "cell_type": "code",
   "execution_count": 25,
   "metadata": {},
   "outputs": [
    {
     "name": "stdout",
     "output_type": "stream",
     "text": [
      "['__annotations__', '__call__', '__class__', '__closure__', '__code__', '__defaults__', '__delattr__', '__dict__', '__dir__', '__doc__', '__eq__', '__format__', '__ge__', '__get__', '__getattribute__', '__globals__', '__gt__', '__hash__', '__init__', '__init_subclass__', '__kwdefaults__', '__le__', '__lt__', '__module__', '__name__', '__ne__', '__new__', '__qualname__', '__reduce__', '__reduce_ex__', '__repr__', '__setattr__', '__sizeof__', '__str__', '__subclasshook__']\n",
      "====================================================================================================\n",
      "(['a', 'b'],)\n",
      "====================================================================================================\n",
      "True\n"
     ]
    }
   ],
   "source": [
    "print(dir(HauntedBus.__init__))\n",
    "print(\"=\"*100)\n",
    "print(HauntedBus.__init__.__defaults__)\n",
    "print(\"=\"*100)\n",
    "# 验证 bus2.passengers 是一个别名\n",
    "print(HauntedBus.__init__.__defaults__[0] is bus2.passengers)"
   ]
  },
  {
   "cell_type": "markdown",
   "metadata": {},
   "source": [
    "## 8.4 del和垃圾回收机制\n",
    "\n",
    "- `del` 删除名称，而不是对象，只有对象的引用为0后，才会被回收。\n",
    "\n",
    "- 垃圾回收机制：\n",
    "    1. 引用计数：python会自动删除引用次数为0的对象；\n",
    "    2. 标记-清除，解决容器对象可能产生的循环引用的问题；\n",
    "    3. 分代回收，以空间换取时间进一步提高垃圾回收的效率。  \n",
    "    [http://python.jobbole.com/82061/]"
   ]
  },
  {
   "cell_type": "code",
   "execution_count": 5,
   "metadata": {},
   "outputs": [
    {
     "name": "stdout",
     "output_type": "stream",
     "text": [
      "Goway ...\n",
      "True\n",
      "True\n",
      "Goway ...\n",
      "False\n"
     ]
    }
   ],
   "source": [
    "import weakref\n",
    "\n",
    "s1 = {1, 2, 3}\n",
    "s2 = s1\n",
    "\n",
    "def bye():\n",
    "    print('Goway ...')\n",
    "    \n",
    "ender = weakref.finalize(s1, bye)\n",
    "print(ender.alive)\n",
    "\n",
    "del s1\n",
    "print(ender.alive)\n",
    "\n",
    "s2 = 'spam'\n",
    "print(ender.alive)"
   ]
  },
  {
   "cell_type": "markdown",
   "metadata": {},
   "source": [
    "## 8.5 弱引用\n",
    "\n",
    "> 弱引用是可调用对象，返回的是被引用的对象；如果所指对象不存在了，返回None。"
   ]
  },
  {
   "cell_type": "code",
   "execution_count": 8,
   "metadata": {},
   "outputs": [
    {
     "name": "stdout",
     "output_type": "stream",
     "text": [
      "<weakref at 0x0000025905879DB8; to 'set' at 0x0000025904A60828>\n",
      "{0, 1}\n",
      "None\n",
      "True\n",
      "True\n"
     ]
    }
   ],
   "source": [
    "import weakref\n",
    "\n",
    "a_set = {0, 1}\n",
    "wref = weakref.ref(a_set)\n",
    "print(wref)\n",
    "\n",
    "# 调用\n",
    "print(wref())\n",
    "\n",
    "a_set = {2, 3, 4}\n",
    "print(wref())\n",
    "print(wref() is None)\n",
    "print(wref() is None)"
   ]
  },
  {
   "cell_type": "markdown",
   "metadata": {},
   "source": [
    "### 8.6.1 `WeakValueDictionary`"
   ]
  },
  {
   "cell_type": "code",
   "execution_count": null,
   "metadata": {},
   "outputs": [],
   "source": []
  }
 ],
 "metadata": {
  "kernelspec": {
   "display_name": "Python 3",
   "language": "python",
   "name": "python3"
  },
  "language_info": {
   "codemirror_mode": {
    "name": "ipython",
    "version": 3
   },
   "file_extension": ".py",
   "mimetype": "text/x-python",
   "name": "python",
   "nbconvert_exporter": "python",
   "pygments_lexer": "ipython3",
   "version": "3.6.5"
  }
 },
 "nbformat": 4,
 "nbformat_minor": 2
}
