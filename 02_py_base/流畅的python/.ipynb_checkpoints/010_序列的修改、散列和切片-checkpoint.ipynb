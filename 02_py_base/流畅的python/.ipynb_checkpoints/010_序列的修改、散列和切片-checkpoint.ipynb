{
 "cells": [
  {
   "cell_type": "markdown",
   "metadata": {},
   "source": [
    "# 10_序列的修改、散列和切片"
   ]
  },
  {
   "cell_type": "markdown",
   "metadata": {},
   "source": [
    "- `gensim`: 使用 numpy 和 scipy 实现了用于处理自然语言和检索信息的向量空间模型。\n",
    "- `reprlib`：生成有限长度的表现形式。"
   ]
  },
  {
   "cell_type": "code",
   "execution_count": 17,
   "metadata": {},
   "outputs": [],
   "source": [
    "###### from math import sqrt\n",
    "from array import array\n",
    "import reprlib\n",
    "import numbers\n",
    "import functools\n",
    "\n",
    "class Vector:\n",
    "    \"\"\" 多维向量 \"\"\"\n",
    "    typecode = 'd'\n",
    "    shortcut_names = 'xyzt'\n",
    "    \n",
    "    def __init__(self, components):\n",
    "        self._components = array(self.typecode, components)\n",
    "    \n",
    "    def __repr__(self):\n",
    "        \"\"\" 使用 reprlib 显示有限长度的输出 \"\"\"\n",
    "        components = reprlib.repr(self._components)\n",
    "        components = components[components.find('['):-1]\n",
    "        return \"Vector({})\".format(components)\n",
    "    \n",
    "    def __str__(self):\n",
    "        return str(tuple(self))\n",
    "    \n",
    "    def __format__(self, fmt_spec=''):\n",
    "        if fmt_spec.endswith('p'):\n",
    "            fmt_spec = fmt_spec[:-1]\n",
    "            coords = (abs(self), self.angle())\n",
    "            outer_fmt = '<{}, {}>'\n",
    "        else:\n",
    "            coords = self\n",
    "            outer_fmt = '({}, {})'\n",
    "        components = (format(c, fmt_spec) for c in coords)\n",
    "        return \"({}, {})\".format(*components)\n",
    "        \n",
    "    def __bytes__(self):\n",
    "        return (bytes([ord(self.typecode)]) + bytes(self._components))\n",
    "        \n",
    "    def __iter__(self):\n",
    "        return iter(self._components)\n",
    "    \n",
    "    def __hash__(self):\n",
    "        # hashes = (hash(x) for x in self._components)\n",
    "        hashes = map(hash, self._components)\n",
    "        return functools.reduce(operator.xor, hashes, 0)\n",
    "    \n",
    "    def __abs__(self):\n",
    "        \"\"\" Return the Euclidean distance, sqrt(x*x + y*y). \"\"\"\n",
    "        return sqrt(sum(x*x for x in self))\n",
    "        \n",
    "    def __bool__(self):\n",
    "        return bool(abs(self))\n",
    "    \n",
    "    def __eq__(self, other):\n",
    "        if isinstance(other, Vector):\n",
    "            # 方案1\n",
    "            if len(self) != len(other):\n",
    "                return False\n",
    "            for a,b in zip(self, other):\n",
    "                if a != b:\n",
    "                    return False\n",
    "            # 方案2, 采用 all + zip\n",
    "            # return len(self) == len(other) and all(a == b for a, b in zip(self, other))\n",
    "        else:\n",
    "            raise ValueError(\"obj is not Vector obj!\")\n",
    "    \n",
    "#     def __add__(self, other):\n",
    "#         x = self.x + other.x\n",
    "#         y = self.y + other.y\n",
    "#         return Vector(x, y)\n",
    "    \n",
    "#     def __mul__(self, scalar):\n",
    "#         return Vector(self.x * scalar, self.y * scalar)\n",
    "    \n",
    "#     def angle(self):\n",
    "#         return atan2(self.y, self.x)\n",
    "    \n",
    "    @classmethod\n",
    "    def frombytes(cls, octests):\n",
    "        typecode = chr(octests[0])\n",
    "        memv = memoryview(octests[1:]).cast(typecode)\n",
    "        return cls(memv)\n",
    "    \n",
    "    # 可切片序列\n",
    "    def __len__(self):\n",
    "        return len(self._components)\n",
    "    \n",
    "    def __getitem__(self, index):\n",
    "        \"\"\" 可接受 index \"\"\"\n",
    "        cls = type(self)\n",
    "        if isinstance(index, slice):\n",
    "            return cls(self._components[index])\n",
    "        elif isinstance(index, numbers.Integral):\n",
    "            return self._components[index]\n",
    "        else:\n",
    "            msg = '{cls.__name__} indices must be integers'\n",
    "            raise TypeError(msg.format(cls=cls))\n",
    "            \n",
    "    # 动态存储属性\n",
    "    def __getattr__(self, name):\n",
    "        cls = type(self)\n",
    "        if len(name) == 1:\n",
    "            pos =cls.shortcut_names.find(name)\n",
    "            if 0 <= pos < len(self._components):\n",
    "                return self._components[pos]\n",
    "        msg = '{.__name__!r} obj has no attribute {!r}'\n",
    "        raise AttributeError(msg.format(cls, name))\n",
    "        \n",
    "    def __setattr__(self, name, value):\n",
    "        cls = type(self)\n",
    "#         if len(name) == 1:\n",
    "#             # 判断属性名是否包含在shortcut_names\n",
    "#             if name in cls.shortcut_names:\n",
    "#                 error = \"\"\n",
    "#                 # error = \"readonly attribute {attr_name!r}\"\n",
    "#             # 属性名小写\n",
    "#             elif name.islower():\n",
    "#                 error = \"can't set attributes 'a' to 'z' in {cls_name!r}\"\n",
    "#             else:\n",
    "#                 error = ''\n",
    "#             if error:\n",
    "#                 msg = error.format(cls_name=cls.__name__, attr_name=name)\n",
    "#                 raise AttributeError(msg)\n",
    "        super().__setattr__(name, value)"
   ]
  },
  {
   "cell_type": "code",
   "execution_count": 2,
   "metadata": {},
   "outputs": [
    {
     "name": "stdout",
     "output_type": "stream",
     "text": [
      "[0, 1, 2, 3, 4, 5, ...]\n",
      "0\n"
     ]
    },
    {
     "data": {
      "text/plain": [
       "True"
      ]
     },
     "execution_count": 2,
     "metadata": {},
     "output_type": "execute_result"
    }
   ],
   "source": [
    "# 测试\n",
    "import reprlib\n",
    "lst = [x for x in range(100)]\n",
    "lst = reprlib.repr(lst)\n",
    "print(lst)\n",
    "print(lst.find('['))\n",
    "lst1 = lst[lst.find('['):-1]\n",
    "lst1\n",
    "\n",
    "s = 'asd'\n",
    "s.islower()"
   ]
  },
  {
   "cell_type": "code",
   "execution_count": 3,
   "metadata": {},
   "outputs": [
    {
     "name": "stdout",
     "output_type": "stream",
     "text": [
      "len(v1) \t 10\n",
      "v1[0] \t\t 0.0\n",
      "v1[:2] \t\t (0.0, 1.0)\n",
      "v1[1:3] \t (1.0, 2.0)\n",
      "Error: Vector indices must be integers\n"
     ]
    },
    {
     "data": {
      "text/plain": [
       "Vector([1.0, 2.0, 3.0, 4.0, 5.0, ...])"
      ]
     },
     "execution_count": 3,
     "metadata": {},
     "output_type": "execute_result"
    }
   ],
   "source": [
    "# 切片示意\n",
    "v1 = Vector(range(10))\n",
    "print(f\"len(v1) \\t {len(v1)}\")\n",
    "print(f\"v1[0] \\t\\t {v1[0]}\")\n",
    "print(f\"v1[:2] \\t\\t {v1[:2]}\")\n",
    "print(f\"v1[1:3] \\t {v1[1:3]}\")\n",
    "try:\n",
    "    print(f\"v1[1,2] \\t {v1[1,2]}\")\n",
    "except Exception as e:\n",
    "    print(f\"Error: {e}\")\n",
    "\n",
    "v1[1:7]"
   ]
  },
  {
   "cell_type": "code",
   "execution_count": 4,
   "metadata": {},
   "outputs": [
    {
     "name": "stdout",
     "output_type": "stream",
     "text": [
      "v \t (0.0, 1.0)\n",
      "v.x \t 0.0\n",
      "v.x \t 10\n",
      "v \t (0.0, 1.0)\n"
     ]
    }
   ],
   "source": [
    "# 动态存储属性\n",
    "v = Vector(range(5))\n",
    "print(f\"v \\t {v}\")\n",
    "print(f\"v.x \\t {v.x}\")\n",
    "\n",
    "v.x = 10\n",
    "print(f\"v.x \\t {v.x}\")\n",
    "print(f\"v \\t {v}\")"
   ]
  },
  {
   "cell_type": "markdown",
   "metadata": {},
   "source": [
    "## 10.1 协议和鸭子类型\n",
    "\n",
    "- 协议：不强制要求，可以实现部分方法即可。\n",
    "- 鸭子类型：\n",
    "- Python 协议：\n",
    "    * 序列协议： `__len__` | `__getitem__` | `__setitem__`(支持 `v[0]=1` 赋值) ；\n",
    "    * 动态属性：`__getattr__` | `__setattr__` | `__delattr__`；"
   ]
  },
  {
   "cell_type": "code",
   "execution_count": 5,
   "metadata": {},
   "outputs": [],
   "source": [
    "import collections\n",
    "\n",
    "Card = collections.namedtuple('Card', ['rank', 'suit'])\n",
    "\n",
    "class FrenchDeck:\n",
    "    ranks = [str(n) for n in range(2, 11)] + list('JQKA')\n",
    "    suits = 'spades diamonds clubs hearts'.split()\n",
    "    \n",
    "    def __init__(self):\n",
    "        self._cards = [Card(rank, suit) \n",
    "                       for suit in self.suits \n",
    "                       for rank in self.ranks]\n",
    "    \n",
    "    def __len__(self):\n",
    "        return len(self._cards)\n",
    "    \n",
    "    def __getitem__(self, position):\n",
    "        return self._cards[position]"
   ]
  },
  {
   "cell_type": "code",
   "execution_count": 6,
   "metadata": {},
   "outputs": [
    {
     "name": "stdout",
     "output_type": "stream",
     "text": [
      "len(card) \t 52\n",
      "card[10] \t Card(rank='Q', suit='spades')\n",
      "card[10:12] \t [Card(rank='Q', suit='spades'), Card(rank='K', suit='spades')]\n"
     ]
    }
   ],
   "source": [
    "card = FrenchDeck()\n",
    "print(f\"len(card) \\t {len(card)}\")\n",
    "print(f\"card[10] \\t {card[10]}\")\n",
    "print(f\"card[10:12] \\t {card[10:12]}\")"
   ]
  },
  {
   "cell_type": "code",
   "execution_count": null,
   "metadata": {},
   "outputs": [],
   "source": []
  },
  {
   "cell_type": "markdown",
   "metadata": {},
   "source": [
    "## 10.2 切片原理"
   ]
  },
  {
   "cell_type": "code",
   "execution_count": 7,
   "metadata": {},
   "outputs": [],
   "source": [
    "class MySeq:\n",
    "    def __getitem__(self, index):\n",
    "        return index"
   ]
  },
  {
   "cell_type": "code",
   "execution_count": 8,
   "metadata": {},
   "outputs": [
    {
     "name": "stdout",
     "output_type": "stream",
     "text": [
      "s[1] \t 1\n",
      "s[1:3] \t slice(1, 3, None)\n",
      "s[1:3:2] \t slice(1, 3, 2)\n",
      "s[1:3:2, 9] \t (slice(1, 3, 2), 9)\n",
      "s[1:3:2, 7:9] \t (slice(1, 3, 2), slice(7, 9, None))\n"
     ]
    }
   ],
   "source": [
    "s = MySeq()\n",
    "print(f\"s[1] \\t {s[1]}\")\n",
    "print(f\"s[1:3] \\t {s[1:3]}\")\n",
    "print(f\"s[1:3:2] \\t {s[1:3:2]}\")\n",
    "print(f\"s[1:3:2, 9] \\t {s[1:3:2, 9]}\")\n",
    "print(f\"s[1:3:2, 7:9] \\t {s[1:3:2, 7:9]}\")"
   ]
  },
  {
   "cell_type": "code",
   "execution_count": 9,
   "metadata": {},
   "outputs": [
    {
     "name": "stdout",
     "output_type": "stream",
     "text": [
      "s[1] \t\t 1\n",
      "s[1:3] \t\t [1, 2]\n",
      "s[1:3:2] \t [1]\n",
      "Error: list indices must be integers or slices, not tuple\n"
     ]
    }
   ],
   "source": [
    "# 列表测试\n",
    "s = [i for i in range(10)]\n",
    "print(f\"s[1] \\t\\t {s[1]}\")\n",
    "print(f\"s[1:3] \\t\\t {s[1:3]}\")\n",
    "print(f\"s[1:3:2] \\t {s[1:3:2]}\")\n",
    "try:\n",
    "    print(f\"s[1:3:2, 9] \\t {s[1:3:2, 9]}\")\n",
    "    print(f\"s[1:3:2, 7:9] \\t {s[1:3:2, 7:9]}\")\n",
    "except Exception as e:\n",
    "    print(f\"Error: {e}\")"
   ]
  },
  {
   "cell_type": "code",
   "execution_count": 10,
   "metadata": {},
   "outputs": [
    {
     "name": "stdout",
     "output_type": "stream",
     "text": [
      "slice \t <class 'slice'>\n",
      "dir(slice) \n",
      " ['__class__', '__delattr__', '__dir__', '__doc__', '__eq__', '__format__', '__ge__', '__getattribute__', '__gt__', '__hash__', '__init__', '__init_subclass__', '__le__', '__lt__', '__ne__', '__new__', '__reduce__', '__reduce_ex__', '__repr__', '__setattr__', '__sizeof__', '__str__', '__subclasshook__', 'indices', 'start', 'step', 'stop']\n",
      "slice.indices \t <method 'indices' of 'slice' objects>\n",
      "slice(None, 10, 2).indices(5) \t (0, 5, 2)\n",
      "slice(-3, None, None).indices(5) \t (2, 5, 1)\n"
     ]
    }
   ],
   "source": [
    "print(f\"slice \\t {slice}\")\n",
    "print(f\"dir(slice) \\n {dir(slice)}\")\n",
    "print(f\"slice.indices \\t {slice.indices}\")\n",
    "\n",
    "print(f\"slice(None, 10, 2).indices(5) \\t {slice(None, 10, 2).indices(5)}\")\n",
    "print(f\"slice(-3, None, None).indices(5) \\t {slice(-3, None, None).indices(5)}\")"
   ]
  },
  {
   "cell_type": "markdown",
   "metadata": {},
   "source": [
    "## 10.3 散列和快速等值测试"
   ]
  },
  {
   "cell_type": "markdown",
   "metadata": {},
   "source": [
    "### 归约函数\n",
    "- reduce\n",
    "    * `reduce(fn, lst, initializer)`,其中 fn 接受两个参数\n",
    "        * 如果 lst 为空，可能会报 TypeError: reduce() of empty sequence with no initial value;\n",
    "        * initializer，lst 为空时，返回的结果值；对 `+` | `|` | `^`，为0； `*` | `&`, 为1；\n",
    "    * 执行原理：\n",
    "        > -> `r1 = fn(lst[0],lst[1])`  \n",
    "        > -> `r2 = fn(r1,lst[2])`  \n",
    "        > -> `r3 = fn(r2,lst[3])`  \n",
    "        > -> ...  \n",
    "        > -> `rn = fn(r(n-1),lst[n])`   \n",
    "        > -> 返回 `rn` \n",
    "- sum\n",
    "- all\n",
    "- any"
   ]
  },
  {
   "cell_type": "code",
   "execution_count": 12,
   "metadata": {},
   "outputs": [
    {
     "data": {
      "text/plain": [
       "120"
      ]
     },
     "execution_count": 12,
     "metadata": {},
     "output_type": "execute_result"
    }
   ],
   "source": [
    "# 利用 reduce 计算阶乘\n",
    "import functools\n",
    "res = functools.reduce(lambda a,b:a*b, range(1, 6))\n",
    "res"
   ]
  },
  {
   "cell_type": "markdown",
   "metadata": {},
   "source": [
    "### 位运算符\n",
    "\n",
    "- `&`: 按位与运算符\n",
    "    * 参与运算的两个值,如果两个相应位都为1,则该位的结果为1,否则为0\t\n",
    "    * (a & b) 输出结果 12 ，二进制解释： 0000 1100\n",
    "- `|`: 按位或运算符\n",
    "    * 只要对应的二个二进位有一个为1时，结果位就为1\t\n",
    "    * (a | b) 输出结果 61 ，二进制解释： 0011 1101\n",
    "- `^`: 按位异或运算符\n",
    "    * 当两对应的二进位相异时，结果为1\t\n",
    "    * (a ^ b) 输出结果 49 ，二进制解释： 0011 0001\n",
    "- `~`: 按位取反运算符\n",
    "    * 对数据的每个二进制位取反,即把1变为0,把0变为1\t\n",
    "    * (~a ) 输出结果 -61 ，二进制解释： 1100 0011， 在一个有符号二进制数的补码形式。\n",
    "- `<<`: 左移动运算符\n",
    "    * 运算数的各二进位全部左移若干位，由`<<`右边的数指定移动的位数，高位丢弃，低位补0\t\n",
    "    * a << 2 输出结果 240 ，二进制解释： 1111 0000\n",
    "- `>>`: 右移动运算符\n",
    "    * 把 `>>` 左边的运算数的各二进位全部右移若干位，`>>`右边的数指定移动的位数\t\n",
    "    * a >> 2 输出结果 15 ，二进制解释： 0000 1111"
   ]
  },
  {
   "cell_type": "code",
   "execution_count": 13,
   "metadata": {},
   "outputs": [
    {
     "data": {
      "text/plain": [
       "1"
      ]
     },
     "execution_count": 13,
     "metadata": {},
     "output_type": "execute_result"
    }
   ],
   "source": [
    "# 计算累计 异或^\n",
    "n = 0\n",
    "for i in range(1, 6):\n",
    "    n ^= i\n",
    "n"
   ]
  },
  {
   "cell_type": "code",
   "execution_count": 14,
   "metadata": {},
   "outputs": [
    {
     "data": {
      "text/plain": [
       "1"
      ]
     },
     "execution_count": 14,
     "metadata": {},
     "output_type": "execute_result"
    }
   ],
   "source": [
    "# 使用 lambda + reduce\n",
    "import functools\n",
    "res = functools.reduce(lambda a,b:a^b, range(6))\n",
    "res"
   ]
  },
  {
   "cell_type": "code",
   "execution_count": 16,
   "metadata": {},
   "outputs": [
    {
     "data": {
      "text/plain": [
       "1"
      ]
     },
     "execution_count": 16,
     "metadata": {},
     "output_type": "execute_result"
    }
   ],
   "source": [
    "# 使用 operator + reduce\n",
    "import functools\n",
    "import operator\n",
    "res = functools.reduce(operator.xor, range(6))\n",
    "res"
   ]
  },
  {
   "cell_type": "markdown",
   "metadata": {},
   "source": [
    "- `zip` "
   ]
  },
  {
   "cell_type": "code",
   "execution_count": 7,
   "metadata": {},
   "outputs": [
    {
     "name": "stdout",
     "output_type": "stream",
     "text": [
      "zip(range(3), 'ABC') \t\t\t\t\t <zip object at 0x000001F037213BC8>\n",
      "list(zip(range(3), 'ABC')) \t\t\t\t [(0, 'A'), (1, 'B'), (2, 'C')]\n",
      "list(zip(range(3), 'ABC', [0.0, 1.1, 2.2, 3.3])) \t [(0, 'A', 0.0), (1, 'B', 1.1), (2, 'C', 2.2)]\n"
     ]
    },
    {
     "data": {
      "text/plain": [
       "[(0, 'A', 0.0), (1, 'B', 1.1), (2, 'C', 2.2), (-1, -1, 3.3)]"
      ]
     },
     "execution_count": 7,
     "metadata": {},
     "output_type": "execute_result"
    }
   ],
   "source": [
    "print(f\"zip(range(3), 'ABC') \\t\\t\\t\\t\\t {zip(range(3), 'ABC')}\")\n",
    "print(f\"list(zip(range(3), 'ABC')) \\t\\t\\t\\t {list(zip(range(3), 'ABC'))}\")\n",
    "print(f\"list(zip(range(3), 'ABC', [0.0, 1.1, 2.2, 3.3])) \\t {list(zip(range(3), 'ABC', [0.0, 1.1, 2.2, 3.3]))}\")  # 按照最短的组合\n",
    "\n",
    "from itertools import zip_longest\n",
    "list(zip_longest(range(3), 'ABC', [0.0, 1.1, 2.2, 3.3], fillvalue=-1))  # 按照最长的组合，不足的补0"
   ]
  },
  {
   "cell_type": "code",
   "execution_count": null,
   "metadata": {},
   "outputs": [],
   "source": []
  },
  {
   "cell_type": "code",
   "execution_count": null,
   "metadata": {},
   "outputs": [],
   "source": []
  },
  {
   "cell_type": "code",
   "execution_count": null,
   "metadata": {},
   "outputs": [],
   "source": []
  },
  {
   "cell_type": "code",
   "execution_count": null,
   "metadata": {},
   "outputs": [],
   "source": []
  }
 ],
 "metadata": {
  "kernelspec": {
   "display_name": "Python 3",
   "language": "python",
   "name": "python3"
  },
  "language_info": {
   "codemirror_mode": {
    "name": "ipython",
    "version": 3
   },
   "file_extension": ".py",
   "mimetype": "text/x-python",
   "name": "python",
   "nbconvert_exporter": "python",
   "pygments_lexer": "ipython3",
   "version": "3.6.5"
  }
 },
 "nbformat": 4,
 "nbformat_minor": 2
}
