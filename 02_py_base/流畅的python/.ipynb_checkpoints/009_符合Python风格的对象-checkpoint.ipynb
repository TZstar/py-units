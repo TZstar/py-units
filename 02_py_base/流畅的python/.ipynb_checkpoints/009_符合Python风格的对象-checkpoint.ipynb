{
 "cells": [
  {
   "cell_type": "raw",
   "metadata": {},
   "source": [
    "# 9_符合python风格的对象"
   ]
  },
  {
   "cell_type": "markdown",
   "metadata": {},
   "source": [
    "## 9.1 对象表现形式"
   ]
  },
  {
   "cell_type": "markdown",
   "metadata": {},
   "source": [
    "- `__repr__`\n",
    "- `__str__`\n",
    "- `__format__`\n",
    "- `__bytes__`"
   ]
  },
  {
   "cell_type": "markdown",
   "metadata": {},
   "source": [
    "## 9.2  案例：向量类"
   ]
  },
  {
   "cell_type": "code",
   "execution_count": 22,
   "metadata": {},
   "outputs": [],
   "source": [
    "from math import hypot, atan2\n",
    "from array import array\n",
    "\n",
    "class Vector:\n",
    "    typecode = 'd'\n",
    "    \n",
    "    def __init__(self, x=0, y=0):\n",
    "        self.__x = float(x)\n",
    "        self.__y = float(y)\n",
    "        \n",
    "    @property\n",
    "    def x(self):\n",
    "        return self.__x\n",
    "    \n",
    "    @property\n",
    "    def y(self):\n",
    "        return self.__y\n",
    "    \n",
    "    def __repr__(self):\n",
    "        class_name = type(self).__name__\n",
    "        return \"{}({!r}, {!r})\".format(class_name, *self)\n",
    "    \n",
    "    def __str__(self):\n",
    "        return str(tuple(self))\n",
    "    \n",
    "    def __format__(self, fmt_spec=''):\n",
    "        if fmt_spec.endswith('p'):\n",
    "            fmt_spec = fmt_spec[:-1]\n",
    "            coords = (abs(self), self.angle())\n",
    "            outer_fmt = '<{}, {}>'\n",
    "        else:\n",
    "            coords = self\n",
    "            outer_fmt = '({}, {})'\n",
    "        components = (format(c, fmt_spec) for c in coords)\n",
    "        return \"({}, {})\".format(*components)\n",
    "        \n",
    "    def __bytes__(self):\n",
    "        return (bytes([ord(self.typecode)]) + bytes(array(self.typecode, self)))\n",
    "        \n",
    "    def __iter__(self):\n",
    "        return (i for i in (self.x, self.y))\n",
    "    \n",
    "    def __hash__(self):\n",
    "        return hash(self.x) ^ hash(self.y)\n",
    "    \n",
    "    def __abs__(self):\n",
    "        \"\"\" Return the Euclidean distance, sqrt(x*x + y*y). \"\"\"\n",
    "        return hypot(self.x, self.y)\n",
    "        \n",
    "    def __bool__(self):\n",
    "        return bool(abs(self))\n",
    "    \n",
    "    def __eq__(self, other):\n",
    "        if isinstance(other, Vector):\n",
    "            return tuple(self) == tuple(other)\n",
    "        else:\n",
    "            raise ValueError(\"obj is not Vector obj!\")\n",
    "    \n",
    "    def __add__(self, other):\n",
    "        x = self.x + other.x\n",
    "        y = self.y + other.y\n",
    "        return Vector(x, y)\n",
    "    \n",
    "    def __mul__(self, scalar):\n",
    "        return Vector(self.x * scalar, self.y * scalar)\n",
    "    \n",
    "    def angle(self):\n",
    "        return atan2(self.y, self.x)\n",
    "    \n",
    "    "
   ]
  },
  {
   "cell_type": "code",
   "execution_count": 24,
   "metadata": {},
   "outputs": [
    {
     "name": "stdout",
     "output_type": "stream",
     "text": [
      "v1.x=3.0, v1.y=4.0\n",
      "v1 = (3.0, 4.0)\n",
      "x=3.0, y=4.0\n",
      "v1_clone = (3.0, 4.0)\n",
      "v1 == v1_clone \t True\n",
      "octets = b'd\\x00\\x00\\x00\\x00\\x00\\x00\\x08@\\x00\\x00\\x00\\x00\\x00\\x00\\x10@'\n",
      "abs(v1) = 5.0\n",
      "bool(v1) = True\n",
      "bool(Vector(0,0)) = False\n"
     ]
    },
    {
     "data": {
      "text/plain": [
       "Vector(3.0, 4.0)"
      ]
     },
     "execution_count": 24,
     "metadata": {},
     "output_type": "execute_result"
    }
   ],
   "source": [
    "v1 = Vector(3, 4)\n",
    "print(f\"v1.x={v1.x}, v1.y={v1.y}\")\n",
    "print(f\"v1 = {v1}\")\n",
    "\n",
    "x, y = v1\n",
    "print(f\"x={x}, y={y}\")\n",
    "\n",
    "v1_clone = eval(repr(v1))\n",
    "print(f\"v1_clone = {v1_clone}\")\n",
    "print(f\"v1 == v1_clone \\t {v1 == v1_clone}\")\n",
    "\n",
    "octets = bytes(v1)\n",
    "print(f\"octets = {octets}\")\n",
    "\n",
    "print(f\"abs(v1) = {abs(v1)}\")\n",
    "print(f\"bool(v1) = {bool(v1)}\")\n",
    "print(f\"bool(Vector(0,0)) = {bool(Vector(0,0))}\")\n",
    "\n",
    "array(v1.typecode,v1)\n",
    "bytes(array(v1.typecode,v1))\n",
    "v1"
   ]
  },
  {
   "cell_type": "markdown",
   "metadata": {},
   "source": [
    "## 9.3 `classmethod` 和 `staticmethod`\n",
    "- `method`:\n",
    "    * 通过实例调用时，可以引用类内部的任何属性和方法。\n",
    "    \n",
    "- `classmethod`: \n",
    "    * 操作类方法，不需要实例化可调用； \n",
    "    * 第一个参数为 `cls`；\n",
    "    * 可以取到类的属性和方法；无法取到普通实例的属性和方法。\n",
    "    \n",
    "- `staticmethod`: \n",
    "    * 静态方法；\n",
    "    * 类调用和实例调用，都无法取到类内部的属性和方法。"
   ]
  },
  {
   "cell_type": "code",
   "execution_count": 36,
   "metadata": {},
   "outputs": [
    {
     "name": "stdout",
     "output_type": "stream",
     "text": [
      "123\n",
      "456\n",
      "i am a method\n",
      "i am a classmethod\n",
      "i am a staticmethod\n",
      "123\n",
      "Error: type object 'Test' has no attribute 'y'\n",
      "Error: foo3() missing 1 required positional argument: 'obj'\n"
     ]
    }
   ],
   "source": [
    "class Test(object):\n",
    "    x = 123\n",
    "\n",
    "    def __init__(self):\n",
    "        self.y = 456\n",
    "\n",
    "    def bar1(self):\n",
    "        print('i am a method')\n",
    "\n",
    "    @classmethod\n",
    "    def bar2(cls):\n",
    "        print('i am a classmethod')\n",
    "\n",
    "    @staticmethod\n",
    "    def bar3():\n",
    "        print('i am a staticmethod')\n",
    "\n",
    "    def foo1(self):\n",
    "        print(self.x)\n",
    "        print(self.y)\n",
    "        self.bar1()\n",
    "        self.bar2()\n",
    "        self.bar3()\n",
    "\n",
    "    @classmethod\n",
    "    def foo2(cls):\n",
    "        print(cls.x)\n",
    "        print(cls.y)\n",
    "        cls.bar1()\n",
    "        Test.bar2()\n",
    "        Test.bar3()\n",
    "\n",
    "    @staticmethod\n",
    "    def foo3(obj):\n",
    "        print(obj.x)\n",
    "        print(obj.y)\n",
    "        obj.bar1()\n",
    "        obj.bar2()\n",
    "        obj.bar3()\n",
    "\n",
    "t = Test()\n",
    "t.foo1()  # 普通方法\n",
    "\n",
    "# 类方法，无需实例化，可以取到类方法和属性\n",
    "try:\n",
    "    t.foo2()  \n",
    "except Exception as e:\n",
    "    print(f\"Error: {e}\")\n",
    "    \n",
    "# 静态方法，无法取到属性和方法\n",
    "try:\n",
    "    t.foo3()  \n",
    "except Exception as e:\n",
    "    print(f\"Error: {e}\")"
   ]
  },
  {
   "cell_type": "markdown",
   "metadata": {},
   "source": [
    "## 9.4 格式化显示\n",
    "\n",
    "- `format(my_obj, format_spec)`\n",
    "- `str.format()`, 格式化字符串，`｛name:format_spec｝`"
   ]
  },
  {
   "cell_type": "code",
   "execution_count": 44,
   "metadata": {},
   "outputs": [
    {
     "name": "stdout",
     "output_type": "stream",
     "text": [
      "0.4115226337448559\n",
      "  0.41\n",
      "  0.41\n"
     ]
    }
   ],
   "source": [
    "brl = 1/2.43\n",
    "print(brl)\n",
    "print(f\"{brl:6.2f}\")\n",
    "print(\"{brl:6.2f}\".format(brl=brl))"
   ]
  },
  {
   "cell_type": "markdown",
   "metadata": {},
   "source": [
    "- `format()`"
   ]
  },
  {
   "cell_type": "code",
   "execution_count": 46,
   "metadata": {},
   "outputs": [
    {
     "name": "stdout",
     "output_type": "stream",
     "text": [
      "101010\n",
      "66.7%\n"
     ]
    }
   ],
   "source": [
    "print(format(42, 'b'))\n",
    "print(format(2/3, '.1%'))"
   ]
  },
  {
   "cell_type": "code",
   "execution_count": 6,
   "metadata": {},
   "outputs": [
    {
     "name": "stdout",
     "output_type": "stream",
     "text": [
      "now \t 2018-06-29 09:23:28.906491\n",
      "now \t 09:23:28\n"
     ]
    }
   ],
   "source": [
    "from datetime import datetime\n",
    "now = datetime.now()\n",
    "print(f\"now \\t {now}\")\n",
    "print(f\"now \\t {now:%H:%M:%S}\")"
   ]
  },
  {
   "cell_type": "code",
   "execution_count": 18,
   "metadata": {},
   "outputs": [
    {
     "name": "stdout",
     "output_type": "stream",
     "text": [
      "(3.0, 4.0)\n",
      "(3.000, 4.000)\n"
     ]
    }
   ],
   "source": [
    "v1 = Vector(3, 4)\n",
    "print(format(v1))\n",
    "try:\n",
    "    print(format(v1, '.3f'))   # 只有定义 __format__ 函数之后，才能生效；否则会报错\n",
    "except Exception as e:\n",
    "    print(f\"Error: {e}\")"
   ]
  },
  {
   "cell_type": "code",
   "execution_count": null,
   "metadata": {},
   "outputs": [],
   "source": []
  }
 ],
 "metadata": {
  "kernelspec": {
   "display_name": "Python 3",
   "language": "python",
   "name": "python3"
  },
  "language_info": {
   "codemirror_mode": {
    "name": "ipython",
    "version": 3
   },
   "file_extension": ".py",
   "mimetype": "text/x-python",
   "name": "python",
   "nbconvert_exporter": "python",
   "pygments_lexer": "ipython3",
   "version": "3.6.5"
  }
 },
 "nbformat": 4,
 "nbformat_minor": 2
}
