{
 "cells": [
  {
   "cell_type": "markdown",
   "metadata": {},
   "source": [
    "# 12_继承的优缺点"
   ]
  },
  {
   "cell_type": "markdown",
   "metadata": {},
   "source": [
    "## 12.1 子类化内置类型很麻烦\n",
    "\n",
    "- 直接子类化内置类型(dict, list, str) 容易出错，内置方法通常会忽略用户覆盖的方法。\n",
    "- 用户自定义的类应继承 collections 模块中的 `UserDict, UserList, UserString`,易于拓展。\n",
    "- 内置类型为C语言实现的，容易出现问题。collections是由Python编写的类。"
   ]
  },
  {
   "cell_type": "markdown",
   "metadata": {},
   "source": [
    "#### 1 内置类型 dict 的 `__init__` 和 `__update__` 方法会忽略覆盖的 `__setitem__`"
   ]
  },
  {
   "cell_type": "code",
   "execution_count": 2,
   "metadata": {},
   "outputs": [
    {
     "name": "stdout",
     "output_type": "stream",
     "text": [
      "d \t\t {'one': 1}\n",
      "d \t\t {'one': 1, 'three': 3}\n",
      "d \t\t {'one': 1, 'three': 3, 'two': [2, 2]}\n"
     ]
    }
   ],
   "source": [
    "class DoppelDict(dict):\n",
    "    def __setitem__(self, key, value):\n",
    "        super().__setitem__(key, [value]*2)\n",
    "\n",
    "d = DoppelDict(one=1)  # 并没有生效\n",
    "print(f\"d \\t\\t {d}\")\n",
    "\n",
    "d.update(three=3)  # 并没有生效\n",
    "print(f\"d \\t\\t {d}\")\n",
    "\n",
    "d['two'] = 2\n",
    "print(f\"d \\t\\t {d}\")"
   ]
  },
  {
   "cell_type": "code",
   "execution_count": 9,
   "metadata": {},
   "outputs": [
    {
     "name": "stdout",
     "output_type": "stream",
     "text": [
      "d \t\t {'one': [1, 1]}\n",
      "d \t\t {'one': [1, 1], 'three': [3, 3]}\n",
      "d \t\t {'one': [1, 1], 'three': [3, 3], 'two': [2, 2]}\n"
     ]
    }
   ],
   "source": [
    "import collections\n",
    "\n",
    "class DoppelDict(collections.UserDict):\n",
    "    def __setitem__(self, key, value):\n",
    "        super().__setitem__(key, [value]*2)\n",
    "\n",
    "d = DoppelDict(one=1)  # 并没有生效\n",
    "print(f\"d \\t\\t {d}\")\n",
    "\n",
    "d.update(three=3)  # 并没有生效\n",
    "print(f\"d \\t\\t {d}\")\n",
    "\n",
    "d['two'] = 2\n",
    "print(f\"d \\t\\t {d}\")"
   ]
  },
  {
   "cell_type": "markdown",
   "metadata": {},
   "source": [
    "#### 2 `dict.update` 方法会忽略 `AnswerDict.__getitem__`方法"
   ]
  },
  {
   "cell_type": "code",
   "execution_count": 8,
   "metadata": {},
   "outputs": [
    {
     "name": "stdout",
     "output_type": "stream",
     "text": [
      "42\n",
      "foo\n",
      "{'a': 'foo'}\n"
     ]
    }
   ],
   "source": [
    "class AnswerDict(dict):\n",
    "    def __getitem__(self, key):\n",
    "        return 42\n",
    "    \n",
    "ad = AnswerDict(a='foo')\n",
    "print(ad['a'])\n",
    "\n",
    "d = {}\n",
    "d.update(ad)\n",
    "print(d['a'])\n",
    "print(d)"
   ]
  },
  {
   "cell_type": "code",
   "execution_count": 10,
   "metadata": {},
   "outputs": [
    {
     "name": "stdout",
     "output_type": "stream",
     "text": [
      "42\n",
      "42\n",
      "{'a': 42}\n"
     ]
    }
   ],
   "source": [
    "import collections\n",
    "\n",
    "class AnswerDict(collections.UserDict):\n",
    "    def __getitem__(self, key):\n",
    "        return 42\n",
    "    \n",
    "ad = AnswerDict(a='foo')\n",
    "print(ad['a'])\n",
    "\n",
    "d = {}\n",
    "d.update(ad)\n",
    "print(d['a'])\n",
    "print(d)"
   ]
  },
  {
   "cell_type": "markdown",
   "metadata": {},
   "source": [
    "## 12.2 多重继承"
   ]
  },
  {
   "cell_type": "code",
   "execution_count": 14,
   "metadata": {},
   "outputs": [
    {
     "name": "stdout",
     "output_type": "stream",
     "text": [
      "pong: <__main__.D object at 0x0000023FEE9005F8>\n",
      "PONG: <__main__.D object at 0x0000023FEE9005F8>\n",
      "ping: <__main__.D object at 0x0000023FEE9005F8>\n",
      "post-ping <__main__.D object at 0x0000023FEE9005F8>\n",
      "ping: <__main__.D object at 0x0000023FEE9005F8>\n",
      "post-ping <__main__.D object at 0x0000023FEE9005F8>\n",
      "ping: <__main__.D object at 0x0000023FEE9005F8>\n",
      "pong: <__main__.D object at 0x0000023FEE9005F8>\n",
      "pong: <__main__.D object at 0x0000023FEE9005F8>\n",
      "PONG: <__main__.D object at 0x0000023FEE9005F8>\n"
     ]
    },
    {
     "data": {
      "text/plain": [
       "None"
      ]
     },
     "metadata": {},
     "output_type": "display_data"
    },
    {
     "data": {
      "text/plain": [
       "None"
      ]
     },
     "metadata": {},
     "output_type": "display_data"
    },
    {
     "data": {
      "text/plain": [
       "None"
      ]
     },
     "metadata": {},
     "output_type": "display_data"
    },
    {
     "data": {
      "text/plain": [
       "None"
      ]
     },
     "metadata": {},
     "output_type": "display_data"
    },
    {
     "data": {
      "text/plain": [
       "(__main__.D, __main__.B, __main__.C, __main__.A, object)"
      ]
     },
     "metadata": {},
     "output_type": "display_data"
    }
   ],
   "source": [
    "class A:\n",
    "    def ping(self):\n",
    "        print('ping:', self)\n",
    "\n",
    "class B(A):\n",
    "    def pong(self):\n",
    "        print('pong:', self)\n",
    "        \n",
    "class C(A):\n",
    "    def pong(self):\n",
    "        print('PONG:', self)\n",
    "        \n",
    "class D(B, C):\n",
    "    def ping(self):\n",
    "        A.ping(self)   # 绕过方法解析顺序，必须显式的传入 self 参数\n",
    "        print('post-ping', self)\n",
    "        \n",
    "    def pingpong(self):\n",
    "        self.ping()\n",
    "        super().ping()\n",
    "        self.pong()\n",
    "        super().pong()\n",
    "        C.pong(self)\n",
    "        \n",
    "d = D()\n",
    "\n",
    "display(\n",
    "    d.pong(), \n",
    "    C.pong(d),\n",
    "    d.ping(),\n",
    "    d.pingpong(),\n",
    "    D.__mro__,   # 方法解析顺序，(Method Resolution Order, MRO)\n",
    ")"
   ]
  },
  {
   "cell_type": "code",
   "execution_count": 20,
   "metadata": {},
   "outputs": [
    {
     "name": "stdout",
     "output_type": "stream",
     "text": [
      "bool \t\t (<class 'bool'>, <class 'int'>, <class 'object'>)\n",
      "io \t\t (<class '_io.BytesIO'>, <class '_io._BufferedIOBase'>, <class '_io._IOBase'>, <class 'object'>)\n",
      "numbers \t (<class 'numbers.Integral'>, <class 'numbers.Rational'>, <class 'numbers.Real'>, <class 'numbers.Complex'>, <class 'numbers.Number'>, <class 'object'>)\n"
     ]
    }
   ],
   "source": [
    "# 查看类继承属性\n",
    "import io\n",
    "import numbers\n",
    "\n",
    "print(f\"bool \\t\\t {bool.__mro__}\")\n",
    "print(f\"io \\t\\t {io.BytesIO.__mro__}\")\n",
    "print(f\"numbers \\t {numbers.Integral.__mro__}\")"
   ]
  },
  {
   "cell_type": "code",
   "execution_count": null,
   "metadata": {},
   "outputs": [],
   "source": [
    " v"
   ]
  },
  {
   "cell_type": "code",
   "execution_count": null,
   "metadata": {},
   "outputs": [],
   "source": []
  },
  {
   "cell_type": "code",
   "execution_count": null,
   "metadata": {},
   "outputs": [],
   "source": []
  }
 ],
 "metadata": {
  "kernelspec": {
   "display_name": "Python 3",
   "language": "python",
   "name": "python3"
  },
  "language_info": {
   "codemirror_mode": {
    "name": "ipython",
    "version": 3
   },
   "file_extension": ".py",
   "mimetype": "text/x-python",
   "name": "python",
   "nbconvert_exporter": "python",
   "pygments_lexer": "ipython3",
   "version": "3.6.5"
  }
 },
 "nbformat": 4,
 "nbformat_minor": 2
}
