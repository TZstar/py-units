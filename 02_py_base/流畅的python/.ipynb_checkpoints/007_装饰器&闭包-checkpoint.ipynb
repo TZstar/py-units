{
 "cells": [
  {
   "cell_type": "markdown",
   "metadata": {},
   "source": [
    "# py_装饰器\n",
    "\n",
    "版本：R0  \n",
    "日期：2018-4-25"
   ]
  },
  {
   "cell_type": "markdown",
   "metadata": {},
   "source": [
    "## 1 装饰器基础"
   ]
  },
  {
   "cell_type": "markdown",
   "metadata": {},
   "source": [
    "## 2 函数装饰器"
   ]
  },
  {
   "cell_type": "code",
   "execution_count": null,
   "metadata": {},
   "outputs": [],
   "source": []
  },
  {
   "cell_type": "markdown",
   "metadata": {},
   "source": [
    "## 3 类装饰器\n",
    "管理类的一种方式。"
   ]
  },
  {
   "cell_type": "code",
   "execution_count": 103,
   "metadata": {},
   "outputs": [
    {
     "name": "stdout",
     "output_type": "stream",
     "text": [
      "call foo \n"
     ]
    },
    {
     "data": {
      "text/plain": [
       "6"
      ]
     },
     "execution_count": 103,
     "metadata": {},
     "output_type": "execute_result"
    }
   ],
   "source": [
    "class Deco:\n",
    "    def __init__(self, func):\n",
    "        self.func = func\n",
    "\n",
    "    def __call__(self, *args, **kwargs):\n",
    "        print(\"call %s \"%(self.func.__name__))\n",
    "        return self.func(*args, **kwargs)\n",
    "\n",
    "@Deco\n",
    "def foo(x, y):\n",
    "    return x * y\n",
    "\n",
    "foo(2,3)"
   ]
  },
  {
   "cell_type": "markdown",
   "metadata": {},
   "source": [
    "## 4 应用"
   ]
  },
  {
   "cell_type": "markdown",
   "metadata": {},
   "source": [
    "###  4.1 函数调用次数追踪"
   ]
  },
  {
   "cell_type": "code",
   "execution_count": 9,
   "metadata": {},
   "outputs": [],
   "source": [
    "# 函数调用次数追踪装饰器\n",
    "def tracer(func):\n",
    "    calls = 0\n",
    "    def wrapper(*args, **kwargs):\n",
    "        nonlocal calls   # 全局作用域，跟踪函数调用次数\n",
    "        calls += 1\n",
    "        print(f\"函数{func.__name__}, 调用第 <{calls}> 次\")\n",
    "        return func(*args, **kwargs)\n",
    "    return wrapper\n",
    "\n",
    "@tracer\n",
    "def spam(a,b):\n",
    "    print(a+b)\n",
    "    \n",
    "@tracer\n",
    "def eggs(x,y,z):\n",
    "    print(x**y)"
   ]
  },
  {
   "cell_type": "code",
   "execution_count": 12,
   "metadata": {},
   "outputs": [
    {
     "name": "stdout",
     "output_type": "stream",
     "text": [
      "函数spam, 调用第 <1> 次\n",
      "3\n",
      "函数spam, 调用第 <2> 次\n",
      "15\n",
      "函数eggs, 调用第 <1> 次\n",
      "81\n",
      "函数eggs, 调用第 <2> 次\n",
      "81\n"
     ]
    }
   ],
   "source": [
    "spam(1,2)\n",
    "spam(7,8)\n",
    "\n",
    "eggs(3,4,5)\n",
    "eggs(3,4,5)"
   ]
  },
  {
   "cell_type": "code",
   "execution_count": 101,
   "metadata": {},
   "outputs": [],
   "source": [
    "# 类装饰器\n",
    "class Deco1:\n",
    "    def __init__(self, func):\n",
    "        self.count = 0\n",
    "        self.func = func\n",
    "\n",
    "    def __call__(self, *args, **kwargs):\n",
    "        self.count += 1\n",
    "        print(\"call %d to %s\"%(self.count, self.func.__name__))\n",
    "        return self.func(*args, **kwargs)\n",
    "\n",
    "@Deco1\n",
    "def spam(a, b, c):\n",
    "    print(a +b +c)\n",
    "    \n",
    "@Deco1\n",
    "def eggs(a, b):\n",
    "    print(a +b)"
   ]
  },
  {
   "cell_type": "code",
   "execution_count": 102,
   "metadata": {
    "scrolled": true
   },
   "outputs": [
    {
     "name": "stdout",
     "output_type": "stream",
     "text": [
      "call 1 to spam\n",
      "6\n",
      "call 2 to spam\n",
      "6\n",
      "call 1 to eggs\n",
      "11\n",
      "call 2 to eggs\n",
      "11\n"
     ]
    }
   ],
   "source": [
    "spam(1, 2, 3)\n",
    "spam(1, 2, 3)\n",
    "\n",
    "eggs(5, 6)\n",
    "eggs(5, 6)"
   ]
  },
  {
   "cell_type": "markdown",
   "metadata": {},
   "source": [
    "### 使用描述符装饰方法"
   ]
  },
  {
   "cell_type": "code",
   "execution_count": 2,
   "metadata": {},
   "outputs": [],
   "source": [
    "class Wrapper:\n",
    "    def __init__(self, desc, subj):\n",
    "        self.desc = desc  # Route calls back to decr\n",
    "        self.subj = subj\n",
    "        \n",
    "    def __call__(self, *args, **kwargs):\n",
    "        return self.desc(self.subj, *args, **kwargs) \n",
    "\n",
    "class Tracer(object):\n",
    "    def __init__(self, func): \n",
    "        self.calls = 0  \n",
    "        self.func = func\n",
    "        \n",
    "    def __call__(self, *args, **kwargs): \n",
    "        self.calls += 1\n",
    "        print('call %s to %s' % (self.calls, self.func.__name__))\n",
    "        return self.func(*args, **kwargs)\n",
    "    \n",
    "    def __get__(self, instance, owner): \n",
    "        return Wrapper(self, instance)"
   ]
  },
  {
   "cell_type": "code",
   "execution_count": 3,
   "metadata": {},
   "outputs": [],
   "source": [
    "@Tracer\n",
    "def spam(a, b, c): \n",
    "    print(a +b +c)\n",
    "    \n",
    "class Person:\n",
    "    def __init__(self, name, pay):\n",
    "        self.name = name\n",
    "        self.pay = pay\n",
    "        \n",
    "    @Tracer\n",
    "    def giveRaise(self, percent):   # giveRaise = tracer(giverRaise)\n",
    "        self.pay *= (1.0 + percent)"
   ]
  },
  {
   "cell_type": "markdown",
   "metadata": {},
   "source": [
    "### 4.3 属性检查装饰器"
   ]
  },
  {
   "cell_type": "markdown",
   "metadata": {},
   "source": [
    "### 4.4 计时器装饰器"
   ]
  },
  {
   "cell_type": "markdown",
   "metadata": {},
   "source": [
    "### 4.5 权限管理装饰器"
   ]
  },
  {
   "cell_type": "markdown",
   "metadata": {},
   "source": []
  },
  {
   "cell_type": "code",
   "execution_count": null,
   "metadata": {},
   "outputs": [],
   "source": []
  },
  {
   "cell_type": "markdown",
   "metadata": {},
   "source": [
    "###  变量作用域"
   ]
  },
  {
   "cell_type": "code",
   "execution_count": 12,
   "metadata": {},
   "outputs": [
    {
     "name": "stdout",
     "output_type": "stream",
     "text": [
      "1\n",
      "9\n",
      "==================================================\n",
      "2\n",
      "6\n",
      "==================================================\n",
      "3\n",
      "local variable 'b' referenced before assignment\n",
      "==================================================\n",
      "3\n",
      "6\n"
     ]
    }
   ],
   "source": [
    "def f1(a):\n",
    "    print(a)\n",
    "    print(b)\n",
    "\n",
    "# 没有定义b时，会报错\n",
    "try:\n",
    "    f1(1)\n",
    "except Exception as e:\n",
    "    print(e)\n",
    "    \n",
    "    \n",
    "# 定义全局b\n",
    "print(f\"{'='*50}\")\n",
    "b = 6\n",
    "f1(2)\n",
    "\n",
    "\n",
    "# 作用域\n",
    "print(f\"{'='*50}\")\n",
    "b = 6\n",
    "def f2(a):\n",
    "    print(a)\n",
    "    print(b)\n",
    "    b = 9\n",
    "try:\n",
    "    f2(3)\n",
    "except Exception as e:\n",
    "    print(e)\n",
    "    \n",
    "    \n",
    "# global 声明\n",
    "print(f\"{'='*50}\")\n",
    "b = 6\n",
    "def f3(a):\n",
    "    global b\n",
    "    print(a)\n",
    "    print(b)\n",
    "    b = 9\n",
    "f3(3)"
   ]
  },
  {
   "cell_type": "markdown",
   "metadata": {},
   "source": [
    "###  `dis` 模块比较字节码\n",
    "\n",
    "> `dis`模块为反汇编 python 字节码提供了简单的方式。"
   ]
  },
  {
   "cell_type": "code",
   "execution_count": 13,
   "metadata": {},
   "outputs": [
    {
     "name": "stdout",
     "output_type": "stream",
     "text": [
      "  2           0 LOAD_GLOBAL              0 (print)\n",
      "              2 LOAD_FAST                0 (a)\n",
      "              4 CALL_FUNCTION            1\n",
      "              6 POP_TOP\n",
      "\n",
      "  3           8 LOAD_GLOBAL              0 (print)\n",
      "             10 LOAD_GLOBAL              1 (b)\n",
      "             12 CALL_FUNCTION            1\n",
      "             14 POP_TOP\n",
      "             16 LOAD_CONST               0 (None)\n",
      "             18 RETURN_VALUE\n",
      "None\n",
      "==================================================\n",
      " 22           0 LOAD_GLOBAL              0 (print)\n",
      "              2 LOAD_FAST                0 (a)\n",
      "              4 CALL_FUNCTION            1\n",
      "              6 POP_TOP\n",
      "\n",
      " 23           8 LOAD_GLOBAL              0 (print)\n",
      "             10 LOAD_FAST                1 (b)\n",
      "             12 CALL_FUNCTION            1\n",
      "             14 POP_TOP\n",
      "\n",
      " 24          16 LOAD_CONST               1 (9)\n",
      "             18 STORE_FAST               1 (b)\n",
      "             20 LOAD_CONST               0 (None)\n",
      "             22 RETURN_VALUE\n",
      "None\n",
      "==================================================\n",
      " 36           0 LOAD_GLOBAL              0 (print)\n",
      "              2 LOAD_FAST                0 (a)\n",
      "              4 CALL_FUNCTION            1\n",
      "              6 POP_TOP\n",
      "\n",
      " 37           8 LOAD_GLOBAL              0 (print)\n",
      "             10 LOAD_GLOBAL              1 (b)\n",
      "             12 CALL_FUNCTION            1\n",
      "             14 POP_TOP\n",
      "\n",
      " 38          16 LOAD_CONST               1 (9)\n",
      "             18 STORE_GLOBAL             1 (b)\n",
      "             20 LOAD_CONST               0 (None)\n",
      "             22 RETURN_VALUE\n",
      "None\n"
     ]
    }
   ],
   "source": [
    "from dis import dis\n",
    "\n",
    "print(dis(f1))\n",
    "print(f\"{'='*50}\")\n",
    "print(dis(f2))\n",
    "print(f\"{'='*50}\")\n",
    "print(dis(f3))"
   ]
  },
  {
   "cell_type": "markdown",
   "metadata": {},
   "source": [
    "###  闭包"
   ]
  },
  {
   "cell_type": "code",
   "execution_count": 20,
   "metadata": {},
   "outputs": [
    {
     "name": "stdout",
     "output_type": "stream",
     "text": [
      "avg(10)\t10.0, series\t[10]\n",
      "avg(11)\t10.5, series\t[10, 11]\n",
      "avg(12)\t11.0, series\t[10, 11, 12]\n"
     ]
    }
   ],
   "source": [
    "# 计算移动平均值的类\n",
    "\n",
    "class Averager():\n",
    "    def __init__(self):\n",
    "        self.series = []\n",
    "    \n",
    "    def __call__(self, new_value):\n",
    "        self.series.append(new_value)\n",
    "        total = sum(self.series)\n",
    "        return total/len(self.series)\n",
    "    \n",
    "avg = Averager()\n",
    "print(f\"avg(10)\\t{avg(10)}, series\\t{avg.series}\")\n",
    "print(f\"avg(11)\\t{avg(11)}, series\\t{avg.series}\")\n",
    "print(f\"avg(12)\\t{avg(12)}, series\\t{avg.series}\")"
   ]
  },
  {
   "cell_type": "code",
   "execution_count": 37,
   "metadata": {},
   "outputs": [
    {
     "name": "stdout",
     "output_type": "stream",
     "text": [
      "avg(10)\t10.0\n",
      "avg(11)\t10.5\n",
      "avg(12)\t11.0\n",
      "==================================================\n",
      "('new_value', 'total')\n",
      "('series',)\n",
      "('series',)\n",
      "==================================================\n",
      "(<cell at 0x0000010D214EA468: list object at 0x0000010D21504748>,)\n",
      "[10, 11, 12]\n"
     ]
    }
   ],
   "source": [
    "# 计算平均值，保存历史值\n",
    "def make_averager():\n",
    "    series = []  # 列表是可变对象，可以读取、更新。对于数字、字符串、元组等不可变类型，只能读取，不可更新，没法实现闭包功能。\n",
    "    \n",
    "    def averager(new_value):\n",
    "        series.append(new_value)\n",
    "        total = sum(series)\n",
    "        return total/len(series)\n",
    "    return averager\n",
    "\n",
    "avg = make_averager()\n",
    "print(f\"avg(10)\\t{avg(10)}\")\n",
    "print(f\"avg(11)\\t{avg(11)}\")\n",
    "print(f\"avg(12)\\t{avg(12)}\")\n",
    "\n",
    "print(f\"{'='*50}\")\n",
    "print(avg.__code__.co_varnames)\n",
    "print(avg.__code__.co_freevars)  # 自由变量\n",
    "print(avg.__code__.co_freevars) \n",
    "print(f\"{'='*50}\")\n",
    "print(avg.__closure__)   # 各个元素对应于 avg.__closure__[0].cell_contents 中的一个名称， 这些元素是 cell 对象，有cell_contents属性。\n",
    "print(avg.__closure__[0].cell_contents)"
   ]
  },
  {
   "cell_type": "code",
   "execution_count": 38,
   "metadata": {},
   "outputs": [
    {
     "name": "stdout",
     "output_type": "stream",
     "text": [
      "avg(10)\t10.0\n",
      "avg(11)\t10.5\n",
      "avg(12)\t11.0\n"
     ]
    }
   ],
   "source": [
    "# 自由变量为数字的情况\n",
    "# 计算移动平均值,不保存历史值(闭包函数)\n",
    "def make_averager():\n",
    "    count = 0  # 列表是可变对象，可以读取、更新。对于数字、字符串、元组等不可变类型，只能读取，不可更新，没法实现闭包功能。\n",
    "    total = 0\n",
    "    \n",
    "    def averager(new_value):\n",
    "        nonlocal count, total\n",
    "        count += 1\n",
    "        total += new_value\n",
    "        return total/count\n",
    "    return averager\n",
    "\n",
    "avg = make_averager()\n",
    "print(f\"avg(10)\\t{avg(10)}\")\n",
    "print(f\"avg(11)\\t{avg(11)}\")\n",
    "print(f\"avg(12)\\t{avg(12)}\")"
   ]
  },
  {
   "cell_type": "markdown",
   "metadata": {},
   "source": [
    "### 计时器装饰器\n",
    "1. 支持位置、关键字参数；\n",
    "2. 不遮盖被装饰函数的 `__name__` 和 `__doc__`"
   ]
  },
  {
   "cell_type": "code",
   "execution_count": 49,
   "metadata": {},
   "outputs": [],
   "source": [
    "import time\n",
    "import functools\n",
    "\n",
    "def time_count(func):\n",
    "    @functools.wraps(func)\n",
    "    def clocked(*args, **kwargs):\n",
    "        t0 = time.time()\n",
    "        result = func(*args, **kwargs)\n",
    "        interval = time.time() - t0\n",
    "        name = func.__name__\n",
    "        arg_list = []\n",
    "        if args:\n",
    "            arg_list.append(','.join(repr(arg) for arg in args))\n",
    "        if kwargs:\n",
    "            kws = [f\"{k}={w}\" for k, w in sorted(kwargs.items())]\n",
    "            arg_list.append(', '.join(kws))\n",
    "        arg_str = \", \".join(arg_list)\n",
    "        print(f\"<{interval:.10f}> {name}({arg_str}) -> {result}\")\n",
    "        return result\n",
    "    return clocked"
   ]
  },
  {
   "cell_type": "code",
   "execution_count": 56,
   "metadata": {},
   "outputs": [
    {
     "name": "stdout",
     "output_type": "stream",
     "text": [
      "<0.0000000000> fibonacci(0) -> 0\n",
      "<0.0000000000> fibonacci(1) -> 1\n",
      "<0.0000000000> fibonacci(2) -> 1\n",
      "<0.0000000000> fibonacci(1) -> 1\n",
      "<0.0000000000> fibonacci(0) -> 0\n",
      "<0.0000000000> fibonacci(1) -> 1\n",
      "<0.0000000000> fibonacci(2) -> 1\n",
      "<0.0000000000> fibonacci(3) -> 2\n",
      "<0.0000000000> fibonacci(4) -> 3\n",
      "<0.0000000000> fibonacci(1) -> 1\n",
      "<0.0000000000> fibonacci(0) -> 0\n",
      "<0.0000000000> fibonacci(1) -> 1\n",
      "<0.0000000000> fibonacci(2) -> 1\n",
      "<0.0000000000> fibonacci(3) -> 2\n",
      "<0.0000000000> fibonacci(0) -> 0\n",
      "<0.0000000000> fibonacci(1) -> 1\n",
      "<0.0000000000> fibonacci(2) -> 1\n",
      "<0.0000000000> fibonacci(1) -> 1\n",
      "<0.0000000000> fibonacci(0) -> 0\n",
      "<0.0000000000> fibonacci(1) -> 1\n",
      "<0.0000000000> fibonacci(2) -> 1\n",
      "<0.0000000000> fibonacci(3) -> 2\n",
      "<0.0000000000> fibonacci(4) -> 3\n",
      "<0.0000000000> fibonacci(5) -> 5\n",
      "<0.0000000000> fibonacci(6) -> 8\n",
      "<0.0000000000> fibonacci(1) -> 1\n",
      "<0.0000000000> fibonacci(0) -> 0\n",
      "<0.0000000000> fibonacci(1) -> 1\n",
      "<0.0000000000> fibonacci(2) -> 1\n",
      "<0.0000000000> fibonacci(3) -> 2\n",
      "<0.0000000000> fibonacci(0) -> 0\n",
      "<0.0000000000> fibonacci(1) -> 1\n",
      "<0.0000000000> fibonacci(2) -> 1\n",
      "<0.0000000000> fibonacci(1) -> 1\n",
      "<0.0000000000> fibonacci(0) -> 0\n",
      "<0.0000000000> fibonacci(1) -> 1\n",
      "<0.0000000000> fibonacci(2) -> 1\n",
      "<0.0000000000> fibonacci(3) -> 2\n",
      "<0.0000000000> fibonacci(4) -> 3\n",
      "<0.0000000000> fibonacci(5) -> 5\n",
      "<0.0000000000> fibonacci(0) -> 0\n",
      "<0.0000000000> fibonacci(1) -> 1\n",
      "<0.0010018349> fibonacci(2) -> 1\n",
      "<0.0000000000> fibonacci(1) -> 1\n",
      "<0.0000000000> fibonacci(0) -> 0\n",
      "<0.0000000000> fibonacci(1) -> 1\n",
      "<0.0000000000> fibonacci(2) -> 1\n",
      "<0.0000000000> fibonacci(3) -> 2\n",
      "<0.0010018349> fibonacci(4) -> 3\n",
      "<0.0000000000> fibonacci(1) -> 1\n",
      "<0.0000000000> fibonacci(0) -> 0\n",
      "<0.0000000000> fibonacci(1) -> 1\n",
      "<0.0000000000> fibonacci(2) -> 1\n",
      "<0.0000000000> fibonacci(3) -> 2\n",
      "<0.0000000000> fibonacci(0) -> 0\n",
      "<0.0000000000> fibonacci(1) -> 1\n",
      "<0.0000000000> fibonacci(2) -> 1\n",
      "<0.0000000000> fibonacci(1) -> 1\n",
      "<0.0000000000> fibonacci(0) -> 0\n",
      "<0.0000000000> fibonacci(1) -> 1\n",
      "<0.0000000000> fibonacci(2) -> 1\n",
      "<0.0000000000> fibonacci(3) -> 2\n",
      "<0.0000000000> fibonacci(4) -> 3\n",
      "<0.0000000000> fibonacci(5) -> 5\n",
      "<0.0010018349> fibonacci(6) -> 8\n",
      "<0.0010018349> fibonacci(7) -> 13\n",
      "<0.0010018349> fibonacci(8) -> 21\n",
      "<0.0000000000> fibonacci(1) -> 1\n",
      "<0.0000000000> fibonacci(0) -> 0\n",
      "<0.0000000000> fibonacci(1) -> 1\n",
      "<0.0000000000> fibonacci(2) -> 1\n",
      "<0.0000000000> fibonacci(3) -> 2\n",
      "<0.0000000000> fibonacci(0) -> 0\n",
      "<0.0000000000> fibonacci(1) -> 1\n",
      "<0.0000000000> fibonacci(2) -> 1\n",
      "<0.0000000000> fibonacci(1) -> 1\n",
      "<0.0000000000> fibonacci(0) -> 0\n",
      "<0.0000000000> fibonacci(1) -> 1\n",
      "<0.0000000000> fibonacci(2) -> 1\n",
      "<0.0000000000> fibonacci(3) -> 2\n",
      "<0.0000000000> fibonacci(4) -> 3\n",
      "<0.0000000000> fibonacci(5) -> 5\n",
      "<0.0000000000> fibonacci(0) -> 0\n",
      "<0.0000000000> fibonacci(1) -> 1\n",
      "<0.0000000000> fibonacci(2) -> 1\n",
      "<0.0000000000> fibonacci(1) -> 1\n",
      "<0.0000000000> fibonacci(0) -> 0\n",
      "<0.0000000000> fibonacci(1) -> 1\n",
      "<0.0000000000> fibonacci(2) -> 1\n",
      "<0.0000000000> fibonacci(3) -> 2\n",
      "<0.0000000000> fibonacci(4) -> 3\n",
      "<0.0000000000> fibonacci(1) -> 1\n",
      "<0.0000000000> fibonacci(0) -> 0\n",
      "<0.0000000000> fibonacci(1) -> 1\n",
      "<0.0000000000> fibonacci(2) -> 1\n",
      "<0.0000000000> fibonacci(3) -> 2\n",
      "<0.0000000000> fibonacci(0) -> 0\n",
      "<0.0000000000> fibonacci(1) -> 1\n",
      "<0.0000000000> fibonacci(2) -> 1\n",
      "<0.0000000000> fibonacci(1) -> 1\n",
      "<0.0000000000> fibonacci(0) -> 0\n",
      "<0.0000000000> fibonacci(1) -> 1\n",
      "<0.0010020733> fibonacci(2) -> 1\n",
      "<0.0010020733> fibonacci(3) -> 2\n",
      "<0.0010020733> fibonacci(4) -> 3\n",
      "<0.0010020733> fibonacci(5) -> 5\n",
      "<0.0010020733> fibonacci(6) -> 8\n",
      "<0.0010020733> fibonacci(7) -> 13\n",
      "<0.0000000000> fibonacci(0) -> 0\n",
      "<0.0000000000> fibonacci(1) -> 1\n",
      "<0.0000000000> fibonacci(2) -> 1\n",
      "<0.0000000000> fibonacci(1) -> 1\n",
      "<0.0000000000> fibonacci(0) -> 0\n",
      "<0.0000000000> fibonacci(1) -> 1\n",
      "<0.0000000000> fibonacci(2) -> 1\n",
      "<0.0000000000> fibonacci(3) -> 2\n",
      "<0.0000000000> fibonacci(4) -> 3\n",
      "<0.0000000000> fibonacci(1) -> 1\n",
      "<0.0000000000> fibonacci(0) -> 0\n",
      "<0.0000000000> fibonacci(1) -> 1\n",
      "<0.0000000000> fibonacci(2) -> 1\n",
      "<0.0000000000> fibonacci(3) -> 2\n",
      "<0.0000000000> fibonacci(0) -> 0\n",
      "<0.0000000000> fibonacci(1) -> 1\n",
      "<0.0000000000> fibonacci(2) -> 1\n",
      "<0.0000000000> fibonacci(1) -> 1\n",
      "<0.0000000000> fibonacci(0) -> 0\n",
      "<0.0000000000> fibonacci(1) -> 1\n",
      "<0.0000000000> fibonacci(2) -> 1\n",
      "<0.0000000000> fibonacci(3) -> 2\n",
      "<0.0000000000> fibonacci(4) -> 3\n",
      "<0.0000000000> fibonacci(5) -> 5\n",
      "<0.0000000000> fibonacci(6) -> 8\n",
      "<0.0000000000> fibonacci(1) -> 1\n",
      "<0.0000000000> fibonacci(0) -> 0\n",
      "<0.0000000000> fibonacci(1) -> 1\n",
      "<0.0000000000> fibonacci(2) -> 1\n",
      "<0.0000000000> fibonacci(3) -> 2\n",
      "<0.0000000000> fibonacci(0) -> 0\n",
      "<0.0000000000> fibonacci(1) -> 1\n",
      "<0.0000000000> fibonacci(2) -> 1\n",
      "<0.0000000000> fibonacci(1) -> 1\n",
      "<0.0000000000> fibonacci(0) -> 0\n",
      "<0.0000000000> fibonacci(1) -> 1\n",
      "<0.0000000000> fibonacci(2) -> 1\n",
      "<0.0000000000> fibonacci(3) -> 2\n",
      "<0.0000000000> fibonacci(4) -> 3\n",
      "<0.0000000000> fibonacci(5) -> 5\n",
      "<0.0000000000> fibonacci(0) -> 0\n",
      "<0.0000000000> fibonacci(1) -> 1\n",
      "<0.0000000000> fibonacci(2) -> 1\n",
      "<0.0000000000> fibonacci(1) -> 1\n",
      "<0.0000000000> fibonacci(0) -> 0\n",
      "<0.0000000000> fibonacci(1) -> 1\n",
      "<0.0000000000> fibonacci(2) -> 1\n",
      "<0.0000000000> fibonacci(3) -> 2\n",
      "<0.0000000000> fibonacci(4) -> 3\n",
      "<0.0000000000> fibonacci(1) -> 1\n",
      "<0.0000000000> fibonacci(0) -> 0\n",
      "<0.0000000000> fibonacci(1) -> 1\n",
      "<0.0000000000> fibonacci(2) -> 1\n",
      "<0.0000000000> fibonacci(3) -> 2\n",
      "<0.0000000000> fibonacci(0) -> 0\n",
      "<0.0000000000> fibonacci(1) -> 1\n",
      "<0.0000000000> fibonacci(2) -> 1\n",
      "<0.0000000000> fibonacci(1) -> 1\n",
      "<0.0000000000> fibonacci(0) -> 0\n",
      "<0.0000000000> fibonacci(1) -> 1\n",
      "<0.0000000000> fibonacci(2) -> 1\n",
      "<0.0000000000> fibonacci(3) -> 2\n",
      "<0.0000000000> fibonacci(4) -> 3\n",
      "<0.0000000000> fibonacci(5) -> 5\n",
      "<0.0000000000> fibonacci(6) -> 8\n",
      "<0.0010037422> fibonacci(7) -> 13\n",
      "<0.0010037422> fibonacci(8) -> 21\n",
      "<0.0020058155> fibonacci(9) -> 34\n",
      "<0.0030076504> fibonacci(10) -> 55\n"
     ]
    },
    {
     "data": {
      "text/plain": [
       "55"
      ]
     },
     "execution_count": 56,
     "metadata": {},
     "output_type": "execute_result"
    }
   ],
   "source": [
    "@time_count\n",
    "def fibonacci(n):\n",
    "    if n < 2:\n",
    "        return n\n",
    "    return fibonacci(n-2) + fibonacci(n-1)\n",
    "\n",
    "fibonacci(10)"
   ]
  },
  {
   "cell_type": "markdown",
   "metadata": {},
   "source": [
    "> `functools.lru_cache(maxsize=128, typed=False)`\n",
    "- `maxsize=128`: 存储多少个调用的结果,建议值为2的幂次方\n",
    "- `typed=False`: True，把不同的参数类型得到的结果分开存储，如浮点型和整型（1.0和1）区分开来。\n",
    "- `lru_cache`: 使用字典存储结果，根据调用时传入的定位参数和关键字参数创建。被装饰的函数，它的所有的参数都必须是可散列的。"
   ]
  },
  {
   "cell_type": "code",
   "execution_count": 54,
   "metadata": {},
   "outputs": [
    {
     "name": "stdout",
     "output_type": "stream",
     "text": [
      "<0.0000000000> fibonacci(0) -> 0\n",
      "<0.0000000000> fibonacci(1) -> 1\n",
      "<0.0010001659> fibonacci(2) -> 1\n",
      "<0.0000000000> fibonacci(3) -> 2\n",
      "<0.0010001659> fibonacci(4) -> 3\n",
      "<0.0000000000> fibonacci(5) -> 5\n",
      "<0.0010001659> fibonacci(6) -> 8\n",
      "<0.0000000000> fibonacci(7) -> 13\n",
      "<0.0010001659> fibonacci(8) -> 21\n",
      "<0.0000000000> fibonacci(9) -> 34\n",
      "<0.0010001659> fibonacci(10) -> 55\n",
      "<0.0000000000> fibonacci(11) -> 89\n",
      "<0.0010001659> fibonacci(12) -> 144\n",
      "<0.0000000000> fibonacci(13) -> 233\n",
      "<0.0010001659> fibonacci(14) -> 377\n",
      "<0.0000000000> fibonacci(15) -> 610\n",
      "<0.0010001659> fibonacci(16) -> 987\n",
      "<0.0000000000> fibonacci(17) -> 1597\n",
      "<0.0010001659> fibonacci(18) -> 2584\n",
      "<0.0000000000> fibonacci(19) -> 4181\n",
      "<0.0010001659> fibonacci(20) -> 6765\n"
     ]
    },
    {
     "data": {
      "text/plain": [
       "6765"
      ]
     },
     "execution_count": 54,
     "metadata": {},
     "output_type": "execute_result"
    }
   ],
   "source": [
    "# 使用缓存实现\n",
    "import functools\n",
    "\n",
    "@functools.lru_cache()   # 需要添加括号，functools.lru_cache()为需要传参的装饰器\n",
    "@time_count\n",
    "def fibonacci(n):\n",
    "    if n < 2:\n",
    "        return n\n",
    "    return fibonacci(n-2) + fibonacci(n-1)\n",
    "\n",
    "fibonacci(20)"
   ]
  },
  {
   "cell_type": "markdown",
   "metadata": {},
   "source": [
    "### 单分派泛函数 `functools.singedpatch`"
   ]
  },
  {
   "cell_type": "code",
   "execution_count": null,
   "metadata": {},
   "outputs": [],
   "source": []
  },
  {
   "cell_type": "markdown",
   "metadata": {},
   "source": [
    "### 参数化装饰器"
   ]
  },
  {
   "cell_type": "code",
   "execution_count": null,
   "metadata": {},
   "outputs": [],
   "source": []
  },
  {
   "cell_type": "code",
   "execution_count": null,
   "metadata": {},
   "outputs": [],
   "source": []
  }
 ],
 "metadata": {
  "kernelspec": {
   "display_name": "Python 3",
   "language": "python",
   "name": "python3"
  },
  "language_info": {
   "codemirror_mode": {
    "name": "ipython",
    "version": 3
   },
   "file_extension": ".py",
   "mimetype": "text/x-python",
   "name": "python",
   "nbconvert_exporter": "python",
   "pygments_lexer": "ipython3",
   "version": "3.6.5"
  }
 },
 "nbformat": 4,
 "nbformat_minor": 2
}
