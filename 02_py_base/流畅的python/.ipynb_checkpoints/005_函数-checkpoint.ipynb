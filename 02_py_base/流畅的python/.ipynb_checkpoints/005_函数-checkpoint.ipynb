{
 "cells": [
  {
   "cell_type": "markdown",
   "metadata": {},
   "source": [
    "# py_函数"
   ]
  },
  {
   "cell_type": "markdown",
   "metadata": {},
   "source": [
    "## 1 `__doc__`"
   ]
  },
  {
   "cell_type": "code",
   "execution_count": 1,
   "metadata": {},
   "outputs": [],
   "source": [
    "def factorial(n):\n",
    "    ''' 计算阶乘 '''\n",
    "    return 1 if n < 2 else n * factorial(n-1)"
   ]
  },
  {
   "cell_type": "code",
   "execution_count": 2,
   "metadata": {},
   "outputs": [
    {
     "name": "stdout",
     "output_type": "stream",
     "text": [
      " 计算阶乘 \n",
      "Help on function factorial in module __main__:\n",
      "\n",
      "factorial(n)\n",
      "    计算阶乘\n",
      "\n",
      "None\n"
     ]
    }
   ],
   "source": [
    "print(factorial.__doc__)\n",
    "print(help(factorial))"
   ]
  },
  {
   "cell_type": "markdown",
   "metadata": {},
   "source": [
    "## 2 高阶函数 `map` / `filter` / `reduce`"
   ]
  },
  {
   "cell_type": "code",
   "execution_count": 3,
   "metadata": {},
   "outputs": [
    {
     "name": "stdout",
     "output_type": "stream",
     "text": [
      "[1, 1, 2, 6, 24, 120]\n",
      "[1, 1, 2, 6, 24, 120]\n"
     ]
    }
   ],
   "source": [
    "# 案例: 计算阶乘\n",
    "print(list(map(factorial, range(6))))\n",
    "print([factorial(n) for n in range(6)])"
   ]
  },
  {
   "cell_type": "code",
   "execution_count": 4,
   "metadata": {},
   "outputs": [
    {
     "name": "stdout",
     "output_type": "stream",
     "text": [
      "4950\n",
      "4950\n"
     ]
    }
   ],
   "source": [
    "from functools import reduce\n",
    "from operator import add\n",
    "\n",
    "print(reduce(add, range(100)))\n",
    "print(sum(range(100)))"
   ]
  },
  {
   "cell_type": "markdown",
   "metadata": {},
   "source": [
    "### 归约函数 `all(iterable)` / `any(iterable)`"
   ]
  },
  {
   "cell_type": "markdown",
   "metadata": {},
   "source": [
    "## 3 匿名函数 `lambda`"
   ]
  },
  {
   "cell_type": "code",
   "execution_count": 5,
   "metadata": {},
   "outputs": [
    {
     "name": "stdout",
     "output_type": "stream",
     "text": [
      "['banana', 'apple', 'origine', 'cherry']\n",
      "['apple', 'banana', 'cherry', 'origine']\n",
      "['apple', 'banana', 'cherry', 'origine']\n"
     ]
    }
   ],
   "source": [
    "fruits = ['banana', 'apple', 'origine', 'cherry']\n",
    "print(sorted(fruits, key=lambda word:word[::-1]))\n",
    "print(sorted(fruits, key=lambda word:word[0]))\n",
    "print(sorted(fruits, key=lambda word:len(word)))"
   ]
  },
  {
   "cell_type": "markdown",
   "metadata": {},
   "source": [
    "## 4 可调用对象\n",
    "调用运算符 `()`\n",
    "\n",
    "1. 用户自定义函数\n",
    "2. 内置函数：用C（Cpython）实现的函数\n",
    "3. 内置方法：用C实现的方法\n",
    "4. 方法\n",
    "5. 类\n",
    "6. 类的实例\n",
    "7. 生成器函数"
   ]
  },
  {
   "cell_type": "code",
   "execution_count": 6,
   "metadata": {},
   "outputs": [
    {
     "data": {
      "text/plain": [
       "[True, True, False]"
      ]
     },
     "execution_count": 6,
     "metadata": {},
     "output_type": "execute_result"
    }
   ],
   "source": [
    "# 判断对象是否可调用\n",
    "[callable(obj) for obj in (abs, str, 13)]"
   ]
  },
  {
   "cell_type": "markdown",
   "metadata": {},
   "source": [
    "## 5 用户定义的可调用类型"
   ]
  },
  {
   "cell_type": "code",
   "execution_count": 7,
   "metadata": {},
   "outputs": [],
   "source": [
    "# 自定义一个从打乱列表取出一个元素的自定义可调用类型\n",
    "import random\n",
    "\n",
    "class BingoCage:\n",
    "    def __init__(self, items):\n",
    "        self._items = list(items)\n",
    "        random.shuffle(self._items)\n",
    "        \n",
    "    def pick(self):\n",
    "        try:\n",
    "            return self._items.pop()\n",
    "        except IndexError:\n",
    "            raise LookupError('pick empty BingoCage')\n",
    "    \n",
    "    def __call__(self):\n",
    "        return self.pick()"
   ]
  },
  {
   "cell_type": "code",
   "execution_count": 8,
   "metadata": {},
   "outputs": [
    {
     "name": "stdout",
     "output_type": "stream",
     "text": [
      "True\n",
      "0\n",
      "2\n",
      "1\n"
     ]
    }
   ],
   "source": [
    "bingo =BingoCage(range(3))\n",
    "print(callable(bingo))\n",
    "for i in range(3):\n",
    "    print(bingo.pick())"
   ]
  },
  {
   "cell_type": "markdown",
   "metadata": {},
   "source": [
    "## 6 函数内省"
   ]
  },
  {
   "cell_type": "code",
   "execution_count": 9,
   "metadata": {
    "scrolled": false
   },
   "outputs": [
    {
     "data": {
      "text/plain": [
       "['__call__',\n",
       " '__class__',\n",
       " '__delattr__',\n",
       " '__dict__',\n",
       " '__dir__',\n",
       " '__doc__',\n",
       " '__eq__',\n",
       " '__format__',\n",
       " '__ge__',\n",
       " '__getattribute__',\n",
       " '__gt__',\n",
       " '__hash__',\n",
       " '__init__',\n",
       " '__init_subclass__',\n",
       " '__le__',\n",
       " '__lt__',\n",
       " '__module__',\n",
       " '__ne__',\n",
       " '__new__',\n",
       " '__reduce__',\n",
       " '__reduce_ex__',\n",
       " '__repr__',\n",
       " '__setattr__',\n",
       " '__sizeof__',\n",
       " '__str__',\n",
       " '__subclasshook__',\n",
       " '__weakref__',\n",
       " '_items',\n",
       " 'pick']"
      ]
     },
     "execution_count": 9,
     "metadata": {},
     "output_type": "execute_result"
    }
   ],
   "source": [
    "dir(bingo)"
   ]
  },
  {
   "cell_type": "code",
   "execution_count": 10,
   "metadata": {},
   "outputs": [
    {
     "data": {
      "text/plain": [
       "['__annotations__',\n",
       " '__call__',\n",
       " '__closure__',\n",
       " '__code__',\n",
       " '__defaults__',\n",
       " '__get__',\n",
       " '__globals__',\n",
       " '__kwdefaults__',\n",
       " '__name__',\n",
       " '__qualname__']"
      ]
     },
     "execution_count": 10,
     "metadata": {},
     "output_type": "execute_result"
    }
   ],
   "source": [
    "class C:\n",
    "    pass\n",
    "obj = C()\n",
    "\n",
    "def func():\n",
    "    pass\n",
    "\n",
    "sorted(set(dir(func)) - set(dir(obj)))\n",
    "\n",
    "# '__annotations__', dict, 参数和返回值的注解\n",
    "# '__call__', method-wrapper, 实现（）运算符，可调用对象协议\n",
    "# '__closure__', turple, 函数的闭包，即自由变量的绑定（通常None）\n",
    "# '__code__', code, 编译成字节码的函数元数据和函数自定义体\n",
    "# '__defaults__', tuple, 形式参数默认值\n",
    "# '__get__', method-wrapper, 实现只读描述符协议\n",
    "# '__globals__', dict, 函数所在模块中的全局变量\n",
    "# '__kwdefaults__', dict, 函数所在模块中的全局变量\n",
    "# '__name__', str, 函数名称\n",
    "# '__qualname__'， str, 函数的限定名称，如Random.choice"
   ]
  },
  {
   "cell_type": "markdown",
   "metadata": {},
   "source": [
    "## 7 从定位参数到仅限关键字参数"
   ]
  },
  {
   "cell_type": "code",
   "execution_count": 11,
   "metadata": {},
   "outputs": [],
   "source": [
    "def tag(name, *content, cls=None, **attrs):\n",
    "    \"\"\" 生成1个或者多个HTML标签 \"\"\"\n",
    "    if cls is not None:\n",
    "        attrs['class'] = cls\n",
    "    if attrs:\n",
    "        attr_str = ' '.join(f\"{attr}='{value}'\" for attr, value in sorted(attrs.items()))\n",
    "    else:\n",
    "        attr_str = ''\n",
    "    if content:\n",
    "        return '\\n'.join(f\"<{name} {attr_str}>{c}</{name}>\" for c in content)\n",
    "    else:\n",
    "        return f\"<{name} {attr_str}/>\""
   ]
  },
  {
   "cell_type": "code",
   "execution_count": 12,
   "metadata": {},
   "outputs": [
    {
     "name": "stdout",
     "output_type": "stream",
     "text": [
      "<br />\n",
      "<p >hello</p>\n",
      "<p >hello</p>\n",
      "<p >world</p>\n",
      "<p id='33'>hello</p>\n",
      "<p class='sidebar' id='33'>world</p>\n",
      "<img class='framed' src='sunset.jpg' title='Sunset'/>\n",
      "<img class='framed' content='sunset' src='sunset.jpg' title='Sunset'/>\n"
     ]
    }
   ],
   "source": [
    "print(tag('br'))\n",
    "print(tag('p','hello'))\n",
    "print(tag('p', 'hello', 'world'))\n",
    "print(tag('p', 'hello', id=33))\n",
    "print(tag('p', 'world', cls='sidebar', id=33))\n",
    "\n",
    "my_tag = {'name': 'img', 'title': 'Sunset', 'src': 'sunset.jpg', 'cls': 'framed'}\n",
    "print(tag(**my_tag))\n",
    "\n",
    "my_tag1 = {'name': 'img', 'title': 'Sunset', 'src': 'sunset.jpg', 'cls': 'framed', 'content': 'sunset'}\n",
    "print(tag(**my_tag1))"
   ]
  },
  {
   "cell_type": "code",
   "execution_count": 13,
   "metadata": {},
   "outputs": [
    {
     "data": {
      "text/plain": [
       "(1, 2)"
      ]
     },
     "execution_count": 13,
     "metadata": {},
     "output_type": "execute_result"
    }
   ],
   "source": [
    "def f(a, *, b):\n",
    "    return a,b\n",
    "\n",
    "f(1, b=2)"
   ]
  },
  {
   "cell_type": "markdown",
   "metadata": {},
   "source": [
    "## 8 获取关于参数的信息"
   ]
  },
  {
   "cell_type": "code",
   "execution_count": 14,
   "metadata": {},
   "outputs": [],
   "source": [
    "def clip(text, max_len=80):\n",
    "    \"\"\"\n",
    "    在 max_len 前面或者后面的第一个空格处截断文本。\n",
    "    \"\"\"\n",
    "    end = None\n",
    "    if len(text) > max_len:\n",
    "        space_before = text.rfind(' ',0, max_len)\n",
    "        if space_before >= 0:\n",
    "            end = space_before\n",
    "        else:\n",
    "            space_after = text.rfind(' ', max_len)\n",
    "            if space_after >= 0:\n",
    "                end = space_after\n",
    "    if end is None:\n",
    "        end = len(text)\n",
    "    return text[:end].rstip()"
   ]
  },
  {
   "cell_type": "code",
   "execution_count": 15,
   "metadata": {},
   "outputs": [
    {
     "name": "stdout",
     "output_type": "stream",
     "text": [
      "(80,)\n",
      "<code object clip at 0x00000234E34CFAE0, file \"<ipython-input-14-af8ad0808fa8>\", line 1>\n",
      "('text', 'max_len', 'end', 'space_before', 'space_after')\n",
      "2\n"
     ]
    }
   ],
   "source": [
    "print(clip.__defaults__)\n",
    "print(clip.__code__)\n",
    "print(clip.__code__.co_varnames)  # 参数名称，包含函数内部的局部变量\n",
    "print(clip.__code__.co_argcount)  # 参数数量，不包含前缀为 * 和 ** 的变长参数 "
   ]
  },
  {
   "cell_type": "code",
   "execution_count": 16,
   "metadata": {},
   "outputs": [
    {
     "name": "stdout",
     "output_type": "stream",
     "text": [
      "(text, max_len=80)\n",
      "POSITIONAL_OR_KEYWORD ： text = <class 'inspect._empty'>\n",
      "POSITIONAL_OR_KEYWORD ： max_len = 80\n"
     ]
    }
   ],
   "source": [
    "# 提取函数名\n",
    "# 属性：name, kind, default, inspect.Parameter(annotation)\n",
    "from inspect import signature\n",
    "\n",
    "sig = signature(clip)\n",
    "print(sig)\n",
    "\n",
    "for name, param in sig.parameters.items():\n",
    "    print(param.kind, '：', name, '=', param.default)\n",
    "    \n",
    "# kind 的属性：\n",
    "# 1. POSITIONAL_OR_KEYWORD, 可以通过定位参数和关键字参数传入的形参\n",
    "# 2. VAR_POSITION， 定位参数元祖\n",
    "# 3. VAR_KEYWORD， 关键字参数字典\n",
    "# 4. KEYWORD_ONLY，仅限关键字参数\n",
    "# 5. POSITION_ONLY，仅限定位参数"
   ]
  },
  {
   "cell_type": "code",
   "execution_count": 17,
   "metadata": {},
   "outputs": [
    {
     "name": "stdout",
     "output_type": "stream",
     "text": [
      "(name, *content, cls=None, **attrs)\n",
      "<BoundArguments (name='img', cls='framed', attrs={'title': 'sunset boulevard', 'src': 'sunset.jpg'})>\n",
      "name = img\n",
      "cls = framed\n",
      "attrs = {'title': 'sunset boulevard', 'src': 'sunset.jpg'}\n",
      "missing a required argument: 'name'\n"
     ]
    }
   ],
   "source": [
    "import inspect\n",
    "\n",
    "sig = inspect.signature(tag)\n",
    "print(sig)\n",
    "\n",
    "my_tag = {'name': 'img', 'title': 'sunset boulevard', 'src': 'sunset.jpg', 'cls':'framed'}\n",
    "# inspect.Signature 对象有一个 bind 方法，可以把任意参数绑定到签名中的形参上，所用的规则与实参到形参的匹配方式一样。\n",
    "# 框架可以使用这个方法在真正调用函数前验证参数。\n",
    "bound_args = sig.bind(**my_tag)\n",
    "print(bound_args)\n",
    "for name, value in bound_args.arguments.items():\n",
    "    print(name, '=', value)\n",
    "    \n",
    "del my_tag['name']\n",
    "try:\n",
    "    bound_args = sig.bind(**my_tag)\n",
    "except Exception as e:\n",
    "    print(e)"
   ]
  },
  {
   "cell_type": "markdown",
   "metadata": {},
   "source": [
    "## 9 函数注解\n",
    "\n",
    "1. 参数有默认值，注解放在参数明和 = 号之间；\n",
    "2. 注解返回值：在()和:之间，添加 -> 和一个表达式，表达式可以是任何值，最常用的是类 `str` 和字符串 `'int>0'`;\n",
    "3. 注解不做任何处理，只是存储在函数的 `__annotations__` 属性"
   ]
  },
  {
   "cell_type": "code",
   "execution_count": 18,
   "metadata": {},
   "outputs": [],
   "source": [
    "def clip(text: str, max_len: 'int > 0'=80) -> str:\n",
    "    \"\"\"\n",
    "    在 max_len 前面或者后面的第一个空格处截断文本。\n",
    "    \"\"\"\n",
    "    end = None\n",
    "    if len(text) > max_len:\n",
    "        space_before = text.rfind(' ',0, max_len)\n",
    "        if space_before >= 0:\n",
    "            end = space_before\n",
    "        else:\n",
    "            space_after = text.rfind(' ', max_len)\n",
    "            if space_after >= 0:\n",
    "                end = space_after\n",
    "    if end is None:\n",
    "        end = len(text)\n",
    "    return text[:end].rstip()"
   ]
  },
  {
   "cell_type": "code",
   "execution_count": 19,
   "metadata": {},
   "outputs": [
    {
     "data": {
      "text/plain": [
       "{'text': str, 'max_len': 'int > 0', 'return': str}"
      ]
     },
     "execution_count": 19,
     "metadata": {},
     "output_type": "execute_result"
    }
   ],
   "source": [
    "clip.__annotations__"
   ]
  },
  {
   "cell_type": "code",
   "execution_count": 20,
   "metadata": {},
   "outputs": [
    {
     "name": "stdout",
     "output_type": "stream",
     "text": [
      "<class 'str'>\n",
      "<class 'str'> : text = <class 'inspect._empty'>\n",
      "'int > 0'     : max_len = 80\n"
     ]
    }
   ],
   "source": [
    "from inspect import signature\n",
    "sig = signature(clip)\n",
    "print(sig.return_annotation)\n",
    "\n",
    "for param in sig.parameters.values():\n",
    "    note = repr(param.annotation).ljust(13)\n",
    "    print(note, ':', param.name, '=', param.default)"
   ]
  },
  {
   "cell_type": "markdown",
   "metadata": {},
   "source": [
    "## 10 支持函数式编程的包"
   ]
  },
  {
   "cell_type": "code",
   "execution_count": null,
   "metadata": {},
   "outputs": [],
   "source": []
  },
  {
   "cell_type": "markdown",
   "metadata": {},
   "source": [
    "### 10.1 operator模块\n",
    "\n",
    "1. `mul`:\n",
    "2. `imatmul`:\n",
    "3. `matmul`:\n",
    "2. `itemgetter`: 根据元组的某个字段给元组列表排序；\n",
    "3. `attrgetter`: 根据名称提取对象的属性；\n",
    "4. `methodcaller`: 自行创建函数，创建的函数会在对象上调用参数指定的方法。还可以冻结部分参数。"
   ]
  },
  {
   "cell_type": "code",
   "execution_count": 21,
   "metadata": {},
   "outputs": [
    {
     "name": "stdout",
     "output_type": "stream",
     "text": [
      "1\n",
      "2\n",
      "6\n",
      "24\n",
      "120\n"
     ]
    }
   ],
   "source": [
    "# 使用 reduce 和 匿名函数计算阶乘\n",
    "from functools import reduce\n",
    "def fact(n):\n",
    "    return reduce(lambda a,b: a*b, range(1, n+1))\n",
    "\n",
    "for i in range(5):\n",
    "    print(fact(i+1))"
   ]
  },
  {
   "cell_type": "code",
   "execution_count": 22,
   "metadata": {},
   "outputs": [
    {
     "name": "stdout",
     "output_type": "stream",
     "text": [
      "1\t1\n",
      "2\t2\n",
      "3\t6\n",
      "4\t24\n",
      "5\t120\n"
     ]
    }
   ],
   "source": [
    "# 使用 reduce 和 operator.mul 函数计算阶乘\n",
    "from functools import reduce\n",
    "from operator import mul\n",
    "\n",
    "def fact(n):\n",
    "    return reduce(mul, range(1,n+1))\n",
    "\n",
    "for i in range(5):\n",
    "    print(f\"{i+1}\\t{fact(i+1)}\")"
   ]
  },
  {
   "cell_type": "code",
   "execution_count": 23,
   "metadata": {},
   "outputs": [
    {
     "name": "stdout",
     "output_type": "stream",
     "text": [
      "('guangzhou', 'Guangdong', 567234, (2345678, 7867))\n",
      "('shijiazhuang', 'Hebei', 23456, (34567, 3456))\n",
      "('wuhan', 'Hubei', 45678, (456, 7867))\n",
      "('nanjing', 'Jiangsu', 2345678, (234567, 7867))\n",
      "('jinan', 'Shangdong', 34567, (23456, 345))\n",
      "===============================================================\n",
      "('Hubei', 'wuhan')\n",
      "('Guangdong', 'guangzhou')\n",
      "('Hebei', 'shijiazhuang')\n",
      "('Shangdong', 'jinan')\n",
      "('Jiangsu', 'nanjing')\n"
     ]
    }
   ],
   "source": [
    "# 使用 itemgetter 排序一个元组列表\n",
    "metro_data = [\n",
    "    ('wuhan', 'Hubei', 45678, (456, 7867)),\n",
    "    ('guangzhou', 'Guangdong', 567234, (2345678, 7867)),\n",
    "    ('shijiazhuang', 'Hebei', 23456, (34567, 3456)),\n",
    "    ('jinan', 'Shangdong', 34567, (23456, 345)),\n",
    "    ('nanjing', 'Jiangsu', 2345678, (234567, 7867)),\n",
    "]\n",
    "\n",
    "from operator import itemgetter\n",
    "for city in sorted(metro_data, key=itemgetter(1)):\n",
    "    print(city)\n",
    "\n",
    "print(\"===============================================================\")\n",
    "# 把多个参数传给 itemgetter, 它构建的函数会返回提取值构成的元组\n",
    "cc_name = itemgetter(1,0)\n",
    "for city in metro_data:\n",
    "    print(cc_name(city))"
   ]
  },
  {
   "cell_type": "code",
   "execution_count": 24,
   "metadata": {},
   "outputs": [
    {
     "name": "stdout",
     "output_type": "stream",
     "text": [
      "Metropolis(name='wuhan', cc='Hubei', pop=45678, coord=Latlong(lat=456, long=7867))\n",
      "456\n",
      "name_lat:\toperator.attrgetter('name', 'coord.lat')\n",
      "('wuhan', 456)\n",
      "('jinan', 23456)\n",
      "('shijiazhuang', 34567)\n",
      "('nanjing', 234567)\n",
      "('guangzhou', 2345678)\n"
     ]
    }
   ],
   "source": [
    "from collections import namedtuple\n",
    "from operator import attrgetter\n",
    "\n",
    "LarLong = namedtuple('Latlong', 'lat long')\n",
    "Metropolis = namedtuple('Metropolis', 'name cc pop coord')\n",
    "metro_area = [Metropolis(name, cc, pop, LarLong(lat, long)) for name, cc, pop, (lat, long) in metro_data]\n",
    "print(metro_area[0])\n",
    "print(metro_area[0].coord.lat)\n",
    "\n",
    "name_lat = attrgetter('name', 'coord.lat')\n",
    "print(f\"name_lat:\\t{name_lat}\")\n",
    "\n",
    "for city in sorted(metro_area, key=attrgetter('coord.lat')):\n",
    "    print(name_lat(city))"
   ]
  },
  {
   "cell_type": "code",
   "execution_count": 25,
   "metadata": {},
   "outputs": [
    {
     "data": {
      "text/plain": [
       "['abs',\n",
       " 'add',\n",
       " 'and_',\n",
       " 'attrgetter',\n",
       " 'concat',\n",
       " 'contains',\n",
       " 'countOf',\n",
       " 'delitem',\n",
       " 'eq',\n",
       " 'floordiv',\n",
       " 'ge',\n",
       " 'getitem',\n",
       " 'gt',\n",
       " 'iadd',\n",
       " 'iand',\n",
       " 'iconcat',\n",
       " 'ifloordiv',\n",
       " 'ilshift',\n",
       " 'imatmul',\n",
       " 'imod',\n",
       " 'imul',\n",
       " 'index',\n",
       " 'indexOf',\n",
       " 'inv',\n",
       " 'invert',\n",
       " 'ior',\n",
       " 'ipow',\n",
       " 'irshift',\n",
       " 'is_',\n",
       " 'is_not',\n",
       " 'isub',\n",
       " 'itemgetter',\n",
       " 'itruediv',\n",
       " 'ixor',\n",
       " 'le',\n",
       " 'length_hint',\n",
       " 'lshift',\n",
       " 'lt',\n",
       " 'matmul',\n",
       " 'methodcaller',\n",
       " 'mod',\n",
       " 'mul',\n",
       " 'ne',\n",
       " 'neg',\n",
       " 'not_',\n",
       " 'or_',\n",
       " 'pos',\n",
       " 'pow',\n",
       " 'rshift',\n",
       " 'setitem',\n",
       " 'sub',\n",
       " 'truediv',\n",
       " 'truth',\n",
       " 'xor']"
      ]
     },
     "execution_count": 25,
     "metadata": {},
     "output_type": "execute_result"
    }
   ],
   "source": [
    "# operator 共52种\n",
    "import operator\n",
    "[name for name in dir(operator) if not name.startswith('_')]"
   ]
  },
  {
   "cell_type": "code",
   "execution_count": 26,
   "metadata": {},
   "outputs": [
    {
     "name": "stdout",
     "output_type": "stream",
     "text": [
      "THE TIME HAS COME\n",
      "the_time_has_come\n"
     ]
    }
   ],
   "source": [
    "# methodcaller: 自行创建函数，创建的函数会在对象上调用参数指定的方法。还可以冻结部分参数。\n",
    "from operator import methodcaller\n",
    "\n",
    "s = 'the time has come'\n",
    "upcase = methodcaller('upper')\n",
    "print(upcase(s))\n",
    "\n",
    "hiphenate = methodcaller('replace', ' ', '_')\n",
    "print(hiphenate(s))"
   ]
  },
  {
   "cell_type": "markdown",
   "metadata": {},
   "source": [
    "### 10.2 functools模块\n",
    "\n",
    "1. `partial`:\n",
    "2. `partialmethod`:\n",
    "3. `lru_cache`:"
   ]
  },
  {
   "cell_type": "code",
   "execution_count": 27,
   "metadata": {},
   "outputs": [
    {
     "name": "stdout",
     "output_type": "stream",
     "text": [
      "12\n",
      "15\n",
      "[3, 6, 9, 12, 15, 18, 21, 24, 27]\n"
     ]
    }
   ],
   "source": [
    "from operator import mul\n",
    "from functools import partial\n",
    "\n",
    "triple = partial(mul, 3)\n",
    "print(triple(4))\n",
    "print(triple(5))\n",
    "print(list(map(triple, range(1,10))))"
   ]
  },
  {
   "cell_type": "code",
   "execution_count": 28,
   "metadata": {},
   "outputs": [
    {
     "name": "stdout",
     "output_type": "stream",
     "text": [
      "café café\n",
      "False\n",
      "True\n"
     ]
    }
   ],
   "source": [
    "# 使用 partial 构建一个便利的 Unicode 规范化函数\n",
    "import unicodedata, functools\n",
    "\n",
    "nfc = functools.partial(unicodedata.normalize, 'NFC')\n",
    "s1 = 'café'\n",
    "s2 = 'cafe\\u0301'\n",
    "print(s1, s2)\n",
    "print(s1==s2)\n",
    "print(nfc(s1)==nfc(s2))"
   ]
  },
  {
   "cell_type": "code",
   "execution_count": 31,
   "metadata": {},
   "outputs": [
    {
     "name": "stdout",
     "output_type": "stream",
     "text": [
      "<img class='pic-frame' src='wumpus.jpeg'/>\n",
      "functools.partial(<function tag at 0x00000234E34D3D08>, 'img', cls='pic-frame')\n",
      "<function tag at 0x00000234E34D3D08>\n",
      "('img',)\n",
      "{'cls': 'pic-frame'}\n"
     ]
    }
   ],
   "source": [
    "# 将 partial 应用到 tag 上\n",
    "from functools import partial\n",
    "\n",
    "picture = partial(tag, 'img', cls='pic-frame')\n",
    "print(picture(src='wumpus.jpeg'))\n",
    "print(picture)\n",
    "print(picture.func)\n",
    "print(picture.args)\n",
    "print(picture.keywords)"
   ]
  }
 ],
 "metadata": {
  "kernelspec": {
   "display_name": "Python 3",
   "language": "python",
   "name": "python3"
  },
  "language_info": {
   "codemirror_mode": {
    "name": "ipython",
    "version": 3
   },
   "file_extension": ".py",
   "mimetype": "text/x-python",
   "name": "python",
   "nbconvert_exporter": "python",
   "pygments_lexer": "ipython3",
   "version": "3.6.5"
  }
 },
 "nbformat": 4,
 "nbformat_minor": 2
}
