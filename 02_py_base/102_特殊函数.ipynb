{
 "cells": [
  {
   "cell_type": "markdown",
   "metadata": {},
   "source": [
    "# content\n",
    "\n",
    "- assert\n",
    "- enum"
   ]
  },
  {
   "cell_type": "markdown",
   "metadata": {},
   "source": [
    "### assert (断言函数)\n",
    "\n",
    "- 作用：检查表达式的正确性，判断是否为True，否则抛出异常。\n",
    "\n",
    "- 格式：\n",
    "    1. `assert exception`\n",
    "    2. `assert exception1, exception2`\n",
    "\n",
    "- 等价于：\n",
    "\n",
    "    ```\n",
    "    if __debug__:\n",
    "        if not expression: raise AssertionError\n",
    "    ```\n",
    "- 应用场景：\n",
    "    1. 检查参数的合法性；\n",
    "    2. 排除非预期的结果。"
   ]
  },
  {
   "cell_type": "code",
   "execution_count": 1,
   "metadata": {},
   "outputs": [
    {
     "name": "stdout",
     "output_type": "stream",
     "text": [
      "Error: \n"
     ]
    }
   ],
   "source": [
    "#  1. 单一表达式\n",
    "a = -10\n",
    "try:\n",
    "    assert a > 0\n",
    "    print('[a = 10] assert a > 0', 'ok')\n",
    "except Exception as e:\n",
    "    print('Error:',e)"
   ]
  },
  {
   "cell_type": "code",
   "execution_count": 2,
   "metadata": {},
   "outputs": [
    {
     "name": "stdout",
     "output_type": "stream",
     "text": [
      "[a = 10,b = -1] assert a > 0 ok\n"
     ]
    }
   ],
   "source": [
    "#  2. 多表达式\n",
    "a = 10\n",
    "b = -2\n",
    "try:\n",
    "    assert a > 0, b < 0\n",
    "    print('[a = 10,b = -1] assert a > 0', 'ok')\n",
    "except Exception as e:\n",
    "    print('Error:',e)"
   ]
  },
  {
   "cell_type": "code",
   "execution_count": 3,
   "metadata": {},
   "outputs": [],
   "source": [
    "# 3. 尝试捕获 assert 异常\n",
    "\n",
    "import traceback\n",
    "\n",
    "def test(a):\n",
    "    try:\n",
    "        assert a < 0\n",
    "    except AssertionError as ae:    # 明确抛出此异常\n",
    "        # 抛出 AssertionError 不含任何信息，所以无法通过 ae.__str__()获取异常描述\n",
    "        print('[AssertionError]', ae, ae.__str__())\n",
    "\n",
    "        # 通过 traceback 打印详细异常信息\n",
    "        print('[traceback]')\n",
    "        traceback.print_exc()\n",
    "        \n",
    "    except: # 不会命中\n",
    "        print('assert except')\n",
    "\n",
    "    try:\n",
    "        raise AssertionError('test raise AssertionError')\n",
    "    except AssertionError as ae:\n",
    "        print('[raise AssertionError]', ae.__str__())"
   ]
  },
  {
   "cell_type": "code",
   "execution_count": 4,
   "metadata": {
    "scrolled": true
   },
   "outputs": [
    {
     "name": "stdout",
     "output_type": "stream",
     "text": [
      "[AssertionError]  \n",
      "[traceback]\n",
      "[raise AssertionError] test raise AssertionError\n"
     ]
    },
    {
     "name": "stderr",
     "output_type": "stream",
     "text": [
      "Traceback (most recent call last):\n",
      "  File \"<ipython-input-3-09e415c5da08>\", line 7, in test\n",
      "    assert a < 0\n",
      "AssertionError\n"
     ]
    }
   ],
   "source": [
    "test(5)"
   ]
  },
  {
   "cell_type": "code",
   "execution_count": 5,
   "metadata": {},
   "outputs": [
    {
     "name": "stdout",
     "output_type": "stream",
     "text": [
      "[my_div(10, 2)] 5.0\n",
      "Error: dividend 参数不能为0\n",
      "Error: division by zero\n"
     ]
    }
   ],
   "source": [
    "# 4. 示例：函数参数检查\n",
    "def my_div(value, dividend):\n",
    "    try:\n",
    "        assert dividend != 0\n",
    "    except Exception as e:\n",
    "        print('Error: dividend 参数不能为0')\n",
    "    return value / dividend\n",
    "\n",
    "print('[my_div(10, 2)]', my_div(10, 2))     # 执行成功\n",
    "try:\n",
    "    print('[my_div(10, 0)]', my_div(10, 0))     # 抛出异常\n",
    "except Exception as e:\n",
    "    print(f\"Error: {e}\")"
   ]
  },
  {
   "cell_type": "markdown",
   "metadata": {},
   "source": [
    "## enum 枚举\n",
    "\n",
    "### 0 概述\n",
    "1. 枚举是一组绑定到唯一常量值的符号名称。\n",
    "2. 在枚举中，可以通过标识比较成员，枚举本身可以迭代。\n",
    "\n",
    "#### 0.1 四个枚举类\n",
    "1. Enum: 创建枚举常量的基类。\n",
    "2. IntEnum: 用于创建也是子类的枚举常量的基类int。\n",
    "3. IntFlag: 用于创建枚举常量的基类，可以使用按位运算符进行组合，而不会丢失其IntFlag成员资格。 IntFlag成员也是子类int。\n",
    "4. Flag: 创建枚举常量的基类，可以使用按位运算进行组合，而不会丢失其Flag成员资格。\n",
    "5. enum.unique(): 装饰器，确保只有一个名称绑定到任何一个值。\n",
    "6. enum.auto：帮助器，实例被替换为Enum成员的适当值。"
   ]
  },
  {
   "cell_type": "code",
   "execution_count": 6,
   "metadata": {},
   "outputs": [],
   "source": [
    "from enum import Enum\n",
    "class Color(Enum):\n",
    "    RED = 1\n",
    "    GREEN = 2\n",
    "    BLUE = 3"
   ]
  },
  {
   "cell_type": "code",
   "execution_count": 7,
   "metadata": {},
   "outputs": [
    {
     "name": "stdout",
     "output_type": "stream",
     "text": [
      "Color.RED\n"
     ]
    }
   ],
   "source": [
    "print(Color.RED)"
   ]
  },
  {
   "cell_type": "code",
   "execution_count": 8,
   "metadata": {},
   "outputs": [
    {
     "data": {
      "text/plain": [
       "(<Color.RED: 1>, <enum 'Color'>, True)"
      ]
     },
     "execution_count": 8,
     "metadata": {},
     "output_type": "execute_result"
    }
   ],
   "source": [
    "Color.RED,  type(Color.RED), isinstance(Color.RED, Color)"
   ]
  },
  {
   "cell_type": "code",
   "execution_count": 9,
   "metadata": {},
   "outputs": [
    {
     "data": {
      "text/plain": [
       "('RED', 1)"
      ]
     },
     "execution_count": 9,
     "metadata": {},
     "output_type": "execute_result"
    }
   ],
   "source": [
    "# 属性\n",
    "Color.RED.name, Color.RED.value"
   ]
  },
  {
   "cell_type": "code",
   "execution_count": 10,
   "metadata": {},
   "outputs": [
    {
     "name": "stdout",
     "output_type": "stream",
     "text": [
      "Color.RED\n",
      "Color.GREEN\n",
      "Color.BLUE\n"
     ]
    }
   ],
   "source": [
    "# 枚举支持迭代\n",
    "for color in Color:\n",
    "    print(color)"
   ]
  },
  {
   "cell_type": "code",
   "execution_count": 11,
   "metadata": {},
   "outputs": [
    {
     "data": {
      "text/plain": [
       "True"
      ]
     },
     "execution_count": 11,
     "metadata": {},
     "output_type": "execute_result"
    }
   ],
   "source": [
    "# 枚举成员是可散列的，因此它们可以用在字典和集合中：\n",
    "apples = {}\n",
    "apples[Color.RED] = 'red delicious'\n",
    "apples[Color.GREEN] = 'granny smith'\n",
    "apples == {Color.RED: 'red delicious', Color.GREEN: 'granny smith'}"
   ]
  },
  {
   "cell_type": "code",
   "execution_count": 12,
   "metadata": {},
   "outputs": [
    {
     "data": {
      "text/plain": [
       "(<Color.RED: 1>, <Color.RED: 1>)"
      ]
     },
     "execution_count": 12,
     "metadata": {},
     "output_type": "execute_result"
    }
   ],
   "source": [
    "# 访问成员和属性\n",
    "Color(1), Color['RED']"
   ]
  },
  {
   "cell_type": "code",
   "execution_count": 13,
   "metadata": {},
   "outputs": [
    {
     "data": {
      "text/plain": [
       "('RED', 1)"
      ]
     },
     "execution_count": 13,
     "metadata": {},
     "output_type": "execute_result"
    }
   ],
   "source": [
    "member = Color.RED\n",
    "member.name, member.value"
   ]
  },
  {
   "cell_type": "code",
   "execution_count": 14,
   "metadata": {},
   "outputs": [
    {
     "data": {
      "text/plain": [
       "<enum 'Animal'>"
      ]
     },
     "execution_count": 14,
     "metadata": {},
     "output_type": "execute_result"
    }
   ],
   "source": [
    "Animal = Enum('Animal', 'ANT BEE CAT DOG')\n",
    "Animal"
   ]
  },
  {
   "cell_type": "code",
   "execution_count": 15,
   "metadata": {},
   "outputs": [
    {
     "data": {
      "text/plain": [
       "(<Animal.ANT: 1>, 1)"
      ]
     },
     "execution_count": 15,
     "metadata": {},
     "output_type": "execute_result"
    }
   ],
   "source": [
    "Animal.ANT, Animal.ANT.value"
   ]
  },
  {
   "cell_type": "code",
   "execution_count": 16,
   "metadata": {},
   "outputs": [
    {
     "data": {
      "text/plain": [
       "[<Animal.ANT: 1>, <Animal.BEE: 2>, <Animal.CAT: 3>, <Animal.DOG: 4>]"
      ]
     },
     "execution_count": 16,
     "metadata": {},
     "output_type": "execute_result"
    }
   ],
   "source": [
    "list(Animal)"
   ]
  },
  {
   "cell_type": "code",
   "execution_count": 17,
   "metadata": {},
   "outputs": [
    {
     "data": {
      "text/plain": [
       "[<Status.ok: 1>, <Status.not_found: 2>, <Status.error: 3>]"
      ]
     },
     "execution_count": 17,
     "metadata": {},
     "output_type": "execute_result"
    }
   ],
   "source": [
    "HTTPStatus = Enum('Status', 'ok not_found error')\n",
    "list(HTTPStatus)"
   ]
  },
  {
   "cell_type": "code",
   "execution_count": null,
   "metadata": {},
   "outputs": [],
   "source": []
  }
 ],
 "metadata": {
  "kernelspec": {
   "display_name": "Python 3",
   "language": "python",
   "name": "python3"
  },
  "language_info": {
   "codemirror_mode": {
    "name": "ipython",
    "version": 3
   },
   "file_extension": ".py",
   "mimetype": "text/x-python",
   "name": "python",
   "nbconvert_exporter": "python",
   "pygments_lexer": "ipython3",
   "version": "3.6.5"
  }
 },
 "nbformat": 4,
 "nbformat_minor": 2
}
