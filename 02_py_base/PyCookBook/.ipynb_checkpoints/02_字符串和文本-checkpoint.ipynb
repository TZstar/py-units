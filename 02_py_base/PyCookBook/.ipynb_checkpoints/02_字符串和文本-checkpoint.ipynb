{
 "cells": [
  {
   "cell_type": "markdown",
   "metadata": {},
   "source": [
    "# 2 字符串和文本"
   ]
  },
  {
   "cell_type": "markdown",
   "metadata": {},
   "source": [
    "## 2.1 使用多个界定符分割字符串"
   ]
  },
  {
   "cell_type": "code",
   "execution_count": 1,
   "metadata": {},
   "outputs": [
    {
     "data": {
      "text/plain": [
       "['asdf', 'fjdk', 'afed', 'fjek', 'asdf', 'foo']"
      ]
     },
     "execution_count": 1,
     "metadata": {},
     "output_type": "execute_result"
    }
   ],
   "source": [
    "import re\n",
    "line = 'asdf fjdk; afed, fjek,asdf, foo'\n",
    "re.split(r'[;,\\s]\\s*', line)"
   ]
  },
  {
   "cell_type": "markdown",
   "metadata": {},
   "source": [
    "## 2.2 字符串开头或结尾匹配"
   ]
  },
  {
   "cell_type": "code",
   "execution_count": 2,
   "metadata": {},
   "outputs": [
    {
     "name": "stdout",
     "output_type": "stream",
     "text": [
      "True\n",
      "True\n"
     ]
    }
   ],
   "source": [
    "# str 方法\n",
    "filename = 'spam.txt'\n",
    "print(filename.endswith('.txt'))\n",
    "\n",
    "url = 'http://www.python.org'\n",
    "print(url.startswith('http:'))"
   ]
  },
  {
   "cell_type": "code",
   "execution_count": 3,
   "metadata": {},
   "outputs": [
    {
     "name": "stdout",
     "output_type": "stream",
     "text": [
      "['.ipynb_checkpoints', '02_字符串和文本.ipynb']\n",
      "[]\n",
      "False\n"
     ]
    }
   ],
   "source": [
    "# os 方法\n",
    "import os\n",
    "filenames = os.listdir('.')  # 列出当前路径下所有文件名\n",
    "print(filenames)\n",
    "\n",
    "lst = [name for name in filenames if name.endswith(('.c', '.h')) ]\n",
    "print(lst)\n",
    "\n",
    "b = any(name.endswith('.py') for name in filenames)\n",
    "print(b)"
   ]
  },
  {
   "cell_type": "code",
   "execution_count": 4,
   "metadata": {},
   "outputs": [
    {
     "data": {
      "text/plain": [
       "True"
      ]
     },
     "execution_count": 4,
     "metadata": {},
     "output_type": "execute_result"
    }
   ],
   "source": [
    "# urllib  域名解析方法\n",
    "from urllib.request import urlopen\n",
    "\n",
    "def read_data(name):\n",
    "    if name.startswith(('http:', 'https:', 'ftp:')):\n",
    "        return urlopen(name).read()\n",
    "    else:\n",
    "        with open(name) as f:\n",
    "            return f.read()\n",
    "        \n",
    "choices = ['http:', 'ftp:']\n",
    "url = 'http://www.python.org'\n",
    "url.startswith(tuple(choices))"
   ]
  },
  {
   "cell_type": "markdown",
   "metadata": {},
   "source": [
    "## 2.3 用Shell通配符匹配字符串\n",
    "\n",
    "- `fnmatch` 库：\n",
    "    * `fnmatch()`:使用底层操作系统的大小写敏感规则(不同的系统是不一样的)来匹配模式。\n",
    "    * `fnmatchcase()`: 对于大小写统一敏感。\n",
    "    "
   ]
  },
  {
   "cell_type": "code",
   "execution_count": 5,
   "metadata": {},
   "outputs": [
    {
     "name": "stdout",
     "output_type": "stream",
     "text": [
      "True\n",
      "True\n",
      "True\n",
      "False\n"
     ]
    }
   ],
   "source": [
    "from fnmatch import fnmatch, fnmatchcase\n",
    "\n",
    "print(fnmatch('foo.txt', '*.txt'))\n",
    "\n",
    "print(fnmatch('foo.txt', '?oo.txt'))\n",
    "\n",
    "print(fnmatch('Dat45.csv', 'Dat[0-9]*'))\n",
    "\n",
    "names = ['Dat1.csv', 'Dat2.csv', 'config.ini', 'foo.py']\n",
    "res = [name for name in names if fnmatch(name, 'Dat*.csv')]\n",
    "res\n",
    "\n",
    "print(fnmatchcase('foo.txt', '*.TXT'))"
   ]
  },
  {
   "cell_type": "code",
   "execution_count": 6,
   "metadata": {},
   "outputs": [
    {
     "data": {
      "text/plain": [
       "['5412 N CLARK ST', '1060 W ADDISON ST', '2122 N CLARK ST']"
      ]
     },
     "metadata": {},
     "output_type": "display_data"
    },
    {
     "data": {
      "text/plain": [
       "['5412 N CLARK ST']"
      ]
     },
     "metadata": {},
     "output_type": "display_data"
    }
   ],
   "source": [
    "from fnmatch import fnmatchcase\n",
    "addresses = [\n",
    "    '5412 N CLARK ST',\n",
    "    '1060 W ADDISON ST',\n",
    "    '1039 W GRANVILLE AVE',\n",
    "    '2122 N CLARK ST',\n",
    "    '4802 N BROADWAY',\n",
    "]\n",
    "\n",
    "res = [addr for addr in addresses if fnmatchcase(addr, '* ST')]\n",
    "res1 = [addr for addr in addresses \n",
    "        if fnmatchcase(addr, '54[0-9][0-9] *CLARK*')]\n",
    "\n",
    "display(res, res1)"
   ]
  },
  {
   "cell_type": "markdown",
   "metadata": {},
   "source": [
    "## 2.4 字符串匹配和搜索\n",
    "\n",
    "- `str`: find\n",
    "- `re`: findall, match, search, 等"
   ]
  },
  {
   "cell_type": "code",
   "execution_count": 7,
   "metadata": {},
   "outputs": [
    {
     "name": "stdout",
     "output_type": "stream",
     "text": [
      "False\n",
      "True\n",
      "False\n",
      "10\n"
     ]
    }
   ],
   "source": [
    "text = 'yeah, but no, but yeah, but no, but yeah'\n",
    "\n",
    "print(text == 'yeah')\n",
    "print(text.startswith('yeah'))\n",
    "print(text.endswith('no'))\n",
    "print(text.find('no'))   # 返回频次"
   ]
  },
  {
   "cell_type": "markdown",
   "metadata": {},
   "source": [
    "## 2.5 字符串搜索和替换\n",
    "- `str`: \n",
    "    * `str.replace()`\n",
    "- `re`:\n",
    "    * `sub()`\n",
    "    * `subn()`: 替换，并返回替换次数"
   ]
  },
  {
   "cell_type": "code",
   "execution_count": 8,
   "metadata": {},
   "outputs": [
    {
     "data": {
      "text/plain": [
       "'yep, but no, but yep, but no, but yep'"
      ]
     },
     "execution_count": 8,
     "metadata": {},
     "output_type": "execute_result"
    }
   ],
   "source": [
    "text = 'yeah, but no, but yeah, but no, but yeah'\n",
    "new = text.replace('yeah', 'yep')\n",
    "new"
   ]
  },
  {
   "cell_type": "code",
   "execution_count": 9,
   "metadata": {},
   "outputs": [
    {
     "data": {
      "text/plain": [
       "'Today is 2012-11-27. PyCon starts 2013-3-13.'"
      ]
     },
     "execution_count": 9,
     "metadata": {},
     "output_type": "execute_result"
    }
   ],
   "source": [
    "import re\n",
    "\n",
    "text = 'Today is 11/27/2012. PyCon starts 3/13/2013.'\n",
    "new = re.sub(r'(\\d+)/(\\d+)/(\\d+)', r'\\3-\\1-\\2', text)\n",
    "\n",
    "new"
   ]
  },
  {
   "cell_type": "code",
   "execution_count": 10,
   "metadata": {},
   "outputs": [
    {
     "data": {
      "text/plain": [
       "'Today is 2012-11-27. PyCon starts 2013-3-13.'"
      ]
     },
     "metadata": {},
     "output_type": "display_data"
    },
    {
     "data": {
      "text/plain": [
       "'Today is 27 Nov 2012. PyCon starts 13 Mar 2013.'"
      ]
     },
     "metadata": {},
     "output_type": "display_data"
    }
   ],
   "source": [
    "# 复杂的替换，传递一个替换回调函数\n",
    "import re\n",
    "from calendar import month_abbr\n",
    "\n",
    "def change_date(m):\n",
    "    mon_name = month_abbr[int(m.group(1))]  # 将整数的月份 => 对应缩写\n",
    "    return f'{m.group(2)} {mon_name} {m.group(3)}'\n",
    "\n",
    "datepat = re.compile(r'(\\d+)/(\\d+)/(\\d+)')\n",
    "new1 = datepat.sub(r'\\3-\\1-\\2', text)\n",
    "new2 = datepat.sub(change_date, text)  # 传入 search 对象\n",
    "\n",
    "display(new1, new2)"
   ]
  },
  {
   "cell_type": "markdown",
   "metadata": {},
   "source": [
    "## 2.6 字符串忽略大小写的搜索替换\n",
    "\n",
    "- `re`: flags=re.IGNORECASE"
   ]
  },
  {
   "cell_type": "code",
   "execution_count": 11,
   "metadata": {},
   "outputs": [
    {
     "data": {
      "text/plain": [
       "['PYTHON', 'python', 'Python']"
      ]
     },
     "metadata": {},
     "output_type": "display_data"
    },
    {
     "data": {
      "text/plain": [
       "'UPPER snake, lower snake, Mixed snake'"
      ]
     },
     "metadata": {},
     "output_type": "display_data"
    }
   ],
   "source": [
    "text = 'UPPER PYTHON, lower python, Mixed Python'\n",
    "res = re.findall('python', text, flags=re.IGNORECASE)\n",
    "# 替换但是大小写不能保持一致\n",
    "new = re.sub('python', 'snake', text, flags=re.IGNORECASE)  \n",
    "\n",
    "display(res, new)"
   ]
  },
  {
   "cell_type": "code",
   "execution_count": 12,
   "metadata": {},
   "outputs": [
    {
     "data": {
      "text/plain": [
       "'WORD'"
      ]
     },
     "execution_count": 12,
     "metadata": {},
     "output_type": "execute_result"
    }
   ],
   "source": [
    "# 闭包\n",
    "def matchcase(word):\n",
    "    def replace(m):\n",
    "        text = m.group()\n",
    "        if text.isupper():\n",
    "            return word.upper()\n",
    "        elif text.islower():\n",
    "            return word.lower()\n",
    "        elif text[0].isupper():\n",
    "            return word.capitalize()\n",
    "        else:\n",
    "            return word\n",
    "    return replace\n",
    "\n",
    "f = matchcase('word')\n",
    "f(re.match('\\w+', 'ANE'))"
   ]
  },
  {
   "cell_type": "code",
   "execution_count": 13,
   "metadata": {},
   "outputs": [
    {
     "data": {
      "text/plain": [
       "'UPPER SNAKE, lower snake, Mixed Snake'"
      ]
     },
     "execution_count": 13,
     "metadata": {},
     "output_type": "execute_result"
    }
   ],
   "source": [
    "# 闭包替换\n",
    "re.sub('python', matchcase('snake'), text, flags=re.IGNORECASE)"
   ]
  },
  {
   "cell_type": "markdown",
   "metadata": {},
   "source": [
    "## 2.7 最短匹配模式"
   ]
  },
  {
   "cell_type": "code",
   "execution_count": 14,
   "metadata": {},
   "outputs": [
    {
     "data": {
      "text/plain": [
       "['no.']"
      ]
     },
     "metadata": {},
     "output_type": "display_data"
    },
    {
     "data": {
      "text/plain": [
       "['no.', 'yes.']"
      ]
     },
     "metadata": {},
     "output_type": "display_data"
    }
   ],
   "source": [
    "str_pat = re.compile(r'\"(.*?)\"')\n",
    "\n",
    "text1 = 'Computer says \"no.\"'\n",
    "res1 = str_pat.findall(text1)\n",
    "\n",
    "text2 = 'Computer says \"no.\" Phone says \"yes.\"'\n",
    "res2 = str_pat.findall(text2)\n",
    "\n",
    "display(res1, res2)"
   ]
  },
  {
   "cell_type": "markdown",
   "metadata": {},
   "source": [
    "## 2.8 多行匹配模式\n",
    "\n",
    "- `(?:.|\\n)`：非捕获组(也就是它定义了一个仅仅用来做匹配，而不能通过单独捕获或者编号的组)\n",
    "- `re.DOTALL`：可匹配包含换行符的字符"
   ]
  },
  {
   "cell_type": "code",
   "execution_count": 15,
   "metadata": {},
   "outputs": [
    {
     "data": {
      "text/plain": [
       "[' this is a comment ']"
      ]
     },
     "metadata": {},
     "output_type": "display_data"
    },
    {
     "data": {
      "text/plain": [
       "[]"
      ]
     },
     "metadata": {},
     "output_type": "display_data"
    }
   ],
   "source": [
    "comment = re.compile(r'/\\*(.*?)\\*/')\n",
    "text1 = '/* this is a comment */'\n",
    "text2 = '''\n",
    "    /* this is a\n",
    "    multiline comment */\n",
    "    '''\n",
    "res1 = comment.findall(text1)\n",
    "res2 = comment.findall(text2)\n",
    "\n",
    "display(res1, res2)"
   ]
  },
  {
   "cell_type": "code",
   "execution_count": 16,
   "metadata": {},
   "outputs": [
    {
     "data": {
      "text/plain": [
       "[' this is a\\n    multiline comment ']"
      ]
     },
     "execution_count": 16,
     "metadata": {},
     "output_type": "execute_result"
    }
   ],
   "source": [
    "comment = re.compile(r'/\\*((?:.|\\n)*?)\\*/')\n",
    "text2 = '''\n",
    "    /* this is a\n",
    "    multiline comment */\n",
    "    '''\n",
    "res2 = comment.findall(text2)\n",
    "res2"
   ]
  },
  {
   "cell_type": "code",
   "execution_count": 17,
   "metadata": {},
   "outputs": [
    {
     "data": {
      "text/plain": [
       "[' this is a\\n    multiline comment ']"
      ]
     },
     "execution_count": 17,
     "metadata": {},
     "output_type": "execute_result"
    }
   ],
   "source": [
    "comment = re.compile(r'/\\*(.*?)\\*/', re.DOTALL)\n",
    "comment.findall(text2)"
   ]
  },
  {
   "cell_type": "markdown",
   "metadata": {},
   "source": [
    "# 2.9 将Unicode文本标准化\n",
    "\n",
    "`Unicode` 某些字符能够用多个合法的编码表示。\n",
    "\n",
    "- `unicodedata`:\n",
    "    * `normalize(form, unistr, /)`: 按照一种标准化模式，标准化字符；\n",
    "    * `combining(chr, /)`: \n"
   ]
  },
  {
   "cell_type": "code",
   "execution_count": 18,
   "metadata": {},
   "outputs": [
    {
     "name": "stdout",
     "output_type": "stream",
     "text": [
      "s1 \t\t Spicy Jalapeño\n",
      "s2 \t\t Spicy Jalapeño\n",
      "s1 == s2 \t False\n",
      "len(s1) \t 14\n",
      "len(s2) \t 15\n"
     ]
    }
   ],
   "source": [
    "s1 = 'Spicy Jalape\\u00f1o'\n",
    "s2 = 'Spicy Jalapen\\u0303o'\n",
    "\n",
    "print(f\"s1 \\t\\t {s1}\")\n",
    "print(f\"s2 \\t\\t {s2}\")\n",
    "print(f\"s1 == s2 \\t {s1 == s2}\")\n",
    "print(f\"len(s1) \\t {len(s1)}\")\n",
    "print(f\"len(s2) \\t {len(s2)}\")"
   ]
  },
  {
   "cell_type": "code",
   "execution_count": 19,
   "metadata": {},
   "outputs": [
    {
     "name": "stdout",
     "output_type": "stream",
     "text": [
      "t1 \t\t Spicy Jalapeño\n",
      "t2 \t\t Spicy Jalapeño\n",
      "ascii(t1) \t 'Spicy Jalape\\xf1o'\n",
      "ascii(t2) \t 'Spicy Jalape\\xf1o'\n",
      "t1 == t2 \t True\n",
      "t3 \t\t Spicy Jalapeño\n",
      "t4 \t\t Spicy Jalapeño\n",
      "ascii(t3) \t 'Spicy Jalapen\\u0303o'\n",
      "ascii(t4) \t 'Spicy Jalapen\\u0303o'\n",
      "t3 == t4 \t True\n"
     ]
    }
   ],
   "source": [
    "import unicodedata\n",
    "\n",
    "# NFC   字符应该是整体组成(比如可能的话就使用单一编码)\n",
    "t1 = unicodedata.normalize('NFC', s1)\n",
    "t2 = unicodedata.normalize('NFC', s2)\n",
    "print(f\"t1 \\t\\t {t1}\")\n",
    "print(f\"t2 \\t\\t {t2}\")\n",
    "print(f\"ascii(t1) \\t {ascii(t1)}\")\n",
    "print(f\"ascii(t2) \\t {ascii(t2)}\")\n",
    "print(f\"t1 == t2 \\t {t1 == t2}\")\n",
    "\n",
    "# NFD   字符应该分解为多个组合字符表示。\n",
    "t3 = unicodedata.normalize('NFD', s1)\n",
    "t4 = unicodedata.normalize('NFD', s2)\n",
    "print(f\"t3 \\t\\t {t3}\")\n",
    "print(f\"t4 \\t\\t {t4}\")\n",
    "print(f\"ascii(t3) \\t {ascii(t3)}\")\n",
    "print(f\"ascii(t4) \\t {ascii(t4)}\")\n",
    "print(f\"t3 == t4 \\t {t3 == t4}\")\n"
   ]
  },
  {
   "cell_type": "code",
   "execution_count": 20,
   "metadata": {},
   "outputs": [
    {
     "data": {
      "text/plain": [
       "'ﬁ'"
      ]
     },
     "metadata": {},
     "output_type": "display_data"
    },
    {
     "data": {
      "text/plain": [
       "'fi'"
      ]
     },
     "metadata": {},
     "output_type": "display_data"
    },
    {
     "data": {
      "text/plain": [
       "'fi'"
      ]
     },
     "metadata": {},
     "output_type": "display_data"
    }
   ],
   "source": [
    "# 其他模式\n",
    "s = '\\ufb01'\n",
    "\n",
    "t1 = unicodedata.normalize('NFD', s)\n",
    "t2 = unicodedata.normalize('NFKD', s)\n",
    "t3 = unicodedata.normalize('NFKC', s)\n",
    "\n",
    "display(t1, t2, t3)"
   ]
  },
  {
   "cell_type": "markdown",
   "metadata": {},
   "source": [
    "- `unicodedata.combining`: 测试unicode字符是否为和音字符, 如果是则返回整数值0。"
   ]
  },
  {
   "cell_type": "code",
   "execution_count": 21,
   "metadata": {},
   "outputs": [
    {
     "name": "stdout",
     "output_type": "stream",
     "text": [
      "s1 \t Spicy Jalapeño\n",
      "t1 \t Spicy Jalapeño\n",
      "t2 \t Spicy Jalapeno\n"
     ]
    }
   ],
   "source": [
    "print(f\"s1 \\t {s1}\")\n",
    "t1 = unicodedata.normalize('NFD', s1)\n",
    "print(f\"t1 \\t {t1}\")\n",
    "t2 = ''.join(c for c in t1 if not unicodedata.combining(c))\n",
    "print(f\"t2 \\t {t2}\")"
   ]
  },
  {
   "cell_type": "markdown",
   "metadata": {},
   "source": [
    "## 2.10 在正则式中使用Unicode\n",
    "\n",
    "- 一般情况下，不混合使用 Unicode 和 正则。\n",
    "- `\\d` 可以匹配 unicode 的数字字符。\n",
    "- 使用 Unicode 对应字符进行匹配。"
   ]
  },
  {
   "cell_type": "code",
   "execution_count": 42,
   "metadata": {},
   "outputs": [
    {
     "name": "stdout",
     "output_type": "stream",
     "text": [
      "١٢٣\n",
      "b'\\xd9\\xa1\\xd9\\xa2\\xd9\\xa3'\n"
     ]
    },
    {
     "data": {
      "text/plain": [
       "'123'"
      ]
     },
     "metadata": {},
     "output_type": "display_data"
    },
    {
     "data": {
      "text/plain": [
       "'١٢٣'"
      ]
     },
     "metadata": {},
     "output_type": "display_data"
    }
   ],
   "source": [
    "import re\n",
    "import unicodedata\n",
    "\n",
    "num = re.compile('\\d+')\n",
    "res1 = num.match('123')\n",
    "\n",
    "u_str = '\\u0661\\u0662\\u0663'\n",
    "print(unicodedata.normalize('NFKC', u_str))\n",
    "\n",
    "utf_str = u_str.encode('utf-8')# 将 Unicode => utf-8\n",
    "print(utf_str)  \n",
    "\n",
    "res2 = num.match('\\u0661\\u0662\\u0663')\n",
    "\n",
    "display(res1.group(), res2.group())"
   ]
  },
  {
   "cell_type": "code",
   "execution_count": 50,
   "metadata": {},
   "outputs": [
    {
     "data": {
      "text/plain": [
       "<_sre.SRE_Match object; span=(0, 6), match='straße'>"
      ]
     },
     "metadata": {},
     "output_type": "display_data"
    },
    {
     "data": {
      "text/plain": [
       "None"
      ]
     },
     "metadata": {},
     "output_type": "display_data"
    },
    {
     "data": {
      "text/plain": [
       "'STRASSE'"
      ]
     },
     "metadata": {},
     "output_type": "display_data"
    }
   ],
   "source": [
    "# 忽略大小写 和 大小写转换\n",
    "pat = re.compile('stra\\u00dfe', re.IGNORECASE)\n",
    "s = 'straße'\n",
    "res1 = pat.match(s)\n",
    "res2 = pat.match(s.upper())\n",
    "s_u = s.upper()\n",
    "\n",
    "display(res1, res2, s_u)"
   ]
  },
  {
   "cell_type": "markdown",
   "metadata": {},
   "source": [
    "## 2.11 删除字符串中不需要的字符\n",
    "\n",
    "- `str`:\n",
    "    - `strip()`, `lstrip()`, `rstrip()`\n",
    "    - `replace`\n",
    "- `re`:  \n",
    "    - `sub`, `subn`"
   ]
  },
  {
   "cell_type": "code",
   "execution_count": null,
   "metadata": {},
   "outputs": [],
   "source": []
  },
  {
   "cell_type": "markdown",
   "metadata": {},
   "source": [
    "## 2.12 审查清理文本字符串\n",
    "\n",
    "- `str`:\n",
    "    - `translate(table)`: 传入替换的 map_dict"
   ]
  },
  {
   "cell_type": "code",
   "execution_count": 54,
   "metadata": {},
   "outputs": [
    {
     "name": "stdout",
     "output_type": "stream",
     "text": [
      "pýtĥöñ is awesome\n",
      "\n"
     ]
    }
   ],
   "source": [
    "s = 'pýtĥöñ\\fis\\tawesome\\r\\n'\n",
    "\n",
    "re_map = {\n",
    "    ord('\\t') : ' ',\n",
    "    ord('\\f') : ' ',\n",
    "    ord('\\r') : None      # Deleted\n",
    "}\n",
    "a = s.translate(re_map)\n",
    "print(a)"
   ]
  },
  {
   "cell_type": "markdown",
   "metadata": {},
   "source": [
    "- 删除所有的 **和音字符**"
   ]
  },
  {
   "cell_type": "code",
   "execution_count": 61,
   "metadata": {},
   "outputs": [
    {
     "name": "stdout",
     "output_type": "stream",
     "text": [
      "sys.maxunicode \t 1114111\n",
      "b \t pýtĥöñ is awesome\n",
      "\n",
      "b \t python is awesome\n",
      "\n"
     ]
    }
   ],
   "source": [
    "import unicodedata\n",
    "import sys\n",
    "\n",
    "print(f\"sys.maxunicode \\t {sys.maxunicode}\")   # 打印 Unicode 的字符\n",
    "# 构建字典 => Unicode和音字符：None\n",
    "cmb_chrs = dict.fromkeys(c for c in range(sys.maxunicode) \n",
    "                         if unicodedata.combining(chr(c)))\n",
    "b = unicodedata.normalize('NFD', a)\n",
    "print(f\"b \\t {b}\")\n",
    "\n",
    "b = b.translate(cmb_chrs)\n",
    "print(f\"b \\t {b}\")"
   ]
  },
  {
   "cell_type": "markdown",
   "metadata": {},
   "source": [
    "- 映射 Unicode 数字字符 => 对应 ASCII 字符"
   ]
  },
  {
   "cell_type": "code",
   "execution_count": 67,
   "metadata": {},
   "outputs": [
    {
     "name": "stdout",
     "output_type": "stream",
     "text": [
      "len(digitmap) \t 580\n",
      "res \t\t 123\n"
     ]
    }
   ],
   "source": [
    "digitmap = { c: ord('0') + unicodedata.digit(chr(c)) \n",
    "            for c in range(sys.maxunicode) \n",
    "            if unicodedata.category(chr(c)) == 'Nd' }\n",
    "print(f\"len(digitmap) \\t {len(digitmap)}\")\n",
    "\n",
    "x = '\\u0661\\u0662\\u0663'\n",
    "res = x.translate(digitmap)\n",
    "print(f\"res \\t\\t {res}\")"
   ]
  },
  {
   "cell_type": "markdown",
   "metadata": {},
   "source": [
    "- 结合 `encode()` 和 `decode()`"
   ]
  },
  {
   "cell_type": "code",
   "execution_count": 69,
   "metadata": {},
   "outputs": [
    {
     "name": "stdout",
     "output_type": "stream",
     "text": [
      "b_n \t python is awesome\n",
      "\n"
     ]
    }
   ],
   "source": [
    "b = unicodedata.normalize('NFD', a)\n",
    "b_n = b.encode('ascii', 'ignore').decode('ascii')\n",
    "\n",
    "print(f\"b_n \\t {b_n}\")"
   ]
  },
  {
   "cell_type": "markdown",
   "metadata": {},
   "source": [
    "##  2.13 字符串对齐\n",
    "\n",
    "- `str`: `ljust()`, `rjust()`, `center()`\n",
    "- `format()`: `<`, `>`, `^`"
   ]
  },
  {
   "cell_type": "code",
   "execution_count": 72,
   "metadata": {},
   "outputs": [
    {
     "name": "stdout",
     "output_type": "stream",
     "text": [
      "Hello World         \n",
      "         Hello World\n",
      "    Hello World     \n"
     ]
    }
   ],
   "source": [
    "text = 'Hello World'\n",
    "print(text.ljust(20))\n",
    "print(text.rjust(20))\n",
    "print(text.center(20))"
   ]
  },
  {
   "cell_type": "code",
   "execution_count": 73,
   "metadata": {},
   "outputs": [
    {
     "name": "stdout",
     "output_type": "stream",
     "text": [
      "=========Hello World\n",
      "****Hello World*****\n"
     ]
    }
   ],
   "source": [
    "# 空白填充指定字符\n",
    "print(text.rjust(20,'='))\n",
    "print(text.center(20,'*'))"
   ]
  },
  {
   "cell_type": "code",
   "execution_count": 75,
   "metadata": {},
   "outputs": [
    {
     "name": "stdout",
     "output_type": "stream",
     "text": [
      "         Hello World\n",
      "Hello World         \n",
      "    Hello World     \n"
     ]
    }
   ],
   "source": [
    "# format()\n",
    "print(format(text, '>20'))\n",
    "print(format(text, '<20'))\n",
    "print(format(text, '^20'))"
   ]
  },
  {
   "cell_type": "code",
   "execution_count": 77,
   "metadata": {},
   "outputs": [
    {
     "name": "stdout",
     "output_type": "stream",
     "text": [
      "=========Hello World\n",
      "****Hello World*****\n"
     ]
    }
   ],
   "source": [
    "# format()  带字符填充\n",
    "print(format(text, '=>20s'))\n",
    "print(format(text, '*^20s'))"
   ]
  },
  {
   "cell_type": "code",
   "execution_count": 80,
   "metadata": {},
   "outputs": [
    {
     "name": "stdout",
     "output_type": "stream",
     "text": [
      "=====hello==world===\n"
     ]
    }
   ],
   "source": [
    "# 填充模式\n",
    "print(f\"{'hello':=>10s}{'world':=^10s}\")"
   ]
  },
  {
   "cell_type": "markdown",
   "metadata": {},
   "source": [
    "## 2.14 合并拼接字符串\n",
    "\n",
    "- `join`"
   ]
  },
  {
   "cell_type": "code",
   "execution_count": null,
   "metadata": {},
   "outputs": [],
   "source": []
  },
  {
   "cell_type": "markdown",
   "metadata": {},
   "source": [
    "- 高性能方案"
   ]
  },
  {
   "cell_type": "code",
   "execution_count": 82,
   "metadata": {},
   "outputs": [
    {
     "data": {
      "text/plain": [
       "'IsChicagoNotChicago?'"
      ]
     },
     "execution_count": 82,
     "metadata": {},
     "output_type": "execute_result"
    }
   ],
   "source": [
    "def sample():\n",
    "    yield 'Is'\n",
    "    yield 'Chicago'\n",
    "    yield 'Not'\n",
    "    yield 'Chicago?'\n",
    "    \n",
    "# 结合 I/O 操作\n",
    "# for part in sample():\n",
    "#     f.write(part)\n",
    "    \n",
    "text = ''.join(sample())\n",
    "text"
   ]
  },
  {
   "cell_type": "code",
   "execution_count": 85,
   "metadata": {},
   "outputs": [],
   "source": [
    "# 大文件 I/O 方案\n",
    "def combine(source, maxsize):\n",
    "    parts = []\n",
    "    size = 0\n",
    "    for part in source:\n",
    "        parts.append(part)\n",
    "        size += len(part)\n",
    "        if size > maxsize:\n",
    "            yield ''.join(parts)\n",
    "            parts = []\n",
    "            size = 0\n",
    "    yield ''.join(parts)\n",
    "\n",
    "# 结合文件操作\n",
    "with open('filename', 'w') as f:\n",
    "    for part in combine(sample(), 32768):\n",
    "        f.write(part)"
   ]
  },
  {
   "cell_type": "markdown",
   "metadata": {},
   "source": []
  },
  {
   "cell_type": "code",
   "execution_count": null,
   "metadata": {},
   "outputs": [],
   "source": []
  }
 ],
 "metadata": {
  "kernelspec": {
   "display_name": "Python 3",
   "language": "python",
   "name": "python3"
  },
  "language_info": {
   "codemirror_mode": {
    "name": "ipython",
    "version": 3
   },
   "file_extension": ".py",
   "mimetype": "text/x-python",
   "name": "python",
   "nbconvert_exporter": "python",
   "pygments_lexer": "ipython3",
   "version": "3.6.5"
  }
 },
 "nbformat": 4,
 "nbformat_minor": 2
}
