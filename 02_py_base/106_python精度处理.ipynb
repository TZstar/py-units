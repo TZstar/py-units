{
 "cells": [
  {
   "cell_type": "code",
   "execution_count": 7,
   "metadata": {},
   "outputs": [
    {
     "name": "stdout",
     "output_type": "stream",
     "text": [
      "Decimal(5.55) \t\t\t 5.54999999999999982236431605997495353221893310546875\n",
      "Decimal(5) \t\t\t 5\n",
      "Decimal('5.55') \t\t 5.55\n",
      "Decimal.from_float(2.22) \t 2.220000000000000195399252334027551114559173583984375\n",
      "0.142857\n",
      "50.57\n",
      "3.4\n"
     ]
    }
   ],
   "source": [
    "from decimal import Decimal, getcontext\n",
    "\n",
    "# 传入浮点数，精度有误差\n",
    "print(f\"Decimal(5.55) \\t\\t\\t {Decimal(5.55)}\")   \n",
    "print(f\"Decimal(5) \\t\\t\\t {Decimal(5)}\") \n",
    "# 传入字符串，存储数据不变\n",
    "print(f\"Decimal('5.55') \\t\\t {Decimal('5.55')}\")  \n",
    "\n",
    "# Decimal.from_float() 存储不精确\n",
    "print(f\"Decimal.from_float(2.22) \\t {Decimal.from_float(2.22)}\")  \n",
    "\n",
    "# 指定精度\n",
    "getcontext().prec = 6\n",
    "print(Decimal(1)/Decimal(7))\n",
    "\n",
    "# 四舍五入，保留几位小数\n",
    "d = Decimal('50.5679').quantize(Decimal('0.00'))\n",
    "print(d)\n",
    "\n",
    "d1 = str(Decimal('3.40').quantize(Decimal('0.0')))\n",
    "print(d1)b"
   ]
  },
  {
   "cell_type": "code",
   "execution_count": 14,
   "metadata": {},
   "outputs": [
    {
     "name": "stdout",
     "output_type": "stream",
     "text": [
      "d=6.30 \t\t type=<class 'decimal.Decimal'>\n",
      "d1=6.3 \t\t type=<class 'decimal.Decimal'>\n",
      "0.3333\n"
     ]
    }
   ],
   "source": [
    "from decimal import Decimal, getcontext\n",
    "\n",
    "d = Decimal('4.20') + Decimal('2.10')\n",
    "print(f\"d={d} \\t\\t type={type(d)}\")\n",
    "\n",
    "x = 4.20\n",
    "y = 2.10\n",
    "d1 = Decimal(str(x)) + Decimal(str(y))\n",
    "print(f\"d1={d1} \\t\\t type={type(d1)}\")\n",
    "\n",
    "#设置精度\n",
    "getcontext().prec = 4 \n",
    "print(Decimal('1.00') /Decimal('3.0'))"
   ]
  },
  {
   "cell_type": "code",
   "execution_count": 39,
   "metadata": {},
   "outputs": [
    {
     "name": "stdout",
     "output_type": "stream",
     "text": [
      "-5.55556\n",
      "-5.5556\n",
      "-5.5556\n",
      "-5.5555\n",
      "-5.5556\n",
      "-5.5556\n",
      "-5.5555\n"
     ]
    }
   ],
   "source": [
    "# round\n",
    "from decimal import *\n",
    "\n",
    "getcontext().prec = 6 \n",
    "x = Decimal('-3.333333333') + Decimal('-2.222222222')\n",
    "print(x)   # -5.555555555\n",
    "print(x.quantize(Decimal('1.0000'), ROUND_HALF_EVEN))    # 5.5556\n",
    "print(x.quantize(Decimal('1.0000'), ROUND_HALF_DOWN))    # 5.5556\n",
    "print(x.quantize(Decimal('1.0000'), ROUND_CEILING))      # 5.5556\n",
    "print(x.quantize(Decimal('1.0000'), ROUND_FLOOR))        # 5.5555\n",
    "print(x.quantize(Decimal('1.0000'), ROUND_UP))           # 5.5556\n",
    "print(x.quantize(Decimal('1.0000'), ROUND_DOWN))         # 5.5555"
   ]
  },
  {
   "cell_type": "code",
   "execution_count": 40,
   "metadata": {},
   "outputs": [
    {
     "name": "stdout",
     "output_type": "stream",
     "text": [
      "4.44444\n",
      "4.4444\n",
      "4.4444\n",
      "4.4445\n",
      "4.4444\n",
      "4.4445\n",
      "4.4444\n"
     ]
    }
   ],
   "source": [
    "x = Decimal('3.333333333') + Decimal('1.111111111')\n",
    "print(x)   # 4.444444444\n",
    "print(x.quantize(Decimal('1.0000'), ROUND_HALF_EVEN))    # 4.4444\n",
    "print(x.quantize(Decimal('1.0000'), ROUND_HALF_DOWN))    # 4.4444\n",
    "print(x.quantize(Decimal('1.0000'), ROUND_CEILING))      # 4.4445\n",
    "print(x.quantize(Decimal('1.0000'), ROUND_FLOOR))        # 4.4444\n",
    "print(x.quantize(Decimal('1.0000'), ROUND_UP))           # 4.4445\n",
    "print(x.quantize(Decimal('1.0000'), ROUND_DOWN))         # 4.4444"
   ]
  },
  {
   "cell_type": "code",
   "execution_count": 35,
   "metadata": {},
   "outputs": [
    {
     "data": {
      "text/plain": [
       "Decimal('-4.44')"
      ]
     },
     "execution_count": 35,
     "metadata": {},
     "output_type": "execute_result"
    }
   ],
   "source": [
    "x = Decimal('-3.333333333') + Decimal('-1.111111111')\n",
    "x.quantize(Decimal('.01'), rounding=ROUND_DOWN)"
   ]
  },
  {
   "cell_type": "code",
   "execution_count": 41,
   "metadata": {},
   "outputs": [
    {
     "name": "stdout",
     "output_type": "stream",
     "text": [
      "7.32\n",
      "8\n"
     ]
    }
   ],
   "source": [
    "d = Decimal('7.325')\n",
    "print(d.quantize(Decimal('.01'), rounding=ROUND_DOWN))\n",
    "print(d.quantize(Decimal('1.'), rounding=ROUND_UP))"
   ]
  }
 ],
 "metadata": {
  "kernelspec": {
   "display_name": "Python 3",
   "language": "python",
   "name": "python3"
  },
  "language_info": {
   "codemirror_mode": {
    "name": "ipython",
    "version": 3
   },
   "file_extension": ".py",
   "mimetype": "text/x-python",
   "name": "python",
   "nbconvert_exporter": "python",
   "pygments_lexer": "ipython3",
   "version": "3.6.5"
  }
 },
 "nbformat": 4,
 "nbformat_minor": 2
}
