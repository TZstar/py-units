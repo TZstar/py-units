{
 "cells": [
  {
   "cell_type": "markdown",
   "metadata": {},
   "source": [
    "### assert (断言函数)\n",
    "\n",
    "- 作用：检查表达式的正确性，判断是否为True，否则抛出异常。\n",
    "\n",
    "- 格式：\n",
    "    1. `assert exception`\n",
    "    2. `assert exception1, exception2`\n",
    "\n",
    "- 等价于：\n",
    "\n",
    "    ```\n",
    "    if __debug__:\n",
    "        if not expression: raise AssertionError\n",
    "    ```\n",
    "- 应用场景：\n",
    "    1. 检查参数的合法性；\n",
    "    2. 排除非预期的结果。"
   ]
  },
  {
   "cell_type": "code",
   "execution_count": 12,
   "metadata": {},
   "outputs": [
    {
     "name": "stdout",
     "output_type": "stream",
     "text": [
      "Error: \n"
     ]
    }
   ],
   "source": [
    "#  1. 单一表达式\n",
    "a = -10\n",
    "try:\n",
    "    assert a > 0\n",
    "    print('[a = 10] assert a > 0', 'ok')\n",
    "except Exception as e:\n",
    "    print('Error:',e)"
   ]
  },
  {
   "cell_type": "code",
   "execution_count": 15,
   "metadata": {},
   "outputs": [
    {
     "name": "stdout",
     "output_type": "stream",
     "text": [
      "[a = 10,b = -1] assert a > 0 ok\n"
     ]
    }
   ],
   "source": [
    "#  2. 多表达式\n",
    "a = 10\n",
    "b = -2\n",
    "try:\n",
    "    assert a > 0, b < 0\n",
    "    print('[a = 10,b = -1] assert a > 0', 'ok')\n",
    "except Exception as e:\n",
    "    print('Error:',e)"
   ]
  },
  {
   "cell_type": "code",
   "execution_count": 24,
   "metadata": {},
   "outputs": [],
   "source": [
    "# 3. 尝试捕获 assert 异常\n",
    "\n",
    "import traceback\n",
    "\n",
    "def test(a):\n",
    "    try:\n",
    "        assert a < 0\n",
    "    except AssertionError as ae:    # 明确抛出此异常\n",
    "        # 抛出 AssertionError 不含任何信息，所以无法通过 ae.__str__()获取异常描述\n",
    "        print('[AssertionError]', ae, ae.__str__())\n",
    "\n",
    "        # 通过 traceback 打印详细异常信息\n",
    "        print('[traceback]')\n",
    "        traceback.print_exc()\n",
    "        \n",
    "    except: # 不会命中\n",
    "        print('assert except')\n",
    "\n",
    "    try:\n",
    "        raise AssertionError('test raise AssertionError')\n",
    "    except AssertionError as ae:\n",
    "        print('[raise AssertionError]', ae.__str__())"
   ]
  },
  {
   "cell_type": "code",
   "execution_count": 25,
   "metadata": {
    "scrolled": true
   },
   "outputs": [
    {
     "name": "stdout",
     "output_type": "stream",
     "text": [
      "[AssertionError]  \n",
      "[traceback]\n",
      "[raise AssertionError] test raise AssertionError\n"
     ]
    },
    {
     "name": "stderr",
     "output_type": "stream",
     "text": [
      "Traceback (most recent call last):\n",
      "  File \"<ipython-input-24-70b250dedd30>\", line 7, in test\n",
      "    assert a < 0\n",
      "AssertionError\n"
     ]
    }
   ],
   "source": [
    "test(5)"
   ]
  },
  {
   "cell_type": "code",
   "execution_count": 28,
   "metadata": {},
   "outputs": [
    {
     "name": "stdout",
     "output_type": "stream",
     "text": [
      "[my_div(10, 2)] 5.0\n",
      "Error: dividend 参数不能为0\n"
     ]
    },
    {
     "ename": "ZeroDivisionError",
     "evalue": "division by zero",
     "output_type": "error",
     "traceback": [
      "\u001b[1;31m---------------------------------------------------------------------------\u001b[0m",
      "\u001b[1;31mZeroDivisionError\u001b[0m                         Traceback (most recent call last)",
      "\u001b[1;32m<ipython-input-28-df95e544adae>\u001b[0m in \u001b[0;36m<module>\u001b[1;34m()\u001b[0m\n\u001b[0;32m      8\u001b[0m \u001b[1;33m\u001b[0m\u001b[0m\n\u001b[0;32m      9\u001b[0m \u001b[0mprint\u001b[0m\u001b[1;33m(\u001b[0m\u001b[1;34m'[my_div(10, 2)]'\u001b[0m\u001b[1;33m,\u001b[0m \u001b[0mmy_div\u001b[0m\u001b[1;33m(\u001b[0m\u001b[1;36m10\u001b[0m\u001b[1;33m,\u001b[0m \u001b[1;36m2\u001b[0m\u001b[1;33m)\u001b[0m\u001b[1;33m)\u001b[0m     \u001b[1;31m# 执行成功\u001b[0m\u001b[1;33m\u001b[0m\u001b[0m\n\u001b[1;32m---> 10\u001b[1;33m \u001b[0mprint\u001b[0m\u001b[1;33m(\u001b[0m\u001b[1;34m'[my_div(10, 0)]'\u001b[0m\u001b[1;33m,\u001b[0m \u001b[0mmy_div\u001b[0m\u001b[1;33m(\u001b[0m\u001b[1;36m10\u001b[0m\u001b[1;33m,\u001b[0m \u001b[1;36m0\u001b[0m\u001b[1;33m)\u001b[0m\u001b[1;33m)\u001b[0m     \u001b[1;31m# 抛出异常\u001b[0m\u001b[1;33m\u001b[0m\u001b[0m\n\u001b[0m",
      "\u001b[1;32m<ipython-input-28-df95e544adae>\u001b[0m in \u001b[0;36mmy_div\u001b[1;34m(value, dividend)\u001b[0m\n\u001b[0;32m      5\u001b[0m     \u001b[1;32mexcept\u001b[0m \u001b[0mException\u001b[0m \u001b[1;32mas\u001b[0m \u001b[0me\u001b[0m\u001b[1;33m:\u001b[0m\u001b[1;33m\u001b[0m\u001b[0m\n\u001b[0;32m      6\u001b[0m         \u001b[0mprint\u001b[0m\u001b[1;33m(\u001b[0m\u001b[1;34m'Error: dividend 参数不能为0'\u001b[0m\u001b[1;33m)\u001b[0m\u001b[1;33m\u001b[0m\u001b[0m\n\u001b[1;32m----> 7\u001b[1;33m     \u001b[1;32mreturn\u001b[0m \u001b[0mvalue\u001b[0m \u001b[1;33m/\u001b[0m \u001b[0mdividend\u001b[0m\u001b[1;33m\u001b[0m\u001b[0m\n\u001b[0m\u001b[0;32m      8\u001b[0m \u001b[1;33m\u001b[0m\u001b[0m\n\u001b[0;32m      9\u001b[0m \u001b[0mprint\u001b[0m\u001b[1;33m(\u001b[0m\u001b[1;34m'[my_div(10, 2)]'\u001b[0m\u001b[1;33m,\u001b[0m \u001b[0mmy_div\u001b[0m\u001b[1;33m(\u001b[0m\u001b[1;36m10\u001b[0m\u001b[1;33m,\u001b[0m \u001b[1;36m2\u001b[0m\u001b[1;33m)\u001b[0m\u001b[1;33m)\u001b[0m     \u001b[1;31m# 执行成功\u001b[0m\u001b[1;33m\u001b[0m\u001b[0m\n",
      "\u001b[1;31mZeroDivisionError\u001b[0m: division by zero"
     ]
    }
   ],
   "source": [
    "# 4. 示例：函数参数检查\n",
    "def my_div(value, dividend):\n",
    "    try:\n",
    "        assert dividend != 0\n",
    "    except Exception as e:\n",
    "        print('Error: dividend 参数不能为0')\n",
    "    return value / dividend\n",
    "\n",
    "print('[my_div(10, 2)]', my_div(10, 2))     # 执行成功\n",
    "print('[my_div(10, 0)]', my_div(10, 0))     # 抛出异常"
   ]
  }
 ],
 "metadata": {
  "kernelspec": {
   "display_name": "Python 3",
   "language": "python",
   "name": "python3"
  },
  "language_info": {
   "codemirror_mode": {
    "name": "ipython",
    "version": 3
   },
   "file_extension": ".py",
   "mimetype": "text/x-python",
   "name": "python",
   "nbconvert_exporter": "python",
   "pygments_lexer": "ipython3",
   "version": "3.6.4"
  }
 },
 "nbformat": 4,
 "nbformat_minor": 2
}
