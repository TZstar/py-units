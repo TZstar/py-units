{
 "cells": [
  {
   "cell_type": "markdown",
   "metadata": {},
   "source": [
    "# 1 asyncio: BaseEventLoop"
   ]
  },
  {
   "cell_type": "markdown",
   "metadata": {},
   "source": [
    "## 目录\n",
    "- 18.5.1  Base Event Loop\n",
    "    - 18.5.1.1 运行事件循环\n",
    "\t- 18.5.1.2 调用\n",
    "\t- 18.5.1.3 Delayed calls\n",
    "\t- 18.5.1.4 Futures\n",
    "\t- 18.5.1.5 Tasks\n",
    "\t- 18.5.1.6 Creating connections \n",
    "\t- 18.5.1.7 Creating listening connections\n",
    "\t- 18.5.1.8 Watch file descriptors\n",
    "\t- 18.5.1.9 Low-level socket operations\n",
    "\t- 18.5.1.10  Resolve host name\n",
    "\t- 18.5.1.11  Connect pipes\n",
    "\t- 18.5.1.12  UNIX signals\n",
    "\t- 18.5.1.13  Executor\n",
    "\t- 18.5.1.14  Error Handling API\n",
    "\t- 18.5.1.15  Debug mode\n",
    "\t- 18.5.1.16  Server\n",
    "\t- 18.5.1.17  Handle\n",
    "\t- 18.5.1.18  Event loop examples\n",
    "        * 18.5.1.18.1  Hello World with call_soon()\n",
    "        * 18.5.1.18.2  Display the current date with call_later()\n",
    "        * 18.5.1.18.3  Watch a file descriptor for read events\n",
    "        * 18.5.1.18.4  Set signal handlers for SIGINT and SIGTERM"
   ]
  },
  {
   "cell_type": "markdown",
   "metadata": {},
   "source": [
    "`BaseEventLoop` 是由内核`asyncio`提供多种工具：\n",
    "    - 注册，执行，延迟处理；\n",
    "    - 创建服务器和客户端之间的传输通信；\n",
    "    - 启用子线程和与之相关的传输通信；\n",
    "    - 将耗费资源的函数响应给线程池。"
   ]
  },
  {
   "cell_type": "markdown",
   "metadata": {},
   "source": [
    "1. `class asyncio.BaseEventLoop`\n",
    "    - 具体实现细节的类，继承自 `AbstractEventLoop`类。\n",
    "    - `BaseEventLoop` 不应该被子类继承; 内部接口不稳定。\n",
    "    \n",
    "2. `class asyncio.AbstractEventLoop`\n",
    "    - `类不是线程安全的。`"
   ]
  },
  {
   "cell_type": "markdown",
   "metadata": {},
   "source": [
    "### 18.5.1.1 运行事件循环\n",
    "1. AbstractEventLoop.run_forever()\n",
    "2. AbstractEventLoop.run_until_complete(future)\n",
    "3. AbstractEventLoop.is_running()\n",
    "4. AbstractEventLoop.stop()\n",
    "5. AbstractEventLoop.is_closed()\n",
    "6. AbstractEventLoop.close()\n",
    "7. coroutine AbstractEventLoop.shutdown_asyncgens()"
   ]
  },
  {
   "cell_type": "markdown",
   "metadata": {},
   "source": [
    "### 18.5.1.2 调用\n",
    "1. AbstractEventLoop.call_soon(callback, * args)\n",
    "2. AbstractEventLoop.call_soon_threadsafe(callback, * args)"
   ]
  },
  {
   "cell_type": "markdown",
   "metadata": {},
   "source": [
    "### 18.5.1.3 延迟调用\n",
    "1. AbstractEventLoop.call_later(delay, callback, * args)\n",
    "2. AbstractEventLoop.call_at(when, callback, * args)\n",
    "3. AbstractEventLoop.time()"
   ]
  },
  {
   "cell_type": "markdown",
   "metadata": {},
   "source": [
    "### 18.5.1.4 future\n",
    "1. AbstractEventLoop.create_future()"
   ]
  },
  {
   "cell_type": "markdown",
   "metadata": {},
   "source": [
    "### 18.5.1.5 任务\n",
    "1. AbstractEventLoop.create_task(coro)\n",
    "2. AbstractEventLoop.set_task_factory(factory)\n",
    "3. AbstractEventLoop.get_task_factory()"
   ]
  },
  {
   "cell_type": "markdown",
   "metadata": {},
   "source": [
    "### 18.5.1.6 创建连接(待研究)  \n",
    "1. \n",
    "```\n",
    "coroutine AbstractEventLoop.create_connection(\n",
    "    protocol_factory, \n",
    "    host = None,\n",
    "    port = None, *,\n",
    "    ssl = None,\n",
    "    family = 0,\n",
    "    proto = 0,\n",
    "    flags = 0,\n",
    "    sock = None,\n",
    "    local_addr = None,\n",
    "    server_hostname = None)\n",
    "```\n",
    "2. \n",
    "```\n",
    "coroutine AbstractEventLoop.create_datagram_endpoint(\n",
    "    protocol_factory,\n",
    "    local_addr = None, \n",
    "    remote_addr = None, *, \n",
    "    family = 0, \n",
    "    proto = 0, \n",
    "    flags = 0, \n",
    "    reuse_address = None, \n",
    "    reuse_port = None, \n",
    "    allow_broadcast = None,\n",
    "    sock = None)\n",
    "```"
   ]
  },
  {
   "cell_type": "markdown",
   "metadata": {},
   "source": [
    "### 18.5.1.7 创建监听连接\n",
    "\n",
    "1. ```coroutine AbstractEventLoop.create_server(\n",
    "            protocol_factory,\n",
    "            host = None,\n",
    "            port = None, *,\n",
    "            family = socket.AF_UNSPEC,\n",
    "            flags = socket.AI_PASSIVE,\n",
    "            sock = None,\n",
    "            backlog = 100,\n",
    "            ssl = None,\n",
    "            reuse_address = None,\n",
    "            reuse_port = None)```\n",
    "2. ```coroutine AbstractEventLoop.create_unix_server(\n",
    "            protocol_factory, \n",
    "            path, *, \n",
    "            ssl=None, \n",
    "            sock=None, \n",
    "            backlog=100)```\n",
    "3. ```coroutine BaseEventLoop.connect_accepted_socket(\n",
    "            protocol_factory, \n",
    "            sock, *, \n",
    "            ssl=None)```"
   ]
  },
  {
   "cell_type": "markdown",
   "metadata": {},
   "source": [
    "### 18.5.1.8 观察文件描述符\n",
    "1. AbstractEventLoop.add_reader(fd, callback, *args)\n",
    "2. AbstractEventLoop.remove_reader(fd)\n",
    "3. AbstractEventLoop.add_writer(fd, callback, *args)\n",
    "4. AbstractEventLoop.remove_writer(fd)"
   ]
  },
  {
   "cell_type": "markdown",
   "metadata": {},
   "source": [
    "### 18.5.1.9 低级套接字操作\n",
    "1. coroutine AbstractEventLoop.sock_recv(sock, nbytes)\n",
    "2. coroutine AbstractEventLoop.sock_sendall(sock, data)\n",
    "3. coroutine AbstractEventLoop.sock_connect(sock, address)\n",
    "4. coroutine AbstractEventLoop.sock_accept(sock)"
   ]
  },
  {
   "cell_type": "markdown",
   "metadata": {},
   "source": [
    "### 18.5.1.10 解析主机名\n",
    "\n",
    "1. coroutine AbstractEventLoop.getaddrinfo(host, port, *, family=0, type=0, proto=0, flags=0)"
   ]
  },
  {
   "cell_type": "markdown",
   "metadata": {},
   "source": [
    "### 18.5.1.11 连接管道\n",
    "\n",
    "1. coroutine AbstractEventLoop.connect_read_pipe(protocol_factory, pipe)\n",
    "2. coroutine AbstractEventLoop.connect_write_pipe(protocol_factory, pipe)"
   ]
  },
  {
   "cell_type": "markdown",
   "metadata": {},
   "source": [
    "### 18.5.1.12 UNIX信号\n",
    "\n",
    "1. AbstractEventLoop.add_signal_handler(signum, callback, *args)\n",
    "2. AbstractEventLoop.remove_signal_handler(sig)"
   ]
  },
  {
   "cell_type": "markdown",
   "metadata": {},
   "source": [
    "### 18.5.1.13 Executor 线程池/进程池\n",
    "\n",
    "1. coroutine AbstractEventLoop.run_in_executor(executor, func, *args)\n",
    "2. AbstractEventLoop.set_default_executor(executor)"
   ]
  },
  {
   "cell_type": "markdown",
   "metadata": {},
   "source": [
    "### 18.5.1.14 错误处理\n",
    "1. AbstractEventLoop.set_exception_handler(handler)\n",
    "2. AbstractEventLoop.get_exception_handler()\n",
    "3. AbstractEventLoop.default_exception_handler(context)\n",
    "4. AbstractEventLoop.call_exception_handler(context)"
   ]
  },
  {
   "cell_type": "markdown",
   "metadata": {},
   "source": [
    "### 18.5.1.15 调试模式\n",
    "1. AbstractEventLoop.get_debug()\n",
    "2. AbstractEventLoop.set_debug(enabled: bool)"
   ]
  },
  {
   "cell_type": "markdown",
   "metadata": {},
   "source": [
    "### 18.5.1.16 服务器\n",
    "```\n",
    "class asyncio.Server\n",
    "    def close():\n",
    "    coroutine wait_closed:\n",
    "    sockets:\n",
    "```"
   ]
  },
  {
   "cell_type": "markdown",
   "metadata": {},
   "source": [
    "### 18.5.1.17 处理\n",
    "```\n",
    "class asyncio.Handle:\n",
    "    def cancel():\n",
    "```"
   ]
  },
  {
   "cell_type": "markdown",
   "metadata": {},
   "source": [
    "### 18.5.1.18 示例"
   ]
  },
  {
   "cell_type": "markdown",
   "metadata": {},
   "source": [
    "#### 18.5.1.18.1 Hello World with call_soon()"
   ]
  },
  {
   "cell_type": "code",
   "execution_count": 1,
   "metadata": {},
   "outputs": [
    {
     "name": "stdout",
     "output_type": "stream",
     "text": [
      "Hello World\n"
     ]
    }
   ],
   "source": [
    "import asyncio\n",
    "\n",
    "def hello_world(loop):\n",
    "    print('Hello World')\n",
    "    loop.stop()\n",
    "\n",
    "loop = asyncio.get_event_loop()\n",
    "\n",
    "# 排定调度计划\n",
    "loop.call_soon(hello_world, loop)\n",
    "\n",
    "# Blocking call interrupted by loop.stop()\n",
    "loop.run_forever()\n",
    "loop.close()"
   ]
  },
  {
   "cell_type": "markdown",
   "metadata": {},
   "source": [
    "#### 18.5.1.18.2 Display the current date with call_later()"
   ]
  },
  {
   "cell_type": "code",
   "execution_count": 2,
   "metadata": {},
   "outputs": [
    {
     "name": "stdout",
     "output_type": "stream",
     "text": [
      "2018-05-27 16:33:37.082851\n",
      "2018-05-27 16:33:38.083631\n",
      "2018-05-27 16:33:39.084488\n",
      "2018-05-27 16:33:40.085343\n",
      "2018-05-27 16:33:41.085809\n"
     ]
    }
   ],
   "source": [
    "import asyncio\n",
    "import datetime\n",
    "\n",
    "\n",
    "def display_date(end_time, loop):\n",
    "    print(datetime.datetime.now())\n",
    "    if (loop.time() + 1.0) < end_time:\n",
    "        loop.call_later(1, display_date, end_time, loop)\n",
    "    else:\n",
    "        loop.stop()\n",
    "\n",
    "loop_t2 = asyncio.get_event_loop()\n",
    "\n",
    "# Schedule the first call to display_date()\n",
    "end_time = loop_t2.time() + 5.0\n",
    "loop_t2.call_soon(display_date, end_time, loop_t2)\n",
    "\n",
    "# Blocking call interrupted by loop.stop()\n",
    "loop_t2.run_forever()\n",
    "# loop_t2.close()"
   ]
  },
  {
   "cell_type": "markdown",
   "metadata": {},
   "source": [
    "### 18.5.1.18.3 Watch a file descriptor for read events"
   ]
  },
  {
   "cell_type": "code",
   "execution_count": 3,
   "metadata": {},
   "outputs": [
    {
     "name": "stdout",
     "output_type": "stream",
     "text": [
      "Received: abc\n"
     ]
    }
   ],
   "source": [
    "import asyncio\n",
    "try:\n",
    "    from socket import socketpair\n",
    "except ImportError:\n",
    "    from asyncio.windows_utils import socketpair\n",
    "\n",
    "# Create a pair of connected file descriptors\n",
    "rsock, wsock = socketpair()\n",
    "loop = asyncio.get_event_loop()\n",
    "\n",
    "def reader():\n",
    "    data = rsock.recv(100)\n",
    "    print(\"Received:\", data.decode())\n",
    "    # We are done: unregister the file descriptor\n",
    "    loop.remove_reader(rsock)\n",
    "    # Stop the event loop\n",
    "    loop.stop()\n",
    "\n",
    "# Register the file descriptor for read event\n",
    "loop.add_reader(rsock, reader)\n",
    "\n",
    "# Simulate the reception of data from the network\n",
    "loop.call_soon(wsock.send, 'abc'.encode())\n",
    "\n",
    "# Run the event loop\n",
    "loop.run_forever()\n",
    "\n",
    "# We are done, close sockets and the event loop\n",
    "rsock.close()\n",
    "wsock.close()\n",
    "loop.close()"
   ]
  },
  {
   "cell_type": "markdown",
   "metadata": {},
   "source": [
    "### 18.5.1.18.4 Set signal handlers for SIGINT and SIGTERM"
   ]
  },
  {
   "cell_type": "code",
   "execution_count": 1,
   "metadata": {},
   "outputs": [
    {
     "ename": "NotImplementedError",
     "evalue": "",
     "output_type": "error",
     "traceback": [
      "\u001b[1;31m---------------------------------------------------------------------------\u001b[0m",
      "\u001b[1;31mNotImplementedError\u001b[0m                       Traceback (most recent call last)",
      "\u001b[1;32m<ipython-input-1-a59d6ab9feec>\u001b[0m in \u001b[0;36m<module>\u001b[1;34m()\u001b[0m\n\u001b[0;32m     12\u001b[0m     loop.add_signal_handler(\n\u001b[0;32m     13\u001b[0m         \u001b[0mgetattr\u001b[0m\u001b[1;33m(\u001b[0m\u001b[0msignal\u001b[0m\u001b[1;33m,\u001b[0m \u001b[0msigname\u001b[0m\u001b[1;33m)\u001b[0m\u001b[1;33m,\u001b[0m\u001b[1;33m\u001b[0m\u001b[0m\n\u001b[1;32m---> 14\u001b[1;33m         \u001b[0mfunctools\u001b[0m\u001b[1;33m.\u001b[0m\u001b[0mpartial\u001b[0m\u001b[1;33m(\u001b[0m\u001b[0mask_exit\u001b[0m\u001b[1;33m,\u001b[0m \u001b[0msigname\u001b[0m\u001b[1;33m)\u001b[0m\u001b[1;33m\u001b[0m\u001b[0m\n\u001b[0m\u001b[0;32m     15\u001b[0m     )\n\u001b[0;32m     16\u001b[0m \u001b[1;33m\u001b[0m\u001b[0m\n",
      "\u001b[1;32mc:\\python36\\lib\\asyncio\\events.py\u001b[0m in \u001b[0;36madd_signal_handler\u001b[1;34m(self, sig, callback, *args)\u001b[0m\n\u001b[0;32m    497\u001b[0m \u001b[1;33m\u001b[0m\u001b[0m\n\u001b[0;32m    498\u001b[0m     \u001b[1;32mdef\u001b[0m \u001b[0madd_signal_handler\u001b[0m\u001b[1;33m(\u001b[0m\u001b[0mself\u001b[0m\u001b[1;33m,\u001b[0m \u001b[0msig\u001b[0m\u001b[1;33m,\u001b[0m \u001b[0mcallback\u001b[0m\u001b[1;33m,\u001b[0m \u001b[1;33m*\u001b[0m\u001b[0margs\u001b[0m\u001b[1;33m)\u001b[0m\u001b[1;33m:\u001b[0m\u001b[1;33m\u001b[0m\u001b[0m\n\u001b[1;32m--> 499\u001b[1;33m         \u001b[1;32mraise\u001b[0m \u001b[0mNotImplementedError\u001b[0m\u001b[1;33m\u001b[0m\u001b[0m\n\u001b[0m\u001b[0;32m    500\u001b[0m \u001b[1;33m\u001b[0m\u001b[0m\n\u001b[0;32m    501\u001b[0m     \u001b[1;32mdef\u001b[0m \u001b[0mremove_signal_handler\u001b[0m\u001b[1;33m(\u001b[0m\u001b[0mself\u001b[0m\u001b[1;33m,\u001b[0m \u001b[0msig\u001b[0m\u001b[1;33m)\u001b[0m\u001b[1;33m:\u001b[0m\u001b[1;33m\u001b[0m\u001b[0m\n",
      "\u001b[1;31mNotImplementedError\u001b[0m: "
     ]
    }
   ],
   "source": [
    "import asyncio\n",
    "import functools\n",
    "import os\n",
    "import signal\n",
    "\n",
    "def ask_exit(signame):\n",
    "    print(\"got signal %s: exit\" % signame)\n",
    "    loop.stop()\n",
    "\n",
    "loop = asyncio.get_event_loop()\n",
    "for signame in ('SIGINT', 'SIGTERM'):\n",
    "    loop.add_signal_handler(\n",
    "        getattr(signal, signame),\n",
    "        functools.partial(ask_exit, signame)\n",
    "    )\n",
    "\n",
    "print(\"Event loop running forever, press Ctrl+C to interrupt.\")\n",
    "print(\"pid %s: send SIGINT or SIGTERM to exit.\" % os.getpid())\n",
    "try:\n",
    "    loop.run_forever()\n",
    "finally:\n",
    "    loop.close()"
   ]
  },
  {
   "cell_type": "markdown",
   "metadata": {},
   "source": [
    "## APIs\n",
    "\n",
    "1. `asyncio.Task`\n",
    "\n",
    "2. `asyncio.async()`\n",
    "3. `loop.create_task()`\n",
    "4. `loop.run_until_complte()`\n",
    "\n",
    "5. `Task.cancel`\n",
    "\n",
    "6. `asyncio.sleep(DELAY)`  \n",
    "功能：\n",
    "    * 非阻塞式的等待。\n",
    "    * 与`time.sleep(...)`的区别：`time.sleep(...)`除非想阻塞主线程，从而冻结事件循环或整个应用。\n",
    "    * `yield from asyncio.sleep(DELAY)`"
   ]
  },
  {
   "cell_type": "code",
   "execution_count": 1,
   "metadata": {},
   "outputs": [],
   "source": [
    "import asyncio"
   ]
  },
  {
   "cell_type": "code",
   "execution_count": null,
   "metadata": {},
   "outputs": [],
   "source": [
    "asyncio.Task"
   ]
  },
  {
   "cell_type": "code",
   "execution_count": null,
   "metadata": {},
   "outputs": [],
   "source": [
    "\n",
    "\n"
   ]
  }
 ],
 "metadata": {
  "kernelspec": {
   "display_name": "Python 3",
   "language": "python",
   "name": "python3"
  },
  "language_info": {
   "codemirror_mode": {
    "name": "ipython",
    "version": 3
   },
   "file_extension": ".py",
   "mimetype": "text/x-python",
   "name": "python",
   "nbconvert_exporter": "python",
   "pygments_lexer": "ipython3",
   "version": "3.6.4"
  }
 },
 "nbformat": 4,
 "nbformat_minor": 2
}
