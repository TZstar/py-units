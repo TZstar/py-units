{
 "cells": [
  {
   "cell_type": "code",
   "execution_count": null,
   "metadata": {},
   "outputs": [],
   "source": [
    "from pyecharts.base import Base\n",
    "from pyecharts import Bar, Line, Grid\n",
    "from test.constants import CLOTHES, WEEK\n",
    "from nose.tools import eq_\n",
    "\n",
    "UUID_HEX_LENGTH = 32\n",
    "\n",
    "\n",
    "def test_base_properties():\n",
    "    b = Base()\n",
    "    eq_(len(b.chart_id), UUID_HEX_LENGTH)\n",
    "    eq_(b.width, 800)\n",
    "    eq_(b.height, 400)\n",
    "    eq_(len(b.options), 0)  # empty\n",
    "    assert ('echarts' in b.js_dependencies) or \\\n",
    "           ('echarts.min' in b.js_dependencies)\n",
    "\n",
    "\n",
    "def test_chart_properties():\n",
    "    v1 = [5, 20, 36, 10, 75, 90]\n",
    "    v2 = [10, 25, 8, 60, 20, 80]\n",
    "    bar = Bar(\"柱状图-数据堆叠示例\", width=900, height=500)\n",
    "    bar.add(\"商家A\", CLOTHES, v1, is_stack=True)\n",
    "    bar.add(\"商家B\", CLOTHES, v2, is_stack=True)\n",
    "\n",
    "    eq_(len(bar.chart_id), UUID_HEX_LENGTH)\n",
    "    eq_(bar.width, 900)\n",
    "    eq_(bar.height, 500)\n",
    "    assert ('echarts' in bar.js_dependencies) or \\\n",
    "           ('echarts.min' in bar.js_dependencies)\n",
    "\n",
    "\n",
    "def test_grid_properties():\n",
    "    v1 = [5, 20, 36, 10, 75, 90]\n",
    "    v2 = [10, 25, 8, 60, 20, 80]\n",
    "    bar = Bar(\"柱状图示例\", height=720)\n",
    "    bar.add(\"商家A\", CLOTHES, v1, is_stack=True)\n",
    "    bar.add(\"商家B\", CLOTHES, v2, is_stack=True)\n",
    "    line = Line(\"折线图示例\", title_top=\"50%\")\n",
    "    line.add(\"最高气温\", WEEK, [11, 11, 15, 13, 12, 13, 10],\n",
    "             mark_point=[\"max\", \"min\"], mark_line=[\"average\"])\n",
    "    line.add(\"最低气温\", WEEK, [1, -2, 2, 5, 3, 2, 0],\n",
    "             mark_point=[\"max\", \"min\"], mark_line=[\"average\"],\n",
    "             legend_top=\"50%\")\n",
    "\n",
    "    grid = Grid(width=1024, height=768)\n",
    "    grid.add(bar, grid_bottom=\"60%\")\n",
    "    grid.add(line, grid_top=\"60%\")\n",
    "    eq_(grid.width, 1024)\n",
    "    eq_(grid.height, 768)\n",
    "    assert ('echarts' in bar.js_dependencies) or \\\n",
    "           ('echarts.min' in bar.js_dependencies)\n"
   ]
  }
 ],
 "metadata": {
  "kernelspec": {
   "display_name": "Python 3",
   "language": "python",
   "name": "python3"
  },
  "language_info": {
   "codemirror_mode": {
    "name": "ipython",
    "version": 3
   },
   "file_extension": ".py",
   "mimetype": "text/x-python",
   "name": "python",
   "nbconvert_exporter": "python",
   "pygments_lexer": "ipython3",
   "version": "3.6.2"
  }
 },
 "nbformat": 4,
 "nbformat_minor": 2
}
