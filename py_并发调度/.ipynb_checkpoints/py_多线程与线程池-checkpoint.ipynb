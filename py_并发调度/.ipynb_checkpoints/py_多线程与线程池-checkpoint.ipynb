{
 "cells": [
  {
   "cell_type": "markdown",
   "metadata": {},
   "source": [
    "# py_多线程与线程池\n",
    "\n",
    "1. `Threadpool`: \n",
    "2. `concurrent.futures.ThreadPoolExecutor`: "
   ]
  },
  {
   "cell_type": "code",
   "execution_count": 1,
   "metadata": {},
   "outputs": [
    {
     "name": "stdout",
     "output_type": "stream",
     "text": [
      "<Thread-6>线程的名字叫<A1>已经开启...\n",
      "<Thread-8>线程的名字叫<A2>已经开启...\n",
      "<Thread-7>线程的名字叫<A3>已经开启...\n",
      "<Thread-6>线程的名字叫<A1>已经结束！\n",
      "<Thread-6>线程的名字叫<A4>已经开启...\n",
      "<Thread-8>线程的名字叫<A2>已经结束！\n",
      "<Thread-8>线程的名字叫<A5>已经开启...\n",
      "<Thread-7>线程的名字叫<A3>已经结束！\n",
      "<Thread-6>线程的名字叫<A4>已经结束！\n",
      "<Thread-8>线程的名字叫<A5>已经结束！\n"
     ]
    }
   ],
   "source": [
    "# 案例1：单个参数，传入列表\n",
    "# 线程响应函数\n",
    "import time\n",
    "import threading\n",
    "\n",
    "import threadpool\n",
    "\n",
    "\n",
    "def invite(name):\n",
    "    tname = threading.current_thread().name\n",
    "    print(f\"<{tname}>线程的名字叫<{name}>已经开启...\")\n",
    "    time.sleep(3)\n",
    "    print(f\"<{tname}>线程的名字叫<{name}>已经结束！\")\n",
    "\n",
    "\n",
    "def simpleThreadPool():\n",
    "    # 创建最大线程为3的线程对象以及线程请求\n",
    "    mypool = threadpool.ThreadPool(3)\n",
    "    call_args = ['A'+str(i+1) for i in range(5)]\n",
    "    request = threadpool.makeRequests(invite, call_args)\n",
    "\n",
    "    for req in request:\n",
    "        mypool.putRequest(req)\n",
    "\n",
    "    mypool.wait()\n",
    "    \n",
    "simpleThreadPool()"
   ]
  },
  {
   "cell_type": "code",
   "execution_count": 8,
   "metadata": {},
   "outputs": [
    {
     "ename": "IndexError",
     "evalue": "tuple index out of range",
     "output_type": "error",
     "traceback": [
      "\u001b[1;31m---------------------------------------------------------------------------\u001b[0m",
      "\u001b[1;31mIndexError\u001b[0m                                Traceback (most recent call last)",
      "\u001b[1;32m<ipython-input-8-ddeeef6e3183>\u001b[0m in \u001b[0;36m<module>\u001b[1;34m()\u001b[0m\n\u001b[0;32m     26\u001b[0m     \u001b[0mmypool\u001b[0m\u001b[1;33m.\u001b[0m\u001b[0mwait\u001b[0m\u001b[1;33m(\u001b[0m\u001b[1;33m)\u001b[0m\u001b[1;33m\u001b[0m\u001b[0m\n\u001b[0;32m     27\u001b[0m \u001b[1;33m\u001b[0m\u001b[0m\n\u001b[1;32m---> 28\u001b[1;33m \u001b[0msimpleThreadPool\u001b[0m\u001b[1;33m(\u001b[0m\u001b[1;33m)\u001b[0m\u001b[1;33m\u001b[0m\u001b[0m\n\u001b[0m",
      "\u001b[1;32m<ipython-input-8-ddeeef6e3183>\u001b[0m in \u001b[0;36msimpleThreadPool\u001b[1;34m()\u001b[0m\n\u001b[0;32m     19\u001b[0m     \u001b[0mmypool\u001b[0m \u001b[1;33m=\u001b[0m \u001b[0mthreadpool\u001b[0m\u001b[1;33m.\u001b[0m\u001b[0mThreadPool\u001b[0m\u001b[1;33m(\u001b[0m\u001b[1;36m3\u001b[0m\u001b[1;33m)\u001b[0m\u001b[1;33m\u001b[0m\u001b[0m\n\u001b[0;32m     20\u001b[0m     \u001b[0mcall_args\u001b[0m \u001b[1;33m=\u001b[0m \u001b[1;33m[\u001b[0m\u001b[1;33m(\u001b[0m\u001b[1;33m[\u001b[0m\u001b[1;34m'A'\u001b[0m\u001b[1;33m+\u001b[0m\u001b[0mstr\u001b[0m\u001b[1;33m(\u001b[0m\u001b[0mi\u001b[0m\u001b[1;33m+\u001b[0m\u001b[1;36m1\u001b[0m\u001b[1;33m)\u001b[0m\u001b[1;33m,\u001b[0m \u001b[1;34m'user'\u001b[0m\u001b[1;33m+\u001b[0m\u001b[0mstr\u001b[0m\u001b[1;33m(\u001b[0m\u001b[0mi\u001b[0m\u001b[1;33m+\u001b[0m\u001b[1;36m1\u001b[0m\u001b[1;33m)\u001b[0m\u001b[1;33m]\u001b[0m\u001b[1;33m,\u001b[0m\u001b[1;33m)\u001b[0m \u001b[1;32mfor\u001b[0m \u001b[0mi\u001b[0m \u001b[1;32min\u001b[0m \u001b[0mrange\u001b[0m\u001b[1;33m(\u001b[0m\u001b[1;36m5\u001b[0m\u001b[1;33m)\u001b[0m\u001b[1;33m]\u001b[0m\u001b[1;33m\u001b[0m\u001b[0m\n\u001b[1;32m---> 21\u001b[1;33m     \u001b[0mrequest\u001b[0m \u001b[1;33m=\u001b[0m \u001b[0mthreadpool\u001b[0m\u001b[1;33m.\u001b[0m\u001b[0mmakeRequests\u001b[0m\u001b[1;33m(\u001b[0m\u001b[0minvite\u001b[0m\u001b[1;33m,\u001b[0m \u001b[0mcall_args\u001b[0m\u001b[1;33m)\u001b[0m\u001b[1;33m\u001b[0m\u001b[0m\n\u001b[0m\u001b[0;32m     22\u001b[0m \u001b[1;33m\u001b[0m\u001b[0m\n\u001b[0;32m     23\u001b[0m     \u001b[1;32mfor\u001b[0m \u001b[0mreq\u001b[0m \u001b[1;32min\u001b[0m \u001b[0mrequest\u001b[0m\u001b[1;33m:\u001b[0m\u001b[1;33m\u001b[0m\u001b[0m\n",
      "\u001b[1;32mc:\\python36\\lib\\site-packages\\threadpool.py\u001b[0m in \u001b[0;36mmakeRequests\u001b[1;34m(callable_, args_list, callback, exc_callback)\u001b[0m\n\u001b[0;32m    101\u001b[0m         \u001b[1;32mif\u001b[0m \u001b[0misinstance\u001b[0m\u001b[1;33m(\u001b[0m\u001b[0mitem\u001b[0m\u001b[1;33m,\u001b[0m \u001b[0mtuple\u001b[0m\u001b[1;33m)\u001b[0m\u001b[1;33m:\u001b[0m\u001b[1;33m\u001b[0m\u001b[0m\n\u001b[0;32m    102\u001b[0m             requests.append(\n\u001b[1;32m--> 103\u001b[1;33m                 WorkRequest(callable_, item[0], item[1], callback=callback,\n\u001b[0m\u001b[0;32m    104\u001b[0m                     exc_callback=exc_callback)\n\u001b[0;32m    105\u001b[0m             )\n",
      "\u001b[1;31mIndexError\u001b[0m: tuple index out of range"
     ]
    }
   ],
   "source": [
    "# 案例1：多个参数，传入列表\n",
    "# 线程响应函数\n",
    "import time\n",
    "import threading\n",
    "\n",
    "import threadpool\n",
    "\n",
    "\n",
    "def invite(name, user):\n",
    "    tname = threading.current_thread().name\n",
    "    print(f\"<{tname}>线程的名字叫<{name}>已经开启..., <{user}>使用\")\n",
    "    \n",
    "    time.sleep(3)\n",
    "    print(f\"<{tname}>线程的名字叫<{name}>已经结束！\")\n",
    "\n",
    "\n",
    "def simpleThreadPool():\n",
    "    # 创建最大线程为3的线程对象以及线程请求\n",
    "    mypool = threadpool.ThreadPool(3)\n",
    "    call_args = [(['A'+str(i+1), 'user'+str(i+1)],) for i in range(5)]\n",
    "    request = threadpool.makeRequests(invite, call_args)\n",
    "\n",
    "    for req in request:\n",
    "        mypool.putRequest(req)\n",
    "\n",
    "    mypool.wait()\n",
    "    \n",
    "simpleThreadPool()"
   ]
  },
  {
   "cell_type": "code",
   "execution_count": 9,
   "metadata": {},
   "outputs": [
    {
     "data": {
      "text/plain": [
       "0"
      ]
     },
     "execution_count": 9,
     "metadata": {},
     "output_type": "execute_result"
    }
   ],
   "source": [
    "import math\n",
    "\n",
    "math.floor(0.5)"
   ]
  },
  {
   "cell_type": "code",
   "execution_count": null,
   "metadata": {},
   "outputs": [],
   "source": []
  }
 ],
 "metadata": {
  "kernelspec": {
   "display_name": "Python 3",
   "language": "python",
   "name": "python3"
  },
  "language_info": {
   "codemirror_mode": {
    "name": "ipython",
    "version": 3
   },
   "file_extension": ".py",
   "mimetype": "text/x-python",
   "name": "python",
   "nbconvert_exporter": "python",
   "pygments_lexer": "ipython3",
   "version": "3.6.4"
  }
 },
 "nbformat": 4,
 "nbformat_minor": 2
}
