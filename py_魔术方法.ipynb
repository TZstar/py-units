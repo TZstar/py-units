{
 "cells": [
  {
   "cell_type": "markdown",
   "metadata": {},
   "source": [
    "# py_魔术方法"
   ]
  },
  {
   "cell_type": "markdown",
   "metadata": {},
   "source": [
    "## 1 `__all__`  \n",
    "\n",
    "### 定义：\n",
    "是由string元素组成的list变量。\n",
    "### 作用：\n",
    "1. 导入 `from <module> import *` 时，限制仅导入 list 中的属性和方法。 可以隐藏不想被import的属性和方法。\n",
    "2. 对于 `from <module> import <member>` 导入方式并没有影响，仍然可以从外部导入。\n",
    "\n",
    "### 案例：\n",
    "参考：https://blog.csdn.net/sxingming/article/details/52903377"
   ]
  },
  {
   "cell_type": "markdown",
   "metadata": {},
   "source": [
    "## 2 `__slots__`\n",
    "\n",
    "### 2.1 定义：\n",
    "是由string元素组成的list变量。\n",
    "\n",
    "### 2.2 作用：\n",
    "1. 当一个类需要创建大量实例时，可以通过`__slots__`声明实例所需要的属性。\n",
    "2. 可以利用slots的特性来限制实例的属性。\n",
    "3. 优点：更快的属性访问速度；减少内存的消耗。\n",
    "4. 使用`__slots__`后会丧失动态添加属性和弱引用的功能，即取消`__dict__`和`__weakref__`的生成。可能会引起其他错误，所以在一般情况下不要使用它。"
   ]
  },
  {
   "cell_type": "markdown",
   "metadata": {},
   "source": [
    "### 2.3 `__slots__`纯python的实现\n",
    "参考：https://www.cnblogs.com/rainfd/p/slots.html"
   ]
  },
  {
   "cell_type": "code",
   "execution_count": 1,
   "metadata": {},
   "outputs": [],
   "source": [
    "class Member(object):\n",
    "    # 定义描述器实现slots属性的查找\n",
    "    def __init__(self, i):\n",
    "        self.i = i\n",
    "        \n",
    "    def __get__(self, obj, type=None):\n",
    "        return obj._slotvalues[self.i]\n",
    "    \n",
    "    def __set__(self, obj, value):\n",
    "        obj._slotvalues[self.i] = value"
   ]
  },
  {
   "cell_type": "code",
   "execution_count": 3,
   "metadata": {},
   "outputs": [],
   "source": [
    "class Type(type):\n",
    "    # 使用元类实现slots\n",
    "    def __new__(self, name, bases,  namespace):\n",
    "        slots = namespace.get('_slots_')\n",
    "        \n",
    "        if slots:\n",
    "            for i, slot in enumerate(slots):\n",
    "                namespace[slot] = Member(i)\n",
    "            original_init = namespace.get('__init__')\n",
    "                                          \n",
    "            def __init__(self, *args, **kwargs):\n",
    "                # 创建_slotvalues列表和调用原来的__init__\n",
    "                self._slotvalues = [None] * len(slots)\n",
    "                                          \n",
    "                if original_init(self, *args, **kwargs):\n",
    "                    original_init(self, *args, **kwargs)\n",
    "            namespace['__init__'] = __init__\n",
    "                                          \n",
    "        return type.__new__(self, name, bases, namespace)"
   ]
  },
  {
   "cell_type": "code",
   "execution_count": 4,
   "metadata": {},
   "outputs": [],
   "source": [
    "class Object(object): \n",
    "    __metaclass__ = Type"
   ]
  },
  {
   "cell_type": "code",
   "execution_count": 5,
   "metadata": {},
   "outputs": [],
   "source": [
    "class A(Object):\n",
    "    _slots_ = 'x', 'y'"
   ]
  },
  {
   "cell_type": "code",
   "execution_count": 9,
   "metadata": {},
   "outputs": [
    {
     "name": "stdout",
     "output_type": "stream",
     "text": [
      "10\n"
     ]
    }
   ],
   "source": [
    "a = A()\n",
    "a.x = 10\n",
    "print(a.x)"
   ]
  },
  {
   "cell_type": "code",
   "execution_count": 12,
   "metadata": {},
   "outputs": [
    {
     "name": "stdout",
     "output_type": "stream",
     "text": [
      "23.65%\n"
     ]
    }
   ],
   "source": [
    "# 验证访问速度\n",
    "from timeit import repeat\n",
    "\n",
    "class A(object): pass\n",
    "\n",
    "class B(object): __slots__ = ('x')\n",
    "\n",
    "def get_set_del_fn(obj):\n",
    "    def get_set_del():\n",
    "        obj.x = 1\n",
    "        obj.x\n",
    "        del obj.x\n",
    "    return get_set_del\n",
    "\n",
    "a = A()\n",
    "b = B()\n",
    "ta = min(repeat(get_set_del_fn(a)))\n",
    "tb = min(repeat(get_set_del_fn(b)))\n",
    "print(\"%.2f%%\" % ((ta/tb - 1)*100))"
   ]
  },
  {
   "cell_type": "code",
   "execution_count": 21,
   "metadata": {},
   "outputs": [],
   "source": [
    "# 测试内存占用情况\n",
    "from string import ascii_letters\n",
    "from pympler.asizeof import asizesof\n",
    "\n",
    "def slots_memory(num=0):\n",
    "    attrs = list(ascii_letters[:num])\n",
    "    class Unslotted(object): pass\n",
    "    class Slotted(object): __slots__ = attrs\n",
    "    unslotted = Unslotted()\n",
    "    slotted = Slotter()\n",
    "    \n",
    "    for attr in attrs:\n",
    "        unslotted.__dict__[attr] = 0\n",
    "        exec('slotted.%s = 0' % attr, globals(), locals())\n",
    "    memory_use = asizesof(slotted, unslotted, unslotted.__dict__)\n",
    "    return memory_use\n",
    "\n",
    "def slots_test(nums):\n",
    "    return [slots_memory(num) for num in nums]"
   ]
  },
  {
   "cell_type": "markdown",
   "metadata": {},
   "source": [
    "## 2.4 使用笔记"
   ]
  },
  {
   "cell_type": "markdown",
   "metadata": {},
   "source": [
    "#### 2.4.1. 字符串赋值\n",
    "整个字符串当做一个熟悉赋值"
   ]
  },
  {
   "cell_type": "code",
   "execution_count": 33,
   "metadata": {
    "scrolled": true
   },
   "outputs": [],
   "source": [
    "class A(object): __slots__ = ('a', 'b', 'c')\n",
    "class B(object): __slots__ = 'abcd'"
   ]
  },
  {
   "cell_type": "code",
   "execution_count": 31,
   "metadata": {},
   "outputs": [
    {
     "data": {
      "text/plain": [
       "'abcd'"
      ]
     },
     "execution_count": 31,
     "metadata": {},
     "output_type": "execute_result"
    }
   ],
   "source": [
    "B.__slots__"
   ]
  },
  {
   "cell_type": "code",
   "execution_count": 32,
   "metadata": {},
   "outputs": [
    {
     "data": {
      "text/plain": [
       "('a', 'b', 'c')"
      ]
     },
     "execution_count": 32,
     "metadata": {},
     "output_type": "execute_result"
    }
   ],
   "source": [
    "A.__slots__"
   ]
  },
  {
   "cell_type": "markdown",
   "metadata": {},
   "source": [
    "#### 2.4.2. `__slots__`继承问题\n",
    "**注意**：\n",
    "1. 建议最好直接继承`object`。\n",
    "2. 如果需要用到其他父类，则父类和子类都要定义slots，还要记得子类的slots会覆盖父类的slots。\n",
    "3. 除非所有父类的slots都为空，否则不要使用多继承。"
   ]
  },
  {
   "cell_type": "code",
   "execution_count": 39,
   "metadata": {},
   "outputs": [
    {
     "data": {
      "text/plain": [
       "{'y': 1}"
      ]
     },
     "execution_count": 39,
     "metadata": {},
     "output_type": "execute_result"
    }
   ],
   "source": [
    "## 1. 父类有，子类没有：\n",
    "# 子类的实例还是会自动创建 __dict__ 来存储属性；\n",
    "# 不过父类 __slots__ 已有的属性不受影响。\n",
    "\n",
    "class Father(object): __slots__ = ('x')\n",
    "class Son(Father): pass \n",
    "\n",
    "son = Son()\n",
    "son.x, son.y = 1, 1\n",
    "son.__dict__"
   ]
  },
  {
   "cell_type": "code",
   "execution_count": 40,
   "metadata": {},
   "outputs": [
    {
     "data": {
      "text/plain": [
       "{'y': 1}"
      ]
     },
     "execution_count": 40,
     "metadata": {},
     "output_type": "execute_result"
    }
   ],
   "source": [
    "## 2. 父类没有，子类有：\n",
    "# 虽然子类取消了__dict__，但继承父类后它会继续生成。\n",
    "# 同上面一样，__slots__已有的属性不受影响。\n",
    "\n",
    "class Father(object): pass\n",
    "class Son(Father): __slots__ = ('x')\n",
    "son = Son()\n",
    "son.x, son.y = 1, 1\n",
    "son.__dict__"
   ]
  },
  {
   "cell_type": "code",
   "execution_count": 44,
   "metadata": {},
   "outputs": [
    {
     "data": {
      "text/plain": [
       "(1, 1)"
      ]
     },
     "execution_count": 44,
     "metadata": {},
     "output_type": "execute_result"
    }
   ],
   "source": [
    "## 3. 父类有，子类有：\n",
    "# 只有子类的__slots__有效，访问父类有子类没有的属性依然会报错。\n",
    "\n",
    "class Father(object): __slots__ = ('x', 'y')\n",
    "class Son(Father): __slots__ = ('x', 'z')\n",
    "son = Son()\n",
    "son.x, son.y, son.z = 1, 1, 1\n",
    "# son.__dict__\n",
    "son.x, son.y"
   ]
  },
  {
   "cell_type": "code",
   "execution_count": 47,
   "metadata": {},
   "outputs": [],
   "source": [
    "## 4. 多个拥有非空slots的父类：\n",
    "# 由于__slots__的实现不是简单的列表或字典，多个父类的非空__slots__不能直接合并，\n",
    "# 所以使用时会报错（即使多个父类的非空__slots__是相同的）。\n",
    "\n",
    "class Father(object): __slots__ = ('x')\n",
    "class Mother(object): __slots__ = ('x')\n",
    "# class Son(Father, Mother): pass"
   ]
  },
  {
   "cell_type": "code",
   "execution_count": 48,
   "metadata": {},
   "outputs": [],
   "source": [
    "## 5. 多个空slots的父类：\n",
    "# 这是关于slots使用多继承唯一办法。"
   ]
  },
  {
   "cell_type": "code",
   "execution_count": 49,
   "metadata": {},
   "outputs": [],
   "source": [
    "## 6. 某些父类有，某些父类没有：\n",
    "# 跟第一种情况类似。"
   ]
  },
  {
   "cell_type": "markdown",
   "metadata": {},
   "source": [
    "#### 2.4.3. 添加`__dict__`获取动态特性\n",
    "在特殊情况下，可以在`__slots__`里添加`__dict__`来获取与普通实例同样的动态特性。"
   ]
  },
  {
   "cell_type": "code",
   "execution_count": 51,
   "metadata": {},
   "outputs": [
    {
     "data": {
      "text/plain": [
       "{'y': 1}"
      ]
     },
     "execution_count": 51,
     "metadata": {},
     "output_type": "execute_result"
    }
   ],
   "source": [
    "class A(object): __slots__ = ()\n",
    "class B(A): __slots__ = ('__dict__', 'x')\n",
    "b = B()\n",
    "b.x, b.y = 1, 1\n",
    "b.__dict__"
   ]
  },
  {
   "cell_type": "markdown",
   "metadata": {},
   "source": [
    "#### 2.4.4. 添加`__weakref__`获取弱引用功能  \n",
    "`__slots__`的实现不仅取消了`__dict__`的生成，也取消了`__weakref__`的生成。同样的，在`__slots__`将其添加可以重新获取弱引用这一功能。"
   ]
  },
  {
   "cell_type": "markdown",
   "metadata": {},
   "source": [
    "#### 2.4.5. 不能通过类属性给实例设定默认值\n",
    "定义了`__slots__`后，这个类的类属性都变为了描述器。如果给类属性赋值，就会把描述器给覆盖了。"
   ]
  },
  {
   "cell_type": "markdown",
   "metadata": {},
   "source": [
    "#### 2.4.6. namedtuple\n",
    "利用内置的namedtuple不可变的特性，结合slots，能创建出一个轻量不可变的实例。(约等于一个元组的大小)"
   ]
  },
  {
   "cell_type": "code",
   "execution_count": 55,
   "metadata": {},
   "outputs": [
    {
     "data": {
      "text/plain": [
       "('r', 'z')"
      ]
     },
     "execution_count": 55,
     "metadata": {},
     "output_type": "execute_result"
    }
   ],
   "source": [
    "from collections import namedtuple\n",
    "\n",
    "class MyNt(namedtuple('MyNt', 'bar baz')): __slots__ = ()\n",
    "    \n",
    "\n",
    "nt = MyNt('r', 'z')\n",
    "nt.bar, nt.baz"
   ]
  },
  {
   "cell_type": "markdown",
   "metadata": {},
   "source": [
    "# 3 描述符\n",
    "1. `__getattr`\n",
    "2. `__getattribute__`\n",
    "3. `__getitem__`\n",
    "4. `__get__`\n",
    "5. `__set__`\n",
    "\n",
    "\n",
    "### 定义：\n",
    "只要一个object attribute(对象属性)定义了上面三个方法中的任意一个，那么这个类就可以被称为描述符类。"
   ]
  },
  {
   "cell_type": "code",
   "execution_count": 1,
   "metadata": {},
   "outputs": [],
   "source": [
    "class RevealAccess():\n",
    "    def __get__(self, obj, objtype):\n",
    "        print(f\"self in RevealAccess:{self}\")\n",
    "        print(f\"self: {self}\\nobj: {obj}\\nobjtype:{objtype}\")\n",
    "        \n",
    "class Myclass():\n",
    "    x = RevealAccess()\n",
    "    def test(self):\n",
    "        print(f\"self in Myclass: {self}\")"
   ]
  },
  {
   "cell_type": "code",
   "execution_count": 5,
   "metadata": {},
   "outputs": [
    {
     "name": "stdout",
     "output_type": "stream",
     "text": [
      "self in Myclass: <__main__.Myclass object at 0x000001D7D8AB81D0>\n"
     ]
    }
   ],
   "source": [
    "m = Myclass()\n",
    "m.test()"
   ]
  },
  {
   "cell_type": "code",
   "execution_count": 3,
   "metadata": {},
   "outputs": [
    {
     "name": "stdout",
     "output_type": "stream",
     "text": [
      "self in RevealAccess:<__main__.RevealAccess object at 0x000001D7D8AA4E80>\n",
      "self: <__main__.RevealAccess object at 0x000001D7D8AA4E80>\n",
      "obj: <__main__.Myclass object at 0x000001D7D8AB8390>\n",
      "objtype:<class '__main__.Myclass'>\n"
     ]
    }
   ],
   "source": [
    "m.x"
   ]
  },
  {
   "cell_type": "code",
   "execution_count": null,
   "metadata": {},
   "outputs": [],
   "source": []
  },
  {
   "cell_type": "code",
   "execution_count": null,
   "metadata": {},
   "outputs": [],
   "source": []
  },
  {
   "cell_type": "code",
   "execution_count": null,
   "metadata": {},
   "outputs": [],
   "source": []
  },
  {
   "cell_type": "markdown",
   "metadata": {},
   "source": [
    "## 3 `__repr__`和`__str__`"
   ]
  },
  {
   "cell_type": "code",
   "execution_count": 15,
   "metadata": {},
   "outputs": [],
   "source": [
    "class Pair:\n",
    "    def __init__(self, x, y):\n",
    "        self.x = x\n",
    "        self.y = y\n",
    "        \n",
    "    def __repr__(self):\n",
    "        return f'Pair({self.x}, {self.y})'\n",
    "    \n",
    "    def __str__(self):\n",
    "        return f'({self.x}, {self.y})'"
   ]
  },
  {
   "cell_type": "code",
   "execution_count": 16,
   "metadata": {},
   "outputs": [
    {
     "data": {
      "text/plain": [
       "Pair(3, 4)"
      ]
     },
     "execution_count": 16,
     "metadata": {},
     "output_type": "execute_result"
    }
   ],
   "source": [
    "p = Pair(3, 4)\n",
    "p"
   ]
  },
  {
   "cell_type": "code",
   "execution_count": 17,
   "metadata": {},
   "outputs": [
    {
     "name": "stdout",
     "output_type": "stream",
     "text": [
      "(3, 4)\n"
     ]
    }
   ],
   "source": [
    "print(p)"
   ]
  }
 ],
 "metadata": {
  "kernelspec": {
   "display_name": "Python 3",
   "language": "python",
   "name": "python3"
  },
  "language_info": {
   "codemirror_mode": {
    "name": "ipython",
    "version": 3
   },
   "file_extension": ".py",
   "mimetype": "text/x-python",
   "name": "python",
   "nbconvert_exporter": "python",
   "pygments_lexer": "ipython3",
   "version": "3.6.4"
  }
 },
 "nbformat": 4,
 "nbformat_minor": 2
}
