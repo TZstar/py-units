{
 "cells": [
  {
   "cell_type": "markdown",
   "metadata": {},
   "source": [
    "# collections"
   ]
  },
  {
   "cell_type": "markdown",
   "metadata": {},
   "source": [
    "## 1. 分类： \n",
    "1. `namedtuple()` : `factory function for creating tuple subclasses with named fields`\n",
    "1. `deque` : `list-like container with fast appends and pops on either end`\n",
    "1. `ChainMap` : `dict-like class for creating a single view of multiple mappings`\n",
    "1. `Counter` : `dict subclass for counting hashable objects`\n",
    "1. `OrderedDict` : `dict subclass that remembers the order entries were added`\n",
    "1. `defaultdict` : `dict subclass that calls a factory function to supply missing values`\n",
    "1. `UserDict` : `wrapper around dictionary objects for easier dict subclassing`\n",
    "1. `UserList` : `wrapper around list objects for easier list subclassing`\n",
    "1. `UserString` : `wrapper around string objects for easier string subclassing`"
   ]
  },
  {
   "cell_type": "code",
   "execution_count": 1,
   "metadata": {},
   "outputs": [],
   "source": [
    "import collections"
   ]
  },
  {
   "cell_type": "markdown",
   "metadata": {},
   "source": [
    "## 2 namedtuple\n",
    "\n",
    "`collections.namedtuple(typename, field_names, verbose=False, rename=False) `  \n",
    "参数说明：\n",
    "1. `typename`：此元组的名称； \n",
    "2. `field_names`：元祖中元素的名称（类似于c结构体中的age等），此字段有多种表达方式，见例子； \n",
    "3. `rename`：如果元素名称中含有python的关键字，则必须设置为rename=True； \n",
    "4. `verbose`：默认就好。"
   ]
  },
  {
   "cell_type": "code",
   "execution_count": 3,
   "metadata": {},
   "outputs": [
    {
     "name": "stdout",
     "output_type": "stream",
     "text": [
      "student(name='sunYang', age=20, sex='male')\n",
      "spark's name is sunYang\n",
      "sunYang is 20 years old male\n"
     ]
    }
   ],
   "source": [
    "# 其中field_names 有多种表达方式，如下\n",
    "student = collections.namedtuple('student','name age sex')\n",
    "student = collections.namedtuple('student',['name','age','sex'])\n",
    "student = collections.namedtuple('student','name,age,sex')\n",
    "\n",
    "spark=student(name='sunYang',age=20,sex='male')\n",
    "\n",
    "print(spark)\n",
    "print(\"spark's name is %s\" % spark.name)\n",
    "print(\"%s is %d years old %s\" % spark)"
   ]
  },
  {
   "cell_type": "code",
   "execution_count": 4,
   "metadata": {},
   "outputs": [
    {
     "name": "stdout",
     "output_type": "stream",
     "text": [
      "('name', 'age', '_2', 'gender')\n",
      "('name', 'age', 'gender', '_3')\n"
     ]
    }
   ],
   "source": [
    "# rename=true 的作用\n",
    "with_class = collections.namedtuple('Person','name age class gender',rename=True)\n",
    "print(with_class._fields)\n",
    "two_ages = collections.namedtuple('Person','name age gender age',rename=True)\n",
    "print(two_ages._fields)"
   ]
  },
  {
   "cell_type": "code",
   "execution_count": 5,
   "metadata": {},
   "outputs": [
    {
     "ename": "NameError",
     "evalue": "name '_property' is not defined",
     "output_type": "error",
     "traceback": [
      "\u001b[1;31m---------------------------------------------------------------------------\u001b[0m",
      "\u001b[1;31mNameError\u001b[0m                                 Traceback (most recent call last)",
      "\u001b[1;32m<ipython-input-5-9991f6911d63>\u001b[0m in \u001b[0;36m<module>\u001b[1;34m()\u001b[0m\n\u001b[0;32m      1\u001b[0m \u001b[1;31m# 高级用法\u001b[0m\u001b[1;33m\u001b[0m\u001b[1;33m\u001b[0m\u001b[0m\n\u001b[1;32m----> 2\u001b[1;33m \u001b[1;32mclass\u001b[0m \u001b[0mPoint\u001b[0m\u001b[1;33m(\u001b[0m\u001b[0mtuple\u001b[0m\u001b[1;33m)\u001b[0m\u001b[1;33m:\u001b[0m\u001b[1;33m\u001b[0m\u001b[0m\n\u001b[0m\u001b[0;32m      3\u001b[0m     \u001b[1;34m'Point(x, y)'\u001b[0m\u001b[1;33m\u001b[0m\u001b[0m\n\u001b[0;32m      4\u001b[0m \u001b[1;33m\u001b[0m\u001b[0m\n\u001b[0;32m      5\u001b[0m     \u001b[0m__slots__\u001b[0m \u001b[1;33m=\u001b[0m \u001b[1;33m(\u001b[0m\u001b[1;33m)\u001b[0m\u001b[1;33m\u001b[0m\u001b[0m\n",
      "\u001b[1;32m<ipython-input-5-9991f6911d63>\u001b[0m in \u001b[0;36mPoint\u001b[1;34m()\u001b[0m\n\u001b[0;32m     38\u001b[0m         \u001b[1;32mreturn\u001b[0m \u001b[0mtuple\u001b[0m\u001b[1;33m(\u001b[0m\u001b[0mself\u001b[0m\u001b[1;33m)\u001b[0m\u001b[1;33m\u001b[0m\u001b[0m\n\u001b[0;32m     39\u001b[0m \u001b[1;33m\u001b[0m\u001b[0m\n\u001b[1;32m---> 40\u001b[1;33m     \u001b[0m__dict__\u001b[0m \u001b[1;33m=\u001b[0m \u001b[0m_property\u001b[0m\u001b[1;33m(\u001b[0m\u001b[0m_asdict\u001b[0m\u001b[1;33m)\u001b[0m\u001b[1;33m\u001b[0m\u001b[0m\n\u001b[0m\u001b[0;32m     41\u001b[0m \u001b[1;33m\u001b[0m\u001b[0m\n\u001b[0;32m     42\u001b[0m     \u001b[1;32mdef\u001b[0m \u001b[0m__getstate__\u001b[0m\u001b[1;33m(\u001b[0m\u001b[0mself\u001b[0m\u001b[1;33m)\u001b[0m\u001b[1;33m:\u001b[0m\u001b[1;33m\u001b[0m\u001b[0m\n",
      "\u001b[1;31mNameError\u001b[0m: name '_property' is not defined"
     ]
    }
   ],
   "source": [
    "# 高级用法\n",
    "class Point(tuple):\n",
    "    'Point(x, y)'\n",
    "\n",
    "    __slots__ = ()\n",
    "\n",
    "    _fields = ('x', 'y')\n",
    "\n",
    "    def __new__(_cls, x, y):\n",
    "        'Create new instance of Point(x, y)'\n",
    "        return _tuple.__new__(_cls, (x, y))\n",
    "\n",
    "    @classmethod\n",
    "    def _make(cls, iterable, new=tuple.__new__, len=len):\n",
    "        'Make a new Point object from a sequence or iterable'\n",
    "        result = new(cls, iterable)\n",
    "        if len(result) != 2:\n",
    "            raise TypeError('Expected 2 arguments, got %d' % len(result))\n",
    "        return result\n",
    "\n",
    "    def __repr__(self):\n",
    "        'Return a nicely formatted representation string'\n",
    "        return 'Point(x=%r, y=%r)' % self\n",
    "\n",
    "    def _asdict(self):\n",
    "        'Return a new OrderedDict which maps field names to their values'\n",
    "        return OrderedDict(zip(self._fields, self))\n",
    "\n",
    "    def _replace(_self, **kwds):\n",
    "        'Return a new Point object replacing specified fields with new values'\n",
    "        result = _self._make(map(kwds.pop, ('x', 'y'), _self))\n",
    "        if kwds:\n",
    "            raise ValueError('Got unexpected field names: %r' % kwds.keys())\n",
    "        return result\n",
    "\n",
    "    def __getnewargs__(self):\n",
    "        'Return self as a plain tuple.  Used by copy and pickle.'\n",
    "        return tuple(self)\n",
    "\n",
    "    __dict__ = _property(_asdict)\n",
    "\n",
    "    def __getstate__(self):\n",
    "        'Exclude the OrderedDict from pickling'\n",
    "        pass\n",
    "\n",
    "    x = _property(_itemgetter(0), doc='Alias for field number 0')\n",
    "    y = _property(_itemgetter(1), doc='Alias for field number 1')"
   ]
  }
 ],
 "metadata": {
  "kernelspec": {
   "display_name": "Python 3",
   "language": "python",
   "name": "python3"
  },
  "language_info": {
   "codemirror_mode": {
    "name": "ipython",
    "version": 3
   },
   "file_extension": ".py",
   "mimetype": "text/x-python",
   "name": "python",
   "nbconvert_exporter": "python",
   "pygments_lexer": "ipython3",
   "version": "3.6.4"
  }
 },
 "nbformat": 4,
 "nbformat_minor": 2
}
