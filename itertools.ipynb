{
 "cells": [
  {
   "cell_type": "markdown",
   "metadata": {},
   "source": [
    "# itertools\n",
    "\n",
    "创造高效迭代器的python模块。  \n",
    "参考：\n",
    "- https://blog.csdn.net/c465869935/article/details/51598388\n",
    "- https://www.liaoxuefeng.com/wiki/001374738125095c955c1e6d8bb493182103fac9270762a000/001415616001996f6b32d80b6454caca3d33c965a07611f000\n",
    "\n",
    "---\n",
    "## 1. 分类：\n",
    "1. 无限迭代器：Infinite Iterators\n",
    "2. 终止于最短输入序列的迭代器：Iterators terminating on the shortest input sequence\n",
    "3. 组合生成器：Combinatoric generators\n",
    "\n",
    "## 2. 无限迭代器\n",
    "\n",
    "## 3. 终止于最短输入序列的迭代器\n",
    "1. `chain()`\n",
    "1. `compress()`\n",
    "1. `dropwhile()`\n",
    "1. `groupby()`\n",
    "1. `ifilter()`\n",
    "1. `ifilterfalse()`\n",
    "1. `islice()`\n",
    "1. `imap()`\n",
    "1. `starmap()`\n",
    "1. `tee()`\n",
    "1. `takewhile()`\n",
    "1. `izip()`\n",
    "1. `izip_longest()`\n",
    "\n",
    "## 4. 组合生成器\n",
    "\n",
    "---"
   ]
  },
  {
   "cell_type": "code",
   "execution_count": 1,
   "metadata": {},
   "outputs": [],
   "source": [
    "import itertools"
   ]
  },
  {
   "cell_type": "markdown",
   "metadata": {},
   "source": [
    "## 3.1  chain\n",
    "\n",
    "itertools.chain(*iterables)  \n",
    "\n",
    "**功能：**\n",
    "把一组迭代对象串联起来，形成更大的迭代器。\n",
    "\n",
    "**参数说明**：\n",
    "- *iterables：一个或多个可迭代序列"
   ]
  },
  {
   "cell_type": "code",
   "execution_count": 3,
   "metadata": {
    "scrolled": true
   },
   "outputs": [
    {
     "name": "stdout",
     "output_type": "stream",
     "text": [
      "a\n",
      "b\n",
      "c\n",
      "d\n",
      "A\n",
      "B\n",
      "C\n",
      "D\n",
      "1\n",
      "2\n",
      "3\n",
      "4\n"
     ]
    }
   ],
   "source": [
    "its=[\"a\",\"b\",\"c\",\"d\"]\n",
    "hers=[\"A\",\"B\",\"C\",\"D\"]\n",
    "others=[\"1\",\"2\",\"3\",\"4\"]\n",
    "\n",
    "for item in itertools.chain(its,hers,others):\n",
    "    print(item)"
   ]
  },
  {
   "cell_type": "code",
   "execution_count": 7,
   "metadata": {},
   "outputs": [
    {
     "data": {
      "text/plain": [
       "(['a', 'b', 'c', 'd', 'A', 'B', 'C', 'D', '1', '2', '3', '4'],\n",
       " <itertools.chain at 0x1f244c93da0>)"
      ]
     },
     "execution_count": 7,
     "metadata": {},
     "output_type": "execute_result"
    }
   ],
   "source": [
    "iter_new = itertools.chain.from_iterable([its,hers,others])\n",
    "list(iter_new),iter_new"
   ]
  }
 ],
 "metadata": {
  "kernelspec": {
   "display_name": "Python 3",
   "language": "python",
   "name": "python3"
  },
  "language_info": {
   "codemirror_mode": {
    "name": "ipython",
    "version": 3
   },
   "file_extension": ".py",
   "mimetype": "text/x-python",
   "name": "python",
   "nbconvert_exporter": "python",
   "pygments_lexer": "ipython3",
   "version": "3.6.4"
  }
 },
 "nbformat": 4,
 "nbformat_minor": 2
}
