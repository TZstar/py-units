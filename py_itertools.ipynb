{
 "cells": [
  {
   "cell_type": "markdown",
   "metadata": {},
   "source": [
    "# itertools\n",
    "\n",
    "创造高效迭代器的python模块。  \n",
    "参考：\n",
    "- https://blog.csdn.net/c465869935/article/details/51598388\n",
    "- https://www.liaoxuefeng.com/wiki/001374738125095c955c1e6d8bb493182103fac9270762a000/001415616001996f6b32d80b6454caca3d33c965a07611f000\n",
    "\n",
    "---\n",
    "## 1. 分类：\n",
    "1. 无限迭代器：Infinite Iterators\n",
    "2. 终止于最短输入序列的迭代器：Iterators terminating on the shortest input sequence\n",
    "3. 组合生成器：Combinatoric generators\n",
    "\n",
    "## 2. 无限迭代器\n",
    "\n",
    "## 3. 终止于最短输入序列的迭代器\n",
    "1. `chain()`\n",
    "1. `compress()`\n",
    "1. `groupby()`\n",
    "1. `filterfalse()`\n",
    "1. `islice()`\n",
    "1. `starmap()`\n",
    "1. `tee()`\n",
    "1. `takewhile()`\n",
    "1. `zip_longest()`\n",
    "\n",
    "## 4. 组合生成器\n",
    "\n",
    "---"
   ]
  },
  {
   "cell_type": "code",
   "execution_count": 37,
   "metadata": {},
   "outputs": [],
   "source": [
    "import itertools\n",
    "import operator"
   ]
  },
  {
   "cell_type": "markdown",
   "metadata": {},
   "source": [
    "## 2 无限迭代器"
   ]
  },
  {
   "cell_type": "markdown",
   "metadata": {},
   "source": [
    "### 2.1 count  \n",
    "\n",
    "`itertools.count(start, step)`\n",
    "\n",
    "**作用：**  \n",
    "返回以 start 开头的均匀间隔 step 步长的值。"
   ]
  },
  {
   "cell_type": "code",
   "execution_count": 5,
   "metadata": {},
   "outputs": [
    {
     "name": "stdout",
     "output_type": "stream",
     "text": [
      "10\n",
      "20\n",
      "30\n",
      "40\n",
      "50\n",
      "60\n",
      "70\n",
      "80\n",
      "90\n",
      "100\n"
     ]
    }
   ],
   "source": [
    "# 案例\n",
    "for item in itertools.count(10,10):\n",
    "    if item > 100:\n",
    "        break  # 如果不加截止条件，会一直打印下去\n",
    "    print(item)"
   ]
  },
  {
   "cell_type": "markdown",
   "metadata": {},
   "source": [
    "### 2.2 cycle\n",
    "\n",
    "`itertools.cycle(iterable)`\n",
    "\n",
    "**功能**:  \n",
    "保存迭代对象的每个元素的副本，无限的重复返回每个元素的副本"
   ]
  },
  {
   "cell_type": "code",
   "execution_count": 11,
   "metadata": {},
   "outputs": [
    {
     "name": "stdout",
     "output_type": "stream",
     "text": [
      "a b c d a b c d a b "
     ]
    }
   ],
   "source": [
    "its=[\"a\",\"b\",\"c\",\"d\"]\n",
    "count = 0\n",
    "for item in itertools.cycle(its):\n",
    "    count += 1\n",
    "    if count > 10:\n",
    "        break\n",
    "    print(item,end=' ')"
   ]
  },
  {
   "cell_type": "markdown",
   "metadata": {},
   "source": [
    "### 2.3 repeat\n",
    "\n",
    "`itertools.repeat(object[, times])`\n",
    "**参数说明：**\n",
    "1. object: 可迭代对象；\n",
    "2. times: 迭代次数，默认为无限次。"
   ]
  },
  {
   "cell_type": "code",
   "execution_count": 13,
   "metadata": {},
   "outputs": [
    {
     "name": "stdout",
     "output_type": "stream",
     "text": [
      "['a', 'b', 'c']\n",
      "['a', 'b', 'c']\n",
      "['a', 'b', 'c']\n",
      "['a', 'b', 'c']\n"
     ]
    }
   ],
   "source": [
    "its=[\"a\",\"b\",\"c\"]\n",
    "for item in itertools.repeat(its,4):\n",
    "    print(item)"
   ]
  },
  {
   "cell_type": "markdown",
   "metadata": {},
   "source": [
    "## 3 终止于最短输入序列的迭代器"
   ]
  },
  {
   "cell_type": "markdown",
   "metadata": {},
   "source": [
    "## 3.1  chain\n",
    "\n",
    "itertools.chain(*iterables)  \n",
    "\n",
    "**功能：**\n",
    "把一组迭代对象串联起来，形成更大的迭代器。\n",
    "\n",
    "**参数说明**：\n",
    "- *iterables：一个或多个可迭代序列"
   ]
  },
  {
   "cell_type": "code",
   "execution_count": 3,
   "metadata": {
    "scrolled": true
   },
   "outputs": [
    {
     "name": "stdout",
     "output_type": "stream",
     "text": [
      "a\n",
      "b\n",
      "c\n",
      "d\n",
      "A\n",
      "B\n",
      "C\n",
      "D\n",
      "1\n",
      "2\n",
      "3\n",
      "4\n"
     ]
    }
   ],
   "source": [
    "its=[\"a\",\"b\",\"c\",\"d\"]\n",
    "hers=[\"A\",\"B\",\"C\",\"D\"]\n",
    "others=[\"1\",\"2\",\"3\",\"4\"]\n",
    "\n",
    "for item in itertools.chain(its,hers,others):\n",
    "    print(item)"
   ]
  },
  {
   "cell_type": "code",
   "execution_count": 7,
   "metadata": {},
   "outputs": [
    {
     "data": {
      "text/plain": [
       "(['a', 'b', 'c', 'd', 'A', 'B', 'C', 'D', '1', '2', '3', '4'],\n",
       " <itertools.chain at 0x1f244c93da0>)"
      ]
     },
     "execution_count": 7,
     "metadata": {},
     "output_type": "execute_result"
    }
   ],
   "source": [
    "iter_new = itertools.chain.from_iterable([its,hers,others])\n",
    "list(iter_new),iter_new"
   ]
  },
  {
   "cell_type": "markdown",
   "metadata": {},
   "source": [
    "### 3.2 compress\n",
    "\n",
    "`itertools.compress(data, selectors)`  \n",
    "**功能：**  \n",
    "返回数据对象中对应规则为True的元素  \n",
    "\n",
    "**参数说明：**  \n",
    "1. data 为数据对象\n",
    "2. selectors 为选择器（规则）"
   ]
  },
  {
   "cell_type": "code",
   "execution_count": 14,
   "metadata": {},
   "outputs": [
    {
     "name": "stdout",
     "output_type": "stream",
     "text": [
      "a\n",
      "c\n",
      "e\n",
      "g\n",
      "h\n"
     ]
    }
   ],
   "source": [
    "its=[\"a\",\"b\",\"c\",\"d\",\"e\",\"f\",\"g\",\"h\"]\n",
    "selector=[True,False,1,0,3,False,-2,\"y\"]\n",
    "for item in itertools.compress(its,selector):\n",
    "    print(item)"
   ]
  },
  {
   "cell_type": "markdown",
   "metadata": {},
   "source": [
    "### 3.3 filterfalse\n",
    "`itertools.filterfalse(predicate, iterable)`  \n",
    "\n",
    "**功能：**  \n",
    "返回结果为False(filterfalse)的迭代器元素\n",
    "\n",
    "**参数说明：**  \n"
   ]
  },
  {
   "cell_type": "code",
   "execution_count": 24,
   "metadata": {},
   "outputs": [
    {
     "name": "stdout",
     "output_type": "stream",
     "text": [
      "0 2 4 "
     ]
    }
   ],
   "source": [
    "for item in itertools.filterfalse(lambda x:x%2,range(6)):\n",
    "    print(item, end=' ')"
   ]
  },
  {
   "cell_type": "markdown",
   "metadata": {},
   "source": [
    "### 3.4 accumulate\n",
    "`itertools.accumulate(iterable[, func])`\n",
    "\n",
    "**功能：**\n",
    "创建一个返回累计结果和的迭代器。  \n",
    "\n",
    "**参数说明：**\n",
    "1. iterable：迭代对象\n",
    "2. func：函数"
   ]
  },
  {
   "cell_type": "code",
   "execution_count": 28,
   "metadata": {},
   "outputs": [
    {
     "data": {
      "text/plain": [
       "[3, 4, 6, 6, 6, 9, 9, 9, 9, 9]"
      ]
     },
     "execution_count": 28,
     "metadata": {},
     "output_type": "execute_result"
    }
   ],
   "source": [
    "data = [3, 4, 6, 2, 1, 9, 0, 7, 5, 8]\n",
    "list(itertools.accumulate(data, max))"
   ]
  },
  {
   "cell_type": "code",
   "execution_count": 39,
   "metadata": {},
   "outputs": [
    {
     "data": {
      "text/plain": [
       "[3, 12, 72, 144, 144, 1296, 0, 0, 0, 0]"
      ]
     },
     "execution_count": 39,
     "metadata": {},
     "output_type": "execute_result"
    }
   ],
   "source": [
    "list(accumulate(data, operator.mul)) "
   ]
  },
  {
   "cell_type": "code",
   "execution_count": 38,
   "metadata": {},
   "outputs": [],
   "source": [
    "# 等同函数\n",
    "def accumulate(iterable, func=operator.add):\n",
    "    'Return running totals'\n",
    "    # accumulate([1,2,3,4,5]) --> 1 3 6 10 15\n",
    "    # accumulate([1,2,3,4,5], operator.mul) --> 1 2 6 24 120\n",
    "    it = iter(iterable)\n",
    "    total = next(it)\n",
    "    yield total\n",
    "    for element in it:\n",
    "        total = func(total, element)\n",
    "        yield total"
   ]
  },
  {
   "cell_type": "markdown",
   "metadata": {},
   "source": [
    "## 4 组合生成器\n",
    "\n",
    "1. product() 笛卡尔积 \n",
    "2. permutations()  排列\n",
    "3. combinations()  组合\n",
    "4. combinations_with_replacement()  有序的排列"
   ]
  },
  {
   "cell_type": "code",
   "execution_count": null,
   "metadata": {},
   "outputs": [],
   "source": []
  },
  {
   "cell_type": "markdown",
   "metadata": {},
   "source": [
    "### 4.1  product()\n",
    "\n",
    "`itertools.product(*iterables, repeat=1)`\n",
    "\n",
    "**功能：**  \n",
    "生成迭代器的笛卡尔积。  \n",
    "\n",
    "**参数说明：**  \n",
    "1. repeat: 重复次数。"
   ]
  },
  {
   "cell_type": "code",
   "execution_count": 48,
   "metadata": {},
   "outputs": [
    {
     "data": {
      "text/plain": [
       "[('A', 'A'),\n",
       " ('A', 'B'),\n",
       " ('A', 'C'),\n",
       " ('A', 'D'),\n",
       " ('B', 'A'),\n",
       " ('B', 'B'),\n",
       " ('B', 'C'),\n",
       " ('B', 'D'),\n",
       " ('C', 'A'),\n",
       " ('C', 'B'),\n",
       " ('C', 'C'),\n",
       " ('C', 'D'),\n",
       " ('D', 'A'),\n",
       " ('D', 'B'),\n",
       " ('D', 'C'),\n",
       " ('D', 'D')]"
      ]
     },
     "execution_count": 48,
     "metadata": {},
     "output_type": "execute_result"
    }
   ],
   "source": [
    "list(itertools.product('ABCD', repeat=2))"
   ]
  },
  {
   "cell_type": "code",
   "execution_count": 3,
   "metadata": {},
   "outputs": [],
   "source": [
    "from itertools import product"
   ]
  },
  {
   "cell_type": "code",
   "execution_count": 4,
   "metadata": {},
   "outputs": [],
   "source": [
    "a = ['a', 'b', 'c']\n",
    "b = ['1', '2', '3']\n",
    "c = ['h', 'j', 'k']\n",
    "\n",
    "gen = product(a, b, c)"
   ]
  },
  {
   "cell_type": "code",
   "execution_count": 29,
   "metadata": {},
   "outputs": [
    {
     "data": {
      "text/plain": [
       "('c', '2', 'k')"
      ]
     },
     "execution_count": 29,
     "metadata": {},
     "output_type": "execute_result"
    }
   ],
   "source": [
    "next(gen)    # product相当于生成器"
   ]
  },
  {
   "cell_type": "code",
   "execution_count": 33,
   "metadata": {},
   "outputs": [],
   "source": [
    "def gen():\n",
    "    a = ['a', 'b', 'c']\n",
    "    b = ['1', '2', '3']\n",
    "    c = ['h', 'j', 'k']\n",
    "\n",
    "    gen = product(a, b, c)\n",
    "    return gen"
   ]
  },
  {
   "cell_type": "code",
   "execution_count": 35,
   "metadata": {},
   "outputs": [
    {
     "data": {
      "text/plain": [
       "<itertools.product at 0x1f52cd1d2d0>"
      ]
     },
     "execution_count": 35,
     "metadata": {},
     "output_type": "execute_result"
    }
   ],
   "source": [
    "gen_1 = gen()"
   ]
  },
  {
   "cell_type": "code",
   "execution_count": 48,
   "metadata": {},
   "outputs": [
    {
     "data": {
      "text/plain": [
       "('b', '2', 'h')"
      ]
     },
     "execution_count": 48,
     "metadata": {},
     "output_type": "execute_result"
    }
   ],
   "source": [
    "next(gen_1)"
   ]
  },
  {
   "cell_type": "markdown",
   "metadata": {},
   "source": [
    "### 4.2  permutations() \n",
    "\n",
    "`itertools.permutations(iterable, r=None)`\n",
    "\n",
    "**功能：**  \n",
    "生成排列的迭代器。  \n",
    "\n",
    "**参数说明：**  \n",
    "1. r: 长度。"
   ]
  },
  {
   "cell_type": "code",
   "execution_count": 52,
   "metadata": {},
   "outputs": [
    {
     "data": {
      "text/plain": [
       "[('A', 'B'),\n",
       " ('A', 'C'),\n",
       " ('A', 'D'),\n",
       " ('B', 'A'),\n",
       " ('B', 'C'),\n",
       " ('B', 'D'),\n",
       " ('C', 'A'),\n",
       " ('C', 'B'),\n",
       " ('C', 'D'),\n",
       " ('D', 'A'),\n",
       " ('D', 'B'),\n",
       " ('D', 'C')]"
      ]
     },
     "execution_count": 52,
     "metadata": {},
     "output_type": "execute_result"
    }
   ],
   "source": [
    "list(itertools.permutations('ABCD', 2))"
   ]
  },
  {
   "cell_type": "markdown",
   "metadata": {},
   "source": [
    "### 4.3  combinations()\n",
    "\n",
    "`itertools.combinations(iterable, r)`\n",
    "\n",
    "**功能：**  \n",
    "生成组合的迭代器。  \n",
    "\n",
    "**参数说明：**  \n",
    "1. r: 长度。"
   ]
  },
  {
   "cell_type": "code",
   "execution_count": 51,
   "metadata": {},
   "outputs": [
    {
     "data": {
      "text/plain": [
       "[('A', 'B'), ('A', 'C'), ('A', 'D'), ('B', 'C'), ('B', 'D'), ('C', 'D')]"
      ]
     },
     "execution_count": 51,
     "metadata": {},
     "output_type": "execute_result"
    }
   ],
   "source": [
    "list(itertools.combinations('ABCD', 2))"
   ]
  },
  {
   "cell_type": "markdown",
   "metadata": {},
   "source": [
    "### 4.4  combinations_with_replacement() \n",
    "\n",
    "`itertools.combinations_with_replacement(iterable, r)`\n",
    "\n",
    "**功能：**  \n",
    "生成被排序的组合，无重复。  \n",
    "\n",
    "**参数说明：**  \n",
    "1. repeat: 重复次数。"
   ]
  },
  {
   "cell_type": "code",
   "execution_count": 50,
   "metadata": {},
   "outputs": [
    {
     "data": {
      "text/plain": [
       "[('A', 'A'),\n",
       " ('A', 'B'),\n",
       " ('A', 'C'),\n",
       " ('A', 'D'),\n",
       " ('B', 'B'),\n",
       " ('B', 'C'),\n",
       " ('B', 'D'),\n",
       " ('C', 'C'),\n",
       " ('C', 'D'),\n",
       " ('D', 'D')]"
      ]
     },
     "execution_count": 50,
     "metadata": {},
     "output_type": "execute_result"
    }
   ],
   "source": [
    "list(itertools.combinations_with_replacement('ABCD', 2))"
   ]
  }
 ],
 "metadata": {
  "kernelspec": {
   "display_name": "Python 3",
   "language": "python",
   "name": "python3"
  },
  "language_info": {
   "codemirror_mode": {
    "name": "ipython",
    "version": 3
   },
   "file_extension": ".py",
   "mimetype": "text/x-python",
   "name": "python",
   "nbconvert_exporter": "python",
   "pygments_lexer": "ipython3",
   "version": "3.6.4"
  }
 },
 "nbformat": 4,
 "nbformat_minor": 2
}
