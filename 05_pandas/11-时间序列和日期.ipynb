{
 "cells": [
  {
   "cell_type": "markdown",
   "metadata": {},
   "source": [
    "# Time Series / Date functionality\n",
    "\n",
    "1. `TimeStamp` 与 `Period`\n",
    "2. `TimeStamp` 转换\n",
    "3. `daterange`\n",
    "4. `TimeStamp` 限制\n",
    "5. 索引\n",
    "6. 时间和日期的组成部分\n",
    "7. `DateOffset` 对象\n",
    "8. 时间序列相关方法\n",
    "9. `resample`\n",
    "10. `period`\n",
    "11. 各类时间表示之间的转换\n",
    "12. 代表越界范围\n",
    "13. 时区处理"
   ]
  },
  {
   "cell_type": "code",
   "execution_count": 1,
   "metadata": {},
   "outputs": [],
   "source": [
    "import random\n",
    "import time\n",
    "\n",
    "from datetime import datetime, timedelta\n",
    "import pandas as pd\n",
    "import numpy as np"
   ]
  },
  {
   "cell_type": "code",
   "execution_count": 2,
   "metadata": {},
   "outputs": [
    {
     "data": {
      "text/plain": [
       "DatetimeIndex(['2011-01-01 00:00:00', '2011-01-01 01:00:00',\n",
       "               '2011-01-01 02:00:00', '2011-01-01 03:00:00',\n",
       "               '2011-01-01 04:00:00'],\n",
       "              dtype='datetime64[ns]', freq='H')"
      ]
     },
     "execution_count": 2,
     "metadata": {},
     "output_type": "execute_result"
    }
   ],
   "source": [
    "# 生成时间序列\n",
    "rng = pd.date_range('1/1/2011', periods=72, freq='H')\n",
    "rng[:5]"
   ]
  },
  {
   "cell_type": "code",
   "execution_count": 3,
   "metadata": {},
   "outputs": [
    {
     "data": {
      "text/plain": [
       "2011-01-01 00:00:00    0.596171\n",
       "2011-01-01 01:00:00   -1.085139\n",
       "2011-01-01 02:00:00    0.966557\n",
       "2011-01-01 03:00:00    1.252029\n",
       "2011-01-01 04:00:00    1.896551\n",
       "Freq: H, dtype: float64"
      ]
     },
     "execution_count": 3,
     "metadata": {},
     "output_type": "execute_result"
    }
   ],
   "source": [
    "ts = pd.Series(np.random.randn(len(rng)), index=rng)\n",
    "ts.head()"
   ]
  },
  {
   "cell_type": "code",
   "execution_count": 4,
   "metadata": {},
   "outputs": [
    {
     "data": {
      "text/plain": [
       "2011-01-01 00:00:00    0.596171\n",
       "2011-01-01 00:45:00    0.596171\n",
       "2011-01-01 01:30:00   -1.085139\n",
       "2011-01-01 02:15:00    0.966557\n",
       "2011-01-01 03:00:00    1.252029\n",
       "Freq: 45T, dtype: float64"
      ]
     },
     "execution_count": 4,
     "metadata": {},
     "output_type": "execute_result"
    }
   ],
   "source": [
    "# 转换为指定时间间隔的频率值\n",
    "converted = ts.asfreq('45Min', method='pad')\n",
    "converted.head()"
   ]
  },
  {
   "cell_type": "code",
   "execution_count": 5,
   "metadata": {},
   "outputs": [
    {
     "data": {
      "text/plain": [
       "2011-01-01    0.196271\n",
       "2011-01-02    0.129170\n",
       "2011-01-03   -0.072738\n",
       "Freq: D, dtype: float64"
      ]
     },
     "execution_count": 5,
     "metadata": {},
     "output_type": "execute_result"
    }
   ],
   "source": [
    "# 按指定的频数汇总\n",
    "ts.resample('D').mean()"
   ]
  },
  {
   "attachments": {
    "%E5%88%9B%E5%BB%BA%E6%97%B6%E9%97%B4%E5%BA%8F%E5%88%97.png": {
     "image/png": "[encoded data removed]"
    }
   },
   "cell_type": "markdown",
   "metadata": {},
   "source": [
    "## 1 创建时间序列方法\n",
    "![./file/创建时间序列.png](attachment:%E5%88%9B%E5%BB%BA%E6%97%B6%E9%97%B4%E5%BA%8F%E5%88%97.png)"
   ]
  },
  {
   "cell_type": "markdown",
   "metadata": {},
   "source": [
    "### 1.1 `TimeStamps` vs `Time Spans`"
   ]
  },
  {
   "cell_type": "code",
   "execution_count": 6,
   "metadata": {},
   "outputs": [
    {
     "data": {
      "text/plain": [
       "Timestamp('2012-05-01 00:00:00')"
      ]
     },
     "metadata": {},
     "output_type": "display_data"
    },
    {
     "data": {
      "text/plain": [
       "Timestamp('2012-05-01 00:00:00')"
      ]
     },
     "metadata": {},
     "output_type": "display_data"
    },
    {
     "data": {
      "text/plain": [
       "Timestamp('2012-05-01 00:00:00')"
      ]
     },
     "metadata": {},
     "output_type": "display_data"
    }
   ],
   "source": [
    "display(\n",
    "    pd.Timestamp(datetime(2012, 5, 1)),\n",
    "    pd.Timestamp('2012-05-01'),\n",
    "    pd.Timestamp(2012, 5, 1)\n",
    ")"
   ]
  },
  {
   "cell_type": "code",
   "execution_count": 7,
   "metadata": {},
   "outputs": [
    {
     "data": {
      "text/plain": [
       "Period('2011-01', 'M')"
      ]
     },
     "metadata": {},
     "output_type": "display_data"
    },
    {
     "data": {
      "text/plain": [
       "Period('2012-05-01', 'D')"
      ]
     },
     "metadata": {},
     "output_type": "display_data"
    }
   ],
   "source": [
    "display(\n",
    "    pd.Period('2011-01'),\n",
    "    pd.Period('2012-05', freq='D'),\n",
    ")"
   ]
  },
  {
   "cell_type": "markdown",
   "metadata": {},
   "source": [
    "- 转换成对应的 DatetimeIndex 和 PeriodIndex "
   ]
  },
  {
   "cell_type": "code",
   "execution_count": 8,
   "metadata": {},
   "outputs": [
    {
     "data": {
      "text/plain": [
       "2012-05-01    1.338682\n",
       "2012-05-02    0.782727\n",
       "2012-05-03   -0.749772\n",
       "dtype: float64"
      ]
     },
     "metadata": {},
     "output_type": "display_data"
    },
    {
     "data": {
      "text/plain": [
       "pandas.core.indexes.datetimes.DatetimeIndex"
      ]
     },
     "metadata": {},
     "output_type": "display_data"
    }
   ],
   "source": [
    "dates = [pd.Timestamp('2012-05-01'), \n",
    "         pd.Timestamp('2012-05-02'), \n",
    "         pd.Timestamp('2012-05-03')]\n",
    "ts = pd.Series(np.random.randn(3), dates)\n",
    "\n",
    "display(\n",
    "    ts, \n",
    "    type(ts.index),\n",
    ")"
   ]
  },
  {
   "cell_type": "code",
   "execution_count": 9,
   "metadata": {},
   "outputs": [
    {
     "data": {
      "text/plain": [
       "2012-01   -0.312061\n",
       "2012-02   -0.543057\n",
       "2012-03   -2.309281\n",
       "Freq: M, dtype: float64"
      ]
     },
     "metadata": {},
     "output_type": "display_data"
    },
    {
     "data": {
      "text/plain": [
       "pandas.core.indexes.period.PeriodIndex"
      ]
     },
     "metadata": {},
     "output_type": "display_data"
    },
    {
     "data": {
      "text/plain": [
       "PeriodIndex(['2012-01', '2012-02', '2012-03'], dtype='period[M]', freq='M')"
      ]
     },
     "metadata": {},
     "output_type": "display_data"
    }
   ],
   "source": [
    "periods = [pd.Period('2012-01'), \n",
    "           pd.Period('2012-02'), \n",
    "           pd.Period('2012-03')]\n",
    "ts = pd.Series(np.random.randn(3), periods)\n",
    "\n",
    "display(\n",
    "    ts, \n",
    "    type(ts.index),\n",
    "    ts.index,\n",
    ")"
   ]
  },
  {
   "cell_type": "markdown",
   "metadata": {},
   "source": [
    "### 1.2 转换为 `Timestamps`"
   ]
  },
  {
   "cell_type": "code",
   "execution_count": 10,
   "metadata": {},
   "outputs": [
    {
     "data": {
      "text/plain": [
       "Timestamp('2009-07-31 00:00:00')"
      ]
     },
     "metadata": {},
     "output_type": "display_data"
    },
    {
     "data": {
      "text/plain": [
       "Timestamp('2010-01-10 00:00:00')"
      ]
     },
     "metadata": {},
     "output_type": "display_data"
    },
    {
     "data": {
      "text/plain": [
       "Timestamp('2005-11-23 00:00:00')"
      ]
     },
     "metadata": {},
     "output_type": "display_data"
    },
    {
     "data": {
      "text/plain": [
       "Timestamp('2012-01-14 00:00:00')"
      ]
     },
     "metadata": {},
     "output_type": "display_data"
    }
   ],
   "source": [
    "# 转换为 Timestamp\n",
    "display(\n",
    "    pd.to_datetime('Jul 31, 2009'),\n",
    "    pd.to_datetime('2010-01-10'),\n",
    "    pd.to_datetime('2005/11/23'),\n",
    "    pd.to_datetime('01-14-2012'),\n",
    ")"
   ]
  },
  {
   "cell_type": "code",
   "execution_count": 11,
   "metadata": {},
   "outputs": [
    {
     "data": {
      "text/plain": [
       "DatetimeIndex(['2005-11-23', '2010-12-31'], dtype='datetime64[ns]', freq=None)"
      ]
     },
     "metadata": {},
     "output_type": "display_data"
    },
    {
     "data": {
      "text/plain": [
       "DatetimeIndex(['2012-01-04 10:00:00'], dtype='datetime64[ns]', freq=None)"
      ]
     },
     "metadata": {},
     "output_type": "display_data"
    },
    {
     "data": {
      "text/plain": [
       "DatetimeIndex(['2012-01-14', '2012-01-14'], dtype='datetime64[ns]', freq=None)"
      ]
     },
     "metadata": {},
     "output_type": "display_data"
    },
    {
     "data": {
      "text/plain": [
       "0   2009-07-31\n",
       "1   2010-01-10\n",
       "2          NaT\n",
       "dtype: datetime64[ns]"
      ]
     },
     "metadata": {},
     "output_type": "display_data"
    }
   ],
   "source": [
    "display(\n",
    "    pd.to_datetime(['2005/11/23', '2010.12.31']),\n",
    "    pd.to_datetime(['04-01-2012 10:00'], dayfirst=True),  # dayfirst无效\n",
    "    pd.to_datetime(['14-01-2012', '01-14-2012'], dayfirst=True),\n",
    "    pd.to_datetime(pd.Series(['Jul 31, 2009', '2010-01-10', None])),\n",
    ")"
   ]
  },
  {
   "cell_type": "markdown",
   "metadata": {},
   "source": [
    "### 1.3 格式化解析"
   ]
  },
  {
   "cell_type": "code",
   "execution_count": 12,
   "metadata": {},
   "outputs": [
    {
     "data": {
      "text/plain": [
       "Timestamp('2010-11-12 00:00:00')"
      ]
     },
     "metadata": {},
     "output_type": "display_data"
    },
    {
     "data": {
      "text/plain": [
       "Timestamp('2010-11-12 00:00:00')"
      ]
     },
     "metadata": {},
     "output_type": "display_data"
    }
   ],
   "source": [
    "display(\n",
    "    pd.to_datetime('2010/11/12', format='%Y/%m/%d'),\n",
    "    pd.to_datetime('12-11-2010 00:00', format='%d-%m-%Y %H:%M')\n",
    ")"
   ]
  },
  {
   "cell_type": "markdown",
   "metadata": {},
   "source": [
    "### 1.4 拼接复合日期数据"
   ]
  },
  {
   "cell_type": "code",
   "execution_count": 13,
   "metadata": {},
   "outputs": [
    {
     "data": {
      "text/html": [
       "<div>\n",
       "<style scoped>\n",
       "    .dataframe tbody tr th:only-of-type {\n",
       "        vertical-align: middle;\n",
       "    }\n",
       "\n",
       "    .dataframe tbody tr th {\n",
       "        vertical-align: top;\n",
       "    }\n",
       "\n",
       "    .dataframe thead th {\n",
       "        text-align: right;\n",
       "    }\n",
       "</style>\n",
       "<table border=\"1\" class=\"dataframe\">\n",
       "  <thead>\n",
       "    <tr style=\"text-align: right;\">\n",
       "      <th></th>\n",
       "      <th>year</th>\n",
       "      <th>month</th>\n",
       "      <th>day</th>\n",
       "      <th>hour</th>\n",
       "    </tr>\n",
       "  </thead>\n",
       "  <tbody>\n",
       "    <tr>\n",
       "      <th>0</th>\n",
       "      <td>2015</td>\n",
       "      <td>2</td>\n",
       "      <td>4</td>\n",
       "      <td>2</td>\n",
       "    </tr>\n",
       "    <tr>\n",
       "      <th>1</th>\n",
       "      <td>2016</td>\n",
       "      <td>3</td>\n",
       "      <td>5</td>\n",
       "      <td>3</td>\n",
       "    </tr>\n",
       "  </tbody>\n",
       "</table>\n",
       "</div>"
      ],
      "text/plain": [
       "   year  month  day  hour\n",
       "0  2015      2    4     2\n",
       "1  2016      3    5     3"
      ]
     },
     "metadata": {},
     "output_type": "display_data"
    },
    {
     "name": "stdout",
     "output_type": "stream",
     "text": [
      "==================================================\n"
     ]
    },
    {
     "data": {
      "text/plain": [
       "0   2015-02-04 02:00:00\n",
       "1   2016-03-05 03:00:00\n",
       "dtype: datetime64[ns]"
      ]
     },
     "metadata": {},
     "output_type": "display_data"
    },
    {
     "data": {
      "text/plain": [
       "pandas.core.series.Series"
      ]
     },
     "metadata": {},
     "output_type": "display_data"
    },
    {
     "name": "stdout",
     "output_type": "stream",
     "text": [
      "==================================================\n"
     ]
    },
    {
     "data": {
      "text/plain": [
       "0   2015-02-04\n",
       "1   2016-03-05\n",
       "dtype: datetime64[ns]"
      ]
     },
     "metadata": {},
     "output_type": "display_data"
    },
    {
     "data": {
      "text/plain": [
       "pandas.core.series.Series"
      ]
     },
     "metadata": {},
     "output_type": "display_data"
    }
   ],
   "source": [
    "df = pd.DataFrame({'year': [2015, 2016],\n",
    "                   'month': [2, 3],\n",
    "                   'day': [4, 5],\n",
    "                   'hour': [2, 3]})\n",
    "display(df)\n",
    "\n",
    "print('='*50)\n",
    "\n",
    "df1 = pd.to_datetime(df)\n",
    "display(df1, type(df1))\n",
    "\n",
    "print('='*50)\n",
    "\n",
    "df2 = pd.to_datetime(df[['year', 'month', 'day']])\n",
    "display(df2, type(df2))"
   ]
  },
  {
   "cell_type": "markdown",
   "metadata": {},
   "source": [
    "### 1.5 无效数据处理"
   ]
  },
  {
   "cell_type": "code",
   "execution_count": 14,
   "metadata": {},
   "outputs": [
    {
     "name": "stdout",
     "output_type": "stream",
     "text": [
      "Error: ('Unknown string format:', 'asd')\n"
     ]
    }
   ],
   "source": [
    "try:\n",
    "    pd.to_datetime(['2009/07/31', 'asd'])\n",
    "except Exception as e:\n",
    "    print(f\"Error: {e}\")"
   ]
  },
  {
   "cell_type": "code",
   "execution_count": 15,
   "metadata": {},
   "outputs": [
    {
     "data": {
      "text/plain": [
       "array(['2009/07/31', 'asd'], dtype=object)"
      ]
     },
     "metadata": {},
     "output_type": "display_data"
    },
    {
     "data": {
      "text/plain": [
       "DatetimeIndex(['2009-07-31', 'NaT'], dtype='datetime64[ns]', freq=None)"
      ]
     },
     "metadata": {},
     "output_type": "display_data"
    }
   ],
   "source": [
    "display(\n",
    "    pd.to_datetime(['2009/07/31', 'asd'], errors='ignore'),  # 保留数据\n",
    "    pd.to_datetime(['2009/07/31', 'asd'], errors='coerce'),  # 转为NaT\n",
    ")"
   ]
  },
  {
   "cell_type": "markdown",
   "metadata": {},
   "source": [
    "### 1.6 将 `浮点数时间戳` 转换为 `Timestamps`"
   ]
  },
  {
   "cell_type": "code",
   "execution_count": 16,
   "metadata": {},
   "outputs": [
    {
     "data": {
      "text/plain": [
       "DatetimeIndex(['2012-10-08 18:15:05', '2012-10-09 18:15:05',\n",
       "               '2012-10-10 18:15:05', '2012-10-11 18:15:05',\n",
       "               '2012-10-12 18:15:05'],\n",
       "              dtype='datetime64[ns]', freq=None)"
      ]
     },
     "metadata": {},
     "output_type": "display_data"
    },
    {
     "data": {
      "text/plain": [
       "DatetimeIndex(['2012-10-08 18:15:05.100000', '2012-10-08 18:15:05.200000',\n",
       "               '2012-10-08 18:15:05.300000', '2012-10-08 18:15:05.400000',\n",
       "               '2012-10-08 18:15:05.500000'],\n",
       "              dtype='datetime64[ns]', freq=None)"
      ]
     },
     "metadata": {},
     "output_type": "display_data"
    }
   ],
   "source": [
    "display(\n",
    "    pd.to_datetime([1349720105, 1349806505, 1349892905, \n",
    "                1349979305, 1350065705], unit='s'),\n",
    "    pd.to_datetime([1349720105100, 1349720105200, 1349720105300, \n",
    "                1349720105400, 1349720105500 ], unit='ms')\n",
    ")"
   ]
  },
  {
   "cell_type": "markdown",
   "metadata": {},
   "source": [
    "### 1.7 将 `Timestamps` 转换为 `浮点数时间戳`"
   ]
  },
  {
   "cell_type": "code",
   "execution_count": 17,
   "metadata": {},
   "outputs": [
    {
     "data": {
      "text/plain": [
       "Int64Index([1349720105, 1349806505, 1349892905, 1349979305], dtype='int64')"
      ]
     },
     "execution_count": 17,
     "metadata": {},
     "output_type": "execute_result"
    }
   ],
   "source": [
    "stamps = pd.date_range('2012-10-08 18:15:05', periods=4, freq='D')\n",
    "f_s = (stamps - pd.Timestamp(\"1970-01-01\")) // pd.Timedelta('1s')\n",
    "\n",
    "f_s"
   ]
  },
  {
   "cell_type": "markdown",
   "metadata": {},
   "source": [
    "### 1.8 使用 ` origin` 参数 "
   ]
  },
  {
   "cell_type": "code",
   "execution_count": 18,
   "metadata": {},
   "outputs": [
    {
     "data": {
      "text/plain": [
       "DatetimeIndex(['1960-01-02', '1960-01-03', '1960-01-04'], dtype='datetime64[ns]', freq=None)"
      ]
     },
     "metadata": {},
     "output_type": "display_data"
    },
    {
     "data": {
      "text/plain": [
       "DatetimeIndex(['1970-01-02', '1970-01-03', '1970-01-04'], dtype='datetime64[ns]', freq=None)"
      ]
     },
     "metadata": {},
     "output_type": "display_data"
    }
   ],
   "source": [
    "# 起始点\n",
    "display(\n",
    "    pd.to_datetime([1, 2, 3], \n",
    "                   unit='D', \n",
    "                   origin=pd.Timestamp('1960-01-01')),\n",
    "    pd.to_datetime([1, 2, 3], \n",
    "                   unit='D',   # 1970-01-01 00:00:00\n",
    "                  ) \n",
    ")"
   ]
  },
  {
   "cell_type": "markdown",
   "metadata": {},
   "source": [
    "## 2 生成 `时间戳` 范围"
   ]
  },
  {
   "cell_type": "code",
   "execution_count": 19,
   "metadata": {},
   "outputs": [
    {
     "data": {
      "text/plain": [
       "DatetimeIndex(['2012-05-01', '2012-05-02', '2012-05-03'], dtype='datetime64[ns]', freq=None)"
      ]
     },
     "metadata": {},
     "output_type": "display_data"
    },
    {
     "data": {
      "text/plain": [
       "DatetimeIndex(['2012-05-01', '2012-05-02', '2012-05-03'], dtype='datetime64[ns]', freq=None)"
      ]
     },
     "metadata": {},
     "output_type": "display_data"
    }
   ],
   "source": [
    "dates = [datetime(2012, 5, 1), \n",
    "         datetime(2012, 5, 2), \n",
    "         datetime(2012, 5, 3)]\n",
    "index = pd.DatetimeIndex(dates)\n",
    "index1 = pd.Index(dates)\n",
    "\n",
    "display(index, index1)"
   ]
  },
  {
   "cell_type": "code",
   "execution_count": 20,
   "metadata": {},
   "outputs": [
    {
     "data": {
      "text/plain": [
       "DatetimeIndex(['2011-01-01', '2011-01-02', '2011-01-03', '2011-01-04',\n",
       "               '2011-01-05', '2011-01-06', '2011-01-07', '2011-01-08',\n",
       "               '2011-01-09', '2011-01-10',\n",
       "               ...\n",
       "               '2011-12-23', '2011-12-24', '2011-12-25', '2011-12-26',\n",
       "               '2011-12-27', '2011-12-28', '2011-12-29', '2011-12-30',\n",
       "               '2011-12-31', '2012-01-01'],\n",
       "              dtype='datetime64[ns]', length=366, freq='D')"
      ]
     },
     "metadata": {},
     "output_type": "display_data"
    },
    {
     "data": {
      "text/plain": [
       "DatetimeIndex(['2011-01-03', '2011-01-04', '2011-01-05', '2011-01-06',\n",
       "               '2011-01-07', '2011-01-10', '2011-01-11', '2011-01-12',\n",
       "               '2011-01-13', '2011-01-14',\n",
       "               ...\n",
       "               '2011-12-19', '2011-12-20', '2011-12-21', '2011-12-22',\n",
       "               '2011-12-23', '2011-12-26', '2011-12-27', '2011-12-28',\n",
       "               '2011-12-29', '2011-12-30'],\n",
       "              dtype='datetime64[ns]', length=260, freq='B')"
      ]
     },
     "metadata": {},
     "output_type": "display_data"
    }
   ],
   "source": [
    "# 根据范围生成时间戳\n",
    "start = datetime(2011, 1, 1)\n",
    "end = datetime(2012, 1, 1)\n",
    "\n",
    "index = pd.date_range(start, end)  # 日历日\n",
    "index1 = pd.bdate_range(start, end)   # 营业日\n",
    "\n",
    "display(index, index1)"
   ]
  },
  {
   "cell_type": "code",
   "execution_count": 21,
   "metadata": {},
   "outputs": [
    {
     "data": {
      "text/plain": [
       "DatetimeIndex(['2011-01-31', '2011-02-28', '2011-03-31', '2011-04-29',\n",
       "               '2011-05-31', '2011-06-30', '2011-07-29', '2011-08-31',\n",
       "               '2011-09-30', '2011-10-31', '2011-11-30', '2011-12-30'],\n",
       "              dtype='datetime64[ns]', freq='BM')"
      ]
     },
     "metadata": {},
     "output_type": "display_data"
    },
    {
     "data": {
      "text/plain": [
       "DatetimeIndex(['2011-01-02', '2011-01-09', '2011-01-16', '2011-01-23',\n",
       "               '2011-01-30', '2011-02-06', '2011-02-13', '2011-02-20',\n",
       "               '2011-02-27', '2011-03-06', '2011-03-13', '2011-03-20',\n",
       "               '2011-03-27', '2011-04-03', '2011-04-10', '2011-04-17',\n",
       "               '2011-04-24', '2011-05-01', '2011-05-08', '2011-05-15',\n",
       "               '2011-05-22', '2011-05-29', '2011-06-05', '2011-06-12',\n",
       "               '2011-06-19', '2011-06-26', '2011-07-03', '2011-07-10',\n",
       "               '2011-07-17', '2011-07-24', '2011-07-31', '2011-08-07',\n",
       "               '2011-08-14', '2011-08-21', '2011-08-28', '2011-09-04',\n",
       "               '2011-09-11', '2011-09-18', '2011-09-25', '2011-10-02',\n",
       "               '2011-10-09', '2011-10-16', '2011-10-23', '2011-10-30',\n",
       "               '2011-11-06', '2011-11-13', '2011-11-20', '2011-11-27',\n",
       "               '2011-12-04', '2011-12-11', '2011-12-18', '2011-12-25',\n",
       "               '2012-01-01'],\n",
       "              dtype='datetime64[ns]', freq='W-SUN')"
      ]
     },
     "metadata": {},
     "output_type": "display_data"
    },
    {
     "data": {
      "text/plain": [
       "DatetimeIndex(['2011-12-05', '2011-12-06', '2011-12-07', '2011-12-08',\n",
       "               '2011-12-09', '2011-12-12', '2011-12-13', '2011-12-14',\n",
       "               '2011-12-15', '2011-12-16', '2011-12-19', '2011-12-20',\n",
       "               '2011-12-21', '2011-12-22', '2011-12-23', '2011-12-26',\n",
       "               '2011-12-27', '2011-12-28', '2011-12-29', '2011-12-30'],\n",
       "              dtype='datetime64[ns]', freq='B')"
      ]
     },
     "metadata": {},
     "output_type": "display_data"
    },
    {
     "data": {
      "text/plain": [
       "DatetimeIndex(['2011-01-03', '2011-01-04', '2011-01-05', '2011-01-06',\n",
       "               '2011-01-07', '2011-01-10', '2011-01-11', '2011-01-12',\n",
       "               '2011-01-13', '2011-01-14', '2011-01-17', '2011-01-18',\n",
       "               '2011-01-19', '2011-01-20', '2011-01-21', '2011-01-24',\n",
       "               '2011-01-25', '2011-01-26', '2011-01-27', '2011-01-28'],\n",
       "              dtype='datetime64[ns]', freq='B')"
      ]
     },
     "metadata": {},
     "output_type": "display_data"
    }
   ],
   "source": [
    "# date_range 和 bdate_range 的参数组合， 如start, end, freq\n",
    "index1 = pd.date_range(start, end, freq='BM')  # 月末\n",
    "index2 = pd.date_range(start, end, freq='W')   # 周末\n",
    "index3 = pd.bdate_range(end=end, periods=20)   # 配置间隔时间\n",
    "index4 = pd.bdate_range(start=start, periods=20)  \n",
    "\n",
    "display(index1, index2, index3, index4)"
   ]
  },
  {
   "cell_type": "code",
   "execution_count": 22,
   "metadata": {},
   "outputs": [
    {
     "data": {
      "text/plain": [
       "DatetimeIndex(['2018-01-01', '2018-01-02', '2018-01-03', '2018-01-04',\n",
       "               '2018-01-05'],\n",
       "              dtype='datetime64[ns]', freq=None)"
      ]
     },
     "metadata": {},
     "output_type": "display_data"
    },
    {
     "data": {
      "text/plain": [
       "DatetimeIndex(['2018-01-01 00:00:00', '2018-01-01 10:40:00',\n",
       "               '2018-01-01 21:20:00', '2018-01-02 08:00:00',\n",
       "               '2018-01-02 18:40:00', '2018-01-03 05:20:00',\n",
       "               '2018-01-03 16:00:00', '2018-01-04 02:40:00',\n",
       "               '2018-01-04 13:20:00', '2018-01-05 00:00:00'],\n",
       "              dtype='datetime64[ns]', freq=None)"
      ]
     },
     "metadata": {},
     "output_type": "display_data"
    }
   ],
   "source": [
    "index1 = pd.date_range('2018-01-01', '2018-01-05', periods=5)\n",
    "index2 = pd.date_range('2018-01-01', '2018-01-05', periods=10)\n",
    "\n",
    "display(index1, index2)"
   ]
  },
  {
   "cell_type": "code",
   "execution_count": 23,
   "metadata": {},
   "outputs": [
    {
     "data": {
      "text/plain": [
       "DatetimeIndex(['2011-01-03', '2011-01-07', '2011-01-10', '2011-01-12',\n",
       "               '2011-01-14', '2011-01-17', '2011-01-19', '2011-01-21',\n",
       "               '2011-01-24', '2011-01-26',\n",
       "               ...\n",
       "               '2011-12-09', '2011-12-12', '2011-12-14', '2011-12-16',\n",
       "               '2011-12-19', '2011-12-21', '2011-12-23', '2011-12-26',\n",
       "               '2011-12-28', '2011-12-30'],\n",
       "              dtype='datetime64[ns]', length=154, freq='C')"
      ]
     },
     "metadata": {},
     "output_type": "display_data"
    },
    {
     "data": {
      "text/plain": [
       "DatetimeIndex(['2011-01-03', '2011-02-02', '2011-03-02', '2011-04-01',\n",
       "               '2011-05-02', '2011-06-01', '2011-07-01', '2011-08-01',\n",
       "               '2011-09-02', '2011-10-03', '2011-11-02', '2011-12-02'],\n",
       "              dtype='datetime64[ns]', freq='CBMS')"
      ]
     },
     "metadata": {},
     "output_type": "display_data"
    }
   ],
   "source": [
    "# bdate_range\n",
    "weekmask = 'Mon Wed Fri'\n",
    "holidays = [datetime(2011, 1, 5), datetime(2011, 3, 14)]\n",
    "index1 = pd.bdate_range(start, end, \n",
    "                        freq='C', \n",
    "                        weekmask=weekmask, \n",
    "                        holidays=holidays,)\n",
    "index2 = pd.bdate_range(start, end, \n",
    "                        freq='CBMS', \n",
    "                        weekmask=weekmask, \n",
    "                        holidays=holidays,)\n",
    "\n",
    "display(index1, index2)"
   ]
  },
  {
   "cell_type": "markdown",
   "metadata": {},
   "source": [
    "### 2.1 `Timestamp`限制"
   ]
  },
  {
   "cell_type": "code",
   "execution_count": 24,
   "metadata": {},
   "outputs": [
    {
     "data": {
      "text/plain": [
       "Timestamp('1677-09-21 00:12:43.145225')"
      ]
     },
     "metadata": {},
     "output_type": "display_data"
    },
    {
     "data": {
      "text/plain": [
       "Timestamp('2262-04-11 23:47:16.854775807')"
      ]
     },
     "metadata": {},
     "output_type": "display_data"
    }
   ],
   "source": [
    "display(\n",
    "    pd.Timestamp.min,\n",
    "    pd.Timestamp.max,\n",
    ")"
   ]
  },
  {
   "cell_type": "markdown",
   "metadata": {},
   "source": [
    "## 3 `index`"
   ]
  },
  {
   "cell_type": "code",
   "execution_count": 25,
   "metadata": {},
   "outputs": [
    {
     "data": {
      "text/plain": [
       "DatetimeIndex(['2011-01-31', '2011-02-28', '2011-03-31', '2011-04-29',\n",
       "               '2011-05-31', '2011-06-30', '2011-07-29', '2011-08-31',\n",
       "               '2011-09-30', '2011-10-31', '2011-11-30', '2011-12-30'],\n",
       "              dtype='datetime64[ns]', freq='BM')"
      ]
     },
     "metadata": {},
     "output_type": "display_data"
    },
    {
     "data": {
      "text/plain": [
       "DatetimeIndex(['2011-01-31', '2011-02-28', '2011-03-31', '2011-04-29',\n",
       "               '2011-05-31'],\n",
       "              dtype='datetime64[ns]', freq='BM')"
      ]
     },
     "metadata": {},
     "output_type": "display_data"
    },
    {
     "data": {
      "text/plain": [
       "DatetimeIndex(['2011-01-31', '2011-03-31', '2011-05-31', '2011-07-29',\n",
       "               '2011-09-30', '2011-11-30'],\n",
       "              dtype='datetime64[ns]', freq='2BM')"
      ]
     },
     "metadata": {},
     "output_type": "display_data"
    },
    {
     "data": {
      "text/plain": [
       "-0.3227839950756312"
      ]
     },
     "metadata": {},
     "output_type": "display_data"
    },
    {
     "data": {
      "text/plain": [
       "2011-12-30    0.010401\n",
       "Freq: BM, dtype: float64"
      ]
     },
     "metadata": {},
     "output_type": "display_data"
    },
    {
     "data": {
      "text/plain": [
       "2011-10-31   -1.503697\n",
       "2011-11-30    0.864834\n",
       "2011-12-30    0.010401\n",
       "Freq: BM, dtype: float64"
      ]
     },
     "metadata": {},
     "output_type": "display_data"
    }
   ],
   "source": [
    "rng = pd.date_range(start, end, freq='BM')\n",
    "ts = pd.Series(np.random.randn(len(rng)), index=rng)\n",
    "\n",
    "# 再索引\n",
    "display(\n",
    "    ts.index,\n",
    "    ts[:5].index,  # 支持切片操作\n",
    "    ts[::2].index,\n",
    "    ts['1/31/2011'],  # 字符串为索引\n",
    "    ts[datetime(2011, 12, 25):],   # 时间戳为索引\n",
    "    ts['10/31/2011':'12/31/2011']   # 字符串范围\n",
    ")"
   ]
  },
  {
   "cell_type": "code",
   "execution_count": 26,
   "metadata": {},
   "outputs": [
    {
     "data": {
      "text/plain": [
       "2011-01-31   -0.322784\n",
       "2011-02-28   -0.871209\n",
       "2011-03-31   -1.266387\n",
       "2011-04-29    0.712583\n",
       "2011-05-31    0.063998\n",
       "2011-06-30    0.043064\n",
       "2011-07-29    0.156769\n",
       "2011-08-31    1.487245\n",
       "2011-09-30   -0.854961\n",
       "2011-10-31   -1.503697\n",
       "2011-11-30    0.864834\n",
       "2011-12-30    0.010401\n",
       "Freq: BM, dtype: float64"
      ]
     },
     "metadata": {},
     "output_type": "display_data"
    },
    {
     "data": {
      "text/plain": [
       "2011-06-30    0.043064\n",
       "Freq: BM, dtype: float64"
      ]
     },
     "metadata": {},
     "output_type": "display_data"
    }
   ],
   "source": [
    "display(\n",
    "    ts['2011'],  # 年份\n",
    "    ts['2011-6'],   # 月份\n",
    ")"
   ]
  },
  {
   "cell_type": "code",
   "execution_count": 27,
   "metadata": {},
   "outputs": [
    {
     "data": {
      "text/plain": [
       "(100000, 1)"
      ]
     },
     "metadata": {},
     "output_type": "display_data"
    },
    {
     "data": {
      "text/html": [
       "<div>\n",
       "<style scoped>\n",
       "    .dataframe tbody tr th:only-of-type {\n",
       "        vertical-align: middle;\n",
       "    }\n",
       "\n",
       "    .dataframe tbody tr th {\n",
       "        vertical-align: top;\n",
       "    }\n",
       "\n",
       "    .dataframe thead th {\n",
       "        text-align: right;\n",
       "    }\n",
       "</style>\n",
       "<table border=\"1\" class=\"dataframe\">\n",
       "  <thead>\n",
       "    <tr style=\"text-align: right;\">\n",
       "      <th></th>\n",
       "      <th>A</th>\n",
       "    </tr>\n",
       "  </thead>\n",
       "  <tbody>\n",
       "    <tr>\n",
       "      <th>2013-01-01 00:00:00</th>\n",
       "      <td>1.312935</td>\n",
       "    </tr>\n",
       "    <tr>\n",
       "      <th>2013-01-01 00:01:00</th>\n",
       "      <td>1.312621</td>\n",
       "    </tr>\n",
       "    <tr>\n",
       "      <th>2013-01-01 00:02:00</th>\n",
       "      <td>0.193682</td>\n",
       "    </tr>\n",
       "    <tr>\n",
       "      <th>2013-01-01 00:03:00</th>\n",
       "      <td>2.355485</td>\n",
       "    </tr>\n",
       "    <tr>\n",
       "      <th>2013-01-01 00:04:00</th>\n",
       "      <td>0.094012</td>\n",
       "    </tr>\n",
       "  </tbody>\n",
       "</table>\n",
       "</div>"
      ],
      "text/plain": [
       "                            A\n",
       "2013-01-01 00:00:00  1.312935\n",
       "2013-01-01 00:01:00  1.312621\n",
       "2013-01-01 00:02:00  0.193682\n",
       "2013-01-01 00:03:00  2.355485\n",
       "2013-01-01 00:04:00  0.094012"
      ]
     },
     "metadata": {},
     "output_type": "display_data"
    }
   ],
   "source": [
    "dft = pd.DataFrame(\n",
    "    np.random.randn(100000,1),\n",
    "    columns=['A'],\n",
    "    index=pd.date_range('20130101',periods=100000,freq='T')\n",
    ")\n",
    "\n",
    "display(\n",
    "    dft.shape,\n",
    "    dft.head(),\n",
    ")"
   ]
  },
  {
   "cell_type": "code",
   "execution_count": 28,
   "metadata": {},
   "outputs": [
    {
     "data": {
      "text/html": [
       "<div>\n",
       "<style scoped>\n",
       "    .dataframe tbody tr th:only-of-type {\n",
       "        vertical-align: middle;\n",
       "    }\n",
       "\n",
       "    .dataframe tbody tr th {\n",
       "        vertical-align: top;\n",
       "    }\n",
       "\n",
       "    .dataframe thead th {\n",
       "        text-align: right;\n",
       "    }\n",
       "</style>\n",
       "<table border=\"1\" class=\"dataframe\">\n",
       "  <thead>\n",
       "    <tr style=\"text-align: right;\">\n",
       "      <th></th>\n",
       "      <th>A</th>\n",
       "    </tr>\n",
       "  </thead>\n",
       "  <tbody>\n",
       "    <tr>\n",
       "      <th>2013-01-01 00:00:00</th>\n",
       "      <td>1.312935</td>\n",
       "    </tr>\n",
       "    <tr>\n",
       "      <th>2013-01-01 00:01:00</th>\n",
       "      <td>1.312621</td>\n",
       "    </tr>\n",
       "    <tr>\n",
       "      <th>2013-01-01 00:02:00</th>\n",
       "      <td>0.193682</td>\n",
       "    </tr>\n",
       "    <tr>\n",
       "      <th>2013-01-01 00:03:00</th>\n",
       "      <td>2.355485</td>\n",
       "    </tr>\n",
       "    <tr>\n",
       "      <th>2013-01-01 00:04:00</th>\n",
       "      <td>0.094012</td>\n",
       "    </tr>\n",
       "    <tr>\n",
       "      <th>2013-01-01 00:05:00</th>\n",
       "      <td>-1.301788</td>\n",
       "    </tr>\n",
       "    <tr>\n",
       "      <th>2013-01-01 00:06:00</th>\n",
       "      <td>-0.253025</td>\n",
       "    </tr>\n",
       "    <tr>\n",
       "      <th>2013-01-01 00:07:00</th>\n",
       "      <td>1.902301</td>\n",
       "    </tr>\n",
       "    <tr>\n",
       "      <th>2013-01-01 00:08:00</th>\n",
       "      <td>-0.813458</td>\n",
       "    </tr>\n",
       "    <tr>\n",
       "      <th>2013-01-01 00:09:00</th>\n",
       "      <td>-0.442346</td>\n",
       "    </tr>\n",
       "    <tr>\n",
       "      <th>2013-01-01 00:10:00</th>\n",
       "      <td>-0.791645</td>\n",
       "    </tr>\n",
       "    <tr>\n",
       "      <th>2013-01-01 00:11:00</th>\n",
       "      <td>-0.525422</td>\n",
       "    </tr>\n",
       "    <tr>\n",
       "      <th>2013-01-01 00:12:00</th>\n",
       "      <td>0.196528</td>\n",
       "    </tr>\n",
       "    <tr>\n",
       "      <th>2013-01-01 00:13:00</th>\n",
       "      <td>0.070255</td>\n",
       "    </tr>\n",
       "    <tr>\n",
       "      <th>2013-01-01 00:14:00</th>\n",
       "      <td>-0.362160</td>\n",
       "    </tr>\n",
       "    <tr>\n",
       "      <th>2013-01-01 00:15:00</th>\n",
       "      <td>1.249442</td>\n",
       "    </tr>\n",
       "    <tr>\n",
       "      <th>2013-01-01 00:16:00</th>\n",
       "      <td>-0.409291</td>\n",
       "    </tr>\n",
       "    <tr>\n",
       "      <th>2013-01-01 00:17:00</th>\n",
       "      <td>-1.478420</td>\n",
       "    </tr>\n",
       "    <tr>\n",
       "      <th>2013-01-01 00:18:00</th>\n",
       "      <td>-1.116990</td>\n",
       "    </tr>\n",
       "    <tr>\n",
       "      <th>2013-01-01 00:19:00</th>\n",
       "      <td>1.089025</td>\n",
       "    </tr>\n",
       "    <tr>\n",
       "      <th>2013-01-01 00:20:00</th>\n",
       "      <td>-0.093620</td>\n",
       "    </tr>\n",
       "    <tr>\n",
       "      <th>2013-01-01 00:21:00</th>\n",
       "      <td>-1.304520</td>\n",
       "    </tr>\n",
       "    <tr>\n",
       "      <th>2013-01-01 00:22:00</th>\n",
       "      <td>-0.434213</td>\n",
       "    </tr>\n",
       "    <tr>\n",
       "      <th>2013-01-01 00:23:00</th>\n",
       "      <td>-1.442325</td>\n",
       "    </tr>\n",
       "    <tr>\n",
       "      <th>2013-01-01 00:24:00</th>\n",
       "      <td>0.022453</td>\n",
       "    </tr>\n",
       "    <tr>\n",
       "      <th>2013-01-01 00:25:00</th>\n",
       "      <td>-2.408264</td>\n",
       "    </tr>\n",
       "    <tr>\n",
       "      <th>2013-01-01 00:26:00</th>\n",
       "      <td>-0.161011</td>\n",
       "    </tr>\n",
       "    <tr>\n",
       "      <th>2013-01-01 00:27:00</th>\n",
       "      <td>-0.006236</td>\n",
       "    </tr>\n",
       "    <tr>\n",
       "      <th>2013-01-01 00:28:00</th>\n",
       "      <td>-1.598610</td>\n",
       "    </tr>\n",
       "    <tr>\n",
       "      <th>2013-01-01 00:29:00</th>\n",
       "      <td>-0.771426</td>\n",
       "    </tr>\n",
       "    <tr>\n",
       "      <th>...</th>\n",
       "      <td>...</td>\n",
       "    </tr>\n",
       "    <tr>\n",
       "      <th>2013-01-31 23:30:00</th>\n",
       "      <td>-0.272604</td>\n",
       "    </tr>\n",
       "    <tr>\n",
       "      <th>2013-01-31 23:31:00</th>\n",
       "      <td>-0.472205</td>\n",
       "    </tr>\n",
       "    <tr>\n",
       "      <th>2013-01-31 23:32:00</th>\n",
       "      <td>-0.232501</td>\n",
       "    </tr>\n",
       "    <tr>\n",
       "      <th>2013-01-31 23:33:00</th>\n",
       "      <td>-0.236415</td>\n",
       "    </tr>\n",
       "    <tr>\n",
       "      <th>2013-01-31 23:34:00</th>\n",
       "      <td>0.155387</td>\n",
       "    </tr>\n",
       "    <tr>\n",
       "      <th>2013-01-31 23:35:00</th>\n",
       "      <td>0.400015</td>\n",
       "    </tr>\n",
       "    <tr>\n",
       "      <th>2013-01-31 23:36:00</th>\n",
       "      <td>0.167639</td>\n",
       "    </tr>\n",
       "    <tr>\n",
       "      <th>2013-01-31 23:37:00</th>\n",
       "      <td>-0.198977</td>\n",
       "    </tr>\n",
       "    <tr>\n",
       "      <th>2013-01-31 23:38:00</th>\n",
       "      <td>-0.686916</td>\n",
       "    </tr>\n",
       "    <tr>\n",
       "      <th>2013-01-31 23:39:00</th>\n",
       "      <td>0.126418</td>\n",
       "    </tr>\n",
       "    <tr>\n",
       "      <th>2013-01-31 23:40:00</th>\n",
       "      <td>-0.354117</td>\n",
       "    </tr>\n",
       "    <tr>\n",
       "      <th>2013-01-31 23:41:00</th>\n",
       "      <td>-0.905012</td>\n",
       "    </tr>\n",
       "    <tr>\n",
       "      <th>2013-01-31 23:42:00</th>\n",
       "      <td>1.916909</td>\n",
       "    </tr>\n",
       "    <tr>\n",
       "      <th>2013-01-31 23:43:00</th>\n",
       "      <td>0.732098</td>\n",
       "    </tr>\n",
       "    <tr>\n",
       "      <th>2013-01-31 23:44:00</th>\n",
       "      <td>0.029680</td>\n",
       "    </tr>\n",
       "    <tr>\n",
       "      <th>2013-01-31 23:45:00</th>\n",
       "      <td>-0.745249</td>\n",
       "    </tr>\n",
       "    <tr>\n",
       "      <th>2013-01-31 23:46:00</th>\n",
       "      <td>2.250803</td>\n",
       "    </tr>\n",
       "    <tr>\n",
       "      <th>2013-01-31 23:47:00</th>\n",
       "      <td>-0.099491</td>\n",
       "    </tr>\n",
       "    <tr>\n",
       "      <th>2013-01-31 23:48:00</th>\n",
       "      <td>0.789009</td>\n",
       "    </tr>\n",
       "    <tr>\n",
       "      <th>2013-01-31 23:49:00</th>\n",
       "      <td>-0.548519</td>\n",
       "    </tr>\n",
       "    <tr>\n",
       "      <th>2013-01-31 23:50:00</th>\n",
       "      <td>-0.280253</td>\n",
       "    </tr>\n",
       "    <tr>\n",
       "      <th>2013-01-31 23:51:00</th>\n",
       "      <td>-0.106442</td>\n",
       "    </tr>\n",
       "    <tr>\n",
       "      <th>2013-01-31 23:52:00</th>\n",
       "      <td>-2.402883</td>\n",
       "    </tr>\n",
       "    <tr>\n",
       "      <th>2013-01-31 23:53:00</th>\n",
       "      <td>-1.471368</td>\n",
       "    </tr>\n",
       "    <tr>\n",
       "      <th>2013-01-31 23:54:00</th>\n",
       "      <td>0.065677</td>\n",
       "    </tr>\n",
       "    <tr>\n",
       "      <th>2013-01-31 23:55:00</th>\n",
       "      <td>-0.758552</td>\n",
       "    </tr>\n",
       "    <tr>\n",
       "      <th>2013-01-31 23:56:00</th>\n",
       "      <td>-0.781628</td>\n",
       "    </tr>\n",
       "    <tr>\n",
       "      <th>2013-01-31 23:57:00</th>\n",
       "      <td>-0.783253</td>\n",
       "    </tr>\n",
       "    <tr>\n",
       "      <th>2013-01-31 23:58:00</th>\n",
       "      <td>-0.636041</td>\n",
       "    </tr>\n",
       "    <tr>\n",
       "      <th>2013-01-31 23:59:00</th>\n",
       "      <td>-0.868763</td>\n",
       "    </tr>\n",
       "  </tbody>\n",
       "</table>\n",
       "<p>44640 rows × 1 columns</p>\n",
       "</div>"
      ],
      "text/plain": [
       "                            A\n",
       "2013-01-01 00:00:00  1.312935\n",
       "2013-01-01 00:01:00  1.312621\n",
       "2013-01-01 00:02:00  0.193682\n",
       "2013-01-01 00:03:00  2.355485\n",
       "2013-01-01 00:04:00  0.094012\n",
       "2013-01-01 00:05:00 -1.301788\n",
       "2013-01-01 00:06:00 -0.253025\n",
       "2013-01-01 00:07:00  1.902301\n",
       "2013-01-01 00:08:00 -0.813458\n",
       "2013-01-01 00:09:00 -0.442346\n",
       "2013-01-01 00:10:00 -0.791645\n",
       "2013-01-01 00:11:00 -0.525422\n",
       "2013-01-01 00:12:00  0.196528\n",
       "2013-01-01 00:13:00  0.070255\n",
       "2013-01-01 00:14:00 -0.362160\n",
       "2013-01-01 00:15:00  1.249442\n",
       "2013-01-01 00:16:00 -0.409291\n",
       "2013-01-01 00:17:00 -1.478420\n",
       "2013-01-01 00:18:00 -1.116990\n",
       "2013-01-01 00:19:00  1.089025\n",
       "2013-01-01 00:20:00 -0.093620\n",
       "2013-01-01 00:21:00 -1.304520\n",
       "2013-01-01 00:22:00 -0.434213\n",
       "2013-01-01 00:23:00 -1.442325\n",
       "2013-01-01 00:24:00  0.022453\n",
       "2013-01-01 00:25:00 -2.408264\n",
       "2013-01-01 00:26:00 -0.161011\n",
       "2013-01-01 00:27:00 -0.006236\n",
       "2013-01-01 00:28:00 -1.598610\n",
       "2013-01-01 00:29:00 -0.771426\n",
       "...                       ...\n",
       "2013-01-31 23:30:00 -0.272604\n",
       "2013-01-31 23:31:00 -0.472205\n",
       "2013-01-31 23:32:00 -0.232501\n",
       "2013-01-31 23:33:00 -0.236415\n",
       "2013-01-31 23:34:00  0.155387\n",
       "2013-01-31 23:35:00  0.400015\n",
       "2013-01-31 23:36:00  0.167639\n",
       "2013-01-31 23:37:00 -0.198977\n",
       "2013-01-31 23:38:00 -0.686916\n",
       "2013-01-31 23:39:00  0.126418\n",
       "2013-01-31 23:40:00 -0.354117\n",
       "2013-01-31 23:41:00 -0.905012\n",
       "2013-01-31 23:42:00  1.916909\n",
       "2013-01-31 23:43:00  0.732098\n",
       "2013-01-31 23:44:00  0.029680\n",
       "2013-01-31 23:45:00 -0.745249\n",
       "2013-01-31 23:46:00  2.250803\n",
       "2013-01-31 23:47:00 -0.099491\n",
       "2013-01-31 23:48:00  0.789009\n",
       "2013-01-31 23:49:00 -0.548519\n",
       "2013-01-31 23:50:00 -0.280253\n",
       "2013-01-31 23:51:00 -0.106442\n",
       "2013-01-31 23:52:00 -2.402883\n",
       "2013-01-31 23:53:00 -1.471368\n",
       "2013-01-31 23:54:00  0.065677\n",
       "2013-01-31 23:55:00 -0.758552\n",
       "2013-01-31 23:56:00 -0.781628\n",
       "2013-01-31 23:57:00 -0.783253\n",
       "2013-01-31 23:58:00 -0.636041\n",
       "2013-01-31 23:59:00 -0.868763\n",
       "\n",
       "[44640 rows x 1 columns]"
      ]
     },
     "execution_count": 28,
     "metadata": {},
     "output_type": "execute_result"
    }
   ],
   "source": [
    "dft['2013-01']"
   ]
  },
  {
   "cell_type": "code",
   "execution_count": 29,
   "metadata": {},
   "outputs": [
    {
     "data": {
      "text/html": [
       "<div>\n",
       "<style scoped>\n",
       "    .dataframe tbody tr th:only-of-type {\n",
       "        vertical-align: middle;\n",
       "    }\n",
       "\n",
       "    .dataframe tbody tr th {\n",
       "        vertical-align: top;\n",
       "    }\n",
       "\n",
       "    .dataframe thead th {\n",
       "        text-align: right;\n",
       "    }\n",
       "</style>\n",
       "<table border=\"1\" class=\"dataframe\">\n",
       "  <thead>\n",
       "    <tr style=\"text-align: right;\">\n",
       "      <th></th>\n",
       "      <th>A</th>\n",
       "    </tr>\n",
       "  </thead>\n",
       "  <tbody>\n",
       "    <tr>\n",
       "      <th>2013-01-01 00:00:00</th>\n",
       "      <td>1.312935</td>\n",
       "    </tr>\n",
       "    <tr>\n",
       "      <th>2013-01-01 00:01:00</th>\n",
       "      <td>1.312621</td>\n",
       "    </tr>\n",
       "    <tr>\n",
       "      <th>2013-01-01 00:02:00</th>\n",
       "      <td>0.193682</td>\n",
       "    </tr>\n",
       "    <tr>\n",
       "      <th>2013-01-01 00:03:00</th>\n",
       "      <td>2.355485</td>\n",
       "    </tr>\n",
       "    <tr>\n",
       "      <th>2013-01-01 00:04:00</th>\n",
       "      <td>0.094012</td>\n",
       "    </tr>\n",
       "    <tr>\n",
       "      <th>2013-01-01 00:05:00</th>\n",
       "      <td>-1.301788</td>\n",
       "    </tr>\n",
       "    <tr>\n",
       "      <th>2013-01-01 00:06:00</th>\n",
       "      <td>-0.253025</td>\n",
       "    </tr>\n",
       "    <tr>\n",
       "      <th>2013-01-01 00:07:00</th>\n",
       "      <td>1.902301</td>\n",
       "    </tr>\n",
       "    <tr>\n",
       "      <th>2013-01-01 00:08:00</th>\n",
       "      <td>-0.813458</td>\n",
       "    </tr>\n",
       "    <tr>\n",
       "      <th>2013-01-01 00:09:00</th>\n",
       "      <td>-0.442346</td>\n",
       "    </tr>\n",
       "    <tr>\n",
       "      <th>2013-01-01 00:10:00</th>\n",
       "      <td>-0.791645</td>\n",
       "    </tr>\n",
       "    <tr>\n",
       "      <th>2013-01-01 00:11:00</th>\n",
       "      <td>-0.525422</td>\n",
       "    </tr>\n",
       "    <tr>\n",
       "      <th>2013-01-01 00:12:00</th>\n",
       "      <td>0.196528</td>\n",
       "    </tr>\n",
       "    <tr>\n",
       "      <th>2013-01-01 00:13:00</th>\n",
       "      <td>0.070255</td>\n",
       "    </tr>\n",
       "    <tr>\n",
       "      <th>2013-01-01 00:14:00</th>\n",
       "      <td>-0.362160</td>\n",
       "    </tr>\n",
       "    <tr>\n",
       "      <th>2013-01-01 00:15:00</th>\n",
       "      <td>1.249442</td>\n",
       "    </tr>\n",
       "    <tr>\n",
       "      <th>2013-01-01 00:16:00</th>\n",
       "      <td>-0.409291</td>\n",
       "    </tr>\n",
       "    <tr>\n",
       "      <th>2013-01-01 00:17:00</th>\n",
       "      <td>-1.478420</td>\n",
       "    </tr>\n",
       "    <tr>\n",
       "      <th>2013-01-01 00:18:00</th>\n",
       "      <td>-1.116990</td>\n",
       "    </tr>\n",
       "    <tr>\n",
       "      <th>2013-01-01 00:19:00</th>\n",
       "      <td>1.089025</td>\n",
       "    </tr>\n",
       "    <tr>\n",
       "      <th>2013-01-01 00:20:00</th>\n",
       "      <td>-0.093620</td>\n",
       "    </tr>\n",
       "    <tr>\n",
       "      <th>2013-01-01 00:21:00</th>\n",
       "      <td>-1.304520</td>\n",
       "    </tr>\n",
       "    <tr>\n",
       "      <th>2013-01-01 00:22:00</th>\n",
       "      <td>-0.434213</td>\n",
       "    </tr>\n",
       "    <tr>\n",
       "      <th>2013-01-01 00:23:00</th>\n",
       "      <td>-1.442325</td>\n",
       "    </tr>\n",
       "    <tr>\n",
       "      <th>2013-01-01 00:24:00</th>\n",
       "      <td>0.022453</td>\n",
       "    </tr>\n",
       "    <tr>\n",
       "      <th>2013-01-01 00:25:00</th>\n",
       "      <td>-2.408264</td>\n",
       "    </tr>\n",
       "    <tr>\n",
       "      <th>2013-01-01 00:26:00</th>\n",
       "      <td>-0.161011</td>\n",
       "    </tr>\n",
       "    <tr>\n",
       "      <th>2013-01-01 00:27:00</th>\n",
       "      <td>-0.006236</td>\n",
       "    </tr>\n",
       "    <tr>\n",
       "      <th>2013-01-01 00:28:00</th>\n",
       "      <td>-1.598610</td>\n",
       "    </tr>\n",
       "    <tr>\n",
       "      <th>2013-01-01 00:29:00</th>\n",
       "      <td>-0.771426</td>\n",
       "    </tr>\n",
       "    <tr>\n",
       "      <th>...</th>\n",
       "      <td>...</td>\n",
       "    </tr>\n",
       "    <tr>\n",
       "      <th>2013-01-05 23:30:00</th>\n",
       "      <td>0.694323</td>\n",
       "    </tr>\n",
       "    <tr>\n",
       "      <th>2013-01-05 23:31:00</th>\n",
       "      <td>0.439230</td>\n",
       "    </tr>\n",
       "    <tr>\n",
       "      <th>2013-01-05 23:32:00</th>\n",
       "      <td>0.216794</td>\n",
       "    </tr>\n",
       "    <tr>\n",
       "      <th>2013-01-05 23:33:00</th>\n",
       "      <td>1.601665</td>\n",
       "    </tr>\n",
       "    <tr>\n",
       "      <th>2013-01-05 23:34:00</th>\n",
       "      <td>-0.661390</td>\n",
       "    </tr>\n",
       "    <tr>\n",
       "      <th>2013-01-05 23:35:00</th>\n",
       "      <td>1.106275</td>\n",
       "    </tr>\n",
       "    <tr>\n",
       "      <th>2013-01-05 23:36:00</th>\n",
       "      <td>2.847112</td>\n",
       "    </tr>\n",
       "    <tr>\n",
       "      <th>2013-01-05 23:37:00</th>\n",
       "      <td>0.512596</td>\n",
       "    </tr>\n",
       "    <tr>\n",
       "      <th>2013-01-05 23:38:00</th>\n",
       "      <td>1.220969</td>\n",
       "    </tr>\n",
       "    <tr>\n",
       "      <th>2013-01-05 23:39:00</th>\n",
       "      <td>-1.471017</td>\n",
       "    </tr>\n",
       "    <tr>\n",
       "      <th>2013-01-05 23:40:00</th>\n",
       "      <td>-0.743444</td>\n",
       "    </tr>\n",
       "    <tr>\n",
       "      <th>2013-01-05 23:41:00</th>\n",
       "      <td>-1.574392</td>\n",
       "    </tr>\n",
       "    <tr>\n",
       "      <th>2013-01-05 23:42:00</th>\n",
       "      <td>0.415204</td>\n",
       "    </tr>\n",
       "    <tr>\n",
       "      <th>2013-01-05 23:43:00</th>\n",
       "      <td>0.112344</td>\n",
       "    </tr>\n",
       "    <tr>\n",
       "      <th>2013-01-05 23:44:00</th>\n",
       "      <td>0.145949</td>\n",
       "    </tr>\n",
       "    <tr>\n",
       "      <th>2013-01-05 23:45:00</th>\n",
       "      <td>-0.182287</td>\n",
       "    </tr>\n",
       "    <tr>\n",
       "      <th>2013-01-05 23:46:00</th>\n",
       "      <td>-0.602673</td>\n",
       "    </tr>\n",
       "    <tr>\n",
       "      <th>2013-01-05 23:47:00</th>\n",
       "      <td>-0.930010</td>\n",
       "    </tr>\n",
       "    <tr>\n",
       "      <th>2013-01-05 23:48:00</th>\n",
       "      <td>-0.378185</td>\n",
       "    </tr>\n",
       "    <tr>\n",
       "      <th>2013-01-05 23:49:00</th>\n",
       "      <td>0.501757</td>\n",
       "    </tr>\n",
       "    <tr>\n",
       "      <th>2013-01-05 23:50:00</th>\n",
       "      <td>-1.142498</td>\n",
       "    </tr>\n",
       "    <tr>\n",
       "      <th>2013-01-05 23:51:00</th>\n",
       "      <td>-0.129444</td>\n",
       "    </tr>\n",
       "    <tr>\n",
       "      <th>2013-01-05 23:52:00</th>\n",
       "      <td>0.381562</td>\n",
       "    </tr>\n",
       "    <tr>\n",
       "      <th>2013-01-05 23:53:00</th>\n",
       "      <td>0.159743</td>\n",
       "    </tr>\n",
       "    <tr>\n",
       "      <th>2013-01-05 23:54:00</th>\n",
       "      <td>0.740388</td>\n",
       "    </tr>\n",
       "    <tr>\n",
       "      <th>2013-01-05 23:55:00</th>\n",
       "      <td>0.241890</td>\n",
       "    </tr>\n",
       "    <tr>\n",
       "      <th>2013-01-05 23:56:00</th>\n",
       "      <td>-0.348008</td>\n",
       "    </tr>\n",
       "    <tr>\n",
       "      <th>2013-01-05 23:57:00</th>\n",
       "      <td>0.949720</td>\n",
       "    </tr>\n",
       "    <tr>\n",
       "      <th>2013-01-05 23:58:00</th>\n",
       "      <td>-0.151841</td>\n",
       "    </tr>\n",
       "    <tr>\n",
       "      <th>2013-01-05 23:59:00</th>\n",
       "      <td>0.104773</td>\n",
       "    </tr>\n",
       "  </tbody>\n",
       "</table>\n",
       "<p>7200 rows × 1 columns</p>\n",
       "</div>"
      ],
      "text/plain": [
       "                            A\n",
       "2013-01-01 00:00:00  1.312935\n",
       "2013-01-01 00:01:00  1.312621\n",
       "2013-01-01 00:02:00  0.193682\n",
       "2013-01-01 00:03:00  2.355485\n",
       "2013-01-01 00:04:00  0.094012\n",
       "2013-01-01 00:05:00 -1.301788\n",
       "2013-01-01 00:06:00 -0.253025\n",
       "2013-01-01 00:07:00  1.902301\n",
       "2013-01-01 00:08:00 -0.813458\n",
       "2013-01-01 00:09:00 -0.442346\n",
       "2013-01-01 00:10:00 -0.791645\n",
       "2013-01-01 00:11:00 -0.525422\n",
       "2013-01-01 00:12:00  0.196528\n",
       "2013-01-01 00:13:00  0.070255\n",
       "2013-01-01 00:14:00 -0.362160\n",
       "2013-01-01 00:15:00  1.249442\n",
       "2013-01-01 00:16:00 -0.409291\n",
       "2013-01-01 00:17:00 -1.478420\n",
       "2013-01-01 00:18:00 -1.116990\n",
       "2013-01-01 00:19:00  1.089025\n",
       "2013-01-01 00:20:00 -0.093620\n",
       "2013-01-01 00:21:00 -1.304520\n",
       "2013-01-01 00:22:00 -0.434213\n",
       "2013-01-01 00:23:00 -1.442325\n",
       "2013-01-01 00:24:00  0.022453\n",
       "2013-01-01 00:25:00 -2.408264\n",
       "2013-01-01 00:26:00 -0.161011\n",
       "2013-01-01 00:27:00 -0.006236\n",
       "2013-01-01 00:28:00 -1.598610\n",
       "2013-01-01 00:29:00 -0.771426\n",
       "...                       ...\n",
       "2013-01-05 23:30:00  0.694323\n",
       "2013-01-05 23:31:00  0.439230\n",
       "2013-01-05 23:32:00  0.216794\n",
       "2013-01-05 23:33:00  1.601665\n",
       "2013-01-05 23:34:00 -0.661390\n",
       "2013-01-05 23:35:00  1.106275\n",
       "2013-01-05 23:36:00  2.847112\n",
       "2013-01-05 23:37:00  0.512596\n",
       "2013-01-05 23:38:00  1.220969\n",
       "2013-01-05 23:39:00 -1.471017\n",
       "2013-01-05 23:40:00 -0.743444\n",
       "2013-01-05 23:41:00 -1.574392\n",
       "2013-01-05 23:42:00  0.415204\n",
       "2013-01-05 23:43:00  0.112344\n",
       "2013-01-05 23:44:00  0.145949\n",
       "2013-01-05 23:45:00 -0.182287\n",
       "2013-01-05 23:46:00 -0.602673\n",
       "2013-01-05 23:47:00 -0.930010\n",
       "2013-01-05 23:48:00 -0.378185\n",
       "2013-01-05 23:49:00  0.501757\n",
       "2013-01-05 23:50:00 -1.142498\n",
       "2013-01-05 23:51:00 -0.129444\n",
       "2013-01-05 23:52:00  0.381562\n",
       "2013-01-05 23:53:00  0.159743\n",
       "2013-01-05 23:54:00  0.740388\n",
       "2013-01-05 23:55:00  0.241890\n",
       "2013-01-05 23:56:00 -0.348008\n",
       "2013-01-05 23:57:00  0.949720\n",
       "2013-01-05 23:58:00 -0.151841\n",
       "2013-01-05 23:59:00  0.104773\n",
       "\n",
       "[7200 rows x 1 columns]"
      ]
     },
     "execution_count": 29,
     "metadata": {},
     "output_type": "execute_result"
    }
   ],
   "source": [
    "dft['2013-01-01':'2013-01-05']"
   ]
  },
  {
   "cell_type": "code",
   "execution_count": 30,
   "metadata": {},
   "outputs": [
    {
     "data": {
      "text/html": [
       "<div>\n",
       "<style scoped>\n",
       "    .dataframe tbody tr th:only-of-type {\n",
       "        vertical-align: middle;\n",
       "    }\n",
       "\n",
       "    .dataframe tbody tr th {\n",
       "        vertical-align: top;\n",
       "    }\n",
       "\n",
       "    .dataframe thead th {\n",
       "        text-align: right;\n",
       "    }\n",
       "</style>\n",
       "<table border=\"1\" class=\"dataframe\">\n",
       "  <thead>\n",
       "    <tr style=\"text-align: right;\">\n",
       "      <th></th>\n",
       "      <th>A</th>\n",
       "    </tr>\n",
       "  </thead>\n",
       "  <tbody>\n",
       "    <tr>\n",
       "      <th>2013-01-01 00:00:00</th>\n",
       "      <td>1.312935</td>\n",
       "    </tr>\n",
       "    <tr>\n",
       "      <th>2013-01-01 00:01:00</th>\n",
       "      <td>1.312621</td>\n",
       "    </tr>\n",
       "    <tr>\n",
       "      <th>2013-01-01 00:02:00</th>\n",
       "      <td>0.193682</td>\n",
       "    </tr>\n",
       "    <tr>\n",
       "      <th>2013-01-01 00:03:00</th>\n",
       "      <td>2.355485</td>\n",
       "    </tr>\n",
       "    <tr>\n",
       "      <th>2013-01-01 00:04:00</th>\n",
       "      <td>0.094012</td>\n",
       "    </tr>\n",
       "    <tr>\n",
       "      <th>2013-01-01 00:05:00</th>\n",
       "      <td>-1.301788</td>\n",
       "    </tr>\n",
       "    <tr>\n",
       "      <th>2013-01-01 00:06:00</th>\n",
       "      <td>-0.253025</td>\n",
       "    </tr>\n",
       "    <tr>\n",
       "      <th>2013-01-01 00:07:00</th>\n",
       "      <td>1.902301</td>\n",
       "    </tr>\n",
       "    <tr>\n",
       "      <th>2013-01-01 00:08:00</th>\n",
       "      <td>-0.813458</td>\n",
       "    </tr>\n",
       "    <tr>\n",
       "      <th>2013-01-01 00:09:00</th>\n",
       "      <td>-0.442346</td>\n",
       "    </tr>\n",
       "    <tr>\n",
       "      <th>2013-01-01 00:10:00</th>\n",
       "      <td>-0.791645</td>\n",
       "    </tr>\n",
       "    <tr>\n",
       "      <th>2013-01-01 00:11:00</th>\n",
       "      <td>-0.525422</td>\n",
       "    </tr>\n",
       "    <tr>\n",
       "      <th>2013-01-01 00:12:00</th>\n",
       "      <td>0.196528</td>\n",
       "    </tr>\n",
       "    <tr>\n",
       "      <th>2013-01-01 00:13:00</th>\n",
       "      <td>0.070255</td>\n",
       "    </tr>\n",
       "    <tr>\n",
       "      <th>2013-01-01 00:14:00</th>\n",
       "      <td>-0.362160</td>\n",
       "    </tr>\n",
       "    <tr>\n",
       "      <th>2013-01-01 00:15:00</th>\n",
       "      <td>1.249442</td>\n",
       "    </tr>\n",
       "    <tr>\n",
       "      <th>2013-01-01 00:16:00</th>\n",
       "      <td>-0.409291</td>\n",
       "    </tr>\n",
       "    <tr>\n",
       "      <th>2013-01-01 00:17:00</th>\n",
       "      <td>-1.478420</td>\n",
       "    </tr>\n",
       "    <tr>\n",
       "      <th>2013-01-01 00:18:00</th>\n",
       "      <td>-1.116990</td>\n",
       "    </tr>\n",
       "    <tr>\n",
       "      <th>2013-01-01 00:19:00</th>\n",
       "      <td>1.089025</td>\n",
       "    </tr>\n",
       "    <tr>\n",
       "      <th>2013-01-01 00:20:00</th>\n",
       "      <td>-0.093620</td>\n",
       "    </tr>\n",
       "    <tr>\n",
       "      <th>2013-01-01 00:21:00</th>\n",
       "      <td>-1.304520</td>\n",
       "    </tr>\n",
       "    <tr>\n",
       "      <th>2013-01-01 00:22:00</th>\n",
       "      <td>-0.434213</td>\n",
       "    </tr>\n",
       "    <tr>\n",
       "      <th>2013-01-01 00:23:00</th>\n",
       "      <td>-1.442325</td>\n",
       "    </tr>\n",
       "    <tr>\n",
       "      <th>2013-01-01 00:24:00</th>\n",
       "      <td>0.022453</td>\n",
       "    </tr>\n",
       "    <tr>\n",
       "      <th>2013-01-01 00:25:00</th>\n",
       "      <td>-2.408264</td>\n",
       "    </tr>\n",
       "    <tr>\n",
       "      <th>2013-01-01 00:26:00</th>\n",
       "      <td>-0.161011</td>\n",
       "    </tr>\n",
       "    <tr>\n",
       "      <th>2013-01-01 00:27:00</th>\n",
       "      <td>-0.006236</td>\n",
       "    </tr>\n",
       "    <tr>\n",
       "      <th>2013-01-01 00:28:00</th>\n",
       "      <td>-1.598610</td>\n",
       "    </tr>\n",
       "    <tr>\n",
       "      <th>2013-01-01 00:29:00</th>\n",
       "      <td>-0.771426</td>\n",
       "    </tr>\n",
       "    <tr>\n",
       "      <th>...</th>\n",
       "      <td>...</td>\n",
       "    </tr>\n",
       "    <tr>\n",
       "      <th>2013-02-27 23:31:00</th>\n",
       "      <td>-1.326763</td>\n",
       "    </tr>\n",
       "    <tr>\n",
       "      <th>2013-02-27 23:32:00</th>\n",
       "      <td>2.981482</td>\n",
       "    </tr>\n",
       "    <tr>\n",
       "      <th>2013-02-27 23:33:00</th>\n",
       "      <td>-0.983248</td>\n",
       "    </tr>\n",
       "    <tr>\n",
       "      <th>2013-02-27 23:34:00</th>\n",
       "      <td>0.996985</td>\n",
       "    </tr>\n",
       "    <tr>\n",
       "      <th>2013-02-27 23:35:00</th>\n",
       "      <td>0.572648</td>\n",
       "    </tr>\n",
       "    <tr>\n",
       "      <th>2013-02-27 23:36:00</th>\n",
       "      <td>-0.648557</td>\n",
       "    </tr>\n",
       "    <tr>\n",
       "      <th>2013-02-27 23:37:00</th>\n",
       "      <td>-0.378934</td>\n",
       "    </tr>\n",
       "    <tr>\n",
       "      <th>2013-02-27 23:38:00</th>\n",
       "      <td>-0.901623</td>\n",
       "    </tr>\n",
       "    <tr>\n",
       "      <th>2013-02-27 23:39:00</th>\n",
       "      <td>-0.334594</td>\n",
       "    </tr>\n",
       "    <tr>\n",
       "      <th>2013-02-27 23:40:00</th>\n",
       "      <td>-0.576051</td>\n",
       "    </tr>\n",
       "    <tr>\n",
       "      <th>2013-02-27 23:41:00</th>\n",
       "      <td>-0.764350</td>\n",
       "    </tr>\n",
       "    <tr>\n",
       "      <th>2013-02-27 23:42:00</th>\n",
       "      <td>-0.250056</td>\n",
       "    </tr>\n",
       "    <tr>\n",
       "      <th>2013-02-27 23:43:00</th>\n",
       "      <td>0.162586</td>\n",
       "    </tr>\n",
       "    <tr>\n",
       "      <th>2013-02-27 23:44:00</th>\n",
       "      <td>-0.336381</td>\n",
       "    </tr>\n",
       "    <tr>\n",
       "      <th>2013-02-27 23:45:00</th>\n",
       "      <td>0.270901</td>\n",
       "    </tr>\n",
       "    <tr>\n",
       "      <th>2013-02-27 23:46:00</th>\n",
       "      <td>0.046831</td>\n",
       "    </tr>\n",
       "    <tr>\n",
       "      <th>2013-02-27 23:47:00</th>\n",
       "      <td>1.857604</td>\n",
       "    </tr>\n",
       "    <tr>\n",
       "      <th>2013-02-27 23:48:00</th>\n",
       "      <td>-0.108048</td>\n",
       "    </tr>\n",
       "    <tr>\n",
       "      <th>2013-02-27 23:49:00</th>\n",
       "      <td>1.124034</td>\n",
       "    </tr>\n",
       "    <tr>\n",
       "      <th>2013-02-27 23:50:00</th>\n",
       "      <td>-1.860579</td>\n",
       "    </tr>\n",
       "    <tr>\n",
       "      <th>2013-02-27 23:51:00</th>\n",
       "      <td>-2.080972</td>\n",
       "    </tr>\n",
       "    <tr>\n",
       "      <th>2013-02-27 23:52:00</th>\n",
       "      <td>0.890533</td>\n",
       "    </tr>\n",
       "    <tr>\n",
       "      <th>2013-02-27 23:53:00</th>\n",
       "      <td>-0.586444</td>\n",
       "    </tr>\n",
       "    <tr>\n",
       "      <th>2013-02-27 23:54:00</th>\n",
       "      <td>0.078645</td>\n",
       "    </tr>\n",
       "    <tr>\n",
       "      <th>2013-02-27 23:55:00</th>\n",
       "      <td>1.704322</td>\n",
       "    </tr>\n",
       "    <tr>\n",
       "      <th>2013-02-27 23:56:00</th>\n",
       "      <td>0.210896</td>\n",
       "    </tr>\n",
       "    <tr>\n",
       "      <th>2013-02-27 23:57:00</th>\n",
       "      <td>1.025271</td>\n",
       "    </tr>\n",
       "    <tr>\n",
       "      <th>2013-02-27 23:58:00</th>\n",
       "      <td>-0.287429</td>\n",
       "    </tr>\n",
       "    <tr>\n",
       "      <th>2013-02-27 23:59:00</th>\n",
       "      <td>-0.624081</td>\n",
       "    </tr>\n",
       "    <tr>\n",
       "      <th>2013-02-28 00:00:00</th>\n",
       "      <td>0.010304</td>\n",
       "    </tr>\n",
       "  </tbody>\n",
       "</table>\n",
       "<p>83521 rows × 1 columns</p>\n",
       "</div>"
      ],
      "text/plain": [
       "                            A\n",
       "2013-01-01 00:00:00  1.312935\n",
       "2013-01-01 00:01:00  1.312621\n",
       "2013-01-01 00:02:00  0.193682\n",
       "2013-01-01 00:03:00  2.355485\n",
       "2013-01-01 00:04:00  0.094012\n",
       "2013-01-01 00:05:00 -1.301788\n",
       "2013-01-01 00:06:00 -0.253025\n",
       "2013-01-01 00:07:00  1.902301\n",
       "2013-01-01 00:08:00 -0.813458\n",
       "2013-01-01 00:09:00 -0.442346\n",
       "2013-01-01 00:10:00 -0.791645\n",
       "2013-01-01 00:11:00 -0.525422\n",
       "2013-01-01 00:12:00  0.196528\n",
       "2013-01-01 00:13:00  0.070255\n",
       "2013-01-01 00:14:00 -0.362160\n",
       "2013-01-01 00:15:00  1.249442\n",
       "2013-01-01 00:16:00 -0.409291\n",
       "2013-01-01 00:17:00 -1.478420\n",
       "2013-01-01 00:18:00 -1.116990\n",
       "2013-01-01 00:19:00  1.089025\n",
       "2013-01-01 00:20:00 -0.093620\n",
       "2013-01-01 00:21:00 -1.304520\n",
       "2013-01-01 00:22:00 -0.434213\n",
       "2013-01-01 00:23:00 -1.442325\n",
       "2013-01-01 00:24:00  0.022453\n",
       "2013-01-01 00:25:00 -2.408264\n",
       "2013-01-01 00:26:00 -0.161011\n",
       "2013-01-01 00:27:00 -0.006236\n",
       "2013-01-01 00:28:00 -1.598610\n",
       "2013-01-01 00:29:00 -0.771426\n",
       "...                       ...\n",
       "2013-02-27 23:31:00 -1.326763\n",
       "2013-02-27 23:32:00  2.981482\n",
       "2013-02-27 23:33:00 -0.983248\n",
       "2013-02-27 23:34:00  0.996985\n",
       "2013-02-27 23:35:00  0.572648\n",
       "2013-02-27 23:36:00 -0.648557\n",
       "2013-02-27 23:37:00 -0.378934\n",
       "2013-02-27 23:38:00 -0.901623\n",
       "2013-02-27 23:39:00 -0.334594\n",
       "2013-02-27 23:40:00 -0.576051\n",
       "2013-02-27 23:41:00 -0.764350\n",
       "2013-02-27 23:42:00 -0.250056\n",
       "2013-02-27 23:43:00  0.162586\n",
       "2013-02-27 23:44:00 -0.336381\n",
       "2013-02-27 23:45:00  0.270901\n",
       "2013-02-27 23:46:00  0.046831\n",
       "2013-02-27 23:47:00  1.857604\n",
       "2013-02-27 23:48:00 -0.108048\n",
       "2013-02-27 23:49:00  1.124034\n",
       "2013-02-27 23:50:00 -1.860579\n",
       "2013-02-27 23:51:00 -2.080972\n",
       "2013-02-27 23:52:00  0.890533\n",
       "2013-02-27 23:53:00 -0.586444\n",
       "2013-02-27 23:54:00  0.078645\n",
       "2013-02-27 23:55:00  1.704322\n",
       "2013-02-27 23:56:00  0.210896\n",
       "2013-02-27 23:57:00  1.025271\n",
       "2013-02-27 23:58:00 -0.287429\n",
       "2013-02-27 23:59:00 -0.624081\n",
       "2013-02-28 00:00:00  0.010304\n",
       "\n",
       "[83521 rows x 1 columns]"
      ]
     },
     "execution_count": 30,
     "metadata": {},
     "output_type": "execute_result"
    }
   ],
   "source": [
    "dft['2013-1':'2013-2-28 00:00:00']"
   ]
  },
  {
   "cell_type": "code",
   "execution_count": 31,
   "metadata": {},
   "outputs": [
    {
     "data": {
      "text/html": [
       "<div>\n",
       "<style scoped>\n",
       "    .dataframe tbody tr th:only-of-type {\n",
       "        vertical-align: middle;\n",
       "    }\n",
       "\n",
       "    .dataframe tbody tr th {\n",
       "        vertical-align: top;\n",
       "    }\n",
       "\n",
       "    .dataframe thead th {\n",
       "        text-align: right;\n",
       "    }\n",
       "</style>\n",
       "<table border=\"1\" class=\"dataframe\">\n",
       "  <thead>\n",
       "    <tr style=\"text-align: right;\">\n",
       "      <th></th>\n",
       "      <th>A</th>\n",
       "    </tr>\n",
       "  </thead>\n",
       "  <tbody>\n",
       "    <tr>\n",
       "      <th>2013-01-15 00:00:00</th>\n",
       "      <td>0.735112</td>\n",
       "    </tr>\n",
       "    <tr>\n",
       "      <th>2013-01-15 00:01:00</th>\n",
       "      <td>1.576990</td>\n",
       "    </tr>\n",
       "    <tr>\n",
       "      <th>2013-01-15 00:02:00</th>\n",
       "      <td>0.756380</td>\n",
       "    </tr>\n",
       "    <tr>\n",
       "      <th>2013-01-15 00:03:00</th>\n",
       "      <td>0.281304</td>\n",
       "    </tr>\n",
       "    <tr>\n",
       "      <th>2013-01-15 00:04:00</th>\n",
       "      <td>0.331131</td>\n",
       "    </tr>\n",
       "    <tr>\n",
       "      <th>2013-01-15 00:05:00</th>\n",
       "      <td>-0.186559</td>\n",
       "    </tr>\n",
       "    <tr>\n",
       "      <th>2013-01-15 00:06:00</th>\n",
       "      <td>0.745284</td>\n",
       "    </tr>\n",
       "    <tr>\n",
       "      <th>2013-01-15 00:07:00</th>\n",
       "      <td>-1.229007</td>\n",
       "    </tr>\n",
       "    <tr>\n",
       "      <th>2013-01-15 00:08:00</th>\n",
       "      <td>0.886235</td>\n",
       "    </tr>\n",
       "    <tr>\n",
       "      <th>2013-01-15 00:09:00</th>\n",
       "      <td>-1.758058</td>\n",
       "    </tr>\n",
       "    <tr>\n",
       "      <th>2013-01-15 00:10:00</th>\n",
       "      <td>1.829654</td>\n",
       "    </tr>\n",
       "    <tr>\n",
       "      <th>2013-01-15 00:11:00</th>\n",
       "      <td>-0.729479</td>\n",
       "    </tr>\n",
       "    <tr>\n",
       "      <th>2013-01-15 00:12:00</th>\n",
       "      <td>-1.562181</td>\n",
       "    </tr>\n",
       "    <tr>\n",
       "      <th>2013-01-15 00:13:00</th>\n",
       "      <td>-1.743291</td>\n",
       "    </tr>\n",
       "    <tr>\n",
       "      <th>2013-01-15 00:14:00</th>\n",
       "      <td>0.082743</td>\n",
       "    </tr>\n",
       "    <tr>\n",
       "      <th>2013-01-15 00:15:00</th>\n",
       "      <td>-0.831417</td>\n",
       "    </tr>\n",
       "    <tr>\n",
       "      <th>2013-01-15 00:16:00</th>\n",
       "      <td>0.849701</td>\n",
       "    </tr>\n",
       "    <tr>\n",
       "      <th>2013-01-15 00:17:00</th>\n",
       "      <td>0.101017</td>\n",
       "    </tr>\n",
       "    <tr>\n",
       "      <th>2013-01-15 00:18:00</th>\n",
       "      <td>0.025513</td>\n",
       "    </tr>\n",
       "    <tr>\n",
       "      <th>2013-01-15 00:19:00</th>\n",
       "      <td>-0.714779</td>\n",
       "    </tr>\n",
       "    <tr>\n",
       "      <th>2013-01-15 00:20:00</th>\n",
       "      <td>0.674250</td>\n",
       "    </tr>\n",
       "    <tr>\n",
       "      <th>2013-01-15 00:21:00</th>\n",
       "      <td>0.251785</td>\n",
       "    </tr>\n",
       "    <tr>\n",
       "      <th>2013-01-15 00:22:00</th>\n",
       "      <td>0.086575</td>\n",
       "    </tr>\n",
       "    <tr>\n",
       "      <th>2013-01-15 00:23:00</th>\n",
       "      <td>0.765139</td>\n",
       "    </tr>\n",
       "    <tr>\n",
       "      <th>2013-01-15 00:24:00</th>\n",
       "      <td>-1.636939</td>\n",
       "    </tr>\n",
       "    <tr>\n",
       "      <th>2013-01-15 00:25:00</th>\n",
       "      <td>-1.080540</td>\n",
       "    </tr>\n",
       "    <tr>\n",
       "      <th>2013-01-15 00:26:00</th>\n",
       "      <td>-0.833511</td>\n",
       "    </tr>\n",
       "    <tr>\n",
       "      <th>2013-01-15 00:27:00</th>\n",
       "      <td>0.107345</td>\n",
       "    </tr>\n",
       "    <tr>\n",
       "      <th>2013-01-15 00:28:00</th>\n",
       "      <td>-0.503329</td>\n",
       "    </tr>\n",
       "    <tr>\n",
       "      <th>2013-01-15 00:29:00</th>\n",
       "      <td>-0.246980</td>\n",
       "    </tr>\n",
       "    <tr>\n",
       "      <th>...</th>\n",
       "      <td>...</td>\n",
       "    </tr>\n",
       "    <tr>\n",
       "      <th>2013-01-15 12:01:00</th>\n",
       "      <td>1.367300</td>\n",
       "    </tr>\n",
       "    <tr>\n",
       "      <th>2013-01-15 12:02:00</th>\n",
       "      <td>-0.614970</td>\n",
       "    </tr>\n",
       "    <tr>\n",
       "      <th>2013-01-15 12:03:00</th>\n",
       "      <td>-1.259802</td>\n",
       "    </tr>\n",
       "    <tr>\n",
       "      <th>2013-01-15 12:04:00</th>\n",
       "      <td>1.218597</td>\n",
       "    </tr>\n",
       "    <tr>\n",
       "      <th>2013-01-15 12:05:00</th>\n",
       "      <td>-0.044307</td>\n",
       "    </tr>\n",
       "    <tr>\n",
       "      <th>2013-01-15 12:06:00</th>\n",
       "      <td>0.134962</td>\n",
       "    </tr>\n",
       "    <tr>\n",
       "      <th>2013-01-15 12:07:00</th>\n",
       "      <td>0.125306</td>\n",
       "    </tr>\n",
       "    <tr>\n",
       "      <th>2013-01-15 12:08:00</th>\n",
       "      <td>0.704711</td>\n",
       "    </tr>\n",
       "    <tr>\n",
       "      <th>2013-01-15 12:09:00</th>\n",
       "      <td>-0.467339</td>\n",
       "    </tr>\n",
       "    <tr>\n",
       "      <th>2013-01-15 12:10:00</th>\n",
       "      <td>-0.612228</td>\n",
       "    </tr>\n",
       "    <tr>\n",
       "      <th>2013-01-15 12:11:00</th>\n",
       "      <td>-0.391789</td>\n",
       "    </tr>\n",
       "    <tr>\n",
       "      <th>2013-01-15 12:12:00</th>\n",
       "      <td>0.072275</td>\n",
       "    </tr>\n",
       "    <tr>\n",
       "      <th>2013-01-15 12:13:00</th>\n",
       "      <td>0.273610</td>\n",
       "    </tr>\n",
       "    <tr>\n",
       "      <th>2013-01-15 12:14:00</th>\n",
       "      <td>0.658041</td>\n",
       "    </tr>\n",
       "    <tr>\n",
       "      <th>2013-01-15 12:15:00</th>\n",
       "      <td>1.358414</td>\n",
       "    </tr>\n",
       "    <tr>\n",
       "      <th>2013-01-15 12:16:00</th>\n",
       "      <td>-0.588644</td>\n",
       "    </tr>\n",
       "    <tr>\n",
       "      <th>2013-01-15 12:17:00</th>\n",
       "      <td>0.668010</td>\n",
       "    </tr>\n",
       "    <tr>\n",
       "      <th>2013-01-15 12:18:00</th>\n",
       "      <td>1.849494</td>\n",
       "    </tr>\n",
       "    <tr>\n",
       "      <th>2013-01-15 12:19:00</th>\n",
       "      <td>-0.411701</td>\n",
       "    </tr>\n",
       "    <tr>\n",
       "      <th>2013-01-15 12:20:00</th>\n",
       "      <td>-0.011748</td>\n",
       "    </tr>\n",
       "    <tr>\n",
       "      <th>2013-01-15 12:21:00</th>\n",
       "      <td>0.962889</td>\n",
       "    </tr>\n",
       "    <tr>\n",
       "      <th>2013-01-15 12:22:00</th>\n",
       "      <td>-0.534441</td>\n",
       "    </tr>\n",
       "    <tr>\n",
       "      <th>2013-01-15 12:23:00</th>\n",
       "      <td>0.368436</td>\n",
       "    </tr>\n",
       "    <tr>\n",
       "      <th>2013-01-15 12:24:00</th>\n",
       "      <td>-0.053755</td>\n",
       "    </tr>\n",
       "    <tr>\n",
       "      <th>2013-01-15 12:25:00</th>\n",
       "      <td>-0.162429</td>\n",
       "    </tr>\n",
       "    <tr>\n",
       "      <th>2013-01-15 12:26:00</th>\n",
       "      <td>-0.869002</td>\n",
       "    </tr>\n",
       "    <tr>\n",
       "      <th>2013-01-15 12:27:00</th>\n",
       "      <td>-1.523436</td>\n",
       "    </tr>\n",
       "    <tr>\n",
       "      <th>2013-01-15 12:28:00</th>\n",
       "      <td>0.759254</td>\n",
       "    </tr>\n",
       "    <tr>\n",
       "      <th>2013-01-15 12:29:00</th>\n",
       "      <td>0.611371</td>\n",
       "    </tr>\n",
       "    <tr>\n",
       "      <th>2013-01-15 12:30:00</th>\n",
       "      <td>-0.996374</td>\n",
       "    </tr>\n",
       "  </tbody>\n",
       "</table>\n",
       "<p>751 rows × 1 columns</p>\n",
       "</div>"
      ],
      "text/plain": [
       "                            A\n",
       "2013-01-15 00:00:00  0.735112\n",
       "2013-01-15 00:01:00  1.576990\n",
       "2013-01-15 00:02:00  0.756380\n",
       "2013-01-15 00:03:00  0.281304\n",
       "2013-01-15 00:04:00  0.331131\n",
       "2013-01-15 00:05:00 -0.186559\n",
       "2013-01-15 00:06:00  0.745284\n",
       "2013-01-15 00:07:00 -1.229007\n",
       "2013-01-15 00:08:00  0.886235\n",
       "2013-01-15 00:09:00 -1.758058\n",
       "2013-01-15 00:10:00  1.829654\n",
       "2013-01-15 00:11:00 -0.729479\n",
       "2013-01-15 00:12:00 -1.562181\n",
       "2013-01-15 00:13:00 -1.743291\n",
       "2013-01-15 00:14:00  0.082743\n",
       "2013-01-15 00:15:00 -0.831417\n",
       "2013-01-15 00:16:00  0.849701\n",
       "2013-01-15 00:17:00  0.101017\n",
       "2013-01-15 00:18:00  0.025513\n",
       "2013-01-15 00:19:00 -0.714779\n",
       "2013-01-15 00:20:00  0.674250\n",
       "2013-01-15 00:21:00  0.251785\n",
       "2013-01-15 00:22:00  0.086575\n",
       "2013-01-15 00:23:00  0.765139\n",
       "2013-01-15 00:24:00 -1.636939\n",
       "2013-01-15 00:25:00 -1.080540\n",
       "2013-01-15 00:26:00 -0.833511\n",
       "2013-01-15 00:27:00  0.107345\n",
       "2013-01-15 00:28:00 -0.503329\n",
       "2013-01-15 00:29:00 -0.246980\n",
       "...                       ...\n",
       "2013-01-15 12:01:00  1.367300\n",
       "2013-01-15 12:02:00 -0.614970\n",
       "2013-01-15 12:03:00 -1.259802\n",
       "2013-01-15 12:04:00  1.218597\n",
       "2013-01-15 12:05:00 -0.044307\n",
       "2013-01-15 12:06:00  0.134962\n",
       "2013-01-15 12:07:00  0.125306\n",
       "2013-01-15 12:08:00  0.704711\n",
       "2013-01-15 12:09:00 -0.467339\n",
       "2013-01-15 12:10:00 -0.612228\n",
       "2013-01-15 12:11:00 -0.391789\n",
       "2013-01-15 12:12:00  0.072275\n",
       "2013-01-15 12:13:00  0.273610\n",
       "2013-01-15 12:14:00  0.658041\n",
       "2013-01-15 12:15:00  1.358414\n",
       "2013-01-15 12:16:00 -0.588644\n",
       "2013-01-15 12:17:00  0.668010\n",
       "2013-01-15 12:18:00  1.849494\n",
       "2013-01-15 12:19:00 -0.411701\n",
       "2013-01-15 12:20:00 -0.011748\n",
       "2013-01-15 12:21:00  0.962889\n",
       "2013-01-15 12:22:00 -0.534441\n",
       "2013-01-15 12:23:00  0.368436\n",
       "2013-01-15 12:24:00 -0.053755\n",
       "2013-01-15 12:25:00 -0.162429\n",
       "2013-01-15 12:26:00 -0.869002\n",
       "2013-01-15 12:27:00 -1.523436\n",
       "2013-01-15 12:28:00  0.759254\n",
       "2013-01-15 12:29:00  0.611371\n",
       "2013-01-15 12:30:00 -0.996374\n",
       "\n",
       "[751 rows x 1 columns]"
      ]
     },
     "execution_count": 31,
     "metadata": {},
     "output_type": "execute_result"
    }
   ],
   "source": [
    "dft['2013-1-15':'2013-1-15 12:30:00']"
   ]
  },
  {
   "cell_type": "markdown",
   "metadata": {},
   "source": [
    "- `MultiIndex` 复合索引"
   ]
  },
  {
   "cell_type": "code",
   "execution_count": 32,
   "metadata": {},
   "outputs": [
    {
     "data": {
      "text/html": [
       "<div>\n",
       "<style scoped>\n",
       "    .dataframe tbody tr th:only-of-type {\n",
       "        vertical-align: middle;\n",
       "    }\n",
       "\n",
       "    .dataframe tbody tr th {\n",
       "        vertical-align: top;\n",
       "    }\n",
       "\n",
       "    .dataframe thead th {\n",
       "        text-align: right;\n",
       "    }\n",
       "</style>\n",
       "<table border=\"1\" class=\"dataframe\">\n",
       "  <thead>\n",
       "    <tr style=\"text-align: right;\">\n",
       "      <th></th>\n",
       "      <th></th>\n",
       "      <th>A</th>\n",
       "    </tr>\n",
       "  </thead>\n",
       "  <tbody>\n",
       "    <tr>\n",
       "      <th rowspan=\"2\" valign=\"top\">2013-01-01 00:00:00</th>\n",
       "      <th>a</th>\n",
       "      <td>1.408554</td>\n",
       "    </tr>\n",
       "    <tr>\n",
       "      <th>b</th>\n",
       "      <td>1.793799</td>\n",
       "    </tr>\n",
       "    <tr>\n",
       "      <th rowspan=\"2\" valign=\"top\">2013-01-01 12:00:00</th>\n",
       "      <th>a</th>\n",
       "      <td>0.785783</td>\n",
       "    </tr>\n",
       "    <tr>\n",
       "      <th>b</th>\n",
       "      <td>-1.915734</td>\n",
       "    </tr>\n",
       "    <tr>\n",
       "      <th rowspan=\"2\" valign=\"top\">2013-01-02 00:00:00</th>\n",
       "      <th>a</th>\n",
       "      <td>-0.837299</td>\n",
       "    </tr>\n",
       "    <tr>\n",
       "      <th>b</th>\n",
       "      <td>0.396379</td>\n",
       "    </tr>\n",
       "    <tr>\n",
       "      <th rowspan=\"2\" valign=\"top\">2013-01-02 12:00:00</th>\n",
       "      <th>a</th>\n",
       "      <td>-1.440247</td>\n",
       "    </tr>\n",
       "    <tr>\n",
       "      <th>b</th>\n",
       "      <td>0.069101</td>\n",
       "    </tr>\n",
       "    <tr>\n",
       "      <th rowspan=\"2\" valign=\"top\">2013-01-03 00:00:00</th>\n",
       "      <th>a</th>\n",
       "      <td>-0.203420</td>\n",
       "    </tr>\n",
       "    <tr>\n",
       "      <th>b</th>\n",
       "      <td>-0.136240</td>\n",
       "    </tr>\n",
       "    <tr>\n",
       "      <th rowspan=\"2\" valign=\"top\">2013-01-03 12:00:00</th>\n",
       "      <th>a</th>\n",
       "      <td>-0.380435</td>\n",
       "    </tr>\n",
       "    <tr>\n",
       "      <th>b</th>\n",
       "      <td>0.223497</td>\n",
       "    </tr>\n",
       "    <tr>\n",
       "      <th rowspan=\"2\" valign=\"top\">2013-01-04 00:00:00</th>\n",
       "      <th>a</th>\n",
       "      <td>0.625254</td>\n",
       "    </tr>\n",
       "    <tr>\n",
       "      <th>b</th>\n",
       "      <td>-2.070483</td>\n",
       "    </tr>\n",
       "    <tr>\n",
       "      <th rowspan=\"2\" valign=\"top\">2013-01-04 12:00:00</th>\n",
       "      <th>a</th>\n",
       "      <td>0.506316</td>\n",
       "    </tr>\n",
       "    <tr>\n",
       "      <th>b</th>\n",
       "      <td>-0.168154</td>\n",
       "    </tr>\n",
       "    <tr>\n",
       "      <th rowspan=\"2\" valign=\"top\">2013-01-05 00:00:00</th>\n",
       "      <th>a</th>\n",
       "      <td>-0.664415</td>\n",
       "    </tr>\n",
       "    <tr>\n",
       "      <th>b</th>\n",
       "      <td>-0.041940</td>\n",
       "    </tr>\n",
       "    <tr>\n",
       "      <th rowspan=\"2\" valign=\"top\">2013-01-05 12:00:00</th>\n",
       "      <th>a</th>\n",
       "      <td>-0.366098</td>\n",
       "    </tr>\n",
       "    <tr>\n",
       "      <th>b</th>\n",
       "      <td>0.348256</td>\n",
       "    </tr>\n",
       "  </tbody>\n",
       "</table>\n",
       "</div>"
      ],
      "text/plain": [
       "                              A\n",
       "2013-01-01 00:00:00 a  1.408554\n",
       "                    b  1.793799\n",
       "2013-01-01 12:00:00 a  0.785783\n",
       "                    b -1.915734\n",
       "2013-01-02 00:00:00 a -0.837299\n",
       "                    b  0.396379\n",
       "2013-01-02 12:00:00 a -1.440247\n",
       "                    b  0.069101\n",
       "2013-01-03 00:00:00 a -0.203420\n",
       "                    b -0.136240\n",
       "2013-01-03 12:00:00 a -0.380435\n",
       "                    b  0.223497\n",
       "2013-01-04 00:00:00 a  0.625254\n",
       "                    b -2.070483\n",
       "2013-01-04 12:00:00 a  0.506316\n",
       "                    b -0.168154\n",
       "2013-01-05 00:00:00 a -0.664415\n",
       "                    b -0.041940\n",
       "2013-01-05 12:00:00 a -0.366098\n",
       "                    b  0.348256"
      ]
     },
     "execution_count": 32,
     "metadata": {},
     "output_type": "execute_result"
    }
   ],
   "source": [
    "index = pd.MultiIndex.from_product([pd.date_range('20130101', periods=10, freq='12H'),\n",
    "                                    ['a', 'b']])\n",
    "dft2 = pd.DataFrame(np.random.randn(20, 1),\n",
    "                    columns=['A'],\n",
    "                    index=index,\n",
    "                   )\n",
    "dft2"
   ]
  },
  {
   "cell_type": "code",
   "execution_count": 33,
   "metadata": {},
   "outputs": [
    {
     "data": {
      "text/html": [
       "<div>\n",
       "<style scoped>\n",
       "    .dataframe tbody tr th:only-of-type {\n",
       "        vertical-align: middle;\n",
       "    }\n",
       "\n",
       "    .dataframe tbody tr th {\n",
       "        vertical-align: top;\n",
       "    }\n",
       "\n",
       "    .dataframe thead th {\n",
       "        text-align: right;\n",
       "    }\n",
       "</style>\n",
       "<table border=\"1\" class=\"dataframe\">\n",
       "  <thead>\n",
       "    <tr style=\"text-align: right;\">\n",
       "      <th></th>\n",
       "      <th></th>\n",
       "      <th>A</th>\n",
       "    </tr>\n",
       "  </thead>\n",
       "  <tbody>\n",
       "    <tr>\n",
       "      <th rowspan=\"2\" valign=\"top\">2013-01-05 00:00:00</th>\n",
       "      <th>a</th>\n",
       "      <td>-0.664415</td>\n",
       "    </tr>\n",
       "    <tr>\n",
       "      <th>b</th>\n",
       "      <td>-0.041940</td>\n",
       "    </tr>\n",
       "    <tr>\n",
       "      <th rowspan=\"2\" valign=\"top\">2013-01-05 12:00:00</th>\n",
       "      <th>a</th>\n",
       "      <td>-0.366098</td>\n",
       "    </tr>\n",
       "    <tr>\n",
       "      <th>b</th>\n",
       "      <td>0.348256</td>\n",
       "    </tr>\n",
       "  </tbody>\n",
       "</table>\n",
       "</div>"
      ],
      "text/plain": [
       "                              A\n",
       "2013-01-05 00:00:00 a -0.664415\n",
       "                    b -0.041940\n",
       "2013-01-05 12:00:00 a -0.366098\n",
       "                    b  0.348256"
      ]
     },
     "execution_count": 33,
     "metadata": {},
     "output_type": "execute_result"
    }
   ],
   "source": [
    "dft2.loc['2013-01-05']"
   ]
  },
  {
   "cell_type": "code",
   "execution_count": 34,
   "metadata": {},
   "outputs": [
    {
     "data": {
      "text/html": [
       "<div>\n",
       "<style scoped>\n",
       "    .dataframe tbody tr th:only-of-type {\n",
       "        vertical-align: middle;\n",
       "    }\n",
       "\n",
       "    .dataframe tbody tr th {\n",
       "        vertical-align: top;\n",
       "    }\n",
       "\n",
       "    .dataframe thead th {\n",
       "        text-align: right;\n",
       "    }\n",
       "</style>\n",
       "<table border=\"1\" class=\"dataframe\">\n",
       "  <thead>\n",
       "    <tr style=\"text-align: right;\">\n",
       "      <th></th>\n",
       "      <th></th>\n",
       "      <th>A</th>\n",
       "    </tr>\n",
       "  </thead>\n",
       "  <tbody>\n",
       "    <tr>\n",
       "      <th rowspan=\"2\" valign=\"top\">a</th>\n",
       "      <th>2013-01-05 00:00:00</th>\n",
       "      <td>-0.664415</td>\n",
       "    </tr>\n",
       "    <tr>\n",
       "      <th>2013-01-05 12:00:00</th>\n",
       "      <td>-0.366098</td>\n",
       "    </tr>\n",
       "    <tr>\n",
       "      <th rowspan=\"2\" valign=\"top\">b</th>\n",
       "      <th>2013-01-05 00:00:00</th>\n",
       "      <td>-0.041940</td>\n",
       "    </tr>\n",
       "    <tr>\n",
       "      <th>2013-01-05 12:00:00</th>\n",
       "      <td>0.348256</td>\n",
       "    </tr>\n",
       "  </tbody>\n",
       "</table>\n",
       "</div>"
      ],
      "text/plain": [
       "                              A\n",
       "a 2013-01-05 00:00:00 -0.664415\n",
       "  2013-01-05 12:00:00 -0.366098\n",
       "b 2013-01-05 00:00:00 -0.041940\n",
       "  2013-01-05 12:00:00  0.348256"
      ]
     },
     "execution_count": 34,
     "metadata": {},
     "output_type": "execute_result"
    }
   ],
   "source": [
    "idx = pd.IndexSlice\n",
    "dft2 = dft2.swaplevel(0, 1).sort_index()\n",
    "\n",
    "dft2.loc[idx[:, '2013-01-05'], :]"
   ]
  },
  {
   "cell_type": "markdown",
   "metadata": {},
   "source": [
    "### 3.2 切片与精度匹配"
   ]
  },
  {
   "cell_type": "code",
   "execution_count": 35,
   "metadata": {},
   "outputs": [
    {
     "data": {
      "text/plain": [
       "'minute'"
      ]
     },
     "execution_count": 35,
     "metadata": {},
     "output_type": "execute_result"
    }
   ],
   "source": [
    "series_minute = pd.Series([1, 2, 3],\n",
    "                          pd.DatetimeIndex(['2011-12-31 23:59:00',\n",
    "                                            '2012-01-01 00:00:00',\n",
    "                                            '2012-01-01 00:02:00']))\n",
    "series_minute.index.resolution"
   ]
  },
  {
   "cell_type": "code",
   "execution_count": 36,
   "metadata": {},
   "outputs": [
    {
     "data": {
      "text/plain": [
       "2011-12-31 23:59:00    1\n",
       "dtype: int64"
      ]
     },
     "metadata": {},
     "output_type": "display_data"
    },
    {
     "data": {
      "text/plain": [
       "1"
      ]
     },
     "metadata": {},
     "output_type": "display_data"
    },
    {
     "data": {
      "text/plain": [
       "1"
      ]
     },
     "metadata": {},
     "output_type": "display_data"
    }
   ],
   "source": [
    "# 时间戳字符串的精度低于一分钟，视为切片\n",
    "display(\n",
    "    series_minute['2011-12-31 23'],\n",
    "    series_minute['2011-12-31 23:59'],\n",
    "    series_minute['2011-12-31 23:59:00'],\n",
    ")"
   ]
  },
  {
   "cell_type": "code",
   "execution_count": 37,
   "metadata": {},
   "outputs": [
    {
     "data": {
      "text/plain": [
       "'second'"
      ]
     },
     "execution_count": 37,
     "metadata": {},
     "output_type": "execute_result"
    }
   ],
   "source": [
    "series_second = pd.Series([1, 2, 3],\n",
    "                          pd.DatetimeIndex(['2011-12-31 23:59:01',\n",
    "                                            '2012-01-01 00:00:20',\n",
    "                                            '2012-01-01 00:02:31']))\n",
    "series_second.index.resolution"
   ]
  },
  {
   "cell_type": "code",
   "execution_count": 38,
   "metadata": {},
   "outputs": [
    {
     "data": {
      "text/plain": [
       "2011-12-31 23:59:01    1\n",
       "dtype: int64"
      ]
     },
     "metadata": {},
     "output_type": "display_data"
    },
    {
     "data": {
      "text/plain": [
       "2011-12-31 23:59:01    1\n",
       "dtype: int64"
      ]
     },
     "metadata": {},
     "output_type": "display_data"
    },
    {
     "data": {
      "text/plain": [
       "1"
      ]
     },
     "metadata": {},
     "output_type": "display_data"
    }
   ],
   "source": [
    "# 时间戳字符串的精度低于一分钟，视为切片\n",
    "display(\n",
    "    series_second['2011-12-31 23'],\n",
    "    series_second['2011-12-31 23:59'],\n",
    "    series_second['2011-12-31 23:59:01'],\n",
    ")"
   ]
  },
  {
   "cell_type": "markdown",
   "metadata": {},
   "source": [
    "### 3.3 精确索引"
   ]
  },
  {
   "cell_type": "code",
   "execution_count": 39,
   "metadata": {},
   "outputs": [
    {
     "data": {
      "text/html": [
       "<div>\n",
       "<style scoped>\n",
       "    .dataframe tbody tr th:only-of-type {\n",
       "        vertical-align: middle;\n",
       "    }\n",
       "\n",
       "    .dataframe tbody tr th {\n",
       "        vertical-align: top;\n",
       "    }\n",
       "\n",
       "    .dataframe thead th {\n",
       "        text-align: right;\n",
       "    }\n",
       "</style>\n",
       "<table border=\"1\" class=\"dataframe\">\n",
       "  <thead>\n",
       "    <tr style=\"text-align: right;\">\n",
       "      <th></th>\n",
       "      <th>A</th>\n",
       "    </tr>\n",
       "  </thead>\n",
       "  <tbody>\n",
       "    <tr>\n",
       "      <th>2013-01-01 00:00:00</th>\n",
       "      <td>1.312935</td>\n",
       "    </tr>\n",
       "    <tr>\n",
       "      <th>2013-01-01 00:01:00</th>\n",
       "      <td>1.312621</td>\n",
       "    </tr>\n",
       "    <tr>\n",
       "      <th>2013-01-01 00:02:00</th>\n",
       "      <td>0.193682</td>\n",
       "    </tr>\n",
       "    <tr>\n",
       "      <th>2013-01-01 00:03:00</th>\n",
       "      <td>2.355485</td>\n",
       "    </tr>\n",
       "    <tr>\n",
       "      <th>2013-01-01 00:04:00</th>\n",
       "      <td>0.094012</td>\n",
       "    </tr>\n",
       "    <tr>\n",
       "      <th>2013-01-01 00:05:00</th>\n",
       "      <td>-1.301788</td>\n",
       "    </tr>\n",
       "    <tr>\n",
       "      <th>2013-01-01 00:06:00</th>\n",
       "      <td>-0.253025</td>\n",
       "    </tr>\n",
       "    <tr>\n",
       "      <th>2013-01-01 00:07:00</th>\n",
       "      <td>1.902301</td>\n",
       "    </tr>\n",
       "    <tr>\n",
       "      <th>2013-01-01 00:08:00</th>\n",
       "      <td>-0.813458</td>\n",
       "    </tr>\n",
       "    <tr>\n",
       "      <th>2013-01-01 00:09:00</th>\n",
       "      <td>-0.442346</td>\n",
       "    </tr>\n",
       "    <tr>\n",
       "      <th>2013-01-01 00:10:00</th>\n",
       "      <td>-0.791645</td>\n",
       "    </tr>\n",
       "    <tr>\n",
       "      <th>2013-01-01 00:11:00</th>\n",
       "      <td>-0.525422</td>\n",
       "    </tr>\n",
       "    <tr>\n",
       "      <th>2013-01-01 00:12:00</th>\n",
       "      <td>0.196528</td>\n",
       "    </tr>\n",
       "    <tr>\n",
       "      <th>2013-01-01 00:13:00</th>\n",
       "      <td>0.070255</td>\n",
       "    </tr>\n",
       "    <tr>\n",
       "      <th>2013-01-01 00:14:00</th>\n",
       "      <td>-0.362160</td>\n",
       "    </tr>\n",
       "    <tr>\n",
       "      <th>2013-01-01 00:15:00</th>\n",
       "      <td>1.249442</td>\n",
       "    </tr>\n",
       "    <tr>\n",
       "      <th>2013-01-01 00:16:00</th>\n",
       "      <td>-0.409291</td>\n",
       "    </tr>\n",
       "    <tr>\n",
       "      <th>2013-01-01 00:17:00</th>\n",
       "      <td>-1.478420</td>\n",
       "    </tr>\n",
       "    <tr>\n",
       "      <th>2013-01-01 00:18:00</th>\n",
       "      <td>-1.116990</td>\n",
       "    </tr>\n",
       "    <tr>\n",
       "      <th>2013-01-01 00:19:00</th>\n",
       "      <td>1.089025</td>\n",
       "    </tr>\n",
       "    <tr>\n",
       "      <th>2013-01-01 00:20:00</th>\n",
       "      <td>-0.093620</td>\n",
       "    </tr>\n",
       "    <tr>\n",
       "      <th>2013-01-01 00:21:00</th>\n",
       "      <td>-1.304520</td>\n",
       "    </tr>\n",
       "    <tr>\n",
       "      <th>2013-01-01 00:22:00</th>\n",
       "      <td>-0.434213</td>\n",
       "    </tr>\n",
       "    <tr>\n",
       "      <th>2013-01-01 00:23:00</th>\n",
       "      <td>-1.442325</td>\n",
       "    </tr>\n",
       "    <tr>\n",
       "      <th>2013-01-01 00:24:00</th>\n",
       "      <td>0.022453</td>\n",
       "    </tr>\n",
       "    <tr>\n",
       "      <th>2013-01-01 00:25:00</th>\n",
       "      <td>-2.408264</td>\n",
       "    </tr>\n",
       "    <tr>\n",
       "      <th>2013-01-01 00:26:00</th>\n",
       "      <td>-0.161011</td>\n",
       "    </tr>\n",
       "    <tr>\n",
       "      <th>2013-01-01 00:27:00</th>\n",
       "      <td>-0.006236</td>\n",
       "    </tr>\n",
       "    <tr>\n",
       "      <th>2013-01-01 00:28:00</th>\n",
       "      <td>-1.598610</td>\n",
       "    </tr>\n",
       "    <tr>\n",
       "      <th>2013-01-01 00:29:00</th>\n",
       "      <td>-0.771426</td>\n",
       "    </tr>\n",
       "    <tr>\n",
       "      <th>...</th>\n",
       "      <td>...</td>\n",
       "    </tr>\n",
       "    <tr>\n",
       "      <th>2013-02-27 23:31:00</th>\n",
       "      <td>-1.326763</td>\n",
       "    </tr>\n",
       "    <tr>\n",
       "      <th>2013-02-27 23:32:00</th>\n",
       "      <td>2.981482</td>\n",
       "    </tr>\n",
       "    <tr>\n",
       "      <th>2013-02-27 23:33:00</th>\n",
       "      <td>-0.983248</td>\n",
       "    </tr>\n",
       "    <tr>\n",
       "      <th>2013-02-27 23:34:00</th>\n",
       "      <td>0.996985</td>\n",
       "    </tr>\n",
       "    <tr>\n",
       "      <th>2013-02-27 23:35:00</th>\n",
       "      <td>0.572648</td>\n",
       "    </tr>\n",
       "    <tr>\n",
       "      <th>2013-02-27 23:36:00</th>\n",
       "      <td>-0.648557</td>\n",
       "    </tr>\n",
       "    <tr>\n",
       "      <th>2013-02-27 23:37:00</th>\n",
       "      <td>-0.378934</td>\n",
       "    </tr>\n",
       "    <tr>\n",
       "      <th>2013-02-27 23:38:00</th>\n",
       "      <td>-0.901623</td>\n",
       "    </tr>\n",
       "    <tr>\n",
       "      <th>2013-02-27 23:39:00</th>\n",
       "      <td>-0.334594</td>\n",
       "    </tr>\n",
       "    <tr>\n",
       "      <th>2013-02-27 23:40:00</th>\n",
       "      <td>-0.576051</td>\n",
       "    </tr>\n",
       "    <tr>\n",
       "      <th>2013-02-27 23:41:00</th>\n",
       "      <td>-0.764350</td>\n",
       "    </tr>\n",
       "    <tr>\n",
       "      <th>2013-02-27 23:42:00</th>\n",
       "      <td>-0.250056</td>\n",
       "    </tr>\n",
       "    <tr>\n",
       "      <th>2013-02-27 23:43:00</th>\n",
       "      <td>0.162586</td>\n",
       "    </tr>\n",
       "    <tr>\n",
       "      <th>2013-02-27 23:44:00</th>\n",
       "      <td>-0.336381</td>\n",
       "    </tr>\n",
       "    <tr>\n",
       "      <th>2013-02-27 23:45:00</th>\n",
       "      <td>0.270901</td>\n",
       "    </tr>\n",
       "    <tr>\n",
       "      <th>2013-02-27 23:46:00</th>\n",
       "      <td>0.046831</td>\n",
       "    </tr>\n",
       "    <tr>\n",
       "      <th>2013-02-27 23:47:00</th>\n",
       "      <td>1.857604</td>\n",
       "    </tr>\n",
       "    <tr>\n",
       "      <th>2013-02-27 23:48:00</th>\n",
       "      <td>-0.108048</td>\n",
       "    </tr>\n",
       "    <tr>\n",
       "      <th>2013-02-27 23:49:00</th>\n",
       "      <td>1.124034</td>\n",
       "    </tr>\n",
       "    <tr>\n",
       "      <th>2013-02-27 23:50:00</th>\n",
       "      <td>-1.860579</td>\n",
       "    </tr>\n",
       "    <tr>\n",
       "      <th>2013-02-27 23:51:00</th>\n",
       "      <td>-2.080972</td>\n",
       "    </tr>\n",
       "    <tr>\n",
       "      <th>2013-02-27 23:52:00</th>\n",
       "      <td>0.890533</td>\n",
       "    </tr>\n",
       "    <tr>\n",
       "      <th>2013-02-27 23:53:00</th>\n",
       "      <td>-0.586444</td>\n",
       "    </tr>\n",
       "    <tr>\n",
       "      <th>2013-02-27 23:54:00</th>\n",
       "      <td>0.078645</td>\n",
       "    </tr>\n",
       "    <tr>\n",
       "      <th>2013-02-27 23:55:00</th>\n",
       "      <td>1.704322</td>\n",
       "    </tr>\n",
       "    <tr>\n",
       "      <th>2013-02-27 23:56:00</th>\n",
       "      <td>0.210896</td>\n",
       "    </tr>\n",
       "    <tr>\n",
       "      <th>2013-02-27 23:57:00</th>\n",
       "      <td>1.025271</td>\n",
       "    </tr>\n",
       "    <tr>\n",
       "      <th>2013-02-27 23:58:00</th>\n",
       "      <td>-0.287429</td>\n",
       "    </tr>\n",
       "    <tr>\n",
       "      <th>2013-02-27 23:59:00</th>\n",
       "      <td>-0.624081</td>\n",
       "    </tr>\n",
       "    <tr>\n",
       "      <th>2013-02-28 00:00:00</th>\n",
       "      <td>0.010304</td>\n",
       "    </tr>\n",
       "  </tbody>\n",
       "</table>\n",
       "<p>83521 rows × 1 columns</p>\n",
       "</div>"
      ],
      "text/plain": [
       "                            A\n",
       "2013-01-01 00:00:00  1.312935\n",
       "2013-01-01 00:01:00  1.312621\n",
       "2013-01-01 00:02:00  0.193682\n",
       "2013-01-01 00:03:00  2.355485\n",
       "2013-01-01 00:04:00  0.094012\n",
       "2013-01-01 00:05:00 -1.301788\n",
       "2013-01-01 00:06:00 -0.253025\n",
       "2013-01-01 00:07:00  1.902301\n",
       "2013-01-01 00:08:00 -0.813458\n",
       "2013-01-01 00:09:00 -0.442346\n",
       "2013-01-01 00:10:00 -0.791645\n",
       "2013-01-01 00:11:00 -0.525422\n",
       "2013-01-01 00:12:00  0.196528\n",
       "2013-01-01 00:13:00  0.070255\n",
       "2013-01-01 00:14:00 -0.362160\n",
       "2013-01-01 00:15:00  1.249442\n",
       "2013-01-01 00:16:00 -0.409291\n",
       "2013-01-01 00:17:00 -1.478420\n",
       "2013-01-01 00:18:00 -1.116990\n",
       "2013-01-01 00:19:00  1.089025\n",
       "2013-01-01 00:20:00 -0.093620\n",
       "2013-01-01 00:21:00 -1.304520\n",
       "2013-01-01 00:22:00 -0.434213\n",
       "2013-01-01 00:23:00 -1.442325\n",
       "2013-01-01 00:24:00  0.022453\n",
       "2013-01-01 00:25:00 -2.408264\n",
       "2013-01-01 00:26:00 -0.161011\n",
       "2013-01-01 00:27:00 -0.006236\n",
       "2013-01-01 00:28:00 -1.598610\n",
       "2013-01-01 00:29:00 -0.771426\n",
       "...                       ...\n",
       "2013-02-27 23:31:00 -1.326763\n",
       "2013-02-27 23:32:00  2.981482\n",
       "2013-02-27 23:33:00 -0.983248\n",
       "2013-02-27 23:34:00  0.996985\n",
       "2013-02-27 23:35:00  0.572648\n",
       "2013-02-27 23:36:00 -0.648557\n",
       "2013-02-27 23:37:00 -0.378934\n",
       "2013-02-27 23:38:00 -0.901623\n",
       "2013-02-27 23:39:00 -0.334594\n",
       "2013-02-27 23:40:00 -0.576051\n",
       "2013-02-27 23:41:00 -0.764350\n",
       "2013-02-27 23:42:00 -0.250056\n",
       "2013-02-27 23:43:00  0.162586\n",
       "2013-02-27 23:44:00 -0.336381\n",
       "2013-02-27 23:45:00  0.270901\n",
       "2013-02-27 23:46:00  0.046831\n",
       "2013-02-27 23:47:00  1.857604\n",
       "2013-02-27 23:48:00 -0.108048\n",
       "2013-02-27 23:49:00  1.124034\n",
       "2013-02-27 23:50:00 -1.860579\n",
       "2013-02-27 23:51:00 -2.080972\n",
       "2013-02-27 23:52:00  0.890533\n",
       "2013-02-27 23:53:00 -0.586444\n",
       "2013-02-27 23:54:00  0.078645\n",
       "2013-02-27 23:55:00  1.704322\n",
       "2013-02-27 23:56:00  0.210896\n",
       "2013-02-27 23:57:00  1.025271\n",
       "2013-02-27 23:58:00 -0.287429\n",
       "2013-02-27 23:59:00 -0.624081\n",
       "2013-02-28 00:00:00  0.010304\n",
       "\n",
       "[83521 rows x 1 columns]"
      ]
     },
     "execution_count": 39,
     "metadata": {},
     "output_type": "execute_result"
    }
   ],
   "source": [
    "dft[datetime(2013, 1, 1):datetime(2013,2,28)]"
   ]
  },
  {
   "cell_type": "code",
   "execution_count": 40,
   "metadata": {},
   "outputs": [
    {
     "data": {
      "text/html": [
       "<div>\n",
       "<style scoped>\n",
       "    .dataframe tbody tr th:only-of-type {\n",
       "        vertical-align: middle;\n",
       "    }\n",
       "\n",
       "    .dataframe tbody tr th {\n",
       "        vertical-align: top;\n",
       "    }\n",
       "\n",
       "    .dataframe thead th {\n",
       "        text-align: right;\n",
       "    }\n",
       "</style>\n",
       "<table border=\"1\" class=\"dataframe\">\n",
       "  <thead>\n",
       "    <tr style=\"text-align: right;\">\n",
       "      <th></th>\n",
       "      <th>A</th>\n",
       "    </tr>\n",
       "  </thead>\n",
       "  <tbody>\n",
       "    <tr>\n",
       "      <th>2013-01-01 10:12:00</th>\n",
       "      <td>-0.138471</td>\n",
       "    </tr>\n",
       "    <tr>\n",
       "      <th>2013-01-01 10:13:00</th>\n",
       "      <td>0.675326</td>\n",
       "    </tr>\n",
       "    <tr>\n",
       "      <th>2013-01-01 10:14:00</th>\n",
       "      <td>0.640600</td>\n",
       "    </tr>\n",
       "    <tr>\n",
       "      <th>2013-01-01 10:15:00</th>\n",
       "      <td>1.128659</td>\n",
       "    </tr>\n",
       "    <tr>\n",
       "      <th>2013-01-01 10:16:00</th>\n",
       "      <td>1.518796</td>\n",
       "    </tr>\n",
       "    <tr>\n",
       "      <th>2013-01-01 10:17:00</th>\n",
       "      <td>-0.535805</td>\n",
       "    </tr>\n",
       "    <tr>\n",
       "      <th>2013-01-01 10:18:00</th>\n",
       "      <td>0.368785</td>\n",
       "    </tr>\n",
       "    <tr>\n",
       "      <th>2013-01-01 10:19:00</th>\n",
       "      <td>-0.991692</td>\n",
       "    </tr>\n",
       "    <tr>\n",
       "      <th>2013-01-01 10:20:00</th>\n",
       "      <td>1.020157</td>\n",
       "    </tr>\n",
       "    <tr>\n",
       "      <th>2013-01-01 10:21:00</th>\n",
       "      <td>-0.115631</td>\n",
       "    </tr>\n",
       "    <tr>\n",
       "      <th>2013-01-01 10:22:00</th>\n",
       "      <td>-2.431641</td>\n",
       "    </tr>\n",
       "    <tr>\n",
       "      <th>2013-01-01 10:23:00</th>\n",
       "      <td>-1.775696</td>\n",
       "    </tr>\n",
       "    <tr>\n",
       "      <th>2013-01-01 10:24:00</th>\n",
       "      <td>-0.968795</td>\n",
       "    </tr>\n",
       "    <tr>\n",
       "      <th>2013-01-01 10:25:00</th>\n",
       "      <td>0.342068</td>\n",
       "    </tr>\n",
       "    <tr>\n",
       "      <th>2013-01-01 10:26:00</th>\n",
       "      <td>0.056580</td>\n",
       "    </tr>\n",
       "    <tr>\n",
       "      <th>2013-01-01 10:27:00</th>\n",
       "      <td>0.213610</td>\n",
       "    </tr>\n",
       "    <tr>\n",
       "      <th>2013-01-01 10:28:00</th>\n",
       "      <td>1.294652</td>\n",
       "    </tr>\n",
       "    <tr>\n",
       "      <th>2013-01-01 10:29:00</th>\n",
       "      <td>0.081732</td>\n",
       "    </tr>\n",
       "    <tr>\n",
       "      <th>2013-01-01 10:30:00</th>\n",
       "      <td>-0.272179</td>\n",
       "    </tr>\n",
       "    <tr>\n",
       "      <th>2013-01-01 10:31:00</th>\n",
       "      <td>0.728779</td>\n",
       "    </tr>\n",
       "    <tr>\n",
       "      <th>2013-01-01 10:32:00</th>\n",
       "      <td>-0.196587</td>\n",
       "    </tr>\n",
       "    <tr>\n",
       "      <th>2013-01-01 10:33:00</th>\n",
       "      <td>2.316680</td>\n",
       "    </tr>\n",
       "    <tr>\n",
       "      <th>2013-01-01 10:34:00</th>\n",
       "      <td>0.513143</td>\n",
       "    </tr>\n",
       "    <tr>\n",
       "      <th>2013-01-01 10:35:00</th>\n",
       "      <td>0.098997</td>\n",
       "    </tr>\n",
       "    <tr>\n",
       "      <th>2013-01-01 10:36:00</th>\n",
       "      <td>-0.195951</td>\n",
       "    </tr>\n",
       "    <tr>\n",
       "      <th>2013-01-01 10:37:00</th>\n",
       "      <td>0.896924</td>\n",
       "    </tr>\n",
       "    <tr>\n",
       "      <th>2013-01-01 10:38:00</th>\n",
       "      <td>-0.305900</td>\n",
       "    </tr>\n",
       "    <tr>\n",
       "      <th>2013-01-01 10:39:00</th>\n",
       "      <td>0.779698</td>\n",
       "    </tr>\n",
       "    <tr>\n",
       "      <th>2013-01-01 10:40:00</th>\n",
       "      <td>1.447848</td>\n",
       "    </tr>\n",
       "    <tr>\n",
       "      <th>2013-01-01 10:41:00</th>\n",
       "      <td>-1.600871</td>\n",
       "    </tr>\n",
       "    <tr>\n",
       "      <th>...</th>\n",
       "      <td>...</td>\n",
       "    </tr>\n",
       "    <tr>\n",
       "      <th>2013-02-28 09:43:00</th>\n",
       "      <td>-0.055285</td>\n",
       "    </tr>\n",
       "    <tr>\n",
       "      <th>2013-02-28 09:44:00</th>\n",
       "      <td>-0.549293</td>\n",
       "    </tr>\n",
       "    <tr>\n",
       "      <th>2013-02-28 09:45:00</th>\n",
       "      <td>0.881100</td>\n",
       "    </tr>\n",
       "    <tr>\n",
       "      <th>2013-02-28 09:46:00</th>\n",
       "      <td>0.300375</td>\n",
       "    </tr>\n",
       "    <tr>\n",
       "      <th>2013-02-28 09:47:00</th>\n",
       "      <td>2.863752</td>\n",
       "    </tr>\n",
       "    <tr>\n",
       "      <th>2013-02-28 09:48:00</th>\n",
       "      <td>-1.139497</td>\n",
       "    </tr>\n",
       "    <tr>\n",
       "      <th>2013-02-28 09:49:00</th>\n",
       "      <td>0.854032</td>\n",
       "    </tr>\n",
       "    <tr>\n",
       "      <th>2013-02-28 09:50:00</th>\n",
       "      <td>0.593968</td>\n",
       "    </tr>\n",
       "    <tr>\n",
       "      <th>2013-02-28 09:51:00</th>\n",
       "      <td>-0.254625</td>\n",
       "    </tr>\n",
       "    <tr>\n",
       "      <th>2013-02-28 09:52:00</th>\n",
       "      <td>0.645371</td>\n",
       "    </tr>\n",
       "    <tr>\n",
       "      <th>2013-02-28 09:53:00</th>\n",
       "      <td>0.376597</td>\n",
       "    </tr>\n",
       "    <tr>\n",
       "      <th>2013-02-28 09:54:00</th>\n",
       "      <td>-1.001198</td>\n",
       "    </tr>\n",
       "    <tr>\n",
       "      <th>2013-02-28 09:55:00</th>\n",
       "      <td>1.291116</td>\n",
       "    </tr>\n",
       "    <tr>\n",
       "      <th>2013-02-28 09:56:00</th>\n",
       "      <td>-1.427240</td>\n",
       "    </tr>\n",
       "    <tr>\n",
       "      <th>2013-02-28 09:57:00</th>\n",
       "      <td>1.480248</td>\n",
       "    </tr>\n",
       "    <tr>\n",
       "      <th>2013-02-28 09:58:00</th>\n",
       "      <td>1.768737</td>\n",
       "    </tr>\n",
       "    <tr>\n",
       "      <th>2013-02-28 09:59:00</th>\n",
       "      <td>-0.694675</td>\n",
       "    </tr>\n",
       "    <tr>\n",
       "      <th>2013-02-28 10:00:00</th>\n",
       "      <td>1.006675</td>\n",
       "    </tr>\n",
       "    <tr>\n",
       "      <th>2013-02-28 10:01:00</th>\n",
       "      <td>0.919717</td>\n",
       "    </tr>\n",
       "    <tr>\n",
       "      <th>2013-02-28 10:02:00</th>\n",
       "      <td>-1.275192</td>\n",
       "    </tr>\n",
       "    <tr>\n",
       "      <th>2013-02-28 10:03:00</th>\n",
       "      <td>0.456640</td>\n",
       "    </tr>\n",
       "    <tr>\n",
       "      <th>2013-02-28 10:04:00</th>\n",
       "      <td>1.279744</td>\n",
       "    </tr>\n",
       "    <tr>\n",
       "      <th>2013-02-28 10:05:00</th>\n",
       "      <td>-1.552870</td>\n",
       "    </tr>\n",
       "    <tr>\n",
       "      <th>2013-02-28 10:06:00</th>\n",
       "      <td>0.553524</td>\n",
       "    </tr>\n",
       "    <tr>\n",
       "      <th>2013-02-28 10:07:00</th>\n",
       "      <td>-0.757640</td>\n",
       "    </tr>\n",
       "    <tr>\n",
       "      <th>2013-02-28 10:08:00</th>\n",
       "      <td>1.557051</td>\n",
       "    </tr>\n",
       "    <tr>\n",
       "      <th>2013-02-28 10:09:00</th>\n",
       "      <td>-0.776545</td>\n",
       "    </tr>\n",
       "    <tr>\n",
       "      <th>2013-02-28 10:10:00</th>\n",
       "      <td>0.396486</td>\n",
       "    </tr>\n",
       "    <tr>\n",
       "      <th>2013-02-28 10:11:00</th>\n",
       "      <td>-1.040338</td>\n",
       "    </tr>\n",
       "    <tr>\n",
       "      <th>2013-02-28 10:12:00</th>\n",
       "      <td>1.553459</td>\n",
       "    </tr>\n",
       "  </tbody>\n",
       "</table>\n",
       "<p>83521 rows × 1 columns</p>\n",
       "</div>"
      ],
      "text/plain": [
       "                            A\n",
       "2013-01-01 10:12:00 -0.138471\n",
       "2013-01-01 10:13:00  0.675326\n",
       "2013-01-01 10:14:00  0.640600\n",
       "2013-01-01 10:15:00  1.128659\n",
       "2013-01-01 10:16:00  1.518796\n",
       "2013-01-01 10:17:00 -0.535805\n",
       "2013-01-01 10:18:00  0.368785\n",
       "2013-01-01 10:19:00 -0.991692\n",
       "2013-01-01 10:20:00  1.020157\n",
       "2013-01-01 10:21:00 -0.115631\n",
       "2013-01-01 10:22:00 -2.431641\n",
       "2013-01-01 10:23:00 -1.775696\n",
       "2013-01-01 10:24:00 -0.968795\n",
       "2013-01-01 10:25:00  0.342068\n",
       "2013-01-01 10:26:00  0.056580\n",
       "2013-01-01 10:27:00  0.213610\n",
       "2013-01-01 10:28:00  1.294652\n",
       "2013-01-01 10:29:00  0.081732\n",
       "2013-01-01 10:30:00 -0.272179\n",
       "2013-01-01 10:31:00  0.728779\n",
       "2013-01-01 10:32:00 -0.196587\n",
       "2013-01-01 10:33:00  2.316680\n",
       "2013-01-01 10:34:00  0.513143\n",
       "2013-01-01 10:35:00  0.098997\n",
       "2013-01-01 10:36:00 -0.195951\n",
       "2013-01-01 10:37:00  0.896924\n",
       "2013-01-01 10:38:00 -0.305900\n",
       "2013-01-01 10:39:00  0.779698\n",
       "2013-01-01 10:40:00  1.447848\n",
       "2013-01-01 10:41:00 -1.600871\n",
       "...                       ...\n",
       "2013-02-28 09:43:00 -0.055285\n",
       "2013-02-28 09:44:00 -0.549293\n",
       "2013-02-28 09:45:00  0.881100\n",
       "2013-02-28 09:46:00  0.300375\n",
       "2013-02-28 09:47:00  2.863752\n",
       "2013-02-28 09:48:00 -1.139497\n",
       "2013-02-28 09:49:00  0.854032\n",
       "2013-02-28 09:50:00  0.593968\n",
       "2013-02-28 09:51:00 -0.254625\n",
       "2013-02-28 09:52:00  0.645371\n",
       "2013-02-28 09:53:00  0.376597\n",
       "2013-02-28 09:54:00 -1.001198\n",
       "2013-02-28 09:55:00  1.291116\n",
       "2013-02-28 09:56:00 -1.427240\n",
       "2013-02-28 09:57:00  1.480248\n",
       "2013-02-28 09:58:00  1.768737\n",
       "2013-02-28 09:59:00 -0.694675\n",
       "2013-02-28 10:00:00  1.006675\n",
       "2013-02-28 10:01:00  0.919717\n",
       "2013-02-28 10:02:00 -1.275192\n",
       "2013-02-28 10:03:00  0.456640\n",
       "2013-02-28 10:04:00  1.279744\n",
       "2013-02-28 10:05:00 -1.552870\n",
       "2013-02-28 10:06:00  0.553524\n",
       "2013-02-28 10:07:00 -0.757640\n",
       "2013-02-28 10:08:00  1.557051\n",
       "2013-02-28 10:09:00 -0.776545\n",
       "2013-02-28 10:10:00  0.396486\n",
       "2013-02-28 10:11:00 -1.040338\n",
       "2013-02-28 10:12:00  1.553459\n",
       "\n",
       "[83521 rows x 1 columns]"
      ]
     },
     "execution_count": 40,
     "metadata": {},
     "output_type": "execute_result"
    }
   ],
   "source": [
    "dft[datetime(2013, 1, 1, 10, 12, 0):datetime(2013, 2, 28, 10, 12, 0)]"
   ]
  },
  {
   "cell_type": "markdown",
   "metadata": {},
   "source": [
    "### 3.2 截断和新建索引"
   ]
  },
  {
   "cell_type": "code",
   "execution_count": 41,
   "metadata": {},
   "outputs": [
    {
     "data": {
      "text/plain": [
       "2011-11-06   -0.302119\n",
       "2011-11-13   -0.142922\n",
       "2011-11-20    1.130825\n",
       "2011-11-27    0.325270\n",
       "Freq: W-SUN, dtype: float64"
      ]
     },
     "execution_count": 41,
     "metadata": {},
     "output_type": "execute_result"
    }
   ],
   "source": [
    "rng2 = pd.date_range('2011-01-01', '2012-01-01', freq='W')\n",
    "ts2 = pd.Series(np.random.randn(len(rng2)), index=rng2)\n",
    "ts2.truncate(before='2011-11', after='2011-12')"
   ]
  },
  {
   "cell_type": "code",
   "execution_count": 42,
   "metadata": {},
   "outputs": [
    {
     "data": {
      "text/plain": [
       "2011-11-06   -0.302119\n",
       "2011-11-13   -0.142922\n",
       "2011-11-20    1.130825\n",
       "2011-11-27    0.325270\n",
       "2011-12-04    0.061550\n",
       "2011-12-11    0.405607\n",
       "2011-12-18   -0.282557\n",
       "2011-12-25   -1.452589\n",
       "Freq: W-SUN, dtype: float64"
      ]
     },
     "execution_count": 42,
     "metadata": {},
     "output_type": "execute_result"
    }
   ],
   "source": [
    "ts2['2011-11':'2011-12']"
   ]
  },
  {
   "cell_type": "code",
   "execution_count": 43,
   "metadata": {},
   "outputs": [
    {
     "data": {
      "text/plain": [
       "DatetimeIndex(['2011-01-02', '2011-01-16', '2011-02-13'], dtype='datetime64[ns]', freq=None)"
      ]
     },
     "execution_count": 43,
     "metadata": {},
     "output_type": "execute_result"
    }
   ],
   "source": [
    "ts2[[0, 2, 6]].index"
   ]
  },
  {
   "cell_type": "markdown",
   "metadata": {},
   "source": [
    "### 3.4 时间日期组成部分"
   ]
  },
  {
   "attachments": {
    "Timestamp%E5%B1%9E%E6%80%A7.png": {
     "image/png": "[encoded data removed]"
    }
   },
   "cell_type": "markdown",
   "metadata": {},
   "source": [
    "- Timestamp属性：\n",
    "![Timestamp属性.png](attachment:Timestamp%E5%B1%9E%E6%80%A7.png)"
   ]
  },
  {
   "cell_type": "markdown",
   "metadata": {},
   "source": [
    "### 3.5 `DateOffset` 对象"
   ]
  },
  {
   "attachments": {
    "DateSet%E5%B1%9E%E6%80%A7.png": {
     "image/png": "[encoded data removed]"
    }
   },
   "cell_type": "markdown",
   "metadata": {},
   "source": [
    "![DateSet%E5%B1%9E%E6%80%A7.png](attachment:DateSet%E5%B1%9E%E6%80%A7.png)"
   ]
  },
  {
   "cell_type": "code",
   "execution_count": 44,
   "metadata": {},
   "outputs": [
    {
     "data": {
      "text/plain": [
       "Timestamp('2008-12-23 09:00:00')"
      ]
     },
     "execution_count": 44,
     "metadata": {},
     "output_type": "execute_result"
    }
   ],
   "source": [
    "from pandas.tseries.offsets import *\n",
    "\n",
    "d = datetime(2008, 8, 18, 9, 0)\n",
    "d + DateOffset(months=4, days=5)"
   ]
  },
  {
   "cell_type": "code",
   "execution_count": 45,
   "metadata": {},
   "outputs": [
    {
     "data": {
      "text/plain": [
       "Timestamp('2014-01-02 09:00:00')"
      ]
     },
     "metadata": {},
     "output_type": "display_data"
    },
    {
     "data": {
      "text/plain": [
       "Timestamp('2014-01-02 00:00:00')"
      ]
     },
     "metadata": {},
     "output_type": "display_data"
    },
    {
     "data": {
      "text/plain": [
       "Timestamp('2014-01-01 23:00:00')"
      ]
     },
     "metadata": {},
     "output_type": "display_data"
    },
    {
     "data": {
      "text/plain": [
       "Timestamp('2014-01-01 00:00:00')"
      ]
     },
     "metadata": {},
     "output_type": "display_data"
    },
    {
     "data": {
      "text/plain": [
       "Timestamp('2014-01-02 00:00:00')"
      ]
     },
     "metadata": {},
     "output_type": "display_data"
    },
    {
     "data": {
      "text/plain": [
       "Timestamp('2014-01-01 00:00:00')"
      ]
     },
     "metadata": {},
     "output_type": "display_data"
    }
   ],
   "source": [
    "day = Day()\n",
    "display(day.apply(pd.Timestamp('2014-01-01 09:00')))\n",
    "\n",
    "day = Day(normalize=True)\n",
    "display(day.apply(pd.Timestamp('2014-01-01 09:00')))\n",
    "\n",
    "hour = Hour()\n",
    "display(hour.apply(pd.Timestamp('2014-01-01 22:00')))\n",
    "\n",
    "hour = Hour(normalize=True)\n",
    "display(hour.apply(pd.Timestamp('2014-01-01 22:00')))\n",
    "display(hour.apply(pd.Timestamp('2014-01-01 23:00')))\n",
    "display(hour.apply(pd.Timestamp('2014-01-01 20:00')))"
   ]
  },
  {
   "cell_type": "markdown",
   "metadata": {},
   "source": [
    "- `Parametric Offsets`"
   ]
  },
  {
   "cell_type": "code",
   "execution_count": null,
   "metadata": {},
   "outputs": [],
   "source": []
  },
  {
   "cell_type": "markdown",
   "metadata": {},
   "source": [
    "## 4 `Time Series相关方法`"
   ]
  },
  {
   "cell_type": "markdown",
   "metadata": {},
   "source": [
    "### 4.1 `shifting/lagging`"
   ]
  },
  {
   "cell_type": "code",
   "execution_count": 46,
   "metadata": {},
   "outputs": [
    {
     "data": {
      "text/plain": [
       "(100, 1)"
      ]
     },
     "metadata": {},
     "output_type": "display_data"
    },
    {
     "data": {
      "text/html": [
       "<div>\n",
       "<style scoped>\n",
       "    .dataframe tbody tr th:only-of-type {\n",
       "        vertical-align: middle;\n",
       "    }\n",
       "\n",
       "    .dataframe tbody tr th {\n",
       "        vertical-align: top;\n",
       "    }\n",
       "\n",
       "    .dataframe thead th {\n",
       "        text-align: right;\n",
       "    }\n",
       "</style>\n",
       "<table border=\"1\" class=\"dataframe\">\n",
       "  <thead>\n",
       "    <tr style=\"text-align: right;\">\n",
       "      <th></th>\n",
       "      <th>A</th>\n",
       "    </tr>\n",
       "  </thead>\n",
       "  <tbody>\n",
       "    <tr>\n",
       "      <th>2018-07-01</th>\n",
       "      <td>1.045989</td>\n",
       "    </tr>\n",
       "    <tr>\n",
       "      <th>2018-07-02</th>\n",
       "      <td>0.487476</td>\n",
       "    </tr>\n",
       "    <tr>\n",
       "      <th>2018-07-03</th>\n",
       "      <td>0.035368</td>\n",
       "    </tr>\n",
       "    <tr>\n",
       "      <th>2018-07-04</th>\n",
       "      <td>1.397846</td>\n",
       "    </tr>\n",
       "    <tr>\n",
       "      <th>2018-07-05</th>\n",
       "      <td>1.060655</td>\n",
       "    </tr>\n",
       "  </tbody>\n",
       "</table>\n",
       "</div>"
      ],
      "text/plain": [
       "                   A\n",
       "2018-07-01  1.045989\n",
       "2018-07-02  0.487476\n",
       "2018-07-03  0.035368\n",
       "2018-07-04  1.397846\n",
       "2018-07-05  1.060655"
      ]
     },
     "metadata": {},
     "output_type": "display_data"
    }
   ],
   "source": [
    "dft = pd.DataFrame(\n",
    "    np.random.randn(100,1),\n",
    "    columns=['A'],\n",
    "    index=pd.date_range('20180701',periods=100,freq='D')\n",
    ")\n",
    "\n",
    "display(\n",
    "    dft.shape,\n",
    "    dft.head(),\n",
    ")"
   ]
  },
  {
   "cell_type": "code",
   "execution_count": 47,
   "metadata": {},
   "outputs": [
    {
     "data": {
      "text/html": [
       "<div>\n",
       "<style scoped>\n",
       "    .dataframe tbody tr th:only-of-type {\n",
       "        vertical-align: middle;\n",
       "    }\n",
       "\n",
       "    .dataframe tbody tr th {\n",
       "        vertical-align: top;\n",
       "    }\n",
       "\n",
       "    .dataframe thead th {\n",
       "        text-align: right;\n",
       "    }\n",
       "</style>\n",
       "<table border=\"1\" class=\"dataframe\">\n",
       "  <thead>\n",
       "    <tr style=\"text-align: right;\">\n",
       "      <th></th>\n",
       "      <th>A</th>\n",
       "    </tr>\n",
       "  </thead>\n",
       "  <tbody>\n",
       "    <tr>\n",
       "      <th>2018-07-01</th>\n",
       "      <td>1.045989</td>\n",
       "    </tr>\n",
       "    <tr>\n",
       "      <th>2018-07-02</th>\n",
       "      <td>0.487476</td>\n",
       "    </tr>\n",
       "    <tr>\n",
       "      <th>2018-07-03</th>\n",
       "      <td>0.035368</td>\n",
       "    </tr>\n",
       "    <tr>\n",
       "      <th>2018-07-04</th>\n",
       "      <td>1.397846</td>\n",
       "    </tr>\n",
       "    <tr>\n",
       "      <th>2018-07-05</th>\n",
       "      <td>1.060655</td>\n",
       "    </tr>\n",
       "  </tbody>\n",
       "</table>\n",
       "</div>"
      ],
      "text/plain": [
       "                   A\n",
       "2018-07-01  1.045989\n",
       "2018-07-02  0.487476\n",
       "2018-07-03  0.035368\n",
       "2018-07-04  1.397846\n",
       "2018-07-05  1.060655"
      ]
     },
     "metadata": {},
     "output_type": "display_data"
    },
    {
     "data": {
      "text/html": [
       "<div>\n",
       "<style scoped>\n",
       "    .dataframe tbody tr th:only-of-type {\n",
       "        vertical-align: middle;\n",
       "    }\n",
       "\n",
       "    .dataframe tbody tr th {\n",
       "        vertical-align: top;\n",
       "    }\n",
       "\n",
       "    .dataframe thead th {\n",
       "        text-align: right;\n",
       "    }\n",
       "</style>\n",
       "<table border=\"1\" class=\"dataframe\">\n",
       "  <thead>\n",
       "    <tr style=\"text-align: right;\">\n",
       "      <th></th>\n",
       "      <th>A</th>\n",
       "    </tr>\n",
       "  </thead>\n",
       "  <tbody>\n",
       "    <tr>\n",
       "      <th>2018-07-01</th>\n",
       "      <td>NaN</td>\n",
       "    </tr>\n",
       "    <tr>\n",
       "      <th>2018-07-02</th>\n",
       "      <td>1.045989</td>\n",
       "    </tr>\n",
       "    <tr>\n",
       "      <th>2018-07-03</th>\n",
       "      <td>0.487476</td>\n",
       "    </tr>\n",
       "    <tr>\n",
       "      <th>2018-07-04</th>\n",
       "      <td>0.035368</td>\n",
       "    </tr>\n",
       "    <tr>\n",
       "      <th>2018-07-05</th>\n",
       "      <td>1.397846</td>\n",
       "    </tr>\n",
       "  </tbody>\n",
       "</table>\n",
       "</div>"
      ],
      "text/plain": [
       "                   A\n",
       "2018-07-01       NaN\n",
       "2018-07-02  1.045989\n",
       "2018-07-03  0.487476\n",
       "2018-07-04  0.035368\n",
       "2018-07-05  1.397846"
      ]
     },
     "metadata": {},
     "output_type": "display_data"
    }
   ],
   "source": [
    "dft1 = dft[:5]\n",
    "display(\n",
    "    dft1, \n",
    "    dft1.shift(1)   # 移动1天\n",
    ")"
   ]
  },
  {
   "cell_type": "code",
   "execution_count": 48,
   "metadata": {},
   "outputs": [
    {
     "data": {
      "text/html": [
       "<div>\n",
       "<style scoped>\n",
       "    .dataframe tbody tr th:only-of-type {\n",
       "        vertical-align: middle;\n",
       "    }\n",
       "\n",
       "    .dataframe tbody tr th {\n",
       "        vertical-align: top;\n",
       "    }\n",
       "\n",
       "    .dataframe thead th {\n",
       "        text-align: right;\n",
       "    }\n",
       "</style>\n",
       "<table border=\"1\" class=\"dataframe\">\n",
       "  <thead>\n",
       "    <tr style=\"text-align: right;\">\n",
       "      <th></th>\n",
       "      <th>A</th>\n",
       "    </tr>\n",
       "  </thead>\n",
       "  <tbody>\n",
       "    <tr>\n",
       "      <th>2018-07-06</th>\n",
       "      <td>1.045989</td>\n",
       "    </tr>\n",
       "    <tr>\n",
       "      <th>2018-07-09</th>\n",
       "      <td>0.487476</td>\n",
       "    </tr>\n",
       "    <tr>\n",
       "      <th>2018-07-10</th>\n",
       "      <td>0.035368</td>\n",
       "    </tr>\n",
       "    <tr>\n",
       "      <th>2018-07-11</th>\n",
       "      <td>1.397846</td>\n",
       "    </tr>\n",
       "    <tr>\n",
       "      <th>2018-07-12</th>\n",
       "      <td>1.060655</td>\n",
       "    </tr>\n",
       "  </tbody>\n",
       "</table>\n",
       "</div>"
      ],
      "text/plain": [
       "                   A\n",
       "2018-07-06  1.045989\n",
       "2018-07-09  0.487476\n",
       "2018-07-10  0.035368\n",
       "2018-07-11  1.397846\n",
       "2018-07-12  1.060655"
      ]
     },
     "execution_count": 48,
     "metadata": {},
     "output_type": "execute_result"
    }
   ],
   "source": [
    "dft1.shift(5, freq=pd.offsets.BDay())   #"
   ]
  },
  {
   "cell_type": "code",
   "execution_count": 49,
   "metadata": {},
   "outputs": [
    {
     "data": {
      "text/html": [
       "<div>\n",
       "<style scoped>\n",
       "    .dataframe tbody tr th:only-of-type {\n",
       "        vertical-align: middle;\n",
       "    }\n",
       "\n",
       "    .dataframe tbody tr th {\n",
       "        vertical-align: top;\n",
       "    }\n",
       "\n",
       "    .dataframe thead th {\n",
       "        text-align: right;\n",
       "    }\n",
       "</style>\n",
       "<table border=\"1\" class=\"dataframe\">\n",
       "  <thead>\n",
       "    <tr style=\"text-align: right;\">\n",
       "      <th></th>\n",
       "      <th>A</th>\n",
       "    </tr>\n",
       "  </thead>\n",
       "  <tbody>\n",
       "    <tr>\n",
       "      <th>2018-11-30</th>\n",
       "      <td>1.045989</td>\n",
       "    </tr>\n",
       "    <tr>\n",
       "      <th>2018-11-30</th>\n",
       "      <td>0.487476</td>\n",
       "    </tr>\n",
       "    <tr>\n",
       "      <th>2018-11-30</th>\n",
       "      <td>0.035368</td>\n",
       "    </tr>\n",
       "    <tr>\n",
       "      <th>2018-11-30</th>\n",
       "      <td>1.397846</td>\n",
       "    </tr>\n",
       "    <tr>\n",
       "      <th>2018-11-30</th>\n",
       "      <td>1.060655</td>\n",
       "    </tr>\n",
       "  </tbody>\n",
       "</table>\n",
       "</div>"
      ],
      "text/plain": [
       "                   A\n",
       "2018-11-30  1.045989\n",
       "2018-11-30  0.487476\n",
       "2018-11-30  0.035368\n",
       "2018-11-30  1.397846\n",
       "2018-11-30  1.060655"
      ]
     },
     "execution_count": 49,
     "metadata": {},
     "output_type": "execute_result"
    }
   ],
   "source": [
    "dft1.shift(5, freq='BM')   # 按所需周期移动索引"
   ]
  },
  {
   "cell_type": "code",
   "execution_count": 50,
   "metadata": {},
   "outputs": [
    {
     "data": {
      "text/html": [
       "<div>\n",
       "<style scoped>\n",
       "    .dataframe tbody tr th:only-of-type {\n",
       "        vertical-align: middle;\n",
       "    }\n",
       "\n",
       "    .dataframe tbody tr th {\n",
       "        vertical-align: top;\n",
       "    }\n",
       "\n",
       "    .dataframe thead th {\n",
       "        text-align: right;\n",
       "    }\n",
       "</style>\n",
       "<table border=\"1\" class=\"dataframe\">\n",
       "  <thead>\n",
       "    <tr style=\"text-align: right;\">\n",
       "      <th></th>\n",
       "      <th>A</th>\n",
       "    </tr>\n",
       "  </thead>\n",
       "  <tbody>\n",
       "    <tr>\n",
       "      <th>2018-07-06</th>\n",
       "      <td>1.045989</td>\n",
       "    </tr>\n",
       "    <tr>\n",
       "      <th>2018-07-07</th>\n",
       "      <td>0.487476</td>\n",
       "    </tr>\n",
       "    <tr>\n",
       "      <th>2018-07-08</th>\n",
       "      <td>0.035368</td>\n",
       "    </tr>\n",
       "    <tr>\n",
       "      <th>2018-07-09</th>\n",
       "      <td>1.397846</td>\n",
       "    </tr>\n",
       "    <tr>\n",
       "      <th>2018-07-10</th>\n",
       "      <td>1.060655</td>\n",
       "    </tr>\n",
       "  </tbody>\n",
       "</table>\n",
       "</div>"
      ],
      "text/plain": [
       "                   A\n",
       "2018-07-06  1.045989\n",
       "2018-07-07  0.487476\n",
       "2018-07-08  0.035368\n",
       "2018-07-09  1.397846\n",
       "2018-07-10  1.060655"
      ]
     },
     "execution_count": 50,
     "metadata": {},
     "output_type": "execute_result"
    }
   ],
   "source": [
    "dft1.tshift(5, freq='D')   # 移动时间索引"
   ]
  },
  {
   "cell_type": "markdown",
   "metadata": {},
   "source": [
    "### 4.2 `Frequency Conversion`"
   ]
  },
  {
   "cell_type": "code",
   "execution_count": 51,
   "metadata": {},
   "outputs": [
    {
     "data": {
      "text/plain": [
       "DatetimeIndex(['2018-07-02', '2018-07-05', '2018-07-10'], dtype='datetime64[ns]', freq='3B')"
      ]
     },
     "execution_count": 51,
     "metadata": {},
     "output_type": "execute_result"
    }
   ],
   "source": [
    "dr = pd.date_range('7/1/2018', periods=3, freq=3 * pd.offsets.BDay())\n",
    "dr"
   ]
  },
  {
   "cell_type": "code",
   "execution_count": 52,
   "metadata": {},
   "outputs": [
    {
     "data": {
      "text/plain": [
       "2018-07-02   -0.551723\n",
       "2018-07-05    0.394037\n",
       "2018-07-10   -1.123109\n",
       "Freq: 3B, dtype: float64"
      ]
     },
     "execution_count": 52,
     "metadata": {},
     "output_type": "execute_result"
    }
   ],
   "source": [
    "ts = pd.Series(np.random.randn(3), index=dr)\n",
    "ts"
   ]
  },
  {
   "cell_type": "code",
   "execution_count": 53,
   "metadata": {},
   "outputs": [
    {
     "data": {
      "text/plain": [
       "2018-07-02   -0.551723\n",
       "2018-07-03         NaN\n",
       "2018-07-04         NaN\n",
       "2018-07-05    0.394037\n",
       "2018-07-06         NaN\n",
       "2018-07-09         NaN\n",
       "2018-07-10   -1.123109\n",
       "Freq: B, dtype: float64"
      ]
     },
     "execution_count": 53,
     "metadata": {},
     "output_type": "execute_result"
    }
   ],
   "source": [
    "ts.asfreq(BDay())    # 将时间序列转换为指定的频率"
   ]
  },
  {
   "cell_type": "code",
   "execution_count": 54,
   "metadata": {},
   "outputs": [
    {
     "data": {
      "text/plain": [
       "2018-07-02   -0.551723\n",
       "2018-07-03    0.394037\n",
       "2018-07-04    0.394037\n",
       "2018-07-05    0.394037\n",
       "2018-07-06   -1.123109\n",
       "2018-07-09   -1.123109\n",
       "2018-07-10   -1.123109\n",
       "Freq: B, dtype: float64"
      ]
     },
     "execution_count": 54,
     "metadata": {},
     "output_type": "execute_result"
    }
   ],
   "source": [
    "ts.asfreq(BDay(), method='bfill')   # 指定插值方法\n",
    "# method: 'pad' / 'ffill' / 'backfill' / 'bfill'"
   ]
  },
  {
   "cell_type": "markdown",
   "metadata": {},
   "source": [
    "### 4.3 `DatetimeIndex` 转换为 `python datetime`数组\n",
    "\n",
    "    - `to_pydatetime`"
   ]
  },
  {
   "cell_type": "markdown",
   "metadata": {},
   "source": [
    "## 5 `resample`\n",
    "\n",
    "- 基于时间的组，重采样；\n",
    "- 重采样后执行聚合操作：\n",
    "    - `sum`, `mean`, `std`\n",
    "    - `max`, `min`, `median`, `first`, `last`\n",
    "    - `sem`, `oh1c`"
   ]
  },
  {
   "cell_type": "code",
   "execution_count": 55,
   "metadata": {},
   "outputs": [
    {
     "data": {
      "text/plain": [
       "2018-07-01    25919\n",
       "Freq: 5T, dtype: int32"
      ]
     },
     "metadata": {},
     "output_type": "display_data"
    },
    {
     "data": {
      "text/plain": [
       "2018-07-01    259.19\n",
       "Freq: 5T, dtype: float64"
      ]
     },
     "metadata": {},
     "output_type": "display_data"
    },
    {
     "data": {
      "text/html": [
       "<div>\n",
       "<style scoped>\n",
       "    .dataframe tbody tr th:only-of-type {\n",
       "        vertical-align: middle;\n",
       "    }\n",
       "\n",
       "    .dataframe tbody tr th {\n",
       "        vertical-align: top;\n",
       "    }\n",
       "\n",
       "    .dataframe thead th {\n",
       "        text-align: right;\n",
       "    }\n",
       "</style>\n",
       "<table border=\"1\" class=\"dataframe\">\n",
       "  <thead>\n",
       "    <tr style=\"text-align: right;\">\n",
       "      <th></th>\n",
       "      <th>open</th>\n",
       "      <th>high</th>\n",
       "      <th>low</th>\n",
       "      <th>close</th>\n",
       "    </tr>\n",
       "  </thead>\n",
       "  <tbody>\n",
       "    <tr>\n",
       "      <th>2018-07-01</th>\n",
       "      <td>458</td>\n",
       "      <td>494</td>\n",
       "      <td>7</td>\n",
       "      <td>106</td>\n",
       "    </tr>\n",
       "  </tbody>\n",
       "</table>\n",
       "</div>"
      ],
      "text/plain": [
       "            open  high  low  close\n",
       "2018-07-01   458   494    7    106"
      ]
     },
     "metadata": {},
     "output_type": "display_data"
    },
    {
     "data": {
      "text/plain": [
       "2018-07-01    494\n",
       "Freq: 5T, dtype: int32"
      ]
     },
     "metadata": {},
     "output_type": "display_data"
    },
    {
     "data": {
      "text/plain": [
       "2018-06-30 23:55:00    458.000000\n",
       "2018-07-01 00:00:00    257.181818\n",
       "Freq: 5T, dtype: float64"
      ]
     },
     "metadata": {},
     "output_type": "display_data"
    },
    {
     "data": {
      "text/plain": [
       "2018-07-01    259.19\n",
       "Freq: 5T, dtype: float64"
      ]
     },
     "metadata": {},
     "output_type": "display_data"
    }
   ],
   "source": [
    "rng = pd.date_range('7/1/2018', periods=100, freq='S')\n",
    "ts = pd.Series(np.random.randint(0, 500, len(rng)), index=rng)\n",
    "\n",
    "display(\n",
    "    ts.resample('5Min').sum(),\n",
    "    ts.resample('5Min').mean(),\n",
    "    ts.resample('5Min').ohlc(),\n",
    "    ts.resample('5Min').max(),\n",
    "    ts.resample('5Min', closed='right').mean(),  # 右偏移默认为负偏移\n",
    "    ts.resample('5Min', closed='left').mean(),   # \n",
    ")"
   ]
  },
  {
   "cell_type": "code",
   "execution_count": 56,
   "metadata": {},
   "outputs": [
    {
     "data": {
      "text/plain": [
       "2018-01-01    0\n",
       "2018-01-02    1\n",
       "2018-01-03    2\n",
       "2018-01-04    3\n",
       "2018-01-05    4\n",
       "Freq: D, dtype: int64"
      ]
     },
     "execution_count": 56,
     "metadata": {},
     "output_type": "execute_result"
    }
   ],
   "source": [
    "rng2 = pd.date_range('1/1/2018', end='7/31/2018', freq='D')\n",
    "ts2 = pd.Series(range(len(rng2)), index=rng2)\n",
    "ts2.head()"
   ]
  },
  {
   "cell_type": "code",
   "execution_count": 57,
   "metadata": {},
   "outputs": [
    {
     "data": {
      "text/plain": [
       "2018-01-31     30\n",
       "2018-02-28     58\n",
       "2018-03-31     89\n",
       "2018-04-30    119\n",
       "2018-05-31    150\n",
       "2018-06-30    180\n",
       "2018-07-31    211\n",
       "Freq: M, dtype: int64"
      ]
     },
     "execution_count": 57,
     "metadata": {},
     "output_type": "execute_result"
    }
   ],
   "source": [
    "ts2.resample('M').max()"
   ]
  },
  {
   "cell_type": "code",
   "execution_count": 58,
   "metadata": {},
   "outputs": [
    {
     "data": {
      "text/plain": [
       "2017-12-31     13\n",
       "2018-01-15     29\n",
       "2018-01-31     44\n",
       "2018-02-15     57\n",
       "2018-02-28     72\n",
       "2018-03-15     88\n",
       "2018-03-31    103\n",
       "2018-04-15    118\n",
       "2018-04-30    133\n",
       "2018-05-15    149\n",
       "2018-05-31    164\n",
       "2018-06-15    179\n",
       "2018-06-30    194\n",
       "2018-07-15    210\n",
       "2018-07-31    211\n",
       "Freq: SM-15, dtype: int64"
      ]
     },
     "execution_count": 58,
     "metadata": {},
     "output_type": "execute_result"
    }
   ],
   "source": [
    "ts2.resample('SM').max()    # ？？？"
   ]
  },
  {
   "cell_type": "code",
   "execution_count": 59,
   "metadata": {},
   "outputs": [
    {
     "data": {
      "text/plain": [
       "2018-01-15     14.0\n",
       "2018-01-31     30.0\n",
       "2018-02-15     45.0\n",
       "2018-02-28     58.0\n",
       "2018-03-15     73.0\n",
       "2018-03-31     89.0\n",
       "2018-04-15    104.0\n",
       "2018-04-30    119.0\n",
       "2018-05-15    134.0\n",
       "2018-05-31    150.0\n",
       "2018-06-15    165.0\n",
       "2018-06-30    180.0\n",
       "2018-07-15    195.0\n",
       "2018-07-31    211.0\n",
       "2018-08-15      NaN\n",
       "Freq: SM-15, dtype: float64"
      ]
     },
     "execution_count": 59,
     "metadata": {},
     "output_type": "execute_result"
    }
   ],
   "source": [
    "ts2.resample('SM', label='right', closed='right').max()  # ？？？"
   ]
  },
  {
   "cell_type": "markdown",
   "metadata": {},
   "source": [
    "### 5.1 `upresample`"
   ]
  },
  {
   "cell_type": "code",
   "execution_count": 60,
   "metadata": {},
   "outputs": [
    {
     "data": {
      "text/plain": [
       "2018-01-01 00:00:00    0.0\n",
       "2018-01-01 00:50:00    NaN\n",
       "2018-01-01 01:40:00    NaN\n",
       "2018-01-01 02:30:00    NaN\n",
       "2018-01-01 03:20:00    NaN\n",
       "2018-01-01 04:10:00    NaN\n",
       "2018-01-01 05:00:00    NaN\n",
       "2018-01-01 05:50:00    NaN\n",
       "2018-01-01 06:40:00    NaN\n",
       "2018-01-01 07:30:00    NaN\n",
       "2018-01-01 08:20:00    NaN\n",
       "2018-01-01 09:10:00    NaN\n",
       "2018-01-01 10:00:00    NaN\n",
       "2018-01-01 10:50:00    NaN\n",
       "2018-01-01 11:40:00    NaN\n",
       "2018-01-01 12:30:00    NaN\n",
       "2018-01-01 13:20:00    NaN\n",
       "2018-01-01 14:10:00    NaN\n",
       "2018-01-01 15:00:00    NaN\n",
       "2018-01-01 15:50:00    NaN\n",
       "2018-01-01 16:40:00    NaN\n",
       "2018-01-01 17:30:00    NaN\n",
       "2018-01-01 18:20:00    NaN\n",
       "2018-01-01 19:10:00    NaN\n",
       "2018-01-01 20:00:00    NaN\n",
       "2018-01-01 20:50:00    NaN\n",
       "2018-01-01 21:40:00    NaN\n",
       "2018-01-01 22:30:00    NaN\n",
       "2018-01-01 23:20:00    NaN\n",
       "Freq: 50T, dtype: float64"
      ]
     },
     "execution_count": 60,
     "metadata": {},
     "output_type": "execute_result"
    }
   ],
   "source": [
    "ts2[:2].resample('50T').asfreq()"
   ]
  },
  {
   "cell_type": "code",
   "execution_count": 61,
   "metadata": {},
   "outputs": [
    {
     "data": {
      "text/plain": [
       "2018-01-01 00:00:00    0\n",
       "2018-01-01 00:50:00    0\n",
       "2018-01-01 01:40:00    0\n",
       "2018-01-01 02:30:00    0\n",
       "2018-01-01 03:20:00    0\n",
       "2018-01-01 04:10:00    0\n",
       "2018-01-01 05:00:00    0\n",
       "2018-01-01 05:50:00    0\n",
       "2018-01-01 06:40:00    0\n",
       "2018-01-01 07:30:00    0\n",
       "2018-01-01 08:20:00    0\n",
       "2018-01-01 09:10:00    0\n",
       "2018-01-01 10:00:00    0\n",
       "2018-01-01 10:50:00    0\n",
       "2018-01-01 11:40:00    0\n",
       "2018-01-01 12:30:00    0\n",
       "2018-01-01 13:20:00    0\n",
       "2018-01-01 14:10:00    0\n",
       "2018-01-01 15:00:00    0\n",
       "2018-01-01 15:50:00    0\n",
       "2018-01-01 16:40:00    0\n",
       "2018-01-01 17:30:00    0\n",
       "2018-01-01 18:20:00    0\n",
       "2018-01-01 19:10:00    0\n",
       "2018-01-01 20:00:00    0\n",
       "2018-01-01 20:50:00    0\n",
       "2018-01-01 21:40:00    0\n",
       "2018-01-01 22:30:00    0\n",
       "2018-01-01 23:20:00    0\n",
       "Freq: 50T, dtype: int64"
      ]
     },
     "execution_count": 61,
     "metadata": {},
     "output_type": "execute_result"
    }
   ],
   "source": [
    "ts2[:2].resample('50T').ffill()"
   ]
  },
  {
   "cell_type": "code",
   "execution_count": 62,
   "metadata": {},
   "outputs": [
    {
     "data": {
      "text/plain": [
       "2018-01-01 00:00:00    0.0\n",
       "2018-01-01 00:50:00    0.0\n",
       "2018-01-01 01:40:00    0.0\n",
       "2018-01-01 02:30:00    NaN\n",
       "2018-01-01 03:20:00    NaN\n",
       "2018-01-01 04:10:00    NaN\n",
       "2018-01-01 05:00:00    NaN\n",
       "2018-01-01 05:50:00    NaN\n",
       "2018-01-01 06:40:00    NaN\n",
       "2018-01-01 07:30:00    NaN\n",
       "2018-01-01 08:20:00    NaN\n",
       "2018-01-01 09:10:00    NaN\n",
       "2018-01-01 10:00:00    NaN\n",
       "2018-01-01 10:50:00    NaN\n",
       "2018-01-01 11:40:00    NaN\n",
       "2018-01-01 12:30:00    NaN\n",
       "2018-01-01 13:20:00    NaN\n",
       "2018-01-01 14:10:00    NaN\n",
       "2018-01-01 15:00:00    NaN\n",
       "2018-01-01 15:50:00    NaN\n",
       "2018-01-01 16:40:00    NaN\n",
       "2018-01-01 17:30:00    NaN\n",
       "2018-01-01 18:20:00    NaN\n",
       "2018-01-01 19:10:00    NaN\n",
       "2018-01-01 20:00:00    NaN\n",
       "2018-01-01 20:50:00    NaN\n",
       "2018-01-01 21:40:00    NaN\n",
       "2018-01-01 22:30:00    NaN\n",
       "2018-01-01 23:20:00    NaN\n",
       "Freq: 50T, dtype: float64"
      ]
     },
     "execution_count": 62,
     "metadata": {},
     "output_type": "execute_result"
    }
   ],
   "source": [
    "ts2[:2].resample('50T').ffill(limit=2)"
   ]
  },
  {
   "cell_type": "markdown",
   "metadata": {},
   "source": [
    "### 5.2 稀疏重采样"
   ]
  },
  {
   "cell_type": "code",
   "execution_count": 63,
   "metadata": {},
   "outputs": [
    {
     "data": {
      "text/plain": [
       "2018-05-01 00:00:01     0\n",
       "2018-05-02 00:00:01     1\n",
       "2018-05-03 00:00:01     2\n",
       "2018-05-04 00:00:01     3\n",
       "2018-05-05 00:00:01     4\n",
       "2018-05-06 00:00:01     5\n",
       "2018-05-07 00:00:01     6\n",
       "2018-05-08 00:00:01     7\n",
       "2018-05-09 00:00:01     8\n",
       "2018-05-10 00:00:01     9\n",
       "2018-05-11 00:00:01    10\n",
       "2018-05-12 00:00:01    11\n",
       "2018-05-13 00:00:01    12\n",
       "2018-05-14 00:00:01    13\n",
       "2018-05-15 00:00:01    14\n",
       "2018-05-16 00:00:01    15\n",
       "2018-05-17 00:00:01    16\n",
       "2018-05-18 00:00:01    17\n",
       "2018-05-19 00:00:01    18\n",
       "2018-05-20 00:00:01    19\n",
       "2018-05-21 00:00:01    20\n",
       "2018-05-22 00:00:01    21\n",
       "2018-05-23 00:00:01    22\n",
       "2018-05-24 00:00:01    23\n",
       "2018-05-25 00:00:01    24\n",
       "2018-05-26 00:00:01    25\n",
       "2018-05-27 00:00:01    26\n",
       "2018-05-28 00:00:01    27\n",
       "2018-05-29 00:00:01    28\n",
       "2018-05-30 00:00:01    29\n",
       "2018-05-31 00:00:01    30\n",
       "2018-06-01 00:00:01    31\n",
       "2018-06-02 00:00:01    32\n",
       "2018-06-03 00:00:01    33\n",
       "2018-06-04 00:00:01    34\n",
       "2018-06-05 00:00:01    35\n",
       "2018-06-06 00:00:01    36\n",
       "2018-06-07 00:00:01    37\n",
       "2018-06-08 00:00:01    38\n",
       "2018-06-09 00:00:01    39\n",
       "2018-06-10 00:00:01    40\n",
       "2018-06-11 00:00:01    41\n",
       "2018-06-12 00:00:01    42\n",
       "2018-06-13 00:00:01    43\n",
       "2018-06-14 00:00:01    44\n",
       "2018-06-15 00:00:01    45\n",
       "2018-06-16 00:00:01    46\n",
       "2018-06-17 00:00:01    47\n",
       "2018-06-18 00:00:01    48\n",
       "2018-06-19 00:00:01    49\n",
       "Freq: D, dtype: int64"
      ]
     },
     "execution_count": 63,
     "metadata": {},
     "output_type": "execute_result"
    }
   ],
   "source": [
    "rng = pd.date_range('2018-5-1', periods=50, freq='D') + pd.Timedelta('1s')\n",
    "ts = pd.Series(range(50), index=rng)\n",
    "ts"
   ]
  },
  {
   "cell_type": "code",
   "execution_count": 64,
   "metadata": {},
   "outputs": [
    {
     "data": {
      "text/plain": [
       "2018-05-01 00:00:00     10\n",
       "2018-05-05 04:00:00     26\n",
       "2018-05-09 08:00:00     42\n",
       "2018-05-13 12:00:00     58\n",
       "2018-05-17 16:00:00     74\n",
       "2018-05-21 20:00:00     90\n",
       "2018-05-26 00:00:00    135\n",
       "2018-05-30 04:00:00    126\n",
       "2018-06-03 08:00:00    142\n",
       "2018-06-07 12:00:00    158\n",
       "2018-06-11 16:00:00    174\n",
       "2018-06-15 20:00:00    190\n",
       "Freq: 100H, dtype: int64"
      ]
     },
     "execution_count": 64,
     "metadata": {},
     "output_type": "execute_result"
    }
   ],
   "source": [
    "ts.resample('100H').sum()"
   ]
  },
  {
   "cell_type": "code",
   "execution_count": 65,
   "metadata": {},
   "outputs": [
    {
     "data": {
      "text/plain": [
       "(1525132800000000000, 36000000000000, Timestamp('2018-04-30 16:00:00'))"
      ]
     },
     "execution_count": 65,
     "metadata": {},
     "output_type": "execute_result"
    }
   ],
   "source": [
    "from functools import partial\n",
    "from pandas.tseries.frequencies import to_offset\n",
    "\n",
    "def round(t, freq):\n",
    "    freq = to_offset(freq)\n",
    "    return pd.Timestamp((t.value // freq.delta.value) * freq.delta.value)\n",
    "\n",
    "# ts.groupby(partial(round, freq='100H')).sum()\n",
    "\n",
    "t = pd.Timestamp('2018-05-01 00:00:00')\n",
    "freq = to_offset('10H')\n",
    "\n",
    "t.value, freq.delta.value, pd.Timestamp((t.value // freq.delta.value) * freq.delta.value)"
   ]
  },
  {
   "cell_type": "markdown",
   "metadata": {},
   "source": [
    "### 5.4 `aggregation` 聚集"
   ]
  },
  {
   "cell_type": "code",
   "execution_count": 66,
   "metadata": {},
   "outputs": [
    {
     "data": {
      "text/html": [
       "<div>\n",
       "<style scoped>\n",
       "    .dataframe tbody tr th:only-of-type {\n",
       "        vertical-align: middle;\n",
       "    }\n",
       "\n",
       "    .dataframe tbody tr th {\n",
       "        vertical-align: top;\n",
       "    }\n",
       "\n",
       "    .dataframe thead th {\n",
       "        text-align: right;\n",
       "    }\n",
       "</style>\n",
       "<table border=\"1\" class=\"dataframe\">\n",
       "  <thead>\n",
       "    <tr style=\"text-align: right;\">\n",
       "      <th></th>\n",
       "      <th>A</th>\n",
       "      <th>B</th>\n",
       "      <th>C</th>\n",
       "    </tr>\n",
       "  </thead>\n",
       "  <tbody>\n",
       "    <tr>\n",
       "      <th>2018-01-01 00:00:00</th>\n",
       "      <td>-0.641483</td>\n",
       "      <td>0.376164</td>\n",
       "      <td>0.054979</td>\n",
       "    </tr>\n",
       "    <tr>\n",
       "      <th>2018-01-01 01:00:00</th>\n",
       "      <td>-1.889191</td>\n",
       "      <td>-0.525938</td>\n",
       "      <td>0.998815</td>\n",
       "    </tr>\n",
       "    <tr>\n",
       "      <th>2018-01-01 02:00:00</th>\n",
       "      <td>-2.120370</td>\n",
       "      <td>-0.425816</td>\n",
       "      <td>-0.887046</td>\n",
       "    </tr>\n",
       "    <tr>\n",
       "      <th>2018-01-01 03:00:00</th>\n",
       "      <td>0.010533</td>\n",
       "      <td>-0.533166</td>\n",
       "      <td>0.369447</td>\n",
       "    </tr>\n",
       "    <tr>\n",
       "      <th>2018-01-01 04:00:00</th>\n",
       "      <td>1.059210</td>\n",
       "      <td>-1.551530</td>\n",
       "      <td>0.415163</td>\n",
       "    </tr>\n",
       "  </tbody>\n",
       "</table>\n",
       "</div>"
      ],
      "text/plain": [
       "                            A         B         C\n",
       "2018-01-01 00:00:00 -0.641483  0.376164  0.054979\n",
       "2018-01-01 01:00:00 -1.889191 -0.525938  0.998815\n",
       "2018-01-01 02:00:00 -2.120370 -0.425816 -0.887046\n",
       "2018-01-01 03:00:00  0.010533 -0.533166  0.369447\n",
       "2018-01-01 04:00:00  1.059210 -1.551530  0.415163"
      ]
     },
     "execution_count": 66,
     "metadata": {},
     "output_type": "execute_result"
    }
   ],
   "source": [
    "df = pd.DataFrame(np.random.randn(1000, 3),\n",
    "                  index=pd.date_range('1/1/2018', freq='H', periods=1000),\n",
    "                  columns=['A', 'B', 'C'])\n",
    "df.head()"
   ]
  },
  {
   "cell_type": "code",
   "execution_count": 67,
   "metadata": {},
   "outputs": [
    {
     "data": {
      "text/html": [
       "<div>\n",
       "<style scoped>\n",
       "    .dataframe tbody tr th:only-of-type {\n",
       "        vertical-align: middle;\n",
       "    }\n",
       "\n",
       "    .dataframe tbody tr th {\n",
       "        vertical-align: top;\n",
       "    }\n",
       "\n",
       "    .dataframe thead th {\n",
       "        text-align: right;\n",
       "    }\n",
       "</style>\n",
       "<table border=\"1\" class=\"dataframe\">\n",
       "  <thead>\n",
       "    <tr style=\"text-align: right;\">\n",
       "      <th></th>\n",
       "      <th>A</th>\n",
       "      <th>B</th>\n",
       "      <th>C</th>\n",
       "    </tr>\n",
       "  </thead>\n",
       "  <tbody>\n",
       "    <tr>\n",
       "      <th>2018-01-01 00:00:00</th>\n",
       "      <td>-0.145521</td>\n",
       "      <td>-0.056345</td>\n",
       "      <td>0.127398</td>\n",
       "    </tr>\n",
       "    <tr>\n",
       "      <th>2018-01-02 06:00:00</th>\n",
       "      <td>-0.199006</td>\n",
       "      <td>0.206720</td>\n",
       "      <td>0.144012</td>\n",
       "    </tr>\n",
       "    <tr>\n",
       "      <th>2018-01-03 12:00:00</th>\n",
       "      <td>-0.087990</td>\n",
       "      <td>-0.039319</td>\n",
       "      <td>-0.132885</td>\n",
       "    </tr>\n",
       "    <tr>\n",
       "      <th>2018-01-04 18:00:00</th>\n",
       "      <td>-0.102854</td>\n",
       "      <td>0.123491</td>\n",
       "      <td>0.077739</td>\n",
       "    </tr>\n",
       "    <tr>\n",
       "      <th>2018-01-06 00:00:00</th>\n",
       "      <td>-0.344653</td>\n",
       "      <td>0.243819</td>\n",
       "      <td>0.085964</td>\n",
       "    </tr>\n",
       "    <tr>\n",
       "      <th>2018-01-07 06:00:00</th>\n",
       "      <td>0.252343</td>\n",
       "      <td>0.201871</td>\n",
       "      <td>-0.150269</td>\n",
       "    </tr>\n",
       "    <tr>\n",
       "      <th>2018-01-08 12:00:00</th>\n",
       "      <td>-0.035449</td>\n",
       "      <td>0.033659</td>\n",
       "      <td>-0.233286</td>\n",
       "    </tr>\n",
       "    <tr>\n",
       "      <th>2018-01-09 18:00:00</th>\n",
       "      <td>0.084194</td>\n",
       "      <td>0.128494</td>\n",
       "      <td>-0.576378</td>\n",
       "    </tr>\n",
       "    <tr>\n",
       "      <th>2018-01-11 00:00:00</th>\n",
       "      <td>-0.102340</td>\n",
       "      <td>-0.122500</td>\n",
       "      <td>-0.095192</td>\n",
       "    </tr>\n",
       "    <tr>\n",
       "      <th>2018-01-12 06:00:00</th>\n",
       "      <td>-0.090403</td>\n",
       "      <td>0.107877</td>\n",
       "      <td>0.275836</td>\n",
       "    </tr>\n",
       "    <tr>\n",
       "      <th>2018-01-13 12:00:00</th>\n",
       "      <td>0.216959</td>\n",
       "      <td>-0.080086</td>\n",
       "      <td>-0.068817</td>\n",
       "    </tr>\n",
       "    <tr>\n",
       "      <th>2018-01-14 18:00:00</th>\n",
       "      <td>0.219870</td>\n",
       "      <td>0.177304</td>\n",
       "      <td>-0.000226</td>\n",
       "    </tr>\n",
       "    <tr>\n",
       "      <th>2018-01-16 00:00:00</th>\n",
       "      <td>-0.509056</td>\n",
       "      <td>0.065591</td>\n",
       "      <td>-0.012009</td>\n",
       "    </tr>\n",
       "    <tr>\n",
       "      <th>2018-01-17 06:00:00</th>\n",
       "      <td>-0.231657</td>\n",
       "      <td>0.064356</td>\n",
       "      <td>0.022037</td>\n",
       "    </tr>\n",
       "    <tr>\n",
       "      <th>2018-01-18 12:00:00</th>\n",
       "      <td>0.041246</td>\n",
       "      <td>-0.037567</td>\n",
       "      <td>-0.062475</td>\n",
       "    </tr>\n",
       "    <tr>\n",
       "      <th>2018-01-19 18:00:00</th>\n",
       "      <td>-0.025503</td>\n",
       "      <td>-0.027553</td>\n",
       "      <td>-0.230935</td>\n",
       "    </tr>\n",
       "    <tr>\n",
       "      <th>2018-01-21 00:00:00</th>\n",
       "      <td>0.045037</td>\n",
       "      <td>0.176573</td>\n",
       "      <td>-0.170590</td>\n",
       "    </tr>\n",
       "    <tr>\n",
       "      <th>2018-01-22 06:00:00</th>\n",
       "      <td>0.177681</td>\n",
       "      <td>-0.117421</td>\n",
       "      <td>-0.165120</td>\n",
       "    </tr>\n",
       "    <tr>\n",
       "      <th>2018-01-23 12:00:00</th>\n",
       "      <td>0.203597</td>\n",
       "      <td>0.005181</td>\n",
       "      <td>-0.228957</td>\n",
       "    </tr>\n",
       "    <tr>\n",
       "      <th>2018-01-24 18:00:00</th>\n",
       "      <td>-0.206251</td>\n",
       "      <td>-0.139967</td>\n",
       "      <td>0.206305</td>\n",
       "    </tr>\n",
       "    <tr>\n",
       "      <th>2018-01-26 00:00:00</th>\n",
       "      <td>-0.306234</td>\n",
       "      <td>0.030540</td>\n",
       "      <td>-0.503166</td>\n",
       "    </tr>\n",
       "    <tr>\n",
       "      <th>2018-01-27 06:00:00</th>\n",
       "      <td>0.200071</td>\n",
       "      <td>0.152047</td>\n",
       "      <td>0.150849</td>\n",
       "    </tr>\n",
       "    <tr>\n",
       "      <th>2018-01-28 12:00:00</th>\n",
       "      <td>0.089901</td>\n",
       "      <td>-0.018957</td>\n",
       "      <td>0.141459</td>\n",
       "    </tr>\n",
       "    <tr>\n",
       "      <th>2018-01-29 18:00:00</th>\n",
       "      <td>0.063395</td>\n",
       "      <td>0.178982</td>\n",
       "      <td>-0.134889</td>\n",
       "    </tr>\n",
       "    <tr>\n",
       "      <th>2018-01-31 00:00:00</th>\n",
       "      <td>0.024920</td>\n",
       "      <td>-0.021800</td>\n",
       "      <td>0.238566</td>\n",
       "    </tr>\n",
       "    <tr>\n",
       "      <th>2018-02-01 06:00:00</th>\n",
       "      <td>-0.043509</td>\n",
       "      <td>-0.126372</td>\n",
       "      <td>0.113203</td>\n",
       "    </tr>\n",
       "    <tr>\n",
       "      <th>2018-02-02 12:00:00</th>\n",
       "      <td>-0.262457</td>\n",
       "      <td>0.137931</td>\n",
       "      <td>0.188039</td>\n",
       "    </tr>\n",
       "    <tr>\n",
       "      <th>2018-02-03 18:00:00</th>\n",
       "      <td>-0.061859</td>\n",
       "      <td>0.141311</td>\n",
       "      <td>0.146180</td>\n",
       "    </tr>\n",
       "    <tr>\n",
       "      <th>2018-02-05 00:00:00</th>\n",
       "      <td>-0.398728</td>\n",
       "      <td>-0.002157</td>\n",
       "      <td>-0.165181</td>\n",
       "    </tr>\n",
       "    <tr>\n",
       "      <th>2018-02-06 06:00:00</th>\n",
       "      <td>0.066443</td>\n",
       "      <td>-0.124675</td>\n",
       "      <td>-0.383838</td>\n",
       "    </tr>\n",
       "    <tr>\n",
       "      <th>2018-02-07 12:00:00</th>\n",
       "      <td>0.027308</td>\n",
       "      <td>0.108034</td>\n",
       "      <td>-0.181151</td>\n",
       "    </tr>\n",
       "    <tr>\n",
       "      <th>2018-02-08 18:00:00</th>\n",
       "      <td>-0.190639</td>\n",
       "      <td>-0.298448</td>\n",
       "      <td>-0.087880</td>\n",
       "    </tr>\n",
       "    <tr>\n",
       "      <th>2018-02-10 00:00:00</th>\n",
       "      <td>-0.003072</td>\n",
       "      <td>-0.166263</td>\n",
       "      <td>0.294229</td>\n",
       "    </tr>\n",
       "    <tr>\n",
       "      <th>2018-02-11 06:00:00</th>\n",
       "      <td>-0.116905</td>\n",
       "      <td>0.441697</td>\n",
       "      <td>-0.605150</td>\n",
       "    </tr>\n",
       "  </tbody>\n",
       "</table>\n",
       "</div>"
      ],
      "text/plain": [
       "                            A         B         C\n",
       "2018-01-01 00:00:00 -0.145521 -0.056345  0.127398\n",
       "2018-01-02 06:00:00 -0.199006  0.206720  0.144012\n",
       "2018-01-03 12:00:00 -0.087990 -0.039319 -0.132885\n",
       "2018-01-04 18:00:00 -0.102854  0.123491  0.077739\n",
       "2018-01-06 00:00:00 -0.344653  0.243819  0.085964\n",
       "2018-01-07 06:00:00  0.252343  0.201871 -0.150269\n",
       "2018-01-08 12:00:00 -0.035449  0.033659 -0.233286\n",
       "2018-01-09 18:00:00  0.084194  0.128494 -0.576378\n",
       "2018-01-11 00:00:00 -0.102340 -0.122500 -0.095192\n",
       "2018-01-12 06:00:00 -0.090403  0.107877  0.275836\n",
       "2018-01-13 12:00:00  0.216959 -0.080086 -0.068817\n",
       "2018-01-14 18:00:00  0.219870  0.177304 -0.000226\n",
       "2018-01-16 00:00:00 -0.509056  0.065591 -0.012009\n",
       "2018-01-17 06:00:00 -0.231657  0.064356  0.022037\n",
       "2018-01-18 12:00:00  0.041246 -0.037567 -0.062475\n",
       "2018-01-19 18:00:00 -0.025503 -0.027553 -0.230935\n",
       "2018-01-21 00:00:00  0.045037  0.176573 -0.170590\n",
       "2018-01-22 06:00:00  0.177681 -0.117421 -0.165120\n",
       "2018-01-23 12:00:00  0.203597  0.005181 -0.228957\n",
       "2018-01-24 18:00:00 -0.206251 -0.139967  0.206305\n",
       "2018-01-26 00:00:00 -0.306234  0.030540 -0.503166\n",
       "2018-01-27 06:00:00  0.200071  0.152047  0.150849\n",
       "2018-01-28 12:00:00  0.089901 -0.018957  0.141459\n",
       "2018-01-29 18:00:00  0.063395  0.178982 -0.134889\n",
       "2018-01-31 00:00:00  0.024920 -0.021800  0.238566\n",
       "2018-02-01 06:00:00 -0.043509 -0.126372  0.113203\n",
       "2018-02-02 12:00:00 -0.262457  0.137931  0.188039\n",
       "2018-02-03 18:00:00 -0.061859  0.141311  0.146180\n",
       "2018-02-05 00:00:00 -0.398728 -0.002157 -0.165181\n",
       "2018-02-06 06:00:00  0.066443 -0.124675 -0.383838\n",
       "2018-02-07 12:00:00  0.027308  0.108034 -0.181151\n",
       "2018-02-08 18:00:00 -0.190639 -0.298448 -0.087880\n",
       "2018-02-10 00:00:00 -0.003072 -0.166263  0.294229\n",
       "2018-02-11 06:00:00 -0.116905  0.441697 -0.605150"
      ]
     },
     "execution_count": 67,
     "metadata": {},
     "output_type": "execute_result"
    }
   ],
   "source": [
    "r = df.resample('30H')\n",
    "r.mean()"
   ]
  },
  {
   "cell_type": "code",
   "execution_count": 68,
   "metadata": {},
   "outputs": [
    {
     "data": {
      "text/plain": [
       "2018-01-01 00:00:00   -0.145521\n",
       "2018-01-02 06:00:00   -0.199006\n",
       "2018-01-03 12:00:00   -0.087990\n",
       "2018-01-04 18:00:00   -0.102854\n",
       "2018-01-06 00:00:00   -0.344653\n",
       "2018-01-07 06:00:00    0.252343\n",
       "2018-01-08 12:00:00   -0.035449\n",
       "2018-01-09 18:00:00    0.084194\n",
       "2018-01-11 00:00:00   -0.102340\n",
       "2018-01-12 06:00:00   -0.090403\n",
       "2018-01-13 12:00:00    0.216959\n",
       "2018-01-14 18:00:00    0.219870\n",
       "2018-01-16 00:00:00   -0.509056\n",
       "2018-01-17 06:00:00   -0.231657\n",
       "2018-01-18 12:00:00    0.041246\n",
       "2018-01-19 18:00:00   -0.025503\n",
       "2018-01-21 00:00:00    0.045037\n",
       "2018-01-22 06:00:00    0.177681\n",
       "2018-01-23 12:00:00    0.203597\n",
       "2018-01-24 18:00:00   -0.206251\n",
       "2018-01-26 00:00:00   -0.306234\n",
       "2018-01-27 06:00:00    0.200071\n",
       "2018-01-28 12:00:00    0.089901\n",
       "2018-01-29 18:00:00    0.063395\n",
       "2018-01-31 00:00:00    0.024920\n",
       "2018-02-01 06:00:00   -0.043509\n",
       "2018-02-02 12:00:00   -0.262457\n",
       "2018-02-03 18:00:00   -0.061859\n",
       "2018-02-05 00:00:00   -0.398728\n",
       "2018-02-06 06:00:00    0.066443\n",
       "2018-02-07 12:00:00    0.027308\n",
       "2018-02-08 18:00:00   -0.190639\n",
       "2018-02-10 00:00:00   -0.003072\n",
       "2018-02-11 06:00:00   -0.116905\n",
       "Freq: 30H, Name: A, dtype: float64"
      ]
     },
     "execution_count": 68,
     "metadata": {},
     "output_type": "execute_result"
    }
   ],
   "source": [
    "r['A'].mean()"
   ]
  },
  {
   "cell_type": "code",
   "execution_count": 69,
   "metadata": {},
   "outputs": [
    {
     "data": {
      "text/html": [
       "<div>\n",
       "<style scoped>\n",
       "    .dataframe tbody tr th:only-of-type {\n",
       "        vertical-align: middle;\n",
       "    }\n",
       "\n",
       "    .dataframe tbody tr th {\n",
       "        vertical-align: top;\n",
       "    }\n",
       "\n",
       "    .dataframe thead th {\n",
       "        text-align: right;\n",
       "    }\n",
       "</style>\n",
       "<table border=\"1\" class=\"dataframe\">\n",
       "  <thead>\n",
       "    <tr style=\"text-align: right;\">\n",
       "      <th></th>\n",
       "      <th>sum</th>\n",
       "      <th>mean</th>\n",
       "      <th>std</th>\n",
       "    </tr>\n",
       "  </thead>\n",
       "  <tbody>\n",
       "    <tr>\n",
       "      <th>2018-01-01 00:00:00</th>\n",
       "      <td>-4.365619</td>\n",
       "      <td>-0.145521</td>\n",
       "      <td>1.233464</td>\n",
       "    </tr>\n",
       "    <tr>\n",
       "      <th>2018-01-02 06:00:00</th>\n",
       "      <td>-5.970191</td>\n",
       "      <td>-0.199006</td>\n",
       "      <td>0.916564</td>\n",
       "    </tr>\n",
       "    <tr>\n",
       "      <th>2018-01-03 12:00:00</th>\n",
       "      <td>-2.639714</td>\n",
       "      <td>-0.087990</td>\n",
       "      <td>0.997241</td>\n",
       "    </tr>\n",
       "    <tr>\n",
       "      <th>2018-01-04 18:00:00</th>\n",
       "      <td>-3.085624</td>\n",
       "      <td>-0.102854</td>\n",
       "      <td>0.780231</td>\n",
       "    </tr>\n",
       "    <tr>\n",
       "      <th>2018-01-06 00:00:00</th>\n",
       "      <td>-10.339576</td>\n",
       "      <td>-0.344653</td>\n",
       "      <td>1.081032</td>\n",
       "    </tr>\n",
       "    <tr>\n",
       "      <th>2018-01-07 06:00:00</th>\n",
       "      <td>7.570282</td>\n",
       "      <td>0.252343</td>\n",
       "      <td>0.839099</td>\n",
       "    </tr>\n",
       "    <tr>\n",
       "      <th>2018-01-08 12:00:00</th>\n",
       "      <td>-1.063462</td>\n",
       "      <td>-0.035449</td>\n",
       "      <td>0.974744</td>\n",
       "    </tr>\n",
       "    <tr>\n",
       "      <th>2018-01-09 18:00:00</th>\n",
       "      <td>2.525827</td>\n",
       "      <td>0.084194</td>\n",
       "      <td>0.896909</td>\n",
       "    </tr>\n",
       "    <tr>\n",
       "      <th>2018-01-11 00:00:00</th>\n",
       "      <td>-3.070194</td>\n",
       "      <td>-0.102340</td>\n",
       "      <td>1.130699</td>\n",
       "    </tr>\n",
       "    <tr>\n",
       "      <th>2018-01-12 06:00:00</th>\n",
       "      <td>-2.712082</td>\n",
       "      <td>-0.090403</td>\n",
       "      <td>1.167818</td>\n",
       "    </tr>\n",
       "    <tr>\n",
       "      <th>2018-01-13 12:00:00</th>\n",
       "      <td>6.508770</td>\n",
       "      <td>0.216959</td>\n",
       "      <td>0.979393</td>\n",
       "    </tr>\n",
       "    <tr>\n",
       "      <th>2018-01-14 18:00:00</th>\n",
       "      <td>6.596095</td>\n",
       "      <td>0.219870</td>\n",
       "      <td>0.863473</td>\n",
       "    </tr>\n",
       "    <tr>\n",
       "      <th>2018-01-16 00:00:00</th>\n",
       "      <td>-15.271673</td>\n",
       "      <td>-0.509056</td>\n",
       "      <td>1.044935</td>\n",
       "    </tr>\n",
       "    <tr>\n",
       "      <th>2018-01-17 06:00:00</th>\n",
       "      <td>-6.949725</td>\n",
       "      <td>-0.231657</td>\n",
       "      <td>0.810572</td>\n",
       "    </tr>\n",
       "    <tr>\n",
       "      <th>2018-01-18 12:00:00</th>\n",
       "      <td>1.237373</td>\n",
       "      <td>0.041246</td>\n",
       "      <td>0.727930</td>\n",
       "    </tr>\n",
       "    <tr>\n",
       "      <th>2018-01-19 18:00:00</th>\n",
       "      <td>-0.765080</td>\n",
       "      <td>-0.025503</td>\n",
       "      <td>0.743111</td>\n",
       "    </tr>\n",
       "    <tr>\n",
       "      <th>2018-01-21 00:00:00</th>\n",
       "      <td>1.351111</td>\n",
       "      <td>0.045037</td>\n",
       "      <td>1.084776</td>\n",
       "    </tr>\n",
       "    <tr>\n",
       "      <th>2018-01-22 06:00:00</th>\n",
       "      <td>5.330419</td>\n",
       "      <td>0.177681</td>\n",
       "      <td>1.092548</td>\n",
       "    </tr>\n",
       "    <tr>\n",
       "      <th>2018-01-23 12:00:00</th>\n",
       "      <td>6.107921</td>\n",
       "      <td>0.203597</td>\n",
       "      <td>1.130608</td>\n",
       "    </tr>\n",
       "    <tr>\n",
       "      <th>2018-01-24 18:00:00</th>\n",
       "      <td>-6.187525</td>\n",
       "      <td>-0.206251</td>\n",
       "      <td>1.082112</td>\n",
       "    </tr>\n",
       "    <tr>\n",
       "      <th>2018-01-26 00:00:00</th>\n",
       "      <td>-9.187017</td>\n",
       "      <td>-0.306234</td>\n",
       "      <td>0.910556</td>\n",
       "    </tr>\n",
       "    <tr>\n",
       "      <th>2018-01-27 06:00:00</th>\n",
       "      <td>6.002130</td>\n",
       "      <td>0.200071</td>\n",
       "      <td>0.999349</td>\n",
       "    </tr>\n",
       "    <tr>\n",
       "      <th>2018-01-28 12:00:00</th>\n",
       "      <td>2.697026</td>\n",
       "      <td>0.089901</td>\n",
       "      <td>1.203009</td>\n",
       "    </tr>\n",
       "    <tr>\n",
       "      <th>2018-01-29 18:00:00</th>\n",
       "      <td>1.901847</td>\n",
       "      <td>0.063395</td>\n",
       "      <td>0.685981</td>\n",
       "    </tr>\n",
       "    <tr>\n",
       "      <th>2018-01-31 00:00:00</th>\n",
       "      <td>0.747597</td>\n",
       "      <td>0.024920</td>\n",
       "      <td>1.182406</td>\n",
       "    </tr>\n",
       "    <tr>\n",
       "      <th>2018-02-01 06:00:00</th>\n",
       "      <td>-1.305256</td>\n",
       "      <td>-0.043509</td>\n",
       "      <td>0.992264</td>\n",
       "    </tr>\n",
       "    <tr>\n",
       "      <th>2018-02-02 12:00:00</th>\n",
       "      <td>-7.873701</td>\n",
       "      <td>-0.262457</td>\n",
       "      <td>0.988518</td>\n",
       "    </tr>\n",
       "    <tr>\n",
       "      <th>2018-02-03 18:00:00</th>\n",
       "      <td>-1.855785</td>\n",
       "      <td>-0.061859</td>\n",
       "      <td>0.884085</td>\n",
       "    </tr>\n",
       "    <tr>\n",
       "      <th>2018-02-05 00:00:00</th>\n",
       "      <td>-11.961840</td>\n",
       "      <td>-0.398728</td>\n",
       "      <td>1.062556</td>\n",
       "    </tr>\n",
       "    <tr>\n",
       "      <th>2018-02-06 06:00:00</th>\n",
       "      <td>1.993287</td>\n",
       "      <td>0.066443</td>\n",
       "      <td>1.075386</td>\n",
       "    </tr>\n",
       "    <tr>\n",
       "      <th>2018-02-07 12:00:00</th>\n",
       "      <td>0.819236</td>\n",
       "      <td>0.027308</td>\n",
       "      <td>0.966333</td>\n",
       "    </tr>\n",
       "    <tr>\n",
       "      <th>2018-02-08 18:00:00</th>\n",
       "      <td>-5.719170</td>\n",
       "      <td>-0.190639</td>\n",
       "      <td>0.893975</td>\n",
       "    </tr>\n",
       "    <tr>\n",
       "      <th>2018-02-10 00:00:00</th>\n",
       "      <td>-0.092149</td>\n",
       "      <td>-0.003072</td>\n",
       "      <td>0.908021</td>\n",
       "    </tr>\n",
       "    <tr>\n",
       "      <th>2018-02-11 06:00:00</th>\n",
       "      <td>-1.169049</td>\n",
       "      <td>-0.116905</td>\n",
       "      <td>1.067632</td>\n",
       "    </tr>\n",
       "  </tbody>\n",
       "</table>\n",
       "</div>"
      ],
      "text/plain": [
       "                           sum      mean       std\n",
       "2018-01-01 00:00:00  -4.365619 -0.145521  1.233464\n",
       "2018-01-02 06:00:00  -5.970191 -0.199006  0.916564\n",
       "2018-01-03 12:00:00  -2.639714 -0.087990  0.997241\n",
       "2018-01-04 18:00:00  -3.085624 -0.102854  0.780231\n",
       "2018-01-06 00:00:00 -10.339576 -0.344653  1.081032\n",
       "2018-01-07 06:00:00   7.570282  0.252343  0.839099\n",
       "2018-01-08 12:00:00  -1.063462 -0.035449  0.974744\n",
       "2018-01-09 18:00:00   2.525827  0.084194  0.896909\n",
       "2018-01-11 00:00:00  -3.070194 -0.102340  1.130699\n",
       "2018-01-12 06:00:00  -2.712082 -0.090403  1.167818\n",
       "2018-01-13 12:00:00   6.508770  0.216959  0.979393\n",
       "2018-01-14 18:00:00   6.596095  0.219870  0.863473\n",
       "2018-01-16 00:00:00 -15.271673 -0.509056  1.044935\n",
       "2018-01-17 06:00:00  -6.949725 -0.231657  0.810572\n",
       "2018-01-18 12:00:00   1.237373  0.041246  0.727930\n",
       "2018-01-19 18:00:00  -0.765080 -0.025503  0.743111\n",
       "2018-01-21 00:00:00   1.351111  0.045037  1.084776\n",
       "2018-01-22 06:00:00   5.330419  0.177681  1.092548\n",
       "2018-01-23 12:00:00   6.107921  0.203597  1.130608\n",
       "2018-01-24 18:00:00  -6.187525 -0.206251  1.082112\n",
       "2018-01-26 00:00:00  -9.187017 -0.306234  0.910556\n",
       "2018-01-27 06:00:00   6.002130  0.200071  0.999349\n",
       "2018-01-28 12:00:00   2.697026  0.089901  1.203009\n",
       "2018-01-29 18:00:00   1.901847  0.063395  0.685981\n",
       "2018-01-31 00:00:00   0.747597  0.024920  1.182406\n",
       "2018-02-01 06:00:00  -1.305256 -0.043509  0.992264\n",
       "2018-02-02 12:00:00  -7.873701 -0.262457  0.988518\n",
       "2018-02-03 18:00:00  -1.855785 -0.061859  0.884085\n",
       "2018-02-05 00:00:00 -11.961840 -0.398728  1.062556\n",
       "2018-02-06 06:00:00   1.993287  0.066443  1.075386\n",
       "2018-02-07 12:00:00   0.819236  0.027308  0.966333\n",
       "2018-02-08 18:00:00  -5.719170 -0.190639  0.893975\n",
       "2018-02-10 00:00:00  -0.092149 -0.003072  0.908021\n",
       "2018-02-11 06:00:00  -1.169049 -0.116905  1.067632"
      ]
     },
     "execution_count": 69,
     "metadata": {},
     "output_type": "execute_result"
    }
   ],
   "source": [
    "r['A'].agg([np.sum, np.mean, np.std])"
   ]
  },
  {
   "cell_type": "code",
   "execution_count": 70,
   "metadata": {},
   "outputs": [
    {
     "data": {
      "text/html": [
       "<div>\n",
       "<style scoped>\n",
       "    .dataframe tbody tr th:only-of-type {\n",
       "        vertical-align: middle;\n",
       "    }\n",
       "\n",
       "    .dataframe tbody tr th {\n",
       "        vertical-align: top;\n",
       "    }\n",
       "\n",
       "    .dataframe thead th {\n",
       "        text-align: right;\n",
       "    }\n",
       "</style>\n",
       "<table border=\"1\" class=\"dataframe\">\n",
       "  <thead>\n",
       "    <tr style=\"text-align: right;\">\n",
       "      <th></th>\n",
       "      <th>sum</th>\n",
       "      <th>mean</th>\n",
       "    </tr>\n",
       "  </thead>\n",
       "  <tbody>\n",
       "    <tr>\n",
       "      <th>2018-01-01 00:00:00</th>\n",
       "      <td>-4.365619</td>\n",
       "      <td>-0.145521</td>\n",
       "    </tr>\n",
       "    <tr>\n",
       "      <th>2018-01-02 06:00:00</th>\n",
       "      <td>-5.970191</td>\n",
       "      <td>-0.199006</td>\n",
       "    </tr>\n",
       "    <tr>\n",
       "      <th>2018-01-03 12:00:00</th>\n",
       "      <td>-2.639714</td>\n",
       "      <td>-0.087990</td>\n",
       "    </tr>\n",
       "    <tr>\n",
       "      <th>2018-01-04 18:00:00</th>\n",
       "      <td>-3.085624</td>\n",
       "      <td>-0.102854</td>\n",
       "    </tr>\n",
       "    <tr>\n",
       "      <th>2018-01-06 00:00:00</th>\n",
       "      <td>-10.339576</td>\n",
       "      <td>-0.344653</td>\n",
       "    </tr>\n",
       "    <tr>\n",
       "      <th>2018-01-07 06:00:00</th>\n",
       "      <td>7.570282</td>\n",
       "      <td>0.252343</td>\n",
       "    </tr>\n",
       "    <tr>\n",
       "      <th>2018-01-08 12:00:00</th>\n",
       "      <td>-1.063462</td>\n",
       "      <td>-0.035449</td>\n",
       "    </tr>\n",
       "    <tr>\n",
       "      <th>2018-01-09 18:00:00</th>\n",
       "      <td>2.525827</td>\n",
       "      <td>0.084194</td>\n",
       "    </tr>\n",
       "    <tr>\n",
       "      <th>2018-01-11 00:00:00</th>\n",
       "      <td>-3.070194</td>\n",
       "      <td>-0.102340</td>\n",
       "    </tr>\n",
       "    <tr>\n",
       "      <th>2018-01-12 06:00:00</th>\n",
       "      <td>-2.712082</td>\n",
       "      <td>-0.090403</td>\n",
       "    </tr>\n",
       "    <tr>\n",
       "      <th>2018-01-13 12:00:00</th>\n",
       "      <td>6.508770</td>\n",
       "      <td>0.216959</td>\n",
       "    </tr>\n",
       "    <tr>\n",
       "      <th>2018-01-14 18:00:00</th>\n",
       "      <td>6.596095</td>\n",
       "      <td>0.219870</td>\n",
       "    </tr>\n",
       "    <tr>\n",
       "      <th>2018-01-16 00:00:00</th>\n",
       "      <td>-15.271673</td>\n",
       "      <td>-0.509056</td>\n",
       "    </tr>\n",
       "    <tr>\n",
       "      <th>2018-01-17 06:00:00</th>\n",
       "      <td>-6.949725</td>\n",
       "      <td>-0.231657</td>\n",
       "    </tr>\n",
       "    <tr>\n",
       "      <th>2018-01-18 12:00:00</th>\n",
       "      <td>1.237373</td>\n",
       "      <td>0.041246</td>\n",
       "    </tr>\n",
       "    <tr>\n",
       "      <th>2018-01-19 18:00:00</th>\n",
       "      <td>-0.765080</td>\n",
       "      <td>-0.025503</td>\n",
       "    </tr>\n",
       "    <tr>\n",
       "      <th>2018-01-21 00:00:00</th>\n",
       "      <td>1.351111</td>\n",
       "      <td>0.045037</td>\n",
       "    </tr>\n",
       "    <tr>\n",
       "      <th>2018-01-22 06:00:00</th>\n",
       "      <td>5.330419</td>\n",
       "      <td>0.177681</td>\n",
       "    </tr>\n",
       "    <tr>\n",
       "      <th>2018-01-23 12:00:00</th>\n",
       "      <td>6.107921</td>\n",
       "      <td>0.203597</td>\n",
       "    </tr>\n",
       "    <tr>\n",
       "      <th>2018-01-24 18:00:00</th>\n",
       "      <td>-6.187525</td>\n",
       "      <td>-0.206251</td>\n",
       "    </tr>\n",
       "    <tr>\n",
       "      <th>2018-01-26 00:00:00</th>\n",
       "      <td>-9.187017</td>\n",
       "      <td>-0.306234</td>\n",
       "    </tr>\n",
       "    <tr>\n",
       "      <th>2018-01-27 06:00:00</th>\n",
       "      <td>6.002130</td>\n",
       "      <td>0.200071</td>\n",
       "    </tr>\n",
       "    <tr>\n",
       "      <th>2018-01-28 12:00:00</th>\n",
       "      <td>2.697026</td>\n",
       "      <td>0.089901</td>\n",
       "    </tr>\n",
       "    <tr>\n",
       "      <th>2018-01-29 18:00:00</th>\n",
       "      <td>1.901847</td>\n",
       "      <td>0.063395</td>\n",
       "    </tr>\n",
       "    <tr>\n",
       "      <th>2018-01-31 00:00:00</th>\n",
       "      <td>0.747597</td>\n",
       "      <td>0.024920</td>\n",
       "    </tr>\n",
       "    <tr>\n",
       "      <th>2018-02-01 06:00:00</th>\n",
       "      <td>-1.305256</td>\n",
       "      <td>-0.043509</td>\n",
       "    </tr>\n",
       "    <tr>\n",
       "      <th>2018-02-02 12:00:00</th>\n",
       "      <td>-7.873701</td>\n",
       "      <td>-0.262457</td>\n",
       "    </tr>\n",
       "    <tr>\n",
       "      <th>2018-02-03 18:00:00</th>\n",
       "      <td>-1.855785</td>\n",
       "      <td>-0.061859</td>\n",
       "    </tr>\n",
       "    <tr>\n",
       "      <th>2018-02-05 00:00:00</th>\n",
       "      <td>-11.961840</td>\n",
       "      <td>-0.398728</td>\n",
       "    </tr>\n",
       "    <tr>\n",
       "      <th>2018-02-06 06:00:00</th>\n",
       "      <td>1.993287</td>\n",
       "      <td>0.066443</td>\n",
       "    </tr>\n",
       "    <tr>\n",
       "      <th>2018-02-07 12:00:00</th>\n",
       "      <td>0.819236</td>\n",
       "      <td>0.027308</td>\n",
       "    </tr>\n",
       "    <tr>\n",
       "      <th>2018-02-08 18:00:00</th>\n",
       "      <td>-5.719170</td>\n",
       "      <td>-0.190639</td>\n",
       "    </tr>\n",
       "    <tr>\n",
       "      <th>2018-02-10 00:00:00</th>\n",
       "      <td>-0.092149</td>\n",
       "      <td>-0.003072</td>\n",
       "    </tr>\n",
       "    <tr>\n",
       "      <th>2018-02-11 06:00:00</th>\n",
       "      <td>-1.169049</td>\n",
       "      <td>-0.116905</td>\n",
       "    </tr>\n",
       "  </tbody>\n",
       "</table>\n",
       "</div>"
      ],
      "text/plain": [
       "                           sum      mean\n",
       "2018-01-01 00:00:00  -4.365619 -0.145521\n",
       "2018-01-02 06:00:00  -5.970191 -0.199006\n",
       "2018-01-03 12:00:00  -2.639714 -0.087990\n",
       "2018-01-04 18:00:00  -3.085624 -0.102854\n",
       "2018-01-06 00:00:00 -10.339576 -0.344653\n",
       "2018-01-07 06:00:00   7.570282  0.252343\n",
       "2018-01-08 12:00:00  -1.063462 -0.035449\n",
       "2018-01-09 18:00:00   2.525827  0.084194\n",
       "2018-01-11 00:00:00  -3.070194 -0.102340\n",
       "2018-01-12 06:00:00  -2.712082 -0.090403\n",
       "2018-01-13 12:00:00   6.508770  0.216959\n",
       "2018-01-14 18:00:00   6.596095  0.219870\n",
       "2018-01-16 00:00:00 -15.271673 -0.509056\n",
       "2018-01-17 06:00:00  -6.949725 -0.231657\n",
       "2018-01-18 12:00:00   1.237373  0.041246\n",
       "2018-01-19 18:00:00  -0.765080 -0.025503\n",
       "2018-01-21 00:00:00   1.351111  0.045037\n",
       "2018-01-22 06:00:00   5.330419  0.177681\n",
       "2018-01-23 12:00:00   6.107921  0.203597\n",
       "2018-01-24 18:00:00  -6.187525 -0.206251\n",
       "2018-01-26 00:00:00  -9.187017 -0.306234\n",
       "2018-01-27 06:00:00   6.002130  0.200071\n",
       "2018-01-28 12:00:00   2.697026  0.089901\n",
       "2018-01-29 18:00:00   1.901847  0.063395\n",
       "2018-01-31 00:00:00   0.747597  0.024920\n",
       "2018-02-01 06:00:00  -1.305256 -0.043509\n",
       "2018-02-02 12:00:00  -7.873701 -0.262457\n",
       "2018-02-03 18:00:00  -1.855785 -0.061859\n",
       "2018-02-05 00:00:00 -11.961840 -0.398728\n",
       "2018-02-06 06:00:00   1.993287  0.066443\n",
       "2018-02-07 12:00:00   0.819236  0.027308\n",
       "2018-02-08 18:00:00  -5.719170 -0.190639\n",
       "2018-02-10 00:00:00  -0.092149 -0.003072\n",
       "2018-02-11 06:00:00  -1.169049 -0.116905"
      ]
     },
     "execution_count": 70,
     "metadata": {},
     "output_type": "execute_result"
    }
   ],
   "source": [
    "r['A'].agg([np.sum, np.mean])"
   ]
  },
  {
   "cell_type": "code",
   "execution_count": 71,
   "metadata": {},
   "outputs": [
    {
     "data": {
      "text/html": [
       "<div>\n",
       "<style scoped>\n",
       "    .dataframe tbody tr th:only-of-type {\n",
       "        vertical-align: middle;\n",
       "    }\n",
       "\n",
       "    .dataframe tbody tr th {\n",
       "        vertical-align: top;\n",
       "    }\n",
       "\n",
       "    .dataframe thead th {\n",
       "        text-align: right;\n",
       "    }\n",
       "</style>\n",
       "<table border=\"1\" class=\"dataframe\">\n",
       "  <thead>\n",
       "    <tr style=\"text-align: right;\">\n",
       "      <th></th>\n",
       "      <th>sum</th>\n",
       "      <th>mean</th>\n",
       "    </tr>\n",
       "  </thead>\n",
       "  <tbody>\n",
       "    <tr>\n",
       "      <th>2018-01-01 00:00:00</th>\n",
       "      <td>-4.365619</td>\n",
       "      <td>-0.145521</td>\n",
       "    </tr>\n",
       "    <tr>\n",
       "      <th>2018-01-02 06:00:00</th>\n",
       "      <td>-5.970191</td>\n",
       "      <td>-0.199006</td>\n",
       "    </tr>\n",
       "    <tr>\n",
       "      <th>2018-01-03 12:00:00</th>\n",
       "      <td>-2.639714</td>\n",
       "      <td>-0.087990</td>\n",
       "    </tr>\n",
       "    <tr>\n",
       "      <th>2018-01-04 18:00:00</th>\n",
       "      <td>-3.085624</td>\n",
       "      <td>-0.102854</td>\n",
       "    </tr>\n",
       "    <tr>\n",
       "      <th>2018-01-06 00:00:00</th>\n",
       "      <td>-10.339576</td>\n",
       "      <td>-0.344653</td>\n",
       "    </tr>\n",
       "    <tr>\n",
       "      <th>2018-01-07 06:00:00</th>\n",
       "      <td>7.570282</td>\n",
       "      <td>0.252343</td>\n",
       "    </tr>\n",
       "    <tr>\n",
       "      <th>2018-01-08 12:00:00</th>\n",
       "      <td>-1.063462</td>\n",
       "      <td>-0.035449</td>\n",
       "    </tr>\n",
       "    <tr>\n",
       "      <th>2018-01-09 18:00:00</th>\n",
       "      <td>2.525827</td>\n",
       "      <td>0.084194</td>\n",
       "    </tr>\n",
       "    <tr>\n",
       "      <th>2018-01-11 00:00:00</th>\n",
       "      <td>-3.070194</td>\n",
       "      <td>-0.102340</td>\n",
       "    </tr>\n",
       "    <tr>\n",
       "      <th>2018-01-12 06:00:00</th>\n",
       "      <td>-2.712082</td>\n",
       "      <td>-0.090403</td>\n",
       "    </tr>\n",
       "    <tr>\n",
       "      <th>2018-01-13 12:00:00</th>\n",
       "      <td>6.508770</td>\n",
       "      <td>0.216959</td>\n",
       "    </tr>\n",
       "    <tr>\n",
       "      <th>2018-01-14 18:00:00</th>\n",
       "      <td>6.596095</td>\n",
       "      <td>0.219870</td>\n",
       "    </tr>\n",
       "    <tr>\n",
       "      <th>2018-01-16 00:00:00</th>\n",
       "      <td>-15.271673</td>\n",
       "      <td>-0.509056</td>\n",
       "    </tr>\n",
       "    <tr>\n",
       "      <th>2018-01-17 06:00:00</th>\n",
       "      <td>-6.949725</td>\n",
       "      <td>-0.231657</td>\n",
       "    </tr>\n",
       "    <tr>\n",
       "      <th>2018-01-18 12:00:00</th>\n",
       "      <td>1.237373</td>\n",
       "      <td>0.041246</td>\n",
       "    </tr>\n",
       "    <tr>\n",
       "      <th>2018-01-19 18:00:00</th>\n",
       "      <td>-0.765080</td>\n",
       "      <td>-0.025503</td>\n",
       "    </tr>\n",
       "    <tr>\n",
       "      <th>2018-01-21 00:00:00</th>\n",
       "      <td>1.351111</td>\n",
       "      <td>0.045037</td>\n",
       "    </tr>\n",
       "    <tr>\n",
       "      <th>2018-01-22 06:00:00</th>\n",
       "      <td>5.330419</td>\n",
       "      <td>0.177681</td>\n",
       "    </tr>\n",
       "    <tr>\n",
       "      <th>2018-01-23 12:00:00</th>\n",
       "      <td>6.107921</td>\n",
       "      <td>0.203597</td>\n",
       "    </tr>\n",
       "    <tr>\n",
       "      <th>2018-01-24 18:00:00</th>\n",
       "      <td>-6.187525</td>\n",
       "      <td>-0.206251</td>\n",
       "    </tr>\n",
       "    <tr>\n",
       "      <th>2018-01-26 00:00:00</th>\n",
       "      <td>-9.187017</td>\n",
       "      <td>-0.306234</td>\n",
       "    </tr>\n",
       "    <tr>\n",
       "      <th>2018-01-27 06:00:00</th>\n",
       "      <td>6.002130</td>\n",
       "      <td>0.200071</td>\n",
       "    </tr>\n",
       "    <tr>\n",
       "      <th>2018-01-28 12:00:00</th>\n",
       "      <td>2.697026</td>\n",
       "      <td>0.089901</td>\n",
       "    </tr>\n",
       "    <tr>\n",
       "      <th>2018-01-29 18:00:00</th>\n",
       "      <td>1.901847</td>\n",
       "      <td>0.063395</td>\n",
       "    </tr>\n",
       "    <tr>\n",
       "      <th>2018-01-31 00:00:00</th>\n",
       "      <td>0.747597</td>\n",
       "      <td>0.024920</td>\n",
       "    </tr>\n",
       "    <tr>\n",
       "      <th>2018-02-01 06:00:00</th>\n",
       "      <td>-1.305256</td>\n",
       "      <td>-0.043509</td>\n",
       "    </tr>\n",
       "    <tr>\n",
       "      <th>2018-02-02 12:00:00</th>\n",
       "      <td>-7.873701</td>\n",
       "      <td>-0.262457</td>\n",
       "    </tr>\n",
       "    <tr>\n",
       "      <th>2018-02-03 18:00:00</th>\n",
       "      <td>-1.855785</td>\n",
       "      <td>-0.061859</td>\n",
       "    </tr>\n",
       "    <tr>\n",
       "      <th>2018-02-05 00:00:00</th>\n",
       "      <td>-11.961840</td>\n",
       "      <td>-0.398728</td>\n",
       "    </tr>\n",
       "    <tr>\n",
       "      <th>2018-02-06 06:00:00</th>\n",
       "      <td>1.993287</td>\n",
       "      <td>0.066443</td>\n",
       "    </tr>\n",
       "    <tr>\n",
       "      <th>2018-02-07 12:00:00</th>\n",
       "      <td>0.819236</td>\n",
       "      <td>0.027308</td>\n",
       "    </tr>\n",
       "    <tr>\n",
       "      <th>2018-02-08 18:00:00</th>\n",
       "      <td>-5.719170</td>\n",
       "      <td>-0.190639</td>\n",
       "    </tr>\n",
       "    <tr>\n",
       "      <th>2018-02-10 00:00:00</th>\n",
       "      <td>-0.092149</td>\n",
       "      <td>-0.003072</td>\n",
       "    </tr>\n",
       "    <tr>\n",
       "      <th>2018-02-11 06:00:00</th>\n",
       "      <td>-1.169049</td>\n",
       "      <td>-0.116905</td>\n",
       "    </tr>\n",
       "  </tbody>\n",
       "</table>\n",
       "</div>"
      ],
      "text/plain": [
       "                           sum      mean\n",
       "2018-01-01 00:00:00  -4.365619 -0.145521\n",
       "2018-01-02 06:00:00  -5.970191 -0.199006\n",
       "2018-01-03 12:00:00  -2.639714 -0.087990\n",
       "2018-01-04 18:00:00  -3.085624 -0.102854\n",
       "2018-01-06 00:00:00 -10.339576 -0.344653\n",
       "2018-01-07 06:00:00   7.570282  0.252343\n",
       "2018-01-08 12:00:00  -1.063462 -0.035449\n",
       "2018-01-09 18:00:00   2.525827  0.084194\n",
       "2018-01-11 00:00:00  -3.070194 -0.102340\n",
       "2018-01-12 06:00:00  -2.712082 -0.090403\n",
       "2018-01-13 12:00:00   6.508770  0.216959\n",
       "2018-01-14 18:00:00   6.596095  0.219870\n",
       "2018-01-16 00:00:00 -15.271673 -0.509056\n",
       "2018-01-17 06:00:00  -6.949725 -0.231657\n",
       "2018-01-18 12:00:00   1.237373  0.041246\n",
       "2018-01-19 18:00:00  -0.765080 -0.025503\n",
       "2018-01-21 00:00:00   1.351111  0.045037\n",
       "2018-01-22 06:00:00   5.330419  0.177681\n",
       "2018-01-23 12:00:00   6.107921  0.203597\n",
       "2018-01-24 18:00:00  -6.187525 -0.206251\n",
       "2018-01-26 00:00:00  -9.187017 -0.306234\n",
       "2018-01-27 06:00:00   6.002130  0.200071\n",
       "2018-01-28 12:00:00   2.697026  0.089901\n",
       "2018-01-29 18:00:00   1.901847  0.063395\n",
       "2018-01-31 00:00:00   0.747597  0.024920\n",
       "2018-02-01 06:00:00  -1.305256 -0.043509\n",
       "2018-02-02 12:00:00  -7.873701 -0.262457\n",
       "2018-02-03 18:00:00  -1.855785 -0.061859\n",
       "2018-02-05 00:00:00 -11.961840 -0.398728\n",
       "2018-02-06 06:00:00   1.993287  0.066443\n",
       "2018-02-07 12:00:00   0.819236  0.027308\n",
       "2018-02-08 18:00:00  -5.719170 -0.190639\n",
       "2018-02-10 00:00:00  -0.092149 -0.003072\n",
       "2018-02-11 06:00:00  -1.169049 -0.116905"
      ]
     },
     "execution_count": 71,
     "metadata": {},
     "output_type": "execute_result"
    }
   ],
   "source": [
    "r['A'].agg(['sum', 'mean'])"
   ]
  },
  {
   "cell_type": "code",
   "execution_count": 72,
   "metadata": {},
   "outputs": [
    {
     "data": {
      "text/html": [
       "<div>\n",
       "<style scoped>\n",
       "    .dataframe tbody tr th:only-of-type {\n",
       "        vertical-align: middle;\n",
       "    }\n",
       "\n",
       "    .dataframe tbody tr th {\n",
       "        vertical-align: top;\n",
       "    }\n",
       "\n",
       "    .dataframe thead th {\n",
       "        text-align: right;\n",
       "    }\n",
       "</style>\n",
       "<table border=\"1\" class=\"dataframe\">\n",
       "  <thead>\n",
       "    <tr style=\"text-align: right;\">\n",
       "      <th></th>\n",
       "      <th>A</th>\n",
       "      <th>B</th>\n",
       "    </tr>\n",
       "  </thead>\n",
       "  <tbody>\n",
       "    <tr>\n",
       "      <th>2018-01-01 00:00:00</th>\n",
       "      <td>-4.365619</td>\n",
       "      <td>1.110206</td>\n",
       "    </tr>\n",
       "    <tr>\n",
       "      <th>2018-01-02 06:00:00</th>\n",
       "      <td>-5.970191</td>\n",
       "      <td>0.855337</td>\n",
       "    </tr>\n",
       "    <tr>\n",
       "      <th>2018-01-03 12:00:00</th>\n",
       "      <td>-2.639714</td>\n",
       "      <td>0.864737</td>\n",
       "    </tr>\n",
       "    <tr>\n",
       "      <th>2018-01-04 18:00:00</th>\n",
       "      <td>-3.085624</td>\n",
       "      <td>0.780075</td>\n",
       "    </tr>\n",
       "    <tr>\n",
       "      <th>2018-01-06 00:00:00</th>\n",
       "      <td>-10.339576</td>\n",
       "      <td>0.814235</td>\n",
       "    </tr>\n",
       "    <tr>\n",
       "      <th>2018-01-07 06:00:00</th>\n",
       "      <td>7.570282</td>\n",
       "      <td>1.117953</td>\n",
       "    </tr>\n",
       "    <tr>\n",
       "      <th>2018-01-08 12:00:00</th>\n",
       "      <td>-1.063462</td>\n",
       "      <td>0.922071</td>\n",
       "    </tr>\n",
       "    <tr>\n",
       "      <th>2018-01-09 18:00:00</th>\n",
       "      <td>2.525827</td>\n",
       "      <td>1.054654</td>\n",
       "    </tr>\n",
       "    <tr>\n",
       "      <th>2018-01-11 00:00:00</th>\n",
       "      <td>-3.070194</td>\n",
       "      <td>0.952821</td>\n",
       "    </tr>\n",
       "    <tr>\n",
       "      <th>2018-01-12 06:00:00</th>\n",
       "      <td>-2.712082</td>\n",
       "      <td>0.839172</td>\n",
       "    </tr>\n",
       "    <tr>\n",
       "      <th>2018-01-13 12:00:00</th>\n",
       "      <td>6.508770</td>\n",
       "      <td>0.844895</td>\n",
       "    </tr>\n",
       "    <tr>\n",
       "      <th>2018-01-14 18:00:00</th>\n",
       "      <td>6.596095</td>\n",
       "      <td>1.045925</td>\n",
       "    </tr>\n",
       "    <tr>\n",
       "      <th>2018-01-16 00:00:00</th>\n",
       "      <td>-15.271673</td>\n",
       "      <td>1.031158</td>\n",
       "    </tr>\n",
       "    <tr>\n",
       "      <th>2018-01-17 06:00:00</th>\n",
       "      <td>-6.949725</td>\n",
       "      <td>0.796066</td>\n",
       "    </tr>\n",
       "    <tr>\n",
       "      <th>2018-01-18 12:00:00</th>\n",
       "      <td>1.237373</td>\n",
       "      <td>0.882515</td>\n",
       "    </tr>\n",
       "    <tr>\n",
       "      <th>2018-01-19 18:00:00</th>\n",
       "      <td>-0.765080</td>\n",
       "      <td>0.934123</td>\n",
       "    </tr>\n",
       "    <tr>\n",
       "      <th>2018-01-21 00:00:00</th>\n",
       "      <td>1.351111</td>\n",
       "      <td>0.986430</td>\n",
       "    </tr>\n",
       "    <tr>\n",
       "      <th>2018-01-22 06:00:00</th>\n",
       "      <td>5.330419</td>\n",
       "      <td>0.933465</td>\n",
       "    </tr>\n",
       "    <tr>\n",
       "      <th>2018-01-23 12:00:00</th>\n",
       "      <td>6.107921</td>\n",
       "      <td>1.023417</td>\n",
       "    </tr>\n",
       "    <tr>\n",
       "      <th>2018-01-24 18:00:00</th>\n",
       "      <td>-6.187525</td>\n",
       "      <td>1.157501</td>\n",
       "    </tr>\n",
       "    <tr>\n",
       "      <th>2018-01-26 00:00:00</th>\n",
       "      <td>-9.187017</td>\n",
       "      <td>1.127646</td>\n",
       "    </tr>\n",
       "    <tr>\n",
       "      <th>2018-01-27 06:00:00</th>\n",
       "      <td>6.002130</td>\n",
       "      <td>0.838703</td>\n",
       "    </tr>\n",
       "    <tr>\n",
       "      <th>2018-01-28 12:00:00</th>\n",
       "      <td>2.697026</td>\n",
       "      <td>1.186671</td>\n",
       "    </tr>\n",
       "    <tr>\n",
       "      <th>2018-01-29 18:00:00</th>\n",
       "      <td>1.901847</td>\n",
       "      <td>0.907384</td>\n",
       "    </tr>\n",
       "    <tr>\n",
       "      <th>2018-01-31 00:00:00</th>\n",
       "      <td>0.747597</td>\n",
       "      <td>1.029988</td>\n",
       "    </tr>\n",
       "    <tr>\n",
       "      <th>2018-02-01 06:00:00</th>\n",
       "      <td>-1.305256</td>\n",
       "      <td>0.895153</td>\n",
       "    </tr>\n",
       "    <tr>\n",
       "      <th>2018-02-02 12:00:00</th>\n",
       "      <td>-7.873701</td>\n",
       "      <td>1.289797</td>\n",
       "    </tr>\n",
       "    <tr>\n",
       "      <th>2018-02-03 18:00:00</th>\n",
       "      <td>-1.855785</td>\n",
       "      <td>1.078881</td>\n",
       "    </tr>\n",
       "    <tr>\n",
       "      <th>2018-02-05 00:00:00</th>\n",
       "      <td>-11.961840</td>\n",
       "      <td>1.022465</td>\n",
       "    </tr>\n",
       "    <tr>\n",
       "      <th>2018-02-06 06:00:00</th>\n",
       "      <td>1.993287</td>\n",
       "      <td>1.174541</td>\n",
       "    </tr>\n",
       "    <tr>\n",
       "      <th>2018-02-07 12:00:00</th>\n",
       "      <td>0.819236</td>\n",
       "      <td>0.988324</td>\n",
       "    </tr>\n",
       "    <tr>\n",
       "      <th>2018-02-08 18:00:00</th>\n",
       "      <td>-5.719170</td>\n",
       "      <td>1.068394</td>\n",
       "    </tr>\n",
       "    <tr>\n",
       "      <th>2018-02-10 00:00:00</th>\n",
       "      <td>-0.092149</td>\n",
       "      <td>0.915916</td>\n",
       "    </tr>\n",
       "    <tr>\n",
       "      <th>2018-02-11 06:00:00</th>\n",
       "      <td>-1.169049</td>\n",
       "      <td>0.678294</td>\n",
       "    </tr>\n",
       "  </tbody>\n",
       "</table>\n",
       "</div>"
      ],
      "text/plain": [
       "                             A         B\n",
       "2018-01-01 00:00:00  -4.365619  1.110206\n",
       "2018-01-02 06:00:00  -5.970191  0.855337\n",
       "2018-01-03 12:00:00  -2.639714  0.864737\n",
       "2018-01-04 18:00:00  -3.085624  0.780075\n",
       "2018-01-06 00:00:00 -10.339576  0.814235\n",
       "2018-01-07 06:00:00   7.570282  1.117953\n",
       "2018-01-08 12:00:00  -1.063462  0.922071\n",
       "2018-01-09 18:00:00   2.525827  1.054654\n",
       "2018-01-11 00:00:00  -3.070194  0.952821\n",
       "2018-01-12 06:00:00  -2.712082  0.839172\n",
       "2018-01-13 12:00:00   6.508770  0.844895\n",
       "2018-01-14 18:00:00   6.596095  1.045925\n",
       "2018-01-16 00:00:00 -15.271673  1.031158\n",
       "2018-01-17 06:00:00  -6.949725  0.796066\n",
       "2018-01-18 12:00:00   1.237373  0.882515\n",
       "2018-01-19 18:00:00  -0.765080  0.934123\n",
       "2018-01-21 00:00:00   1.351111  0.986430\n",
       "2018-01-22 06:00:00   5.330419  0.933465\n",
       "2018-01-23 12:00:00   6.107921  1.023417\n",
       "2018-01-24 18:00:00  -6.187525  1.157501\n",
       "2018-01-26 00:00:00  -9.187017  1.127646\n",
       "2018-01-27 06:00:00   6.002130  0.838703\n",
       "2018-01-28 12:00:00   2.697026  1.186671\n",
       "2018-01-29 18:00:00   1.901847  0.907384\n",
       "2018-01-31 00:00:00   0.747597  1.029988\n",
       "2018-02-01 06:00:00  -1.305256  0.895153\n",
       "2018-02-02 12:00:00  -7.873701  1.289797\n",
       "2018-02-03 18:00:00  -1.855785  1.078881\n",
       "2018-02-05 00:00:00 -11.961840  1.022465\n",
       "2018-02-06 06:00:00   1.993287  1.174541\n",
       "2018-02-07 12:00:00   0.819236  0.988324\n",
       "2018-02-08 18:00:00  -5.719170  1.068394\n",
       "2018-02-10 00:00:00  -0.092149  0.915916\n",
       "2018-02-11 06:00:00  -1.169049  0.678294"
      ]
     },
     "execution_count": 72,
     "metadata": {},
     "output_type": "execute_result"
    }
   ],
   "source": [
    "r.agg({'A' : np.sum,\n",
    "       'B' : lambda x: np.std(x, ddof=1)})"
   ]
  },
  {
   "cell_type": "code",
   "execution_count": 73,
   "metadata": {},
   "outputs": [
    {
     "data": {
      "text/html": [
       "<div>\n",
       "<style scoped>\n",
       "    .dataframe tbody tr th:only-of-type {\n",
       "        vertical-align: middle;\n",
       "    }\n",
       "\n",
       "    .dataframe tbody tr th {\n",
       "        vertical-align: top;\n",
       "    }\n",
       "\n",
       "    .dataframe thead th {\n",
       "        text-align: right;\n",
       "    }\n",
       "</style>\n",
       "<table border=\"1\" class=\"dataframe\">\n",
       "  <thead>\n",
       "    <tr style=\"text-align: right;\">\n",
       "      <th></th>\n",
       "      <th>A</th>\n",
       "      <th>B</th>\n",
       "    </tr>\n",
       "  </thead>\n",
       "  <tbody>\n",
       "    <tr>\n",
       "      <th>2018-01-01 00:00:00</th>\n",
       "      <td>-4.365619</td>\n",
       "      <td>1.110206</td>\n",
       "    </tr>\n",
       "    <tr>\n",
       "      <th>2018-01-02 06:00:00</th>\n",
       "      <td>-5.970191</td>\n",
       "      <td>0.855337</td>\n",
       "    </tr>\n",
       "    <tr>\n",
       "      <th>2018-01-03 12:00:00</th>\n",
       "      <td>-2.639714</td>\n",
       "      <td>0.864737</td>\n",
       "    </tr>\n",
       "    <tr>\n",
       "      <th>2018-01-04 18:00:00</th>\n",
       "      <td>-3.085624</td>\n",
       "      <td>0.780075</td>\n",
       "    </tr>\n",
       "    <tr>\n",
       "      <th>2018-01-06 00:00:00</th>\n",
       "      <td>-10.339576</td>\n",
       "      <td>0.814235</td>\n",
       "    </tr>\n",
       "    <tr>\n",
       "      <th>2018-01-07 06:00:00</th>\n",
       "      <td>7.570282</td>\n",
       "      <td>1.117953</td>\n",
       "    </tr>\n",
       "    <tr>\n",
       "      <th>2018-01-08 12:00:00</th>\n",
       "      <td>-1.063462</td>\n",
       "      <td>0.922071</td>\n",
       "    </tr>\n",
       "    <tr>\n",
       "      <th>2018-01-09 18:00:00</th>\n",
       "      <td>2.525827</td>\n",
       "      <td>1.054654</td>\n",
       "    </tr>\n",
       "    <tr>\n",
       "      <th>2018-01-11 00:00:00</th>\n",
       "      <td>-3.070194</td>\n",
       "      <td>0.952821</td>\n",
       "    </tr>\n",
       "    <tr>\n",
       "      <th>2018-01-12 06:00:00</th>\n",
       "      <td>-2.712082</td>\n",
       "      <td>0.839172</td>\n",
       "    </tr>\n",
       "    <tr>\n",
       "      <th>2018-01-13 12:00:00</th>\n",
       "      <td>6.508770</td>\n",
       "      <td>0.844895</td>\n",
       "    </tr>\n",
       "    <tr>\n",
       "      <th>2018-01-14 18:00:00</th>\n",
       "      <td>6.596095</td>\n",
       "      <td>1.045925</td>\n",
       "    </tr>\n",
       "    <tr>\n",
       "      <th>2018-01-16 00:00:00</th>\n",
       "      <td>-15.271673</td>\n",
       "      <td>1.031158</td>\n",
       "    </tr>\n",
       "    <tr>\n",
       "      <th>2018-01-17 06:00:00</th>\n",
       "      <td>-6.949725</td>\n",
       "      <td>0.796066</td>\n",
       "    </tr>\n",
       "    <tr>\n",
       "      <th>2018-01-18 12:00:00</th>\n",
       "      <td>1.237373</td>\n",
       "      <td>0.882515</td>\n",
       "    </tr>\n",
       "    <tr>\n",
       "      <th>2018-01-19 18:00:00</th>\n",
       "      <td>-0.765080</td>\n",
       "      <td>0.934123</td>\n",
       "    </tr>\n",
       "    <tr>\n",
       "      <th>2018-01-21 00:00:00</th>\n",
       "      <td>1.351111</td>\n",
       "      <td>0.986430</td>\n",
       "    </tr>\n",
       "    <tr>\n",
       "      <th>2018-01-22 06:00:00</th>\n",
       "      <td>5.330419</td>\n",
       "      <td>0.933465</td>\n",
       "    </tr>\n",
       "    <tr>\n",
       "      <th>2018-01-23 12:00:00</th>\n",
       "      <td>6.107921</td>\n",
       "      <td>1.023417</td>\n",
       "    </tr>\n",
       "    <tr>\n",
       "      <th>2018-01-24 18:00:00</th>\n",
       "      <td>-6.187525</td>\n",
       "      <td>1.157501</td>\n",
       "    </tr>\n",
       "    <tr>\n",
       "      <th>2018-01-26 00:00:00</th>\n",
       "      <td>-9.187017</td>\n",
       "      <td>1.127646</td>\n",
       "    </tr>\n",
       "    <tr>\n",
       "      <th>2018-01-27 06:00:00</th>\n",
       "      <td>6.002130</td>\n",
       "      <td>0.838703</td>\n",
       "    </tr>\n",
       "    <tr>\n",
       "      <th>2018-01-28 12:00:00</th>\n",
       "      <td>2.697026</td>\n",
       "      <td>1.186671</td>\n",
       "    </tr>\n",
       "    <tr>\n",
       "      <th>2018-01-29 18:00:00</th>\n",
       "      <td>1.901847</td>\n",
       "      <td>0.907384</td>\n",
       "    </tr>\n",
       "    <tr>\n",
       "      <th>2018-01-31 00:00:00</th>\n",
       "      <td>0.747597</td>\n",
       "      <td>1.029988</td>\n",
       "    </tr>\n",
       "    <tr>\n",
       "      <th>2018-02-01 06:00:00</th>\n",
       "      <td>-1.305256</td>\n",
       "      <td>0.895153</td>\n",
       "    </tr>\n",
       "    <tr>\n",
       "      <th>2018-02-02 12:00:00</th>\n",
       "      <td>-7.873701</td>\n",
       "      <td>1.289797</td>\n",
       "    </tr>\n",
       "    <tr>\n",
       "      <th>2018-02-03 18:00:00</th>\n",
       "      <td>-1.855785</td>\n",
       "      <td>1.078881</td>\n",
       "    </tr>\n",
       "    <tr>\n",
       "      <th>2018-02-05 00:00:00</th>\n",
       "      <td>-11.961840</td>\n",
       "      <td>1.022465</td>\n",
       "    </tr>\n",
       "    <tr>\n",
       "      <th>2018-02-06 06:00:00</th>\n",
       "      <td>1.993287</td>\n",
       "      <td>1.174541</td>\n",
       "    </tr>\n",
       "    <tr>\n",
       "      <th>2018-02-07 12:00:00</th>\n",
       "      <td>0.819236</td>\n",
       "      <td>0.988324</td>\n",
       "    </tr>\n",
       "    <tr>\n",
       "      <th>2018-02-08 18:00:00</th>\n",
       "      <td>-5.719170</td>\n",
       "      <td>1.068394</td>\n",
       "    </tr>\n",
       "    <tr>\n",
       "      <th>2018-02-10 00:00:00</th>\n",
       "      <td>-0.092149</td>\n",
       "      <td>0.915916</td>\n",
       "    </tr>\n",
       "    <tr>\n",
       "      <th>2018-02-11 06:00:00</th>\n",
       "      <td>-1.169049</td>\n",
       "      <td>0.678294</td>\n",
       "    </tr>\n",
       "  </tbody>\n",
       "</table>\n",
       "</div>"
      ],
      "text/plain": [
       "                             A         B\n",
       "2018-01-01 00:00:00  -4.365619  1.110206\n",
       "2018-01-02 06:00:00  -5.970191  0.855337\n",
       "2018-01-03 12:00:00  -2.639714  0.864737\n",
       "2018-01-04 18:00:00  -3.085624  0.780075\n",
       "2018-01-06 00:00:00 -10.339576  0.814235\n",
       "2018-01-07 06:00:00   7.570282  1.117953\n",
       "2018-01-08 12:00:00  -1.063462  0.922071\n",
       "2018-01-09 18:00:00   2.525827  1.054654\n",
       "2018-01-11 00:00:00  -3.070194  0.952821\n",
       "2018-01-12 06:00:00  -2.712082  0.839172\n",
       "2018-01-13 12:00:00   6.508770  0.844895\n",
       "2018-01-14 18:00:00   6.596095  1.045925\n",
       "2018-01-16 00:00:00 -15.271673  1.031158\n",
       "2018-01-17 06:00:00  -6.949725  0.796066\n",
       "2018-01-18 12:00:00   1.237373  0.882515\n",
       "2018-01-19 18:00:00  -0.765080  0.934123\n",
       "2018-01-21 00:00:00   1.351111  0.986430\n",
       "2018-01-22 06:00:00   5.330419  0.933465\n",
       "2018-01-23 12:00:00   6.107921  1.023417\n",
       "2018-01-24 18:00:00  -6.187525  1.157501\n",
       "2018-01-26 00:00:00  -9.187017  1.127646\n",
       "2018-01-27 06:00:00   6.002130  0.838703\n",
       "2018-01-28 12:00:00   2.697026  1.186671\n",
       "2018-01-29 18:00:00   1.901847  0.907384\n",
       "2018-01-31 00:00:00   0.747597  1.029988\n",
       "2018-02-01 06:00:00  -1.305256  0.895153\n",
       "2018-02-02 12:00:00  -7.873701  1.289797\n",
       "2018-02-03 18:00:00  -1.855785  1.078881\n",
       "2018-02-05 00:00:00 -11.961840  1.022465\n",
       "2018-02-06 06:00:00   1.993287  1.174541\n",
       "2018-02-07 12:00:00   0.819236  0.988324\n",
       "2018-02-08 18:00:00  -5.719170  1.068394\n",
       "2018-02-10 00:00:00  -0.092149  0.915916\n",
       "2018-02-11 06:00:00  -1.169049  0.678294"
      ]
     },
     "execution_count": 73,
     "metadata": {},
     "output_type": "execute_result"
    }
   ],
   "source": [
    "r.agg({'A' : 'sum', 'B' : 'std'})"
   ]
  },
  {
   "cell_type": "code",
   "execution_count": 74,
   "metadata": {},
   "outputs": [
    {
     "data": {
      "text/html": [
       "<div>\n",
       "<style scoped>\n",
       "    .dataframe tbody tr th:only-of-type {\n",
       "        vertical-align: middle;\n",
       "    }\n",
       "\n",
       "    .dataframe tbody tr th {\n",
       "        vertical-align: top;\n",
       "    }\n",
       "\n",
       "    .dataframe thead tr th {\n",
       "        text-align: left;\n",
       "    }\n",
       "</style>\n",
       "<table border=\"1\" class=\"dataframe\">\n",
       "  <thead>\n",
       "    <tr>\n",
       "      <th></th>\n",
       "      <th colspan=\"2\" halign=\"left\">A</th>\n",
       "      <th colspan=\"2\" halign=\"left\">B</th>\n",
       "    </tr>\n",
       "    <tr>\n",
       "      <th></th>\n",
       "      <th>sum</th>\n",
       "      <th>std</th>\n",
       "      <th>mean</th>\n",
       "      <th>std</th>\n",
       "    </tr>\n",
       "  </thead>\n",
       "  <tbody>\n",
       "    <tr>\n",
       "      <th>2018-01-01 00:00:00</th>\n",
       "      <td>-4.365619</td>\n",
       "      <td>1.233464</td>\n",
       "      <td>-0.056345</td>\n",
       "      <td>1.110206</td>\n",
       "    </tr>\n",
       "    <tr>\n",
       "      <th>2018-01-02 06:00:00</th>\n",
       "      <td>-5.970191</td>\n",
       "      <td>0.916564</td>\n",
       "      <td>0.206720</td>\n",
       "      <td>0.855337</td>\n",
       "    </tr>\n",
       "    <tr>\n",
       "      <th>2018-01-03 12:00:00</th>\n",
       "      <td>-2.639714</td>\n",
       "      <td>0.997241</td>\n",
       "      <td>-0.039319</td>\n",
       "      <td>0.864737</td>\n",
       "    </tr>\n",
       "    <tr>\n",
       "      <th>2018-01-04 18:00:00</th>\n",
       "      <td>-3.085624</td>\n",
       "      <td>0.780231</td>\n",
       "      <td>0.123491</td>\n",
       "      <td>0.780075</td>\n",
       "    </tr>\n",
       "    <tr>\n",
       "      <th>2018-01-06 00:00:00</th>\n",
       "      <td>-10.339576</td>\n",
       "      <td>1.081032</td>\n",
       "      <td>0.243819</td>\n",
       "      <td>0.814235</td>\n",
       "    </tr>\n",
       "    <tr>\n",
       "      <th>2018-01-07 06:00:00</th>\n",
       "      <td>7.570282</td>\n",
       "      <td>0.839099</td>\n",
       "      <td>0.201871</td>\n",
       "      <td>1.117953</td>\n",
       "    </tr>\n",
       "    <tr>\n",
       "      <th>2018-01-08 12:00:00</th>\n",
       "      <td>-1.063462</td>\n",
       "      <td>0.974744</td>\n",
       "      <td>0.033659</td>\n",
       "      <td>0.922071</td>\n",
       "    </tr>\n",
       "    <tr>\n",
       "      <th>2018-01-09 18:00:00</th>\n",
       "      <td>2.525827</td>\n",
       "      <td>0.896909</td>\n",
       "      <td>0.128494</td>\n",
       "      <td>1.054654</td>\n",
       "    </tr>\n",
       "    <tr>\n",
       "      <th>2018-01-11 00:00:00</th>\n",
       "      <td>-3.070194</td>\n",
       "      <td>1.130699</td>\n",
       "      <td>-0.122500</td>\n",
       "      <td>0.952821</td>\n",
       "    </tr>\n",
       "    <tr>\n",
       "      <th>2018-01-12 06:00:00</th>\n",
       "      <td>-2.712082</td>\n",
       "      <td>1.167818</td>\n",
       "      <td>0.107877</td>\n",
       "      <td>0.839172</td>\n",
       "    </tr>\n",
       "    <tr>\n",
       "      <th>2018-01-13 12:00:00</th>\n",
       "      <td>6.508770</td>\n",
       "      <td>0.979393</td>\n",
       "      <td>-0.080086</td>\n",
       "      <td>0.844895</td>\n",
       "    </tr>\n",
       "    <tr>\n",
       "      <th>2018-01-14 18:00:00</th>\n",
       "      <td>6.596095</td>\n",
       "      <td>0.863473</td>\n",
       "      <td>0.177304</td>\n",
       "      <td>1.045925</td>\n",
       "    </tr>\n",
       "    <tr>\n",
       "      <th>2018-01-16 00:00:00</th>\n",
       "      <td>-15.271673</td>\n",
       "      <td>1.044935</td>\n",
       "      <td>0.065591</td>\n",
       "      <td>1.031158</td>\n",
       "    </tr>\n",
       "    <tr>\n",
       "      <th>2018-01-17 06:00:00</th>\n",
       "      <td>-6.949725</td>\n",
       "      <td>0.810572</td>\n",
       "      <td>0.064356</td>\n",
       "      <td>0.796066</td>\n",
       "    </tr>\n",
       "    <tr>\n",
       "      <th>2018-01-18 12:00:00</th>\n",
       "      <td>1.237373</td>\n",
       "      <td>0.727930</td>\n",
       "      <td>-0.037567</td>\n",
       "      <td>0.882515</td>\n",
       "    </tr>\n",
       "    <tr>\n",
       "      <th>2018-01-19 18:00:00</th>\n",
       "      <td>-0.765080</td>\n",
       "      <td>0.743111</td>\n",
       "      <td>-0.027553</td>\n",
       "      <td>0.934123</td>\n",
       "    </tr>\n",
       "    <tr>\n",
       "      <th>2018-01-21 00:00:00</th>\n",
       "      <td>1.351111</td>\n",
       "      <td>1.084776</td>\n",
       "      <td>0.176573</td>\n",
       "      <td>0.986430</td>\n",
       "    </tr>\n",
       "    <tr>\n",
       "      <th>2018-01-22 06:00:00</th>\n",
       "      <td>5.330419</td>\n",
       "      <td>1.092548</td>\n",
       "      <td>-0.117421</td>\n",
       "      <td>0.933465</td>\n",
       "    </tr>\n",
       "    <tr>\n",
       "      <th>2018-01-23 12:00:00</th>\n",
       "      <td>6.107921</td>\n",
       "      <td>1.130608</td>\n",
       "      <td>0.005181</td>\n",
       "      <td>1.023417</td>\n",
       "    </tr>\n",
       "    <tr>\n",
       "      <th>2018-01-24 18:00:00</th>\n",
       "      <td>-6.187525</td>\n",
       "      <td>1.082112</td>\n",
       "      <td>-0.139967</td>\n",
       "      <td>1.157501</td>\n",
       "    </tr>\n",
       "    <tr>\n",
       "      <th>2018-01-26 00:00:00</th>\n",
       "      <td>-9.187017</td>\n",
       "      <td>0.910556</td>\n",
       "      <td>0.030540</td>\n",
       "      <td>1.127646</td>\n",
       "    </tr>\n",
       "    <tr>\n",
       "      <th>2018-01-27 06:00:00</th>\n",
       "      <td>6.002130</td>\n",
       "      <td>0.999349</td>\n",
       "      <td>0.152047</td>\n",
       "      <td>0.838703</td>\n",
       "    </tr>\n",
       "    <tr>\n",
       "      <th>2018-01-28 12:00:00</th>\n",
       "      <td>2.697026</td>\n",
       "      <td>1.203009</td>\n",
       "      <td>-0.018957</td>\n",
       "      <td>1.186671</td>\n",
       "    </tr>\n",
       "    <tr>\n",
       "      <th>2018-01-29 18:00:00</th>\n",
       "      <td>1.901847</td>\n",
       "      <td>0.685981</td>\n",
       "      <td>0.178982</td>\n",
       "      <td>0.907384</td>\n",
       "    </tr>\n",
       "    <tr>\n",
       "      <th>2018-01-31 00:00:00</th>\n",
       "      <td>0.747597</td>\n",
       "      <td>1.182406</td>\n",
       "      <td>-0.021800</td>\n",
       "      <td>1.029988</td>\n",
       "    </tr>\n",
       "    <tr>\n",
       "      <th>2018-02-01 06:00:00</th>\n",
       "      <td>-1.305256</td>\n",
       "      <td>0.992264</td>\n",
       "      <td>-0.126372</td>\n",
       "      <td>0.895153</td>\n",
       "    </tr>\n",
       "    <tr>\n",
       "      <th>2018-02-02 12:00:00</th>\n",
       "      <td>-7.873701</td>\n",
       "      <td>0.988518</td>\n",
       "      <td>0.137931</td>\n",
       "      <td>1.289797</td>\n",
       "    </tr>\n",
       "    <tr>\n",
       "      <th>2018-02-03 18:00:00</th>\n",
       "      <td>-1.855785</td>\n",
       "      <td>0.884085</td>\n",
       "      <td>0.141311</td>\n",
       "      <td>1.078881</td>\n",
       "    </tr>\n",
       "    <tr>\n",
       "      <th>2018-02-05 00:00:00</th>\n",
       "      <td>-11.961840</td>\n",
       "      <td>1.062556</td>\n",
       "      <td>-0.002157</td>\n",
       "      <td>1.022465</td>\n",
       "    </tr>\n",
       "    <tr>\n",
       "      <th>2018-02-06 06:00:00</th>\n",
       "      <td>1.993287</td>\n",
       "      <td>1.075386</td>\n",
       "      <td>-0.124675</td>\n",
       "      <td>1.174541</td>\n",
       "    </tr>\n",
       "    <tr>\n",
       "      <th>2018-02-07 12:00:00</th>\n",
       "      <td>0.819236</td>\n",
       "      <td>0.966333</td>\n",
       "      <td>0.108034</td>\n",
       "      <td>0.988324</td>\n",
       "    </tr>\n",
       "    <tr>\n",
       "      <th>2018-02-08 18:00:00</th>\n",
       "      <td>-5.719170</td>\n",
       "      <td>0.893975</td>\n",
       "      <td>-0.298448</td>\n",
       "      <td>1.068394</td>\n",
       "    </tr>\n",
       "    <tr>\n",
       "      <th>2018-02-10 00:00:00</th>\n",
       "      <td>-0.092149</td>\n",
       "      <td>0.908021</td>\n",
       "      <td>-0.166263</td>\n",
       "      <td>0.915916</td>\n",
       "    </tr>\n",
       "    <tr>\n",
       "      <th>2018-02-11 06:00:00</th>\n",
       "      <td>-1.169049</td>\n",
       "      <td>1.067632</td>\n",
       "      <td>0.441697</td>\n",
       "      <td>0.678294</td>\n",
       "    </tr>\n",
       "  </tbody>\n",
       "</table>\n",
       "</div>"
      ],
      "text/plain": [
       "                             A                   B          \n",
       "                           sum       std      mean       std\n",
       "2018-01-01 00:00:00  -4.365619  1.233464 -0.056345  1.110206\n",
       "2018-01-02 06:00:00  -5.970191  0.916564  0.206720  0.855337\n",
       "2018-01-03 12:00:00  -2.639714  0.997241 -0.039319  0.864737\n",
       "2018-01-04 18:00:00  -3.085624  0.780231  0.123491  0.780075\n",
       "2018-01-06 00:00:00 -10.339576  1.081032  0.243819  0.814235\n",
       "2018-01-07 06:00:00   7.570282  0.839099  0.201871  1.117953\n",
       "2018-01-08 12:00:00  -1.063462  0.974744  0.033659  0.922071\n",
       "2018-01-09 18:00:00   2.525827  0.896909  0.128494  1.054654\n",
       "2018-01-11 00:00:00  -3.070194  1.130699 -0.122500  0.952821\n",
       "2018-01-12 06:00:00  -2.712082  1.167818  0.107877  0.839172\n",
       "2018-01-13 12:00:00   6.508770  0.979393 -0.080086  0.844895\n",
       "2018-01-14 18:00:00   6.596095  0.863473  0.177304  1.045925\n",
       "2018-01-16 00:00:00 -15.271673  1.044935  0.065591  1.031158\n",
       "2018-01-17 06:00:00  -6.949725  0.810572  0.064356  0.796066\n",
       "2018-01-18 12:00:00   1.237373  0.727930 -0.037567  0.882515\n",
       "2018-01-19 18:00:00  -0.765080  0.743111 -0.027553  0.934123\n",
       "2018-01-21 00:00:00   1.351111  1.084776  0.176573  0.986430\n",
       "2018-01-22 06:00:00   5.330419  1.092548 -0.117421  0.933465\n",
       "2018-01-23 12:00:00   6.107921  1.130608  0.005181  1.023417\n",
       "2018-01-24 18:00:00  -6.187525  1.082112 -0.139967  1.157501\n",
       "2018-01-26 00:00:00  -9.187017  0.910556  0.030540  1.127646\n",
       "2018-01-27 06:00:00   6.002130  0.999349  0.152047  0.838703\n",
       "2018-01-28 12:00:00   2.697026  1.203009 -0.018957  1.186671\n",
       "2018-01-29 18:00:00   1.901847  0.685981  0.178982  0.907384\n",
       "2018-01-31 00:00:00   0.747597  1.182406 -0.021800  1.029988\n",
       "2018-02-01 06:00:00  -1.305256  0.992264 -0.126372  0.895153\n",
       "2018-02-02 12:00:00  -7.873701  0.988518  0.137931  1.289797\n",
       "2018-02-03 18:00:00  -1.855785  0.884085  0.141311  1.078881\n",
       "2018-02-05 00:00:00 -11.961840  1.062556 -0.002157  1.022465\n",
       "2018-02-06 06:00:00   1.993287  1.075386 -0.124675  1.174541\n",
       "2018-02-07 12:00:00   0.819236  0.966333  0.108034  0.988324\n",
       "2018-02-08 18:00:00  -5.719170  0.893975 -0.298448  1.068394\n",
       "2018-02-10 00:00:00  -0.092149  0.908021 -0.166263  0.915916\n",
       "2018-02-11 06:00:00  -1.169049  1.067632  0.441697  0.678294"
      ]
     },
     "execution_count": 74,
     "metadata": {},
     "output_type": "execute_result"
    }
   ],
   "source": [
    "r.agg({'A' : ['sum','std'], \n",
    "       'B' : ['mean','std'] })"
   ]
  },
  {
   "cell_type": "code",
   "execution_count": 75,
   "metadata": {},
   "outputs": [
    {
     "data": {
      "text/html": [
       "<div>\n",
       "<style scoped>\n",
       "    .dataframe tbody tr th:only-of-type {\n",
       "        vertical-align: middle;\n",
       "    }\n",
       "\n",
       "    .dataframe tbody tr th {\n",
       "        vertical-align: top;\n",
       "    }\n",
       "\n",
       "    .dataframe thead th {\n",
       "        text-align: right;\n",
       "    }\n",
       "</style>\n",
       "<table border=\"1\" class=\"dataframe\">\n",
       "  <thead>\n",
       "    <tr style=\"text-align: right;\">\n",
       "      <th></th>\n",
       "      <th></th>\n",
       "      <th>date</th>\n",
       "      <th>a</th>\n",
       "    </tr>\n",
       "    <tr>\n",
       "      <th>v</th>\n",
       "      <th>d</th>\n",
       "      <th></th>\n",
       "      <th></th>\n",
       "    </tr>\n",
       "  </thead>\n",
       "  <tbody>\n",
       "    <tr>\n",
       "      <th>1</th>\n",
       "      <th>2015-01-04</th>\n",
       "      <td>2015-01-04</td>\n",
       "      <td>0</td>\n",
       "    </tr>\n",
       "    <tr>\n",
       "      <th>2</th>\n",
       "      <th>2015-01-11</th>\n",
       "      <td>2015-01-11</td>\n",
       "      <td>1</td>\n",
       "    </tr>\n",
       "    <tr>\n",
       "      <th>3</th>\n",
       "      <th>2015-01-18</th>\n",
       "      <td>2015-01-18</td>\n",
       "      <td>2</td>\n",
       "    </tr>\n",
       "    <tr>\n",
       "      <th>4</th>\n",
       "      <th>2015-01-25</th>\n",
       "      <td>2015-01-25</td>\n",
       "      <td>3</td>\n",
       "    </tr>\n",
       "    <tr>\n",
       "      <th>5</th>\n",
       "      <th>2015-02-01</th>\n",
       "      <td>2015-02-01</td>\n",
       "      <td>4</td>\n",
       "    </tr>\n",
       "  </tbody>\n",
       "</table>\n",
       "</div>"
      ],
      "text/plain": [
       "                   date  a\n",
       "v d                       \n",
       "1 2015-01-04 2015-01-04  0\n",
       "2 2015-01-11 2015-01-11  1\n",
       "3 2015-01-18 2015-01-18  2\n",
       "4 2015-01-25 2015-01-25  3\n",
       "5 2015-02-01 2015-02-01  4"
      ]
     },
     "execution_count": 75,
     "metadata": {},
     "output_type": "execute_result"
    }
   ],
   "source": [
    "index = pd.MultiIndex.from_arrays(\n",
    "    [[1,2,3,4,5], \n",
    "    pd.date_range('2015-01-01', freq='W', periods=5)], \n",
    "    names=['v','d'])\n",
    "\n",
    "data = {'date': pd.date_range('2015-01-01', freq='W', periods=5), \n",
    "        'a': np.arange(5)}\n",
    "\n",
    "df = pd.DataFrame(data=data,index=index)\n",
    "df"
   ]
  },
  {
   "cell_type": "code",
   "execution_count": 76,
   "metadata": {},
   "outputs": [
    {
     "data": {
      "text/html": [
       "<div>\n",
       "<style scoped>\n",
       "    .dataframe tbody tr th:only-of-type {\n",
       "        vertical-align: middle;\n",
       "    }\n",
       "\n",
       "    .dataframe tbody tr th {\n",
       "        vertical-align: top;\n",
       "    }\n",
       "\n",
       "    .dataframe thead th {\n",
       "        text-align: right;\n",
       "    }\n",
       "</style>\n",
       "<table border=\"1\" class=\"dataframe\">\n",
       "  <thead>\n",
       "    <tr style=\"text-align: right;\">\n",
       "      <th></th>\n",
       "      <th>a</th>\n",
       "    </tr>\n",
       "    <tr>\n",
       "      <th>date</th>\n",
       "      <th></th>\n",
       "    </tr>\n",
       "  </thead>\n",
       "  <tbody>\n",
       "    <tr>\n",
       "      <th>2015-01-31</th>\n",
       "      <td>6</td>\n",
       "    </tr>\n",
       "    <tr>\n",
       "      <th>2015-02-28</th>\n",
       "      <td>4</td>\n",
       "    </tr>\n",
       "  </tbody>\n",
       "</table>\n",
       "</div>"
      ],
      "text/plain": [
       "            a\n",
       "date         \n",
       "2015-01-31  6\n",
       "2015-02-28  4"
      ]
     },
     "execution_count": 76,
     "metadata": {},
     "output_type": "execute_result"
    }
   ],
   "source": [
    "df.resample('M', on='date').sum()"
   ]
  },
  {
   "cell_type": "markdown",
   "metadata": {},
   "source": [
    "## 6 `Period` 时间跨度\n",
    "\n",
    "- `freq` 取值为 `(D, H, T, S, L, U, N)`;"
   ]
  },
  {
   "cell_type": "code",
   "execution_count": 77,
   "metadata": {},
   "outputs": [
    {
     "data": {
      "text/plain": [
       "Period('2018', 'A-DEC')"
      ]
     },
     "metadata": {},
     "output_type": "display_data"
    },
    {
     "data": {
      "text/plain": [
       "Period('2019', 'A-DEC')"
      ]
     },
     "metadata": {},
     "output_type": "display_data"
    }
   ],
   "source": [
    "p = pd.Period('2018', freq='A-DEC')\n",
    "\n",
    "display(p, p + 1)"
   ]
  },
  {
   "cell_type": "code",
   "execution_count": 78,
   "metadata": {},
   "outputs": [
    {
     "data": {
      "text/plain": [
       "Period('2018-01-01', 'D')"
      ]
     },
     "metadata": {},
     "output_type": "display_data"
    },
    {
     "data": {
      "text/plain": [
       "Period('2017-12-29', 'D')"
      ]
     },
     "metadata": {},
     "output_type": "display_data"
    }
   ],
   "source": [
    "p = pd.Period('2018-1-1', freq='D')\n",
    "\n",
    "display(p, p-3)"
   ]
  },
  {
   "cell_type": "code",
   "execution_count": 79,
   "metadata": {},
   "outputs": [],
   "source": [
    "p = pd.Period('2018-1-1 19:00', freq='H')"
   ]
  },
  {
   "cell_type": "code",
   "execution_count": 80,
   "metadata": {},
   "outputs": [
    {
     "data": {
      "text/plain": [
       "Period('2018-01-01 19:00', '5H')"
      ]
     },
     "execution_count": 80,
     "metadata": {},
     "output_type": "execute_result"
    }
   ],
   "source": [
    "pd.Period('2018-1-1 19:00', freq='5H')"
   ]
  },
  {
   "cell_type": "markdown",
   "metadata": {},
   "source": [
    "- `offset` 和 `timedelta` 的区别"
   ]
  },
  {
   "cell_type": "code",
   "execution_count": 81,
   "metadata": {},
   "outputs": [
    {
     "data": {
      "text/plain": [
       "Period('2014-07-01 09:00', 'H')"
      ]
     },
     "metadata": {},
     "output_type": "display_data"
    },
    {
     "data": {
      "text/plain": [
       "Period('2014-07-01 11:00', 'H')"
      ]
     },
     "metadata": {},
     "output_type": "display_data"
    },
    {
     "data": {
      "text/plain": [
       "Period('2014-07-01 11:00', 'H')"
      ]
     },
     "metadata": {},
     "output_type": "display_data"
    },
    {
     "data": {
      "text/plain": [
       "Period('2014-07-01 11:00', 'H')"
      ]
     },
     "metadata": {},
     "output_type": "display_data"
    },
    {
     "name": "stdout",
     "output_type": "stream",
     "text": [
      "Error: Input cannot be converted to Period(freq=H)\n"
     ]
    }
   ],
   "source": [
    "p = pd.Period('2014-07-01 09:00', freq='H')\n",
    "\n",
    "p1 = p + Hour(2)\n",
    "p2 = p + timedelta(minutes=120)\n",
    "p3 = p + np.timedelta64(7200, 's')\n",
    "\n",
    "display(\n",
    "    p,\n",
    "    p1,\n",
    "    p2,\n",
    "    p3,\n",
    ")\n",
    "\n",
    "# 只有频率相同的才可以相加\n",
    "try:\n",
    "    p + Minute(5)\n",
    "except Exception as e:\n",
    "    print(f\"Error: {e}\")"
   ]
  },
  {
   "cell_type": "code",
   "execution_count": 82,
   "metadata": {},
   "outputs": [
    {
     "name": "stdout",
     "output_type": "stream",
     "text": [
      "Error: Input has different freq=3MS from Period(freq=M)\n"
     ]
    },
    {
     "data": {
      "text/plain": [
       "Period('2014-10', 'M')"
      ]
     },
     "metadata": {},
     "output_type": "display_data"
    }
   ],
   "source": [
    "# 月份差异\n",
    "p = pd.Period('2014-07', freq='M')\n",
    "p1 = p + MonthEnd(3)\n",
    "try:\n",
    "    p2 = p + MonthBegin(3)\n",
    "except Exception as e:\n",
    "    print(f\"Error: {e}\")\n",
    "\n",
    "display(p1)"
   ]
  },
  {
   "cell_type": "code",
   "execution_count": 83,
   "metadata": {},
   "outputs": [
    {
     "data": {
      "text/plain": [
       "-10"
      ]
     },
     "metadata": {},
     "output_type": "display_data"
    }
   ],
   "source": [
    "p1 = pd.Period('2012', freq='A-DEC')\n",
    "p2 = pd.Period('2002', freq='A-DEC')\n",
    "\n",
    "display(p2 - p1)"
   ]
  },
  {
   "cell_type": "markdown",
   "metadata": {},
   "source": [
    "### 6.2 `period_index` 周期指数和周期范围 `period_range`"
   ]
  },
  {
   "cell_type": "code",
   "execution_count": 84,
   "metadata": {},
   "outputs": [
    {
     "data": {
      "text/plain": [
       "PeriodIndex(['2011-01', '2011-02', '2011-03', '2011-04', '2011-05', '2011-06',\n",
       "             '2011-07', '2011-08', '2011-09', '2011-10', '2011-11', '2011-12',\n",
       "             '2012-01'],\n",
       "            dtype='period[M]', freq='M')"
      ]
     },
     "execution_count": 84,
     "metadata": {},
     "output_type": "execute_result"
    }
   ],
   "source": [
    "prng = pd.period_range('1/1/2011', '1/1/2012', \n",
    "                       freq='M')\n",
    "prng"
   ]
  },
  {
   "cell_type": "code",
   "execution_count": 85,
   "metadata": {},
   "outputs": [
    {
     "data": {
      "text/plain": [
       "PeriodIndex(['2011-01', '2011-02', '2011-03'], dtype='period[M]', freq='M')"
      ]
     },
     "execution_count": 85,
     "metadata": {},
     "output_type": "execute_result"
    }
   ],
   "source": [
    "pd.PeriodIndex(['2011-1', '2011-2', '2011-3'], \n",
    "               freq='M')"
   ]
  },
  {
   "cell_type": "code",
   "execution_count": 86,
   "metadata": {},
   "outputs": [
    {
     "data": {
      "text/plain": [
       "PeriodIndex(['2014-01', '2014-04', '2014-07', '2014-10'], dtype='period[3M]', freq='3M')"
      ]
     },
     "execution_count": 86,
     "metadata": {},
     "output_type": "execute_result"
    }
   ],
   "source": [
    "pd.PeriodIndex(start='2014-01', \n",
    "               freq='3M', \n",
    "               periods=4)"
   ]
  },
  {
   "cell_type": "code",
   "execution_count": 87,
   "metadata": {},
   "outputs": [
    {
     "data": {
      "text/plain": [
       "PeriodIndex(['2017-03', '2017-04', '2017-05', '2017-06'], dtype='period[M]', freq='M')"
      ]
     },
     "execution_count": 87,
     "metadata": {},
     "output_type": "execute_result"
    }
   ],
   "source": [
    "pd.PeriodIndex(\n",
    "    start=pd.Period('2017Q1', freq='Q'),\n",
    "    end=pd.Period('2017Q2', freq='Q'), \n",
    "    freq='M')"
   ]
  },
  {
   "cell_type": "code",
   "execution_count": 88,
   "metadata": {},
   "outputs": [
    {
     "data": {
      "text/plain": [
       "2011-01   -0.534796\n",
       "2011-02    0.591118\n",
       "2011-03   -1.171746\n",
       "2011-04   -1.731343\n",
       "2011-05    0.942469\n",
       "2011-06    0.264055\n",
       "2011-07    0.097198\n",
       "2011-08    1.623017\n",
       "2011-09   -0.499368\n",
       "2011-10   -0.503337\n",
       "2011-11   -0.081254\n",
       "2011-12    0.438441\n",
       "2012-01    0.464529\n",
       "Freq: M, dtype: float64"
      ]
     },
     "execution_count": 88,
     "metadata": {},
     "output_type": "execute_result"
    }
   ],
   "source": [
    "# 创建 series\n",
    "ps = pd.Series(np.random.randn(len(prng)), prng)\n",
    "ps"
   ]
  },
  {
   "cell_type": "code",
   "execution_count": 89,
   "metadata": {},
   "outputs": [
    {
     "data": {
      "text/plain": [
       "PeriodIndex(['2014-07-01 09:00', '2014-07-01 10:00', '2014-07-01 11:00',\n",
       "             '2014-07-01 12:00', '2014-07-01 13:00'],\n",
       "            dtype='period[H]', freq='H')"
      ]
     },
     "metadata": {},
     "output_type": "display_data"
    },
    {
     "data": {
      "text/plain": [
       "PeriodIndex(['2014-07-01 11:00', '2014-07-01 12:00', '2014-07-01 13:00',\n",
       "             '2014-07-01 14:00', '2014-07-01 15:00'],\n",
       "            dtype='period[H]', freq='H')"
      ]
     },
     "metadata": {},
     "output_type": "display_data"
    }
   ],
   "source": [
    "# PeriodIndex 支持加减法\n",
    "idx = pd.period_range('2014-07-01 09:00', periods=5, freq='H')\n",
    "\n",
    "display(\n",
    "    idx,\n",
    "    idx+Hour(2),\n",
    ")"
   ]
  },
  {
   "cell_type": "code",
   "execution_count": 90,
   "metadata": {},
   "outputs": [
    {
     "data": {
      "text/plain": [
       "PeriodIndex(['2014-07', '2014-08', '2014-09', '2014-10', '2014-11'], dtype='period[M]', freq='M')"
      ]
     },
     "metadata": {},
     "output_type": "display_data"
    },
    {
     "data": {
      "text/plain": [
       "PeriodIndex(['2014-10', '2014-11', '2014-12', '2015-01', '2015-02'], dtype='period[M]', freq='M')"
      ]
     },
     "metadata": {},
     "output_type": "display_data"
    }
   ],
   "source": [
    "idx = pd.period_range('2014-07', periods=5, freq='M')\n",
    "\n",
    "display(\n",
    "    idx,\n",
    "    idx + MonthEnd(3),\n",
    ")"
   ]
  },
  {
   "cell_type": "markdown",
   "metadata": {},
   "source": [
    "### 6.3 `Period Dtype`\n",
    "\n",
    "- 时区感知"
   ]
  },
  {
   "cell_type": "code",
   "execution_count": 91,
   "metadata": {},
   "outputs": [
    {
     "data": {
      "text/plain": [
       "PeriodIndex(['2016-01', '2016-02', '2016-03'], dtype='period[M]', freq='M')"
      ]
     },
     "metadata": {},
     "output_type": "display_data"
    },
    {
     "data": {
      "text/plain": [
       "period[M]"
      ]
     },
     "metadata": {},
     "output_type": "display_data"
    },
    {
     "data": {
      "text/plain": [
       "PeriodIndex(['2016-01-31', '2016-02-29', '2016-03-31'], dtype='period[D]', freq='D')"
      ]
     },
     "metadata": {},
     "output_type": "display_data"
    },
    {
     "data": {
      "text/plain": [
       "DatetimeIndex(['2016-01-01', '2016-02-01', '2016-03-01'], dtype='datetime64[ns]', freq='MS')"
      ]
     },
     "metadata": {},
     "output_type": "display_data"
    }
   ],
   "source": [
    "pi = pd.period_range('2016-01-01', periods=3, freq='M')\n",
    "\n",
    "display(\n",
    "    pi,\n",
    "    pi.dtype,\n",
    "    pi.astype('period[D]'),\n",
    "    pi.astype('datetime64[ns]'),  #转换为datetime\n",
    ")"
   ]
  },
  {
   "cell_type": "code",
   "execution_count": 92,
   "metadata": {},
   "outputs": [
    {
     "data": {
      "text/plain": [
       "DatetimeIndex(['2011-01-31', '2011-02-28', '2011-03-31'], dtype='datetime64[ns]', freq='M')"
      ]
     },
     "metadata": {},
     "output_type": "display_data"
    },
    {
     "data": {
      "text/plain": [
       "PeriodIndex(['2011-01', '2011-02', '2011-03'], dtype='period[M]', freq='M')"
      ]
     },
     "metadata": {},
     "output_type": "display_data"
    }
   ],
   "source": [
    "# datetimeIndex => periodIndex\n",
    "dti = pd.date_range('2011-01-01', freq='M', periods=3)\n",
    "\n",
    "display(\n",
    "    dti,\n",
    "    dti.astype('period[M]')\n",
    ")"
   ]
  },
  {
   "cell_type": "markdown",
   "metadata": {},
   "source": [
    "### 6.4 `Period` 索引"
   ]
  },
  {
   "cell_type": "code",
   "execution_count": 93,
   "metadata": {},
   "outputs": [
    {
     "data": {
      "text/plain": [
       "2011-01   -0.534796\n",
       "2011-02    0.591118\n",
       "2011-03   -1.171746\n",
       "2011-04   -1.731343\n",
       "2011-05    0.942469\n",
       "2011-06    0.264055\n",
       "2011-07    0.097198\n",
       "2011-08    1.623017\n",
       "2011-09   -0.499368\n",
       "2011-10   -0.503337\n",
       "2011-11   -0.081254\n",
       "2011-12    0.438441\n",
       "2012-01    0.464529\n",
       "Freq: M, dtype: float64"
      ]
     },
     "metadata": {},
     "output_type": "display_data"
    },
    {
     "data": {
      "text/plain": [
       "-0.5347959538144712"
      ]
     },
     "metadata": {},
     "output_type": "display_data"
    },
    {
     "data": {
      "text/plain": [
       "2011-12    0.438441\n",
       "2012-01    0.464529\n",
       "Freq: M, dtype: float64"
      ]
     },
     "metadata": {},
     "output_type": "display_data"
    },
    {
     "data": {
      "text/plain": [
       "2011-10   -0.503337\n",
       "2011-11   -0.081254\n",
       "2011-12    0.438441\n",
       "Freq: M, dtype: float64"
      ]
     },
     "metadata": {},
     "output_type": "display_data"
    }
   ],
   "source": [
    "display(\n",
    "    ps,\n",
    "    ps['2011-01'],\n",
    "    ps[datetime(2011, 12, 25):],\n",
    "    ps['10/31/2011':'12/31/2011'],\n",
    ")"
   ]
  },
  {
   "cell_type": "code",
   "execution_count": 94,
   "metadata": {},
   "outputs": [
    {
     "data": {
      "text/plain": [
       "2011-01   -0.534796\n",
       "2011-02    0.591118\n",
       "2011-03   -1.171746\n",
       "2011-04   -1.731343\n",
       "2011-05    0.942469\n",
       "2011-06    0.264055\n",
       "2011-07    0.097198\n",
       "2011-08    1.623017\n",
       "2011-09   -0.499368\n",
       "2011-10   -0.503337\n",
       "2011-11   -0.081254\n",
       "2011-12    0.438441\n",
       "Freq: M, dtype: float64"
      ]
     },
     "execution_count": 94,
     "metadata": {},
     "output_type": "execute_result"
    }
   ],
   "source": [
    "# 传递频率低于 PeriodIndex 的切片数据\n",
    "ps['2011']"
   ]
  },
  {
   "cell_type": "code",
   "execution_count": 95,
   "metadata": {},
   "outputs": [
    {
     "data": {
      "text/html": [
       "<div>\n",
       "<style scoped>\n",
       "    .dataframe tbody tr th:only-of-type {\n",
       "        vertical-align: middle;\n",
       "    }\n",
       "\n",
       "    .dataframe tbody tr th {\n",
       "        vertical-align: top;\n",
       "    }\n",
       "\n",
       "    .dataframe thead th {\n",
       "        text-align: right;\n",
       "    }\n",
       "</style>\n",
       "<table border=\"1\" class=\"dataframe\">\n",
       "  <thead>\n",
       "    <tr style=\"text-align: right;\">\n",
       "      <th></th>\n",
       "      <th>A</th>\n",
       "    </tr>\n",
       "  </thead>\n",
       "  <tbody>\n",
       "    <tr>\n",
       "      <th>2013-01-01 10:00</th>\n",
       "      <td>0.204561</td>\n",
       "    </tr>\n",
       "    <tr>\n",
       "      <th>2013-01-01 10:01</th>\n",
       "      <td>0.328049</td>\n",
       "    </tr>\n",
       "    <tr>\n",
       "      <th>2013-01-01 10:02</th>\n",
       "      <td>-1.019019</td>\n",
       "    </tr>\n",
       "    <tr>\n",
       "      <th>2013-01-01 10:03</th>\n",
       "      <td>1.404413</td>\n",
       "    </tr>\n",
       "    <tr>\n",
       "      <th>2013-01-01 10:04</th>\n",
       "      <td>-1.649659</td>\n",
       "    </tr>\n",
       "    <tr>\n",
       "      <th>2013-01-01 10:05</th>\n",
       "      <td>0.680598</td>\n",
       "    </tr>\n",
       "    <tr>\n",
       "      <th>2013-01-01 10:06</th>\n",
       "      <td>-0.284703</td>\n",
       "    </tr>\n",
       "    <tr>\n",
       "      <th>2013-01-01 10:07</th>\n",
       "      <td>-0.909449</td>\n",
       "    </tr>\n",
       "    <tr>\n",
       "      <th>2013-01-01 10:08</th>\n",
       "      <td>-0.756880</td>\n",
       "    </tr>\n",
       "    <tr>\n",
       "      <th>2013-01-01 10:09</th>\n",
       "      <td>-0.316692</td>\n",
       "    </tr>\n",
       "    <tr>\n",
       "      <th>2013-01-01 10:10</th>\n",
       "      <td>-1.452174</td>\n",
       "    </tr>\n",
       "    <tr>\n",
       "      <th>2013-01-01 10:11</th>\n",
       "      <td>1.644992</td>\n",
       "    </tr>\n",
       "    <tr>\n",
       "      <th>2013-01-01 10:12</th>\n",
       "      <td>-0.127326</td>\n",
       "    </tr>\n",
       "    <tr>\n",
       "      <th>2013-01-01 10:13</th>\n",
       "      <td>0.714401</td>\n",
       "    </tr>\n",
       "    <tr>\n",
       "      <th>2013-01-01 10:14</th>\n",
       "      <td>0.204877</td>\n",
       "    </tr>\n",
       "    <tr>\n",
       "      <th>2013-01-01 10:15</th>\n",
       "      <td>-0.140504</td>\n",
       "    </tr>\n",
       "    <tr>\n",
       "      <th>2013-01-01 10:16</th>\n",
       "      <td>1.310931</td>\n",
       "    </tr>\n",
       "    <tr>\n",
       "      <th>2013-01-01 10:17</th>\n",
       "      <td>-0.874514</td>\n",
       "    </tr>\n",
       "    <tr>\n",
       "      <th>2013-01-01 10:18</th>\n",
       "      <td>1.914584</td>\n",
       "    </tr>\n",
       "    <tr>\n",
       "      <th>2013-01-01 10:19</th>\n",
       "      <td>2.022965</td>\n",
       "    </tr>\n",
       "    <tr>\n",
       "      <th>2013-01-01 10:20</th>\n",
       "      <td>1.395859</td>\n",
       "    </tr>\n",
       "    <tr>\n",
       "      <th>2013-01-01 10:21</th>\n",
       "      <td>-2.775379</td>\n",
       "    </tr>\n",
       "    <tr>\n",
       "      <th>2013-01-01 10:22</th>\n",
       "      <td>0.696533</td>\n",
       "    </tr>\n",
       "    <tr>\n",
       "      <th>2013-01-01 10:23</th>\n",
       "      <td>2.331079</td>\n",
       "    </tr>\n",
       "    <tr>\n",
       "      <th>2013-01-01 10:24</th>\n",
       "      <td>-1.416183</td>\n",
       "    </tr>\n",
       "    <tr>\n",
       "      <th>2013-01-01 10:25</th>\n",
       "      <td>0.301863</td>\n",
       "    </tr>\n",
       "    <tr>\n",
       "      <th>2013-01-01 10:26</th>\n",
       "      <td>-0.776118</td>\n",
       "    </tr>\n",
       "    <tr>\n",
       "      <th>2013-01-01 10:27</th>\n",
       "      <td>0.770715</td>\n",
       "    </tr>\n",
       "    <tr>\n",
       "      <th>2013-01-01 10:28</th>\n",
       "      <td>-0.202254</td>\n",
       "    </tr>\n",
       "    <tr>\n",
       "      <th>2013-01-01 10:29</th>\n",
       "      <td>-1.585370</td>\n",
       "    </tr>\n",
       "    <tr>\n",
       "      <th>2013-01-01 10:30</th>\n",
       "      <td>-1.837845</td>\n",
       "    </tr>\n",
       "    <tr>\n",
       "      <th>2013-01-01 10:31</th>\n",
       "      <td>1.198817</td>\n",
       "    </tr>\n",
       "    <tr>\n",
       "      <th>2013-01-01 10:32</th>\n",
       "      <td>-0.594926</td>\n",
       "    </tr>\n",
       "    <tr>\n",
       "      <th>2013-01-01 10:33</th>\n",
       "      <td>0.581466</td>\n",
       "    </tr>\n",
       "    <tr>\n",
       "      <th>2013-01-01 10:34</th>\n",
       "      <td>1.915632</td>\n",
       "    </tr>\n",
       "    <tr>\n",
       "      <th>2013-01-01 10:35</th>\n",
       "      <td>0.326461</td>\n",
       "    </tr>\n",
       "    <tr>\n",
       "      <th>2013-01-01 10:36</th>\n",
       "      <td>0.891768</td>\n",
       "    </tr>\n",
       "    <tr>\n",
       "      <th>2013-01-01 10:37</th>\n",
       "      <td>-0.321333</td>\n",
       "    </tr>\n",
       "    <tr>\n",
       "      <th>2013-01-01 10:38</th>\n",
       "      <td>-0.415513</td>\n",
       "    </tr>\n",
       "    <tr>\n",
       "      <th>2013-01-01 10:39</th>\n",
       "      <td>1.372198</td>\n",
       "    </tr>\n",
       "    <tr>\n",
       "      <th>2013-01-01 10:40</th>\n",
       "      <td>1.083454</td>\n",
       "    </tr>\n",
       "    <tr>\n",
       "      <th>2013-01-01 10:41</th>\n",
       "      <td>0.354623</td>\n",
       "    </tr>\n",
       "    <tr>\n",
       "      <th>2013-01-01 10:42</th>\n",
       "      <td>0.779122</td>\n",
       "    </tr>\n",
       "    <tr>\n",
       "      <th>2013-01-01 10:43</th>\n",
       "      <td>1.043363</td>\n",
       "    </tr>\n",
       "    <tr>\n",
       "      <th>2013-01-01 10:44</th>\n",
       "      <td>2.285266</td>\n",
       "    </tr>\n",
       "    <tr>\n",
       "      <th>2013-01-01 10:45</th>\n",
       "      <td>1.644321</td>\n",
       "    </tr>\n",
       "    <tr>\n",
       "      <th>2013-01-01 10:46</th>\n",
       "      <td>0.701438</td>\n",
       "    </tr>\n",
       "    <tr>\n",
       "      <th>2013-01-01 10:47</th>\n",
       "      <td>1.646930</td>\n",
       "    </tr>\n",
       "    <tr>\n",
       "      <th>2013-01-01 10:48</th>\n",
       "      <td>0.684357</td>\n",
       "    </tr>\n",
       "    <tr>\n",
       "      <th>2013-01-01 10:49</th>\n",
       "      <td>-0.276492</td>\n",
       "    </tr>\n",
       "    <tr>\n",
       "      <th>2013-01-01 10:50</th>\n",
       "      <td>-0.329734</td>\n",
       "    </tr>\n",
       "    <tr>\n",
       "      <th>2013-01-01 10:51</th>\n",
       "      <td>-0.574377</td>\n",
       "    </tr>\n",
       "    <tr>\n",
       "      <th>2013-01-01 10:52</th>\n",
       "      <td>0.161124</td>\n",
       "    </tr>\n",
       "    <tr>\n",
       "      <th>2013-01-01 10:53</th>\n",
       "      <td>-0.470852</td>\n",
       "    </tr>\n",
       "    <tr>\n",
       "      <th>2013-01-01 10:54</th>\n",
       "      <td>-0.018623</td>\n",
       "    </tr>\n",
       "    <tr>\n",
       "      <th>2013-01-01 10:55</th>\n",
       "      <td>0.702087</td>\n",
       "    </tr>\n",
       "    <tr>\n",
       "      <th>2013-01-01 10:56</th>\n",
       "      <td>0.457559</td>\n",
       "    </tr>\n",
       "    <tr>\n",
       "      <th>2013-01-01 10:57</th>\n",
       "      <td>-0.648943</td>\n",
       "    </tr>\n",
       "    <tr>\n",
       "      <th>2013-01-01 10:58</th>\n",
       "      <td>1.292799</td>\n",
       "    </tr>\n",
       "    <tr>\n",
       "      <th>2013-01-01 10:59</th>\n",
       "      <td>0.721389</td>\n",
       "    </tr>\n",
       "  </tbody>\n",
       "</table>\n",
       "</div>"
      ],
      "text/plain": [
       "                         A\n",
       "2013-01-01 10:00  0.204561\n",
       "2013-01-01 10:01  0.328049\n",
       "2013-01-01 10:02 -1.019019\n",
       "2013-01-01 10:03  1.404413\n",
       "2013-01-01 10:04 -1.649659\n",
       "2013-01-01 10:05  0.680598\n",
       "2013-01-01 10:06 -0.284703\n",
       "2013-01-01 10:07 -0.909449\n",
       "2013-01-01 10:08 -0.756880\n",
       "2013-01-01 10:09 -0.316692\n",
       "2013-01-01 10:10 -1.452174\n",
       "2013-01-01 10:11  1.644992\n",
       "2013-01-01 10:12 -0.127326\n",
       "2013-01-01 10:13  0.714401\n",
       "2013-01-01 10:14  0.204877\n",
       "2013-01-01 10:15 -0.140504\n",
       "2013-01-01 10:16  1.310931\n",
       "2013-01-01 10:17 -0.874514\n",
       "2013-01-01 10:18  1.914584\n",
       "2013-01-01 10:19  2.022965\n",
       "2013-01-01 10:20  1.395859\n",
       "2013-01-01 10:21 -2.775379\n",
       "2013-01-01 10:22  0.696533\n",
       "2013-01-01 10:23  2.331079\n",
       "2013-01-01 10:24 -1.416183\n",
       "2013-01-01 10:25  0.301863\n",
       "2013-01-01 10:26 -0.776118\n",
       "2013-01-01 10:27  0.770715\n",
       "2013-01-01 10:28 -0.202254\n",
       "2013-01-01 10:29 -1.585370\n",
       "2013-01-01 10:30 -1.837845\n",
       "2013-01-01 10:31  1.198817\n",
       "2013-01-01 10:32 -0.594926\n",
       "2013-01-01 10:33  0.581466\n",
       "2013-01-01 10:34  1.915632\n",
       "2013-01-01 10:35  0.326461\n",
       "2013-01-01 10:36  0.891768\n",
       "2013-01-01 10:37 -0.321333\n",
       "2013-01-01 10:38 -0.415513\n",
       "2013-01-01 10:39  1.372198\n",
       "2013-01-01 10:40  1.083454\n",
       "2013-01-01 10:41  0.354623\n",
       "2013-01-01 10:42  0.779122\n",
       "2013-01-01 10:43  1.043363\n",
       "2013-01-01 10:44  2.285266\n",
       "2013-01-01 10:45  1.644321\n",
       "2013-01-01 10:46  0.701438\n",
       "2013-01-01 10:47  1.646930\n",
       "2013-01-01 10:48  0.684357\n",
       "2013-01-01 10:49 -0.276492\n",
       "2013-01-01 10:50 -0.329734\n",
       "2013-01-01 10:51 -0.574377\n",
       "2013-01-01 10:52  0.161124\n",
       "2013-01-01 10:53 -0.470852\n",
       "2013-01-01 10:54 -0.018623\n",
       "2013-01-01 10:55  0.702087\n",
       "2013-01-01 10:56  0.457559\n",
       "2013-01-01 10:57 -0.648943\n",
       "2013-01-01 10:58  1.292799\n",
       "2013-01-01 10:59  0.721389"
      ]
     },
     "execution_count": 95,
     "metadata": {},
     "output_type": "execute_result"
    }
   ],
   "source": [
    "dfp = pd.DataFrame(\n",
    "    np.random.randn(600,1),               \n",
    "    columns=['A'],\n",
    "    index=pd.period_range('2013-01-01 9:00', periods=600, freq='T'))\n",
    "\n",
    "dfp['2013-01-01 10H']"
   ]
  },
  {
   "cell_type": "code",
   "execution_count": 96,
   "metadata": {},
   "outputs": [
    {
     "data": {
      "text/html": [
       "<div>\n",
       "<style scoped>\n",
       "    .dataframe tbody tr th:only-of-type {\n",
       "        vertical-align: middle;\n",
       "    }\n",
       "\n",
       "    .dataframe tbody tr th {\n",
       "        vertical-align: top;\n",
       "    }\n",
       "\n",
       "    .dataframe thead th {\n",
       "        text-align: right;\n",
       "    }\n",
       "</style>\n",
       "<table border=\"1\" class=\"dataframe\">\n",
       "  <thead>\n",
       "    <tr style=\"text-align: right;\">\n",
       "      <th></th>\n",
       "      <th>A</th>\n",
       "    </tr>\n",
       "  </thead>\n",
       "  <tbody>\n",
       "    <tr>\n",
       "      <th>2013-01-01 10:00</th>\n",
       "      <td>0.204561</td>\n",
       "    </tr>\n",
       "    <tr>\n",
       "      <th>2013-01-01 10:01</th>\n",
       "      <td>0.328049</td>\n",
       "    </tr>\n",
       "    <tr>\n",
       "      <th>2013-01-01 10:02</th>\n",
       "      <td>-1.019019</td>\n",
       "    </tr>\n",
       "    <tr>\n",
       "      <th>2013-01-01 10:03</th>\n",
       "      <td>1.404413</td>\n",
       "    </tr>\n",
       "    <tr>\n",
       "      <th>2013-01-01 10:04</th>\n",
       "      <td>-1.649659</td>\n",
       "    </tr>\n",
       "    <tr>\n",
       "      <th>2013-01-01 10:05</th>\n",
       "      <td>0.680598</td>\n",
       "    </tr>\n",
       "    <tr>\n",
       "      <th>2013-01-01 10:06</th>\n",
       "      <td>-0.284703</td>\n",
       "    </tr>\n",
       "    <tr>\n",
       "      <th>2013-01-01 10:07</th>\n",
       "      <td>-0.909449</td>\n",
       "    </tr>\n",
       "    <tr>\n",
       "      <th>2013-01-01 10:08</th>\n",
       "      <td>-0.756880</td>\n",
       "    </tr>\n",
       "    <tr>\n",
       "      <th>2013-01-01 10:09</th>\n",
       "      <td>-0.316692</td>\n",
       "    </tr>\n",
       "    <tr>\n",
       "      <th>2013-01-01 10:10</th>\n",
       "      <td>-1.452174</td>\n",
       "    </tr>\n",
       "    <tr>\n",
       "      <th>2013-01-01 10:11</th>\n",
       "      <td>1.644992</td>\n",
       "    </tr>\n",
       "    <tr>\n",
       "      <th>2013-01-01 10:12</th>\n",
       "      <td>-0.127326</td>\n",
       "    </tr>\n",
       "    <tr>\n",
       "      <th>2013-01-01 10:13</th>\n",
       "      <td>0.714401</td>\n",
       "    </tr>\n",
       "    <tr>\n",
       "      <th>2013-01-01 10:14</th>\n",
       "      <td>0.204877</td>\n",
       "    </tr>\n",
       "    <tr>\n",
       "      <th>2013-01-01 10:15</th>\n",
       "      <td>-0.140504</td>\n",
       "    </tr>\n",
       "    <tr>\n",
       "      <th>2013-01-01 10:16</th>\n",
       "      <td>1.310931</td>\n",
       "    </tr>\n",
       "    <tr>\n",
       "      <th>2013-01-01 10:17</th>\n",
       "      <td>-0.874514</td>\n",
       "    </tr>\n",
       "    <tr>\n",
       "      <th>2013-01-01 10:18</th>\n",
       "      <td>1.914584</td>\n",
       "    </tr>\n",
       "    <tr>\n",
       "      <th>2013-01-01 10:19</th>\n",
       "      <td>2.022965</td>\n",
       "    </tr>\n",
       "    <tr>\n",
       "      <th>2013-01-01 10:20</th>\n",
       "      <td>1.395859</td>\n",
       "    </tr>\n",
       "    <tr>\n",
       "      <th>2013-01-01 10:21</th>\n",
       "      <td>-2.775379</td>\n",
       "    </tr>\n",
       "    <tr>\n",
       "      <th>2013-01-01 10:22</th>\n",
       "      <td>0.696533</td>\n",
       "    </tr>\n",
       "    <tr>\n",
       "      <th>2013-01-01 10:23</th>\n",
       "      <td>2.331079</td>\n",
       "    </tr>\n",
       "    <tr>\n",
       "      <th>2013-01-01 10:24</th>\n",
       "      <td>-1.416183</td>\n",
       "    </tr>\n",
       "    <tr>\n",
       "      <th>2013-01-01 10:25</th>\n",
       "      <td>0.301863</td>\n",
       "    </tr>\n",
       "    <tr>\n",
       "      <th>2013-01-01 10:26</th>\n",
       "      <td>-0.776118</td>\n",
       "    </tr>\n",
       "    <tr>\n",
       "      <th>2013-01-01 10:27</th>\n",
       "      <td>0.770715</td>\n",
       "    </tr>\n",
       "    <tr>\n",
       "      <th>2013-01-01 10:28</th>\n",
       "      <td>-0.202254</td>\n",
       "    </tr>\n",
       "    <tr>\n",
       "      <th>2013-01-01 10:29</th>\n",
       "      <td>-1.585370</td>\n",
       "    </tr>\n",
       "    <tr>\n",
       "      <th>...</th>\n",
       "      <td>...</td>\n",
       "    </tr>\n",
       "    <tr>\n",
       "      <th>2013-01-01 11:30</th>\n",
       "      <td>-1.012166</td>\n",
       "    </tr>\n",
       "    <tr>\n",
       "      <th>2013-01-01 11:31</th>\n",
       "      <td>-0.289564</td>\n",
       "    </tr>\n",
       "    <tr>\n",
       "      <th>2013-01-01 11:32</th>\n",
       "      <td>0.286630</td>\n",
       "    </tr>\n",
       "    <tr>\n",
       "      <th>2013-01-01 11:33</th>\n",
       "      <td>-1.613001</td>\n",
       "    </tr>\n",
       "    <tr>\n",
       "      <th>2013-01-01 11:34</th>\n",
       "      <td>0.396585</td>\n",
       "    </tr>\n",
       "    <tr>\n",
       "      <th>2013-01-01 11:35</th>\n",
       "      <td>-0.268406</td>\n",
       "    </tr>\n",
       "    <tr>\n",
       "      <th>2013-01-01 11:36</th>\n",
       "      <td>-1.611172</td>\n",
       "    </tr>\n",
       "    <tr>\n",
       "      <th>2013-01-01 11:37</th>\n",
       "      <td>0.035092</td>\n",
       "    </tr>\n",
       "    <tr>\n",
       "      <th>2013-01-01 11:38</th>\n",
       "      <td>0.381351</td>\n",
       "    </tr>\n",
       "    <tr>\n",
       "      <th>2013-01-01 11:39</th>\n",
       "      <td>-0.069098</td>\n",
       "    </tr>\n",
       "    <tr>\n",
       "      <th>2013-01-01 11:40</th>\n",
       "      <td>1.624868</td>\n",
       "    </tr>\n",
       "    <tr>\n",
       "      <th>2013-01-01 11:41</th>\n",
       "      <td>-0.780032</td>\n",
       "    </tr>\n",
       "    <tr>\n",
       "      <th>2013-01-01 11:42</th>\n",
       "      <td>-2.166783</td>\n",
       "    </tr>\n",
       "    <tr>\n",
       "      <th>2013-01-01 11:43</th>\n",
       "      <td>-1.049559</td>\n",
       "    </tr>\n",
       "    <tr>\n",
       "      <th>2013-01-01 11:44</th>\n",
       "      <td>1.128761</td>\n",
       "    </tr>\n",
       "    <tr>\n",
       "      <th>2013-01-01 11:45</th>\n",
       "      <td>0.590849</td>\n",
       "    </tr>\n",
       "    <tr>\n",
       "      <th>2013-01-01 11:46</th>\n",
       "      <td>0.257656</td>\n",
       "    </tr>\n",
       "    <tr>\n",
       "      <th>2013-01-01 11:47</th>\n",
       "      <td>0.352337</td>\n",
       "    </tr>\n",
       "    <tr>\n",
       "      <th>2013-01-01 11:48</th>\n",
       "      <td>-0.397400</td>\n",
       "    </tr>\n",
       "    <tr>\n",
       "      <th>2013-01-01 11:49</th>\n",
       "      <td>-2.172018</td>\n",
       "    </tr>\n",
       "    <tr>\n",
       "      <th>2013-01-01 11:50</th>\n",
       "      <td>0.741070</td>\n",
       "    </tr>\n",
       "    <tr>\n",
       "      <th>2013-01-01 11:51</th>\n",
       "      <td>2.355372</td>\n",
       "    </tr>\n",
       "    <tr>\n",
       "      <th>2013-01-01 11:52</th>\n",
       "      <td>-2.161268</td>\n",
       "    </tr>\n",
       "    <tr>\n",
       "      <th>2013-01-01 11:53</th>\n",
       "      <td>-1.241075</td>\n",
       "    </tr>\n",
       "    <tr>\n",
       "      <th>2013-01-01 11:54</th>\n",
       "      <td>-0.954110</td>\n",
       "    </tr>\n",
       "    <tr>\n",
       "      <th>2013-01-01 11:55</th>\n",
       "      <td>1.065851</td>\n",
       "    </tr>\n",
       "    <tr>\n",
       "      <th>2013-01-01 11:56</th>\n",
       "      <td>-0.179681</td>\n",
       "    </tr>\n",
       "    <tr>\n",
       "      <th>2013-01-01 11:57</th>\n",
       "      <td>-0.875434</td>\n",
       "    </tr>\n",
       "    <tr>\n",
       "      <th>2013-01-01 11:58</th>\n",
       "      <td>-0.656766</td>\n",
       "    </tr>\n",
       "    <tr>\n",
       "      <th>2013-01-01 11:59</th>\n",
       "      <td>-0.136877</td>\n",
       "    </tr>\n",
       "  </tbody>\n",
       "</table>\n",
       "<p>120 rows × 1 columns</p>\n",
       "</div>"
      ],
      "text/plain": [
       "                         A\n",
       "2013-01-01 10:00  0.204561\n",
       "2013-01-01 10:01  0.328049\n",
       "2013-01-01 10:02 -1.019019\n",
       "2013-01-01 10:03  1.404413\n",
       "2013-01-01 10:04 -1.649659\n",
       "2013-01-01 10:05  0.680598\n",
       "2013-01-01 10:06 -0.284703\n",
       "2013-01-01 10:07 -0.909449\n",
       "2013-01-01 10:08 -0.756880\n",
       "2013-01-01 10:09 -0.316692\n",
       "2013-01-01 10:10 -1.452174\n",
       "2013-01-01 10:11  1.644992\n",
       "2013-01-01 10:12 -0.127326\n",
       "2013-01-01 10:13  0.714401\n",
       "2013-01-01 10:14  0.204877\n",
       "2013-01-01 10:15 -0.140504\n",
       "2013-01-01 10:16  1.310931\n",
       "2013-01-01 10:17 -0.874514\n",
       "2013-01-01 10:18  1.914584\n",
       "2013-01-01 10:19  2.022965\n",
       "2013-01-01 10:20  1.395859\n",
       "2013-01-01 10:21 -2.775379\n",
       "2013-01-01 10:22  0.696533\n",
       "2013-01-01 10:23  2.331079\n",
       "2013-01-01 10:24 -1.416183\n",
       "2013-01-01 10:25  0.301863\n",
       "2013-01-01 10:26 -0.776118\n",
       "2013-01-01 10:27  0.770715\n",
       "2013-01-01 10:28 -0.202254\n",
       "2013-01-01 10:29 -1.585370\n",
       "...                    ...\n",
       "2013-01-01 11:30 -1.012166\n",
       "2013-01-01 11:31 -0.289564\n",
       "2013-01-01 11:32  0.286630\n",
       "2013-01-01 11:33 -1.613001\n",
       "2013-01-01 11:34  0.396585\n",
       "2013-01-01 11:35 -0.268406\n",
       "2013-01-01 11:36 -1.611172\n",
       "2013-01-01 11:37  0.035092\n",
       "2013-01-01 11:38  0.381351\n",
       "2013-01-01 11:39 -0.069098\n",
       "2013-01-01 11:40  1.624868\n",
       "2013-01-01 11:41 -0.780032\n",
       "2013-01-01 11:42 -2.166783\n",
       "2013-01-01 11:43 -1.049559\n",
       "2013-01-01 11:44  1.128761\n",
       "2013-01-01 11:45  0.590849\n",
       "2013-01-01 11:46  0.257656\n",
       "2013-01-01 11:47  0.352337\n",
       "2013-01-01 11:48 -0.397400\n",
       "2013-01-01 11:49 -2.172018\n",
       "2013-01-01 11:50  0.741070\n",
       "2013-01-01 11:51  2.355372\n",
       "2013-01-01 11:52 -2.161268\n",
       "2013-01-01 11:53 -1.241075\n",
       "2013-01-01 11:54 -0.954110\n",
       "2013-01-01 11:55  1.065851\n",
       "2013-01-01 11:56 -0.179681\n",
       "2013-01-01 11:57 -0.875434\n",
       "2013-01-01 11:58 -0.656766\n",
       "2013-01-01 11:59 -0.136877\n",
       "\n",
       "[120 rows x 1 columns]"
      ]
     },
     "execution_count": 96,
     "metadata": {},
     "output_type": "execute_result"
    }
   ],
   "source": [
    "dfp['2013-01-01 10H':'2013-01-01 11H']"
   ]
  },
  {
   "cell_type": "markdown",
   "metadata": {},
   "source": [
    "### 6.5 带周期指数的频率转换与重采样"
   ]
  },
  {
   "cell_type": "code",
   "execution_count": 97,
   "metadata": {},
   "outputs": [
    {
     "data": {
      "text/plain": [
       "Period('2011', 'A-DEC')"
      ]
     },
     "metadata": {},
     "output_type": "display_data"
    },
    {
     "data": {
      "text/plain": [
       "Period('2011-01', 'M')"
      ]
     },
     "metadata": {},
     "output_type": "display_data"
    },
    {
     "data": {
      "text/plain": [
       "Period('2011-12', 'M')"
      ]
     },
     "metadata": {},
     "output_type": "display_data"
    },
    {
     "data": {
      "text/plain": [
       "Period('2011-01', 'M')"
      ]
     },
     "metadata": {},
     "output_type": "display_data"
    },
    {
     "data": {
      "text/plain": [
       "Period('2011-12', 'M')"
      ]
     },
     "metadata": {},
     "output_type": "display_data"
    }
   ],
   "source": [
    "# 频率转换\n",
    "p = pd.Period('2011', freq='A-DEC')\n",
    "\n",
    "display(\n",
    "    p,\n",
    "    p.asfreq('M', how='start'),\n",
    "    p.asfreq('M', how='end'),\n",
    "    p.asfreq('M', 's'),\n",
    "    p.asfreq('M', 'e'),\n",
    "\n",
    ")"
   ]
  },
  {
   "cell_type": "code",
   "execution_count": 98,
   "metadata": {},
   "outputs": [
    {
     "data": {
      "text/plain": [
       "Period('2012', 'A-NOV')"
      ]
     },
     "execution_count": 98,
     "metadata": {},
     "output_type": "execute_result"
    }
   ],
   "source": [
    "# 转换为超周期\n",
    "p = pd.Period('2011-12', freq='M')\n",
    "p.asfreq('A-NOV')  # 年度频率"
   ]
  },
  {
   "cell_type": "code",
   "execution_count": 99,
   "metadata": {},
   "outputs": [
    {
     "data": {
      "text/plain": [
       "Period('2012-01-01', 'D')"
      ]
     },
     "metadata": {},
     "output_type": "display_data"
    },
    {
     "data": {
      "text/plain": [
       "Period('2012-03-31', 'D')"
      ]
     },
     "metadata": {},
     "output_type": "display_data"
    }
   ],
   "source": [
    "# 定义日历季度\n",
    "p = pd.Period('2012Q1', freq='Q-DEC')\n",
    "\n",
    "display(\n",
    "    p.asfreq('D', 's'),\n",
    "    p.asfreq('D', 'e')\n",
    ")"
   ]
  },
  {
   "cell_type": "code",
   "execution_count": 100,
   "metadata": {},
   "outputs": [
    {
     "data": {
      "text/plain": [
       "Period('2011-01-01', 'D')"
      ]
     },
     "metadata": {},
     "output_type": "display_data"
    },
    {
     "data": {
      "text/plain": [
       "Period('2011-03-31', 'D')"
      ]
     },
     "metadata": {},
     "output_type": "display_data"
    }
   ],
   "source": [
    "# 定义3月底的财政年度\n",
    "p = pd.Period('2011Q4', freq='Q-MAR')\n",
    "\n",
    "display(\n",
    "    p.asfreq('D', 's'),\n",
    "    p.asfreq('D', 'e')\n",
    ")"
   ]
  },
  {
   "cell_type": "markdown",
   "metadata": {},
   "source": [
    "## 7 表之间的转换"
   ]
  },
  {
   "cell_type": "code",
   "execution_count": 101,
   "metadata": {},
   "outputs": [
    {
     "data": {
      "text/plain": [
       "2012-01-31    1.180348\n",
       "2012-02-29   -0.580144\n",
       "2012-03-31    1.660662\n",
       "2012-04-30    0.832288\n",
       "2012-05-31    0.614858\n",
       "Freq: M, dtype: float64"
      ]
     },
     "execution_count": 101,
     "metadata": {},
     "output_type": "execute_result"
    }
   ],
   "source": [
    "rng = pd.date_range('1/1/2012', periods=5, freq='M')\n",
    "ts = pd.Series(np.random.randn(len(rng)), index=rng)\n",
    "\n",
    "ts"
   ]
  },
  {
   "cell_type": "code",
   "execution_count": 102,
   "metadata": {},
   "outputs": [
    {
     "data": {
      "text/plain": [
       "2012-01    1.180348\n",
       "2012-02   -0.580144\n",
       "2012-03    1.660662\n",
       "2012-04    0.832288\n",
       "2012-05    0.614858\n",
       "Freq: M, dtype: float64"
      ]
     },
     "execution_count": 102,
     "metadata": {},
     "output_type": "execute_result"
    }
   ],
   "source": [
    "ps = ts.to_period()\n",
    "\n",
    "ps"
   ]
  },
  {
   "cell_type": "code",
   "execution_count": 103,
   "metadata": {},
   "outputs": [
    {
     "data": {
      "text/plain": [
       "2012-01-01    1.180348\n",
       "2012-02-01   -0.580144\n",
       "2012-03-01    1.660662\n",
       "2012-04-01    0.832288\n",
       "2012-05-01    0.614858\n",
       "Freq: MS, dtype: float64"
      ]
     },
     "execution_count": 103,
     "metadata": {},
     "output_type": "execute_result"
    }
   ],
   "source": [
    "ps.to_timestamp()"
   ]
  },
  {
   "cell_type": "code",
   "execution_count": 104,
   "metadata": {},
   "outputs": [
    {
     "data": {
      "text/plain": [
       "1990-03-01 09:00    0.048045\n",
       "1990-06-01 09:00   -1.001549\n",
       "1990-09-01 09:00   -0.585561\n",
       "1990-12-01 09:00   -0.642919\n",
       "1991-03-01 09:00   -0.864791\n",
       "Freq: H, dtype: float64"
      ]
     },
     "execution_count": 104,
     "metadata": {},
     "output_type": "execute_result"
    }
   ],
   "source": [
    "prng = pd.period_range('1990Q1', '2000Q4', freq='Q-NOV')\n",
    "ts = pd.Series(np.random.randn(len(prng)), prng)\n",
    "ts.index = (prng.asfreq('M', 'e') + 1).asfreq('H', 's') + 9\n",
    "ts.head()"
   ]
  },
  {
   "cell_type": "markdown",
   "metadata": {},
   "source": [
    "## 8 代表越界范围"
   ]
  },
  {
   "cell_type": "code",
   "execution_count": 105,
   "metadata": {},
   "outputs": [
    {
     "data": {
      "text/plain": [
       "PeriodIndex(['1215-01-01', '1215-01-02', '1215-01-03', '1215-01-04',\n",
       "             '1215-01-05', '1215-01-06', '1215-01-07', '1215-01-08',\n",
       "             '1215-01-09', '1215-01-10',\n",
       "             ...\n",
       "             '1380-12-23', '1380-12-24', '1380-12-25', '1380-12-26',\n",
       "             '1380-12-27', '1380-12-28', '1380-12-29', '1380-12-30',\n",
       "             '1380-12-31', '1381-01-01'],\n",
       "            dtype='period[D]', length=60632, freq='D')"
      ]
     },
     "execution_count": 105,
     "metadata": {},
     "output_type": "execute_result"
    }
   ],
   "source": [
    "span = pd.period_range('1215-01-01', '1381-01-01', freq='D')\n",
    "span"
   ]
  },
  {
   "cell_type": "code",
   "execution_count": 106,
   "metadata": {},
   "outputs": [
    {
     "data": {
      "text/plain": [
       "0   2012-12-31\n",
       "1   2014-11-30\n",
       "2   9999-12-31\n",
       "dtype: object"
      ]
     },
     "metadata": {},
     "output_type": "display_data"
    },
    {
     "data": {
      "text/plain": [
       "Period('9999-12-31', 'D')"
      ]
     },
     "metadata": {},
     "output_type": "display_data"
    }
   ],
   "source": [
    "s = pd.Series([20121231, 20141130, 99991231])\n",
    "\n",
    "def conv(x):\n",
    "    return pd.Period(year = x // 10000, month = x//100 % 100, day = x%100, freq='D')\n",
    "\n",
    "display(\n",
    "    s.apply(conv),\n",
    "    s.apply(conv)[2]\n",
    ")"
   ]
  },
  {
   "cell_type": "code",
   "execution_count": 107,
   "metadata": {},
   "outputs": [
    {
     "data": {
      "text/plain": [
       "PeriodIndex(['2012-12-31', '2014-11-30', '9999-12-31'], dtype='period[D]', freq='D')"
      ]
     },
     "execution_count": 107,
     "metadata": {},
     "output_type": "execute_result"
    }
   ],
   "source": [
    "span = pd.PeriodIndex(s.apply(conv))\n",
    "span"
   ]
  },
  {
   "cell_type": "markdown",
   "metadata": {},
   "source": [
    "### 9 时区处理\n",
    "\n",
    "- python 相关库：\n",
    "    - `pytz`\n",
    "    - `dateutil`"
   ]
  },
  {
   "cell_type": "markdown",
   "metadata": {},
   "source": [
    "#### 9.1 使用时区"
   ]
  },
  {
   "cell_type": "code",
   "execution_count": 108,
   "metadata": {},
   "outputs": [
    {
     "data": {
      "text/plain": [
       "True"
      ]
     },
     "execution_count": 108,
     "metadata": {},
     "output_type": "execute_result"
    }
   ],
   "source": [
    "rng = pd.date_range('3/6/2012 00:00', periods=15, freq='D')\n",
    "\n",
    "rng.tz is None   # 默认是无时区的"
   ]
  },
  {
   "cell_type": "code",
   "execution_count": 109,
   "metadata": {},
   "outputs": [],
   "source": [
    "from pytz import common_timezones, all_timezones\n",
    "\n",
    "# common_timezones \n",
    "# 'Asia/Shanghai'"
   ]
  },
  {
   "cell_type": "code",
   "execution_count": 110,
   "metadata": {},
   "outputs": [
    {
     "data": {
      "text/plain": [
       "<DstTzInfo 'Asia/Shanghai' LMT+8:06:00 STD>"
      ]
     },
     "execution_count": 110,
     "metadata": {},
     "output_type": "execute_result"
    }
   ],
   "source": [
    "rng_pytz = pd.date_range(\n",
    "    '1/1/2018 00:00', \n",
    "    periods=10, \n",
    "    freq='D', \n",
    "    tz='Asia/Shanghai',\n",
    ")\n",
    "\n",
    "rng_pytz.tz"
   ]
  },
  {
   "cell_type": "code",
   "execution_count": 111,
   "metadata": {},
   "outputs": [
    {
     "data": {
      "text/plain": [
       "tzfile('PRC')"
      ]
     },
     "execution_count": 111,
     "metadata": {},
     "output_type": "execute_result"
    }
   ],
   "source": [
    "# dateutil\n",
    "rng_dateutil = pd.date_range(\n",
    "    '3/6/2012 00:00', \n",
    "    periods=10, \n",
    "    freq='D',\n",
    "    tz='dateutil/Asia/Shanghai'\n",
    ")\n",
    "\n",
    "rng_dateutil.tz"
   ]
  },
  {
   "cell_type": "code",
   "execution_count": 112,
   "metadata": {},
   "outputs": [
    {
     "data": {
      "text/plain": [
       "tzutc()"
      ]
     },
     "execution_count": 112,
     "metadata": {},
     "output_type": "execute_result"
    }
   ],
   "source": [
    "# dateutil - utc\n",
    "import dateutil\n",
    "\n",
    "rng_utc = pd.date_range(\n",
    "    '1/1/2018 00:00', \n",
    "    periods=10, \n",
    "    freq='D',\n",
    "    tz=dateutil.tz.tzutc(),\n",
    ")\n",
    "\n",
    "rng_utc.tz"
   ]
  },
  {
   "cell_type": "code",
   "execution_count": 113,
   "metadata": {},
   "outputs": [
    {
     "data": {
      "text/plain": [
       "True"
      ]
     },
     "metadata": {},
     "output_type": "display_data"
    }
   ],
   "source": [
    "import pytz\n",
    "\n",
    "tz_pytz = pytz.timezone('Asia/Shanghai')\n",
    "rng_pytz = pd.date_range(\n",
    "    '1/1/2018 00:00', \n",
    "    periods=10, \n",
    "    freq='D', \n",
    "    tz=tz_pytz\n",
    ")\n",
    "\n",
    "display(rng_pytz.tz == tz_pytz)"
   ]
  },
  {
   "cell_type": "code",
   "execution_count": 114,
   "metadata": {},
   "outputs": [
    {
     "data": {
      "text/plain": [
       "True"
      ]
     },
     "execution_count": 114,
     "metadata": {},
     "output_type": "execute_result"
    }
   ],
   "source": [
    "# dateutil\n",
    "tz_dateutil = dateutil.tz.gettz('Asia/Shanghai')\n",
    "rng_dateutil = pd.date_range(\n",
    "    '1/1/2018 00:00', \n",
    "    periods=10, \n",
    "    freq='D', \n",
    "    tz=tz_dateutil\n",
    ")\n",
    "\n",
    "rng_dateutil.tz == tz_dateutil"
   ]
  },
  {
   "cell_type": "code",
   "execution_count": 115,
   "metadata": {},
   "outputs": [
    {
     "data": {
      "text/plain": [
       "2012-03-06 00:00:00+00:00    1.012146\n",
       "2012-03-07 00:00:00+00:00   -0.388405\n",
       "2012-03-08 00:00:00+00:00    0.912588\n",
       "2012-03-09 00:00:00+00:00    1.878029\n",
       "2012-03-10 00:00:00+00:00   -1.075077\n",
       "2012-03-11 00:00:00+00:00   -1.163911\n",
       "2012-03-12 00:00:00+00:00   -0.749080\n",
       "2012-03-13 00:00:00+00:00    0.122951\n",
       "2012-03-14 00:00:00+00:00   -0.123391\n",
       "2012-03-15 00:00:00+00:00    0.292034\n",
       "2012-03-16 00:00:00+00:00    0.798669\n",
       "2012-03-17 00:00:00+00:00    1.660840\n",
       "2012-03-18 00:00:00+00:00   -0.033446\n",
       "2012-03-19 00:00:00+00:00   -0.293585\n",
       "2012-03-20 00:00:00+00:00   -2.237755\n",
       "Freq: D, dtype: float64"
      ]
     },
     "execution_count": 115,
     "metadata": {},
     "output_type": "execute_result"
    }
   ],
   "source": [
    "ts = pd.Series(np.random.randn(len(rng)), rng)\n",
    "ts_utc = ts.tz_localize('UTC')\n",
    "ts_utc"
   ]
  },
  {
   "cell_type": "code",
   "execution_count": 116,
   "metadata": {},
   "outputs": [
    {
     "data": {
      "text/plain": [
       "2012-03-06 08:00:00+08:00    1.012146\n",
       "2012-03-07 08:00:00+08:00   -0.388405\n",
       "2012-03-08 08:00:00+08:00    0.912588\n",
       "2012-03-09 08:00:00+08:00    1.878029\n",
       "2012-03-10 08:00:00+08:00   -1.075077\n",
       "2012-03-11 08:00:00+08:00   -1.163911\n",
       "2012-03-12 08:00:00+08:00   -0.749080\n",
       "2012-03-13 08:00:00+08:00    0.122951\n",
       "2012-03-14 08:00:00+08:00   -0.123391\n",
       "2012-03-15 08:00:00+08:00    0.292034\n",
       "2012-03-16 08:00:00+08:00    0.798669\n",
       "2012-03-17 08:00:00+08:00    1.660840\n",
       "2012-03-18 08:00:00+08:00   -0.033446\n",
       "2012-03-19 08:00:00+08:00   -0.293585\n",
       "2012-03-20 08:00:00+08:00   -2.237755\n",
       "Freq: D, dtype: float64"
      ]
     },
     "execution_count": 116,
     "metadata": {},
     "output_type": "execute_result"
    }
   ],
   "source": [
    "rng_asia = ts_utc.tz_convert('Asia/Shanghai')\n",
    "rng_asia"
   ]
  },
  {
   "cell_type": "code",
   "execution_count": 117,
   "metadata": {},
   "outputs": [
    {
     "data": {
      "text/plain": [
       "-0.38840490543240985"
      ]
     },
     "execution_count": 117,
     "metadata": {},
     "output_type": "execute_result"
    }
   ],
   "source": [
    "rng_asia[1]"
   ]
  },
  {
   "cell_type": "code",
   "execution_count": 118,
   "metadata": {
    "scrolled": true
   },
   "outputs": [
    {
     "data": {
      "text/plain": [
       "Timestamp('2012-03-07 01:00:00+0100', tz='Europe/Berlin')"
      ]
     },
     "metadata": {},
     "output_type": "display_data"
    },
    {
     "data": {
      "text/plain": [
       "Timestamp('2012-03-07 08:00:00+0800', tz='Asia/Shanghai')"
      ]
     },
     "metadata": {},
     "output_type": "display_data"
    }
   ],
   "source": [
    "rng_europe = rng_asia.index[1].tz_convert('Europe/Berlin')\n",
    "rng_asia = rng_europe.tz_convert('Asia/Shanghai')\n",
    "\n",
    "display(\n",
    "    rng_europe,\n",
    "    rng_asia,\n",
    ")"
   ]
  },
  {
   "cell_type": "markdown",
   "metadata": {},
   "source": [
    "- 删除时区"
   ]
  },
  {
   "cell_type": "code",
   "execution_count": 119,
   "metadata": {},
   "outputs": [
    {
     "data": {
      "text/plain": [
       "DatetimeIndex(['2014-08-01 09:00:00-04:00', '2014-08-01 10:00:00-04:00',\n",
       "               '2014-08-01 11:00:00-04:00', '2014-08-01 12:00:00-04:00',\n",
       "               '2014-08-01 13:00:00-04:00', '2014-08-01 14:00:00-04:00',\n",
       "               '2014-08-01 15:00:00-04:00', '2014-08-01 16:00:00-04:00',\n",
       "               '2014-08-01 17:00:00-04:00', '2014-08-01 18:00:00-04:00'],\n",
       "              dtype='datetime64[ns, US/Eastern]', freq='H')"
      ]
     },
     "execution_count": 119,
     "metadata": {},
     "output_type": "execute_result"
    }
   ],
   "source": [
    "didx = pd.DatetimeIndex(\n",
    "    start='2014-08-01 09:00', \n",
    "    freq='H', \n",
    "    periods=10, \n",
    "    tz='US/Eastern')\n",
    "didx"
   ]
  },
  {
   "cell_type": "code",
   "execution_count": 120,
   "metadata": {},
   "outputs": [
    {
     "data": {
      "text/plain": [
       "DatetimeIndex(['2014-08-01 09:00:00', '2014-08-01 10:00:00',\n",
       "               '2014-08-01 11:00:00', '2014-08-01 12:00:00',\n",
       "               '2014-08-01 13:00:00', '2014-08-01 14:00:00',\n",
       "               '2014-08-01 15:00:00', '2014-08-01 16:00:00',\n",
       "               '2014-08-01 17:00:00', '2014-08-01 18:00:00'],\n",
       "              dtype='datetime64[ns]', freq='H')"
      ]
     },
     "execution_count": 120,
     "metadata": {},
     "output_type": "execute_result"
    }
   ],
   "source": [
    "# 转换为本地无时区时间\n",
    "didx.tz_localize(None)"
   ]
  },
  {
   "cell_type": "code",
   "execution_count": 121,
   "metadata": {},
   "outputs": [
    {
     "data": {
      "text/plain": [
       "DatetimeIndex(['2014-08-01 13:00:00', '2014-08-01 14:00:00',\n",
       "               '2014-08-01 15:00:00', '2014-08-01 16:00:00',\n",
       "               '2014-08-01 17:00:00', '2014-08-01 18:00:00',\n",
       "               '2014-08-01 19:00:00', '2014-08-01 20:00:00',\n",
       "               '2014-08-01 21:00:00', '2014-08-01 22:00:00'],\n",
       "              dtype='datetime64[ns]', freq='H')"
      ]
     },
     "execution_count": 121,
     "metadata": {},
     "output_type": "execute_result"
    }
   ],
   "source": [
    "didx.tz_convert(None)"
   ]
  },
  {
   "cell_type": "code",
   "execution_count": 122,
   "metadata": {},
   "outputs": [
    {
     "data": {
      "text/plain": [
       "DatetimeIndex(['2014-08-01 13:00:00', '2014-08-01 14:00:00',\n",
       "               '2014-08-01 15:00:00', '2014-08-01 16:00:00',\n",
       "               '2014-08-01 17:00:00', '2014-08-01 18:00:00',\n",
       "               '2014-08-01 19:00:00', '2014-08-01 20:00:00',\n",
       "               '2014-08-01 21:00:00', '2014-08-01 22:00:00'],\n",
       "              dtype='datetime64[ns]', freq='H')"
      ]
     },
     "execution_count": 122,
     "metadata": {},
     "output_type": "execute_result"
    }
   ],
   "source": [
    "didx.tz_convert('UCT').tz_localize(None)"
   ]
  },
  {
   "cell_type": "markdown",
   "metadata": {},
   "source": [
    "#### 9.2 定位时区时的模棱两可"
   ]
  },
  {
   "cell_type": "code",
   "execution_count": 123,
   "metadata": {},
   "outputs": [
    {
     "name": "stdout",
     "output_type": "stream",
     "text": [
      "Error: Cannot infer dst time from '2011-11-06 01:00:00', try using the 'ambiguous' argument\n"
     ]
    }
   ],
   "source": [
    "rng_hourly = pd.DatetimeIndex(\n",
    "    ['11/06/2011 00:00', '11/06/2011 01:00',\n",
    "    '11/06/2011 01:00', '11/06/2011 02:00',\n",
    "    '11/06/2011 03:00'])\n",
    "try:\n",
    "    rng_hourly.tz_localize('US/Eastern')\n",
    "except Exception as e:\n",
    "    print(f\"Error: {e}\")"
   ]
  },
  {
   "cell_type": "code",
   "execution_count": 124,
   "metadata": {},
   "outputs": [
    {
     "data": {
      "text/plain": [
       "DatetimeIndex(['2011-11-06 00:00:00-04:00', '2011-11-06 01:00:00-05:00',\n",
       "               '2011-11-06 01:00:00-05:00', '2011-11-06 02:00:00-05:00',\n",
       "               '2011-11-06 03:00:00-05:00'],\n",
       "              dtype='datetime64[ns, US/Eastern]', freq=None)"
      ]
     },
     "execution_count": 124,
     "metadata": {},
     "output_type": "execute_result"
    }
   ],
   "source": [
    "rng_hourly_eastern = rng_hourly.tz_localize('US/Eastern', ambiguous='infer')\n",
    "rng_hourly_eastern"
   ]
  },
  {
   "cell_type": "code",
   "execution_count": 125,
   "metadata": {},
   "outputs": [
    {
     "data": {
      "text/plain": [
       "[Timestamp('2011-11-06 00:00:00-0400', tz='US/Eastern'),\n",
       " Timestamp('2011-11-06 01:00:00-0400', tz='US/Eastern'),\n",
       " Timestamp('2011-11-06 01:00:00-0500', tz='US/Eastern'),\n",
       " Timestamp('2011-11-06 02:00:00-0500', tz='US/Eastern'),\n",
       " Timestamp('2011-11-06 03:00:00-0500', tz='US/Eastern')]"
      ]
     },
     "execution_count": 125,
     "metadata": {},
     "output_type": "execute_result"
    }
   ],
   "source": [
    "rng_hourly_dst = np.array([1, 1, 0, 0, 0])\n",
    "rng_hourly.tz_localize('US/Eastern', ambiguous=rng_hourly_dst).tolist()"
   ]
  },
  {
   "cell_type": "code",
   "execution_count": 126,
   "metadata": {},
   "outputs": [
    {
     "data": {
      "text/plain": [
       "[Timestamp('2011-11-06 00:00:00-0400', tz='US/Eastern'),\n",
       " NaT,\n",
       " NaT,\n",
       " Timestamp('2011-11-06 02:00:00-0500', tz='US/Eastern'),\n",
       " Timestamp('2011-11-06 03:00:00-0500', tz='US/Eastern')]"
      ]
     },
     "execution_count": 126,
     "metadata": {},
     "output_type": "execute_result"
    }
   ],
   "source": [
    "rng_hourly.tz_localize('US/Eastern', ambiguous='NaT').tolist()"
   ]
  },
  {
   "cell_type": "code",
   "execution_count": 127,
   "metadata": {},
   "outputs": [
    {
     "data": {
      "text/plain": [
       "DatetimeIndex(['2014-08-01 09:00:00-04:00', '2014-08-01 10:00:00-04:00',\n",
       "               '2014-08-01 11:00:00-04:00', '2014-08-01 12:00:00-04:00',\n",
       "               '2014-08-01 13:00:00-04:00', '2014-08-01 14:00:00-04:00',\n",
       "               '2014-08-01 15:00:00-04:00', '2014-08-01 16:00:00-04:00',\n",
       "               '2014-08-01 17:00:00-04:00', '2014-08-01 18:00:00-04:00'],\n",
       "              dtype='datetime64[ns, US/Eastern]', freq='H')"
      ]
     },
     "execution_count": 127,
     "metadata": {},
     "output_type": "execute_result"
    }
   ],
   "source": [
    "didx = pd.DatetimeIndex(start='2014-08-01 09:00', freq='H', periods=10, tz='US/Eastern')\n",
    "didx"
   ]
  },
  {
   "cell_type": "code",
   "execution_count": 128,
   "metadata": {},
   "outputs": [
    {
     "data": {
      "text/plain": [
       "DatetimeIndex(['2014-08-01 09:00:00', '2014-08-01 10:00:00',\n",
       "               '2014-08-01 11:00:00', '2014-08-01 12:00:00',\n",
       "               '2014-08-01 13:00:00', '2014-08-01 14:00:00',\n",
       "               '2014-08-01 15:00:00', '2014-08-01 16:00:00',\n",
       "               '2014-08-01 17:00:00', '2014-08-01 18:00:00'],\n",
       "              dtype='datetime64[ns]', freq='H')"
      ]
     },
     "execution_count": 128,
     "metadata": {},
     "output_type": "execute_result"
    }
   ],
   "source": [
    "# 转换为之前的时区设置时间\n",
    "didx.tz_localize(None)"
   ]
  },
  {
   "cell_type": "code",
   "execution_count": 129,
   "metadata": {},
   "outputs": [
    {
     "data": {
      "text/plain": [
       "DatetimeIndex(['2014-08-01 13:00:00', '2014-08-01 14:00:00',\n",
       "               '2014-08-01 15:00:00', '2014-08-01 16:00:00',\n",
       "               '2014-08-01 17:00:00', '2014-08-01 18:00:00',\n",
       "               '2014-08-01 19:00:00', '2014-08-01 20:00:00',\n",
       "               '2014-08-01 21:00:00', '2014-08-01 22:00:00'],\n",
       "              dtype='datetime64[ns]', freq='H')"
      ]
     },
     "execution_count": 129,
     "metadata": {},
     "output_type": "execute_result"
    }
   ],
   "source": [
    "# 转换为UTC的无时区时间\n",
    "didx.tz_convert(None)"
   ]
  },
  {
   "cell_type": "code",
   "execution_count": 130,
   "metadata": {},
   "outputs": [
    {
     "data": {
      "text/plain": [
       "DatetimeIndex(['2014-08-01 13:00:00', '2014-08-01 14:00:00',\n",
       "               '2014-08-01 15:00:00', '2014-08-01 16:00:00',\n",
       "               '2014-08-01 17:00:00', '2014-08-01 18:00:00',\n",
       "               '2014-08-01 19:00:00', '2014-08-01 20:00:00',\n",
       "               '2014-08-01 21:00:00', '2014-08-01 22:00:00'],\n",
       "              dtype='datetime64[ns]', freq='H')"
      ]
     },
     "execution_count": 130,
     "metadata": {},
     "output_type": "execute_result"
    }
   ],
   "source": [
    "didx.tz_convert('UCT').tz_localize(None)"
   ]
  },
  {
   "cell_type": "markdown",
   "metadata": {},
   "source": [
    "#### 9.3 TZ 敏感 Dtype"
   ]
  },
  {
   "cell_type": "code",
   "execution_count": 131,
   "metadata": {},
   "outputs": [
    {
     "data": {
      "text/plain": [
       "0   2013-01-01\n",
       "1   2013-01-02\n",
       "2   2013-01-03\n",
       "dtype: datetime64[ns]"
      ]
     },
     "execution_count": 131,
     "metadata": {},
     "output_type": "execute_result"
    }
   ],
   "source": [
    "s_naive = pd.Series(pd.date_range('20130101',periods=3))\n",
    "s_naive"
   ]
  },
  {
   "cell_type": "code",
   "execution_count": 132,
   "metadata": {},
   "outputs": [
    {
     "data": {
      "text/plain": [
       "0   2013-01-01 00:00:00-05:00\n",
       "1   2013-01-02 00:00:00-05:00\n",
       "2   2013-01-03 00:00:00-05:00\n",
       "dtype: datetime64[ns, US/Eastern]"
      ]
     },
     "execution_count": 132,
     "metadata": {},
     "output_type": "execute_result"
    }
   ],
   "source": [
    "s_aware = pd.Series(pd.date_range('20130101',periods=3,tz='US/Eastern'))\n",
    "s_aware"
   ]
  },
  {
   "cell_type": "code",
   "execution_count": 133,
   "metadata": {},
   "outputs": [
    {
     "data": {
      "text/plain": [
       "0   2012-12-31 19:00:00-05:00\n",
       "1   2013-01-01 19:00:00-05:00\n",
       "2   2013-01-02 19:00:00-05:00\n",
       "dtype: datetime64[ns, US/Eastern]"
      ]
     },
     "execution_count": 133,
     "metadata": {},
     "output_type": "execute_result"
    }
   ],
   "source": [
    "s_naive.dt.tz_localize('UTC').dt.tz_convert('US/Eastern')"
   ]
  },
  {
   "cell_type": "code",
   "execution_count": 134,
   "metadata": {},
   "outputs": [
    {
     "data": {
      "text/plain": [
       "0   2012-12-31 19:00:00-05:00\n",
       "1   2013-01-01 19:00:00-05:00\n",
       "2   2013-01-02 19:00:00-05:00\n",
       "dtype: datetime64[ns, US/Eastern]"
      ]
     },
     "execution_count": 134,
     "metadata": {},
     "output_type": "execute_result"
    }
   ],
   "source": [
    "s_naive.astype('datetime64[ns, US/Eastern]')"
   ]
  },
  {
   "cell_type": "code",
   "execution_count": 135,
   "metadata": {},
   "outputs": [
    {
     "data": {
      "text/plain": [
       "0   2013-01-01 05:00:00\n",
       "1   2013-01-02 05:00:00\n",
       "2   2013-01-03 05:00:00\n",
       "dtype: datetime64[ns]"
      ]
     },
     "execution_count": 135,
     "metadata": {},
     "output_type": "execute_result"
    }
   ],
   "source": [
    "s_aware.astype('datetime64[ns]')"
   ]
  },
  {
   "cell_type": "code",
   "execution_count": 136,
   "metadata": {},
   "outputs": [
    {
     "data": {
      "text/plain": [
       "0   2013-01-01 06:00:00+01:00\n",
       "1   2013-01-02 06:00:00+01:00\n",
       "2   2013-01-03 06:00:00+01:00\n",
       "dtype: datetime64[ns, CET]"
      ]
     },
     "execution_count": 136,
     "metadata": {},
     "output_type": "execute_result"
    }
   ],
   "source": [
    "s_aware.astype('datetime64[ns, CET]')"
   ]
  },
  {
   "cell_type": "code",
   "execution_count": 137,
   "metadata": {},
   "outputs": [
    {
     "data": {
      "text/plain": [
       "array(['2013-01-01T00:00:00.000000000', '2013-01-02T00:00:00.000000000',\n",
       "       '2013-01-03T00:00:00.000000000'], dtype='datetime64[ns]')"
      ]
     },
     "execution_count": 137,
     "metadata": {},
     "output_type": "execute_result"
    }
   ],
   "source": [
    "s_naive.values  # 转换为utc"
   ]
  },
  {
   "cell_type": "code",
   "execution_count": 138,
   "metadata": {},
   "outputs": [
    {
     "data": {
      "text/plain": [
       "array(['2013-01-01T05:00:00.000000000', '2013-01-02T05:00:00.000000000',\n",
       "       '2013-01-03T05:00:00.000000000'], dtype='datetime64[ns]')"
      ]
     },
     "execution_count": 138,
     "metadata": {},
     "output_type": "execute_result"
    }
   ],
   "source": [
    "s_aware.values  # 转换为utc"
   ]
  },
  {
   "cell_type": "code",
   "execution_count": 139,
   "metadata": {},
   "outputs": [
    {
     "data": {
      "text/plain": [
       "0   2013-01-01 05:00:00\n",
       "1   2013-01-02 05:00:00\n",
       "2   2013-01-03 05:00:00\n",
       "dtype: datetime64[ns]"
      ]
     },
     "execution_count": 139,
     "metadata": {},
     "output_type": "execute_result"
    }
   ],
   "source": [
    "pd.Series(s_aware.values)"
   ]
  },
  {
   "cell_type": "code",
   "execution_count": 140,
   "metadata": {},
   "outputs": [
    {
     "data": {
      "text/plain": [
       "0   2013-01-01 00:00:00-05:00\n",
       "1   2013-01-02 00:00:00-05:00\n",
       "2   2013-01-03 00:00:00-05:00\n",
       "dtype: datetime64[ns, US/Eastern]"
      ]
     },
     "execution_count": 140,
     "metadata": {},
     "output_type": "execute_result"
    }
   ],
   "source": [
    "pd.Series(s_aware.values).dt.tz_localize('UTC').dt.tz_convert('US/Eastern')"
   ]
  },
  {
   "cell_type": "code",
   "execution_count": null,
   "metadata": {},
   "outputs": [],
   "source": []
  },
  {
   "cell_type": "code",
   "execution_count": null,
   "metadata": {},
   "outputs": [],
   "source": []
  }
 ],
 "metadata": {
  "kernelspec": {
   "display_name": "Python 3",
   "language": "python",
   "name": "python3"
  },
  "language_info": {
   "codemirror_mode": {
    "name": "ipython",
    "version": 3
   },
   "file_extension": ".py",
   "mimetype": "text/x-python",
   "name": "python",
   "nbconvert_exporter": "python",
   "pygments_lexer": "ipython3",
   "version": "3.6.5"
  }
 },
 "nbformat": 4,
 "nbformat_minor": 2
}
