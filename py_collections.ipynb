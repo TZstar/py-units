{
 "cells": [
  {
   "cell_type": "markdown",
   "metadata": {},
   "source": [
    "# collections"
   ]
  },
  {
   "cell_type": "markdown",
   "metadata": {},
   "source": [
    "## 0. 分类： \n",
    "1. `namedtuple()` : 可命名元组，通过名字来访问元组元素\n",
    "1. `deque` : 双向队列\n",
    "1. `ChainMap` : 多个映射创建单一视图的类字典类型\n",
    "1. `Counter` : 计数器，用于统计可哈希对象的数量；\n",
    "1. `OrderedDict` : 有序字典\n",
    "1. `defaultdict` : 值带有默认类型的字典\n",
    "1. `UserDict` : \n",
    "1. `UserList` : \n",
    "1. `UserString` : "
   ]
  },
  {
   "cell_type": "code",
   "execution_count": 71,
   "metadata": {},
   "outputs": [],
   "source": [
    "import collections"
   ]
  },
  {
   "cell_type": "markdown",
   "metadata": {},
   "source": [
    "## 1 namedtuple\n",
    "\n",
    "`collections.namedtuple(typename, field_names, verbose=False, rename=False) `  \n",
    "参数说明：\n",
    "1. `typename`：此元组的名称； \n",
    "2. `field_names`：元祖中元素的名称（类似于c结构体中的age等），此字段有多种表达方式，见例子； \n",
    "3. `rename`：如果元素名称中含有python的关键字，则必须设置为rename=True； \n",
    "4. `verbose`：默认就好。"
   ]
  },
  {
   "cell_type": "code",
   "execution_count": 3,
   "metadata": {},
   "outputs": [
    {
     "name": "stdout",
     "output_type": "stream",
     "text": [
      "student(name='sunYang', age=20, sex='male')\n",
      "spark's name is sunYang\n",
      "sunYang is 20 years old male\n"
     ]
    }
   ],
   "source": [
    "# 其中field_names 有多种表达方式，如下\n",
    "student = collections.namedtuple('student','name age sex')\n",
    "student = collections.namedtuple('student',['name','age','sex'])\n",
    "student = collections.namedtuple('student','name,age,sex')\n",
    "\n",
    "spark=student(name='sunYang',age=20,sex='male')\n",
    "\n",
    "print(spark)\n",
    "print(\"spark's name is %s\" % spark.name)\n",
    "print(\"%s is %d years old %s\" % spark)"
   ]
  },
  {
   "cell_type": "code",
   "execution_count": 4,
   "metadata": {},
   "outputs": [
    {
     "name": "stdout",
     "output_type": "stream",
     "text": [
      "('name', 'age', '_2', 'gender')\n",
      "('name', 'age', 'gender', '_3')\n"
     ]
    }
   ],
   "source": [
    "# rename=true 的作用\n",
    "with_class = collections.namedtuple('Person','name age class gender',rename=True)\n",
    "print(with_class._fields)\n",
    "two_ages = collections.namedtuple('Person','name age gender age',rename=True)\n",
    "print(two_ages._fields)"
   ]
  },
  {
   "cell_type": "markdown",
   "metadata": {},
   "source": [
    "## 2 deque\n",
    "\n",
    "1. 概念\n",
    "    1. list存储数据的优势在于按索引查找元素会很快，但是插入和删除元素就很慢了，因为list是基于数组实现的。\n",
    "    2. `deque`是为了高效实现插入和删除操作的双向列表，适合用于队列和栈，而且线程安全。\n",
    "    3. `list`只提供了`append/pop`方法来从list的尾部插入/删除元素;\n",
    "    `deque`新增了`appendleft/popleft`等方法允许我们高效的在元素的开头来插入/删除元素。  \n",
    "    而且使用deque在队列两端append或pop元素的算法复杂度大约是O(1)，但是对于list对象改变列表长度和数据位置的操作例如 pop(0)和insert(0, v)操作的复杂度高达O(n)。\n",
    "\n",
    "2. 方法\n",
    "    1. `append(x)/appendleft(x)`\n",
    "    2. `extend(iterable)/extendleft(iterable)`\n",
    "    3. `pop()/popleft()`\n",
    "    4. `clear()`\n",
    "    5. `copy()`\n",
    "    6. `count(x)`：计数\n",
    "    7. `index(x[, start[, stop]])`：找出第一个匹配到x的index值\n",
    "    8. `insert(i, x)`：插入\n",
    "    9. `remove(value)`：\n",
    "    10. `reverse()`: 逆序\n",
    "    11. `rotate(n=1)`：旋转 d.appendleft(d.pop()); d.append(d.popleft())\n",
    "    12. `maxlen`：最大长度"
   ]
  },
  {
   "cell_type": "code",
   "execution_count": 31,
   "metadata": {},
   "outputs": [
    {
     "data": {
      "text/plain": [
       "deque([0, 1, 2, 3, 4, 5, 6, 7, 8, 9])"
      ]
     },
     "execution_count": 31,
     "metadata": {},
     "output_type": "execute_result"
    }
   ],
   "source": [
    "from collections import deque\n",
    "dq = deque(range(10))\n",
    "dq"
   ]
  },
  {
   "cell_type": "code",
   "execution_count": 32,
   "metadata": {},
   "outputs": [
    {
     "data": {
      "text/plain": [
       "deque([0, 1, 2, 3, 4, 5, 6, 7, 8, 9, 4])"
      ]
     },
     "execution_count": 32,
     "metadata": {},
     "output_type": "execute_result"
    }
   ],
   "source": [
    "# 右添加\n",
    "dq.append(4)\n",
    "dq"
   ]
  },
  {
   "cell_type": "code",
   "execution_count": 33,
   "metadata": {},
   "outputs": [
    {
     "data": {
      "text/plain": [
       "deque([0, 0, 1, 2, 3, 4, 5, 6, 7, 8, 9, 4])"
      ]
     },
     "execution_count": 33,
     "metadata": {},
     "output_type": "execute_result"
    }
   ],
   "source": [
    "# 左添加\n",
    "dq.appendleft(0)\n",
    "dq"
   ]
  },
  {
   "cell_type": "code",
   "execution_count": 36,
   "metadata": {},
   "outputs": [
    {
     "data": {
      "text/plain": [
       "deque([0, 0, 1, 2, 3, 4, 5, 6, 7, 8, 9, 4, 5, 6, 7, 5, 6, 7])"
      ]
     },
     "execution_count": 36,
     "metadata": {},
     "output_type": "execute_result"
    }
   ],
   "source": [
    "# 右扩展\n",
    "dq.extend([5,6,7])\n",
    "dq"
   ]
  },
  {
   "cell_type": "code",
   "execution_count": 37,
   "metadata": {},
   "outputs": [
    {
     "data": {
      "text/plain": [
       "deque([-7, -6, -5, 0, 0, 1, 2, 3, 4, 5, 6, 7, 8, 9, 4, 5, 6, 7, 5, 6, 7])"
      ]
     },
     "execution_count": 37,
     "metadata": {},
     "output_type": "execute_result"
    }
   ],
   "source": [
    "# 左扩展\n",
    "dq.extendleft([-5,-6,-7])\n",
    "dq"
   ]
  },
  {
   "cell_type": "code",
   "execution_count": 39,
   "metadata": {},
   "outputs": [
    {
     "data": {
      "text/plain": [
       "(7, deque([-7, -6, -5, 0, 0, 1, 2, 3, 4, 5, 6, 7, 8, 9, 4, 5, 6, 7, 5, 6]))"
      ]
     },
     "execution_count": 39,
     "metadata": {},
     "output_type": "execute_result"
    }
   ],
   "source": [
    "# 右弹出\n",
    "r_pop = dq.pop()\n",
    "r_pop, dq"
   ]
  },
  {
   "cell_type": "code",
   "execution_count": 40,
   "metadata": {},
   "outputs": [
    {
     "data": {
      "text/plain": [
       "(-7, deque([-6, -5, 0, 0, 1, 2, 3, 4, 5, 6, 7, 8, 9, 4, 5, 6, 7, 5, 6]))"
      ]
     },
     "execution_count": 40,
     "metadata": {},
     "output_type": "execute_result"
    }
   ],
   "source": [
    "# 左弹出\n",
    "r_pop = dq.popleft()\n",
    "r_pop, dq"
   ]
  },
  {
   "cell_type": "code",
   "execution_count": 47,
   "metadata": {},
   "outputs": [
    {
     "data": {
      "text/plain": [
       "deque([3, 4, 5, 6, 7, 8, 9, 4, 5, 6, 7, 5, 6, -6, -5, 0, 0, 1, 2])"
      ]
     },
     "execution_count": 47,
     "metadata": {},
     "output_type": "execute_result"
    }
   ],
   "source": [
    "dq.reverse()\n",
    "dq"
   ]
  },
  {
   "cell_type": "code",
   "execution_count": 48,
   "metadata": {},
   "outputs": [
    {
     "data": {
      "text/plain": [
       "deque([1, 2, 3, 4, 5, 6, 7, 8, 9, 4, 5, 6, 7, 5, 6, -6, -5, 0, 0])"
      ]
     },
     "execution_count": 48,
     "metadata": {},
     "output_type": "execute_result"
    }
   ],
   "source": [
    "dq.rotate(2)\n",
    "dq"
   ]
  },
  {
   "cell_type": "code",
   "execution_count": 49,
   "metadata": {},
   "outputs": [
    {
     "data": {
      "text/plain": [
       "deque([3, 4, 5, 6, 7, 8, 9, 4, 5, 6, 7, 5, 6, -6, -5, 0, 0, 1, 2])"
      ]
     },
     "execution_count": 49,
     "metadata": {},
     "output_type": "execute_result"
    }
   ],
   "source": [
    "dq.rotate(-2)\n",
    "dq"
   ]
  },
  {
   "cell_type": "markdown",
   "metadata": {},
   "source": [
    "## 3 chainmap\n",
    "\n",
    "`ChainMap` 可以用来合并多个字典。"
   ]
  },
  {
   "cell_type": "code",
   "execution_count": 50,
   "metadata": {},
   "outputs": [
    {
     "data": {
      "text/plain": [
       "ChainMap({'zebra': 'black', 'lion': 'orange', 'snake': 'red'}, {'elephant': 'blue'}, {'lion': 'yellow'})"
      ]
     },
     "execution_count": 50,
     "metadata": {},
     "output_type": "execute_result"
    }
   ],
   "source": [
    "from collections import ChainMap\n",
    "d = ChainMap({'zebra': 'black'}, \n",
    "             {'elephant': 'blue'}, \n",
    "             {'lion': 'yellow'})\n",
    "d['lion'] = 'orange'\n",
    "d['snake'] = 'red'\n",
    "d"
   ]
  },
  {
   "cell_type": "code",
   "execution_count": 51,
   "metadata": {},
   "outputs": [],
   "source": [
    "del d['lion']"
   ]
  },
  {
   "cell_type": "code",
   "execution_count": 53,
   "metadata": {},
   "outputs": [
    {
     "name": "stdout",
     "output_type": "stream",
     "text": [
      "\"Key not found in the first mapping: 'elephant'\"\n"
     ]
    }
   ],
   "source": [
    "try:\n",
    "    del d['elephant']\n",
    "except Exception as e:\n",
    "    print(e)"
   ]
  },
  {
   "cell_type": "code",
   "execution_count": 54,
   "metadata": {},
   "outputs": [
    {
     "data": {
      "text/plain": [
       "ChainMap({'a': 'A', 'c': 'C'}, {'b': 'B', 'c': 'D'})"
      ]
     },
     "execution_count": 54,
     "metadata": {},
     "output_type": "execute_result"
    }
   ],
   "source": [
    "a = {'a': 'A', 'c': 'C'}\n",
    "b = {'b': 'B', 'c': 'D'}\n",
    "\n",
    "m = ChainMap({'a': 'A', 'c': 'C'}, {'b': 'B', 'c': 'D'})\n",
    "m"
   ]
  },
  {
   "cell_type": "code",
   "execution_count": 55,
   "metadata": {},
   "outputs": [
    {
     "data": {
      "text/plain": [
       "[{'a': 'A', 'c': 'C'}, {'b': 'B', 'c': 'D'}]"
      ]
     },
     "execution_count": 55,
     "metadata": {},
     "output_type": "execute_result"
    }
   ],
   "source": [
    "m.maps"
   ]
  },
  {
   "cell_type": "code",
   "execution_count": 57,
   "metadata": {},
   "outputs": [
    {
     "data": {
      "text/plain": [
       "'C'"
      ]
     },
     "execution_count": 57,
     "metadata": {},
     "output_type": "execute_result"
    }
   ],
   "source": [
    "a['c'] = 'E'\n",
    "m['c']"
   ]
  },
  {
   "cell_type": "code",
   "execution_count": 58,
   "metadata": {},
   "outputs": [
    {
     "data": {
      "text/plain": [
       "ChainMap({'a': 'A', 'c': 'C'}, {'b': 'B', 'c': 'D'})"
      ]
     },
     "execution_count": 58,
     "metadata": {},
     "output_type": "execute_result"
    }
   ],
   "source": [
    "m"
   ]
  },
  {
   "cell_type": "code",
   "execution_count": 61,
   "metadata": {},
   "outputs": [
    {
     "data": {
      "text/plain": [
       "ChainMap({'c': 'f'}, {'a': 'A', 'c': 'C'}, {'b': 'B', 'c': 'D'})"
      ]
     },
     "execution_count": 61,
     "metadata": {},
     "output_type": "execute_result"
    }
   ],
   "source": [
    "m2 = m.new_child()\n",
    "m2['c'] = 'f'\n",
    "m2"
   ]
  },
  {
   "cell_type": "code",
   "execution_count": 62,
   "metadata": {},
   "outputs": [
    {
     "data": {
      "text/plain": [
       "ChainMap({'a': 'A', 'c': 'C'}, {'b': 'B', 'c': 'D'})"
      ]
     },
     "execution_count": 62,
     "metadata": {},
     "output_type": "execute_result"
    }
   ],
   "source": [
    "m"
   ]
  },
  {
   "cell_type": "code",
   "execution_count": 63,
   "metadata": {},
   "outputs": [
    {
     "data": {
      "text/plain": [
       "ChainMap({'a': 'A', 'c': 'C'}, {'b': 'B', 'c': 'D'})"
      ]
     },
     "execution_count": 63,
     "metadata": {},
     "output_type": "execute_result"
    }
   ],
   "source": [
    "m2.parents"
   ]
  },
  {
   "cell_type": "markdown",
   "metadata": {},
   "source": [
    "## 4 Counter\n",
    "\n",
    "**功能：**  \n",
    "Counter 作为字典(dict)的一个子类用来进行hashtable计数，将元素进行数量统计、计数后返回一个字典,键值为元素：值为元素个数\n",
    "\n",
    "**方法：**\n",
    "1. `most_common(int)`：按照元素出现的次数进行从高到低的排序,返回前int个元素的字典\n",
    "2. `elements`：返回经过计数器Counter后的元素,返回的是一个迭代器  \n",
    "3. `update`: update 和set集合的update一样,对集合进行并集更新  \n",
    "4. `substract`:substract 和update类似，只是update是做加法，substract做减法,从另一个集合中减去本集合的元素。\n",
    "5. `iteritems`:与字典dict的items类似，返回由Counter生成的字典的所有item,只是在Counter中此方法返回的是一个迭代器,而不是列表。\n",
    "6. `iterkeys`: 与字典dict的keys方法类似，返回由Counter生成的字典的所有key,只是在Counter中此方法返回的是一个迭代器,而不是列表。\n",
    "7. `itervalues`: 与字典dict的values方法类似，返回由Counter生成的字典的所有value,只是在Counter中此方法返回的是一个迭代器,而不是列表。"
   ]
  },
  {
   "cell_type": "code",
   "execution_count": 66,
   "metadata": {},
   "outputs": [
    {
     "name": "stdout",
     "output_type": "stream",
     "text": [
      "Counter({'b': 4, 'c': 4, 'a': 3, 'd': 1})\n",
      "Counter({'b': 3, 'a': 2, 'c': 2})\n",
      "Counter({'2': 3, '3': 2, '17': 2})\n"
     ]
    }
   ],
   "source": [
    "from collections import Counter\n",
    "s = 'abcbcaccbbad'  \n",
    "l = ['a','b','c','c','a','b','b']  \n",
    "d = {'2': 3, '3': 2, '17': 2}  \n",
    "# Counter 获取各元素的个数,返回字典  \n",
    "print(Counter(s))   # Counter({'c': 4, 'b': 4, 'a': 3})  \n",
    "print(Counter(l))   # Counter({'b': 3, 'a': 2, 'c': 2})  \n",
    "print(Counter(d))   # Counter({3: 3, 2: 2, 17: 1})  "
   ]
  },
  {
   "cell_type": "markdown",
   "metadata": {},
   "source": [
    "# 5 OrderedDict\n",
    "\n",
    "**功能：**  \n",
    "有序字典。 "
   ]
  },
  {
   "cell_type": "code",
   "execution_count": 94,
   "metadata": {},
   "outputs": [
    {
     "name": "stdout",
     "output_type": "stream",
     "text": [
      "{'a': '123', 'b': 'jjj', 'c': '394', 'd': '999'}\n",
      "dic1字典排序结果 a:123\n",
      "dic1字典排序结果 b:jjj\n",
      "dic1字典排序结果 c:394\n",
      "dic1字典排序结果 d:999\n"
     ]
    }
   ],
   "source": [
    "# 定义传统字典  \n",
    "dic1 = dict()  \n",
    "# 按顺序添加字典内容  \n",
    "dic1['a'] = '123'  \n",
    "dic1['b'] = 'jjj'  \n",
    "dic1['c'] = '394'  \n",
    "dic1['d'] = '999'  \n",
    "print(dic1)    # 结果： 每次的结果不一样\n",
    "# 排序  \n",
    "dic1_key_list = []  \n",
    "for k in dic1.keys():  \n",
    "    dic1_key_list.append(k)  \n",
    "dic1_key_list.sort()  \n",
    "for key in dic1_key_list:  \n",
    "    print('dic1字典排序结果 %s:%s' %(key,dic1[key]))  "
   ]
  },
  {
   "cell_type": "code",
   "execution_count": 79,
   "metadata": {},
   "outputs": [
    {
     "name": "stdout",
     "output_type": "stream",
     "text": [
      "有序字典：a:123\n",
      "有序字典：b:jjj\n",
      "有序字典：c:abc\n",
      "有序字典：d:999\n"
     ]
    }
   ],
   "source": [
    "# 定义有序字典  \n",
    "from collections import OrderedDict\n",
    "dic2 = OrderedDict()  \n",
    "dic2['a'] = '123'  \n",
    "dic2['b'] = 'jjj'  \n",
    "dic2['c'] = 'abc'  \n",
    "dic2['d'] = '999'  \n",
    "for k, v in dic2.items():  \n",
    "    print('有序字典：%s:%s' %(k,v))  "
   ]
  },
  {
   "cell_type": "markdown",
   "metadata": {},
   "source": [
    "## 6 defaultdict\n",
    "\n",
    "**功能：**  \n",
    "带有默认值的\n",
    "**方法：**  "
   ]
  },
  {
   "cell_type": "code",
   "execution_count": null,
   "metadata": {},
   "outputs": [],
   "source": [
    "from collections import defaultdict"
   ]
  },
  {
   "cell_type": "code",
   "execution_count": 95,
   "metadata": {},
   "outputs": [
    {
     "ename": "NameError",
     "evalue": "name 'defaultdict' is not defined",
     "output_type": "error",
     "traceback": [
      "\u001b[1;31m---------------------------------------------------------------------------\u001b[0m",
      "\u001b[1;31mNameError\u001b[0m                                 Traceback (most recent call last)",
      "\u001b[1;32m<ipython-input-95-44fba9a0807a>\u001b[0m in \u001b[0;36m<module>\u001b[1;34m()\u001b[0m\n\u001b[1;32m----> 1\u001b[1;33m \u001b[0mdd\u001b[0m \u001b[1;33m=\u001b[0m \u001b[0mdefaultdict\u001b[0m\u001b[1;33m(\u001b[0m\u001b[1;32mlambda\u001b[0m\u001b[1;33m:\u001b[0m \u001b[1;34m'N/A'\u001b[0m\u001b[1;33m)\u001b[0m\u001b[1;33m\u001b[0m\u001b[0m\n\u001b[0m\u001b[0;32m      2\u001b[0m \u001b[0mdd\u001b[0m\u001b[1;33m[\u001b[0m\u001b[1;34m'key1'\u001b[0m\u001b[1;33m]\u001b[0m \u001b[1;33m=\u001b[0m \u001b[1;34m'abc'\u001b[0m\u001b[1;33m\u001b[0m\u001b[0m\n",
      "\u001b[1;31mNameError\u001b[0m: name 'defaultdict' is not defined"
     ]
    }
   ],
   "source": [
    "dd = defaultdict(lambda: 'N/A')\n",
    "dd['key1'] = 'abc'"
   ]
  },
  {
   "cell_type": "code",
   "execution_count": null,
   "metadata": {},
   "outputs": [],
   "source": []
  }
 ],
 "metadata": {
  "kernelspec": {
   "display_name": "Python 3",
   "language": "python",
   "name": "python3"
  },
  "language_info": {
   "codemirror_mode": {
    "name": "ipython",
    "version": 3
   },
   "file_extension": ".py",
   "mimetype": "text/x-python",
   "name": "python",
   "nbconvert_exporter": "python",
   "pygments_lexer": "ipython3",
   "version": "3.6.4"
  }
 },
 "nbformat": 4,
 "nbformat_minor": 2
}
