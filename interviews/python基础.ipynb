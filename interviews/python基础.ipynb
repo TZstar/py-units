{
 "cells": [
  {
   "cell_type": "markdown",
   "metadata": {},
   "source": [
    "#### 1. 对数组 `[3, 1, 2, 4, 2, 4, 5, 3, 7]` 进行去重, 写出至少两种方法 (请写出一段Python代码实现删除一个list里面的重复元素)"
   ]
  },
  {
   "cell_type": "code",
   "execution_count": 1,
   "metadata": {},
   "outputs": [
    {
     "name": "stdout",
     "output_type": "stream",
     "text": [
      "[1, 2, 3, 4, 5, 7]\n",
      "[3, 1, 2, 4, 5, 7]\n",
      "[1, 2, 4, 5, 3, 7]\n",
      "[3, 1, 2, 4, 5, 7]\n"
     ]
    }
   ],
   "source": [
    "def unique1(lst):\n",
    "    '''内置方法'''\n",
    "    return list(set(lst))\n",
    "\n",
    "\n",
    "def unique2(lst):\n",
    "    '''思路简单'''\n",
    "    l = []\n",
    "    for i in lst:\n",
    "        if i not in l:\n",
    "            l.append(i)\n",
    "    return l\n",
    "\n",
    "\n",
    "def unique3(lst):\n",
    "    for i in lst[::-1]:\n",
    "        if lst.count(i) > 1:\n",
    "            lst.remove(i)\n",
    "    return lst\n",
    "\n",
    "\n",
    "def unique4(lst):\n",
    "    '''位图去重, 仅限于正整数'''\n",
    "    bmp = 0\n",
    "    l = []\n",
    "    for i in lst:\n",
    "        n = (1 << i)\n",
    "        if bmp & n == 0:\n",
    "            bmp |= n\n",
    "            l.append(i)\n",
    "    return l\n",
    "\n",
    "\n",
    "l = [3, 1, 2, 4, 2, 4, 5, 3, 7]\n",
    "\n",
    "print(unique1(l.copy()))\n",
    "print(unique2(l.copy()))\n",
    "print(unique3(l.copy()))\n",
    "print(unique4(l.copy()))"
   ]
  },
  {
   "cell_type": "markdown",
   "metadata": {},
   "source": [
    "#### 2. 截取字符串 `s = 'abccdefg'` 的 `efg`"
   ]
  },
  {
   "cell_type": "code",
   "execution_count": 2,
   "metadata": {},
   "outputs": [
    {
     "name": "stdout",
     "output_type": "stream",
     "text": [
      "abccd\n"
     ]
    }
   ],
   "source": [
    "s = 'abccdefg'\n",
    "s = s.strip('efg')\n",
    "print(s)"
   ]
  },
  {
   "cell_type": "markdown",
   "metadata": {},
   "source": [
    "#### 3. 有一个字符串开头和末尾都有空格,比如 `'    hong zao ke ji    '`, 要求写一个函数把这个字符串的前后空格都去掉"
   ]
  },
  {
   "cell_type": "code",
   "execution_count": 3,
   "metadata": {},
   "outputs": [
    {
     "data": {
      "text/plain": [
       "'hong zao ke ji'"
      ]
     },
     "execution_count": 3,
     "metadata": {},
     "output_type": "execute_result"
    }
   ],
   "source": [
    "def strip(string):\n",
    "    start, end = 0, -1\n",
    "    length = len(string)\n",
    "\n",
    "    for i in range(length):\n",
    "        if string[i] != ' ':\n",
    "            start = i\n",
    "            break\n",
    "\n",
    "    for j in range(-1, -length, -1):\n",
    "        if string[j] != ' ':\n",
    "            end = length + j + 1\n",
    "            break\n",
    "            \n",
    "    return string[start:end]\n",
    "\n",
    "\n",
    "s = '    hong zao ke ji    '\n",
    "strip(s)"
   ]
  },
  {
   "cell_type": "markdown",
   "metadata": {},
   "source": [
    "#### 4. 将字符串: `'k:1|k1:2|k2:3|k3:4 '` ,处理成 python 字典: `{'k':1, 'k1':2, ...}`"
   ]
  },
  {
   "cell_type": "code",
   "execution_count": 10,
   "metadata": {},
   "outputs": [
    {
     "data": {
      "text/plain": [
       "{'k': 1, 'k1': 2, 'k2': 3, 'k3': 4}"
      ]
     },
     "execution_count": 10,
     "metadata": {},
     "output_type": "execute_result"
    }
   ],
   "source": [
    "# 策略1：循环\n",
    "s = 'k:1|k1:2|k2:3|k3:4 '\n",
    "\n",
    "d = {}\n",
    "for item in s.split('|'):\n",
    "    k,v = item.split(':')\n",
    "    d[k]=int(v)\n",
    "d"
   ]
  },
  {
   "cell_type": "code",
   "execution_count": 12,
   "metadata": {},
   "outputs": [
    {
     "data": {
      "text/plain": [
       "{'k': 1, 'k1': 2, 'k2': 3, 'k3': 4}"
      ]
     },
     "execution_count": 12,
     "metadata": {},
     "output_type": "execute_result"
    }
   ],
   "source": [
    "# 策略2：单行代码实现\n",
    "s = 'k:1|k1:2|k2:3|k3:4 '\n",
    "d = {k:int(v) for k,v in map(lambda x:x.split(':'),s.split('|'))}\n",
    "d"
   ]
  },
  {
   "cell_type": "markdown",
   "metadata": {},
   "source": [
    "#### 5. 有一个list `['This','is','a','Boy','!']`,所有元素都是字符串,对它进行大小写无关的排序"
   ]
  },
  {
   "cell_type": "code",
   "execution_count": 15,
   "metadata": {},
   "outputs": [
    {
     "name": "stdout",
     "output_type": "stream",
     "text": [
      "['!', 'a', 'Boy', 'is', 'This']\n"
     ]
    }
   ],
   "source": [
    "lst = ['This','is','a','Boy','!']\n",
    "lst.sort(key=(lambda x:x.lower()))\n",
    "print(lst)"
   ]
  },
  {
   "cell_type": "markdown",
   "metadata": {},
   "source": [
    "#### 7. 简单实现一个 stack 实现 push, pop 方法"
   ]
  },
  {
   "cell_type": "code",
   "execution_count": 16,
   "metadata": {},
   "outputs": [],
   "source": [
    "class Stack(object):\n",
    "    def __init__(self):\n",
    "        self.value = []\n",
    "    \n",
    "    def push(self, v):\n",
    "        self.value.insert(0, v)\n",
    "    \n",
    "    def pop(self):\n",
    "        return self.value.pop(0)"
   ]
  },
  {
   "cell_type": "markdown",
   "metadata": {},
   "source": [
    "#### 8. 列表、元组、集合、字典有哪些常用的内置方法"
   ]
  },
  {
   "cell_type": "markdown",
   "metadata": {},
   "source": [
    "列表：\n",
    "- list(),\n",
    "- len(),max(),count(),min(),sum(),index(),\n",
    "- append(),pop(index),remove(index),clear()\n",
    "- reverse(),sort(),"
   ]
  },
  {
   "cell_type": "markdown",
   "metadata": {},
   "source": [
    "元组：\n",
    "- tuple(iterable)\n",
    "- len(),max(),min(),count(),index()"
   ]
  },
  {
   "cell_type": "markdown",
   "metadata": {},
   "source": [
    "集合：\n",
    "- set()\n",
    "- len(),max(),min(),"
   ]
  },
  {
   "cell_type": "markdown",
   "metadata": {},
   "source": [
    "字典：\n",
    "- dict()\n",
    "- len(),str(),\n",
    "- get(), pop(), update(), clear(), \n",
    "- keys(), values(), items(), \n",
    "- setdefault(), formkeys()`"
   ]
  },
  {
   "cell_type": "markdown",
   "metadata": {},
   "source": [
    "#### 9. 列举常用的标准库及方法"
   ]
  },
  {
   "cell_type": "markdown",
   "metadata": {},
   "source": [
    "1. random："
   ]
  },
  {
   "cell_type": "markdown",
   "metadata": {},
   "source": [
    "2. time："
   ]
  },
  {
   "cell_type": "markdown",
   "metadata": {},
   "source": [
    "3. os: "
   ]
  },
  {
   "cell_type": "markdown",
   "metadata": {},
   "source": [
    "4. sys: "
   ]
  },
  {
   "cell_type": "markdown",
   "metadata": {},
   "source": [
    "5. math: "
   ]
  },
  {
   "cell_type": "markdown",
   "metadata": {},
   "source": [
    "6. pickle: "
   ]
  },
  {
   "cell_type": "markdown",
   "metadata": {},
   "source": [
    "7. queue: "
   ]
  },
  {
   "cell_type": "markdown",
   "metadata": {},
   "source": [
    "8. collection: "
   ]
  },
  {
   "cell_type": "markdown",
   "metadata": {},
   "source": [
    "9. threading: "
   ]
  },
  {
   "cell_type": "markdown",
   "metadata": {},
   "source": [
    "10. process: "
   ]
  },
  {
   "cell_type": "markdown",
   "metadata": {},
   "source": [
    "11. gevent: "
   ]
  },
  {
   "cell_type": "markdown",
   "metadata": {},
   "source": [
    "12. copy: "
   ]
  },
  {
   "cell_type": "markdown",
   "metadata": {},
   "source": [
    "13. re: "
   ]
  },
  {
   "cell_type": "markdown",
   "metadata": {},
   "source": [
    "14. multiprocessing: "
   ]
  },
  {
   "cell_type": "markdown",
   "metadata": {},
   "source": [
    "15. urllib: "
   ]
  },
  {
   "cell_type": "markdown",
   "metadata": {},
   "source": [
    "16. json: "
   ]
  },
  {
   "cell_type": "markdown",
   "metadata": {},
   "source": [
    "17. csv: "
   ]
  },
  {
   "cell_type": "markdown",
   "metadata": {},
   "source": [
    "18. string: "
   ]
  },
  {
   "cell_type": "markdown",
   "metadata": {},
   "source": [
    "19. hashlib: "
   ]
  },
  {
   "cell_type": "markdown",
   "metadata": {},
   "source": [
    "20. "
   ]
  },
  {
   "cell_type": "markdown",
   "metadata": {},
   "source": [
    "#### 10. 可变类型和不可变类型有什么区别?"
   ]
  },
  {
   "cell_type": "markdown",
   "metadata": {},
   "source": [
    "不可变类型包括 `int, float, str, bytes, tuple`, 变量本身不可变, 修改这些值时会创建出一个新的对象, 新对象内存地址与原对象不一致;\n",
    "可变类型包括 `list, dict, set`, 变量可以添加、删除其中的元素，修改后内存地址不变。"
   ]
  },
  {
   "cell_type": "markdown",
   "metadata": {},
   "source": [
    "#### 12. 阅读下面的代码,写出 A0, A1 至 An 的最终值."
   ]
  },
  {
   "cell_type": "code",
   "execution_count": 24,
   "metadata": {},
   "outputs": [
    {
     "name": "stdout",
     "output_type": "stream",
     "text": [
      "{'a': 1, 'b': 2, 'c': 3, 'd': 4, 'e': 5}\n",
      "range(0, 10)\n",
      "[]\n",
      "[1, 2, 3, 4, 5]\n",
      "[1, 2, 3, 4, 5]\n",
      "{0: 0, 1: 1, 2: 4, 3: 9, 4: 16, 5: 25, 6: 36, 7: 49, 8: 64, 9: 81}\n",
      "[[0, 0], [1, 1], [2, 4], [3, 9], [4, 16], [5, 25], [6, 36], [7, 49], [8, 64], [9, 81]]\n"
     ]
    }
   ],
   "source": [
    "A0 = dict(zip(('a','b','c','d','e'),(1,2,3,4,5)))    # {'a': 1, 'b': 2, 'c': 3, 'd': 4, 'e': 5}\n",
    "A1 = range(10)                                       # range(0,10)\n",
    "A2 = [i for i in A1 if i in A0]                      # []\n",
    "A3 = [A0[s] for s in A0]                             # [1,2,3,4,5]\n",
    "A4 = [i for i in A1 if i in A3]                      # [1,2,3,4,5]\n",
    "A5 = {i:i*i for i in A1}                             # {0:0,1:1,2:4,3:9,...,}\n",
    "A6 = [[i,i*i] for i in A1]                           # [[0,0],[1,1],[2,4],[3,9],...,]\n",
    "\n",
    "print(A0)\n",
    "print(A1)\n",
    "print(A2)\n",
    "print(A3)\n",
    "print(A4)\n",
    "print(A5)\n",
    "print(A6)"
   ]
  },
  {
   "cell_type": "markdown",
   "metadata": {},
   "source": [
    "#### 13. 有两个文件 A 和 B,  每个文件中逐行存放一个单词，且整体按字母顺序排列，要求把这两个文件中的信息合并(按字母排序), 输出到一个新文件 C 中"
   ]
  },
  {
   "cell_type": "markdown",
   "metadata": {},
   "source": [
    "#### 策略：\n",
    "1. 先各自读取一行数据；\n",
    "2. 再做判断，如果小就存储，并继续读取一行和另外一个比较；\n",
    "3. 如果单个文件读取结束，则将另外一个文件剩余的存储到C中。\n",
    "\n",
    "    ```\n",
    "    fa = open('A','r')\n",
    "    fb = open('B','r')\n",
    "    fc = open('C','r')\n",
    "\n",
    "    la = fa.readline()\n",
    "    lb = fb.readline()\n",
    "\n",
    "    while la and lb:\n",
    "        if la > lb:\n",
    "            fc.write(la)\n",
    "            la = fa.readline()\n",
    "        else:\n",
    "            fc.write(lb)\n",
    "            lb = fa.readline()\n",
    "\n",
    "    if la:\n",
    "        for item in fa:\n",
    "            fc.write(item)\n",
    "    else:\n",
    "        for item in fb:\n",
    "            fc.write(item)\n",
    "\n",
    "    fa.close()\n",
    "    fb.close()\n",
    "    fc.close()\n",
    "    ```"
   ]
  },
  {
   "cell_type": "markdown",
   "metadata": {},
   "source": [
    "#### 14. Python中如何动态获取和设置对象的属性。"
   ]
  }
 ],
 "metadata": {
  "kernelspec": {
   "display_name": "Python 3",
   "language": "python",
   "name": "python3"
  },
  "language_info": {
   "codemirror_mode": {
    "name": "ipython",
    "version": 3
   },
   "file_extension": ".py",
   "mimetype": "text/x-python",
   "name": "python",
   "nbconvert_exporter": "python",
   "pygments_lexer": "ipython3",
   "version": "3.6.4"
  }
 },
 "nbformat": 4,
 "nbformat_minor": 2
}
