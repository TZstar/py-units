{
 "cells": [
  {
   "cell_type": "markdown",
   "metadata": {},
   "source": [
    "# py_asyncio"
   ]
  },
  {
   "cell_type": "markdown",
   "metadata": {},
   "source": [
    "## APIs\n",
    "\n",
    "1. `asyncio.Task`\n",
    "\n",
    "2. `asyncio.async()`\n",
    "3. `loop.create_task()`\n",
    "4. `loop.run_until_complte()`\n",
    "\n",
    "5. `Task.cancel`\n",
    "\n",
    "6. `asyncio.sleep(DELAY)`  \n",
    "功能：\n",
    "    * 非阻塞式的等待。\n",
    "    * 与`time.sleep(...)`的区别：`time.sleep(...)`除非想阻塞主线程，从而冻结事件循环或整个应用。\n",
    "    * `yield from asyncio.sleep(DELAY)`"
   ]
  },
  {
   "cell_type": "code",
   "execution_count": 1,
   "metadata": {},
   "outputs": [],
   "source": [
    "import asyncio"
   ]
  },
  {
   "cell_type": "code",
   "execution_count": null,
   "metadata": {},
   "outputs": [],
   "source": [
    "asyncio.Task"
   ]
  },
  {
   "cell_type": "code",
   "execution_count": null,
   "metadata": {},
   "outputs": [],
   "source": [
    "\n",
    "\n"
   ]
  }
 ],
 "metadata": {
  "kernelspec": {
   "display_name": "Python 3",
   "language": "python",
   "name": "python3"
  },
  "language_info": {
   "codemirror_mode": {
    "name": "ipython",
    "version": 3
   },
   "file_extension": ".py",
   "mimetype": "text/x-python",
   "name": "python",
   "nbconvert_exporter": "python",
   "pygments_lexer": "ipython3",
   "version": "3.6.4"
  }
 },
 "nbformat": 4,
 "nbformat_minor": 2
}
